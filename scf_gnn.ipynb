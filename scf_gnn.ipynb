{
 "cells": [
  {
   "cell_type": "code",
   "execution_count": 63,
   "id": "0ad5eaf7",
   "metadata": {},
   "outputs": [],
   "source": [
    "import os\n",
    "os.environ[\"TF_XLA_FLAGS\"] = \"--tf_xla_enable_xla_devices=false\"\n",
    "os.environ[\"CUDA_VISIBLE_DEVICES\"] = \"-1\"\n",
    "\n",
    "import tensorflow as tf\n",
    "\n",
    "from sklearn.model_selection import train_test_split\n",
    "import matplotlib.pyplot as plt\n",
    "\n",
    "from pathlib import Path\n",
    "import numpy as np\n",
    "\n",
    "from spektral.data import Dataset, Graph\n",
    "from spektral.data.loaders import DisjointLoader"
   ]
  },
  {
   "cell_type": "code",
   "execution_count": 64,
   "id": "12491f98",
   "metadata": {},
   "outputs": [],
   "source": [
    "# define this! The rest can remain untouched\n",
    "molecule = 'h2o'\n",
    "data_dir = Path(f'./{molecule}_energies_noise_scf_features')\n",
    "n_atoms = 27"
   ]
  },
  {
   "cell_type": "code",
   "execution_count": 65,
   "id": "ade6d1d8",
   "metadata": {},
   "outputs": [
    {
     "name": "stdout",
     "output_type": "stream",
     "text": [
      "(1000, 3, 70)\n",
      "(1000,)\n"
     ]
    }
   ],
   "source": [
    "C = [] # xyz coordinates\n",
    "X = [] # calculated SCF matrix features\n",
    "Y = [] # calculated energies\n",
    "\n",
    "for file_path in data_dir.glob('*.npz'):\n",
    "    data_file = np.load(file_path)\n",
    "    try:\n",
    "        C.append(data_file['coords'])\n",
    "        X.append(data_file['features'])\n",
    "        Y.append(data_file['energy'])\n",
    "\n",
    "    except KeyError:\n",
    "        raise KeyError('wrong key for npz file!')\n",
    "# you must perform stacking, cannot just convert to array    \n",
    "N, n_atoms, n_features, channels = np.stack(X).shape\n",
    "X = np.stack(X).reshape(N, n_atoms, n_features * channels)  # (N, n_atoms, n_features * channels    )\n",
    "C = np.stack(C)\n",
    "Y = np.stack(Y)\n",
    "print(X.shape)\n",
    "print(Y.shape)"
   ]
  },
  {
   "cell_type": "code",
   "execution_count": 66,
   "id": "7542001b",
   "metadata": {},
   "outputs": [],
   "source": [
    "def hartree_to_kcal_per_mol(Y):\n",
    "    return Y * 627.50961\n",
    "\n",
    "Y = hartree_to_kcal_per_mol(Y)"
   ]
  },
  {
   "cell_type": "code",
   "execution_count": 67,
   "id": "bfbc371b",
   "metadata": {},
   "outputs": [
    {
     "name": "stdout",
     "output_type": "stream",
     "text": [
      "(700, 3, 70) (700,) (700, 3, 3)\n",
      "(201, 3, 70) (201,) (201, 3, 3)\n",
      "(99, 3, 70) (99,) (99, 3, 3)\n"
     ]
    }
   ],
   "source": [
    "x_train, x_valtest, y_train, y_valtest, c_train, c_valtest = train_test_split(X, Y, C, test_size=0.3, random_state=42)\n",
    "x_val, x_test, y_val, y_test, c_val, c_test = train_test_split(x_valtest, y_valtest, c_valtest, test_size=0.33, random_state=42)\n",
    "print(x_train.shape, y_train.shape, c_train.shape)\n",
    "print(x_val.shape, y_val.shape, c_val.shape)\n",
    "print(x_test.shape, y_test.shape, c_test.shape)"
   ]
  },
  {
   "cell_type": "markdown",
   "id": "0c7ba132",
   "metadata": {},
   "source": [
    "Of course, we can define the edge features as well"
   ]
  },
  {
   "cell_type": "code",
   "execution_count": 90,
   "id": "4363e32d",
   "metadata": {},
   "outputs": [],
   "source": [
    "from scipy import sparse \n",
    "\n",
    "def build_adjacency_from_xyz(coords, threshold=2.0):\n",
    "    \"\"\"\n",
    "    Given coords: (n_atoms, 3), returns (n_atoms, n_atoms) adjacency matrix\n",
    "    with 1s where Euclidean distance < threshold and 0 elsewhere (excluding self-loops)\n",
    "    \"\"\"\n",
    "    n = coords.shape[0]\n",
    "    dists = np.linalg.norm(coords[:, None, :] - coords[None, :, :], axis=-1)\n",
    "    A = (dists < threshold).astype('float32')\n",
    "    np.fill_diagonal(A, 0.0)  # remove self-loops\n",
    "    # print(A)\n",
    "    return sparse.csr_matrix(A)  # return as sparse matrix for efficiency; spektral expects this forma or np array (more expensive)\n",
    "\n",
    "class SCFAtomGraphDataset(Dataset):\n",
    "    def __init__(self, X, Y, C,\n",
    "                 threshold=2.0, **kwargs):\n",
    "        \"\"\"\n",
    "        Dataset for SCF atom graphs.\n",
    "        \"\"\"\n",
    "        self.X = X.astype('float32')         # (N, n_atoms, n_features, 5)\n",
    "        self.Y = Y.astype('float32')         # (N,)\n",
    "        self.C = C.astype('float32')         # (N, n_atoms, 3)\n",
    "        self.threshold = threshold\n",
    "        super().__init__(**kwargs)\n",
    "\n",
    "    def read(self):\n",
    "        graphs = []\n",
    "        for x, y, c in zip(self.X, self.Y, self.C):\n",
    "            A = build_adjacency_from_xyz(c, threshold=self.threshold)  # shape (n_atoms, n_atoms)\n",
    "            graphs.append(Graph(x=x, a=A, y=np.array([y])))\n",
    "        return graphs"
   ]
  },
  {
   "cell_type": "code",
   "execution_count": 69,
   "id": "61547725",
   "metadata": {},
   "outputs": [],
   "source": [
    "from spektral.layers import GraphSageConv, GlobalSumPool\n",
    "'''\n",
    "tried: GCNConv (only accepts [x,a], cannot accept disjoint batches\n",
    "GCSConv (shape mismatch)\n",
    "GINConv (tf error)\n",
    "GraphSageConv + disable XLA flag + operate on CPU (forced). Both must be present for it work somehow.\n",
    "'''\n",
    "\n",
    "class GNNModel(tf.keras.Model):\n",
    "    def __init__(self, y_mean):\n",
    "        super().__init__()\n",
    "        he_init = tf.keras.initializers.HeNormal()\n",
    "\n",
    "        # ReLU and GeLU layers are best with HeNormal. Default is GlorotUniform, which isn't the most ideal\n",
    "        self.conv1 = GraphSageConv(64, activation='relu', kernel_initializer=he_init, bias_initializer='zeros') \n",
    "        self.conv2 = GraphSageConv(64, activation='relu', kernel_initializer=he_init, bias_initializer='zeros')\n",
    "        self.pool = GlobalSumPool()\n",
    "        self.dense = tf.keras.layers.Dense(1, \n",
    "                                           kernel_initializer=tf.keras.initializers.RandomNormal(stddev=0.05),\n",
    "                                           bias_initializer=tf.keras.initializers.Constant(y_mean))\n",
    "\n",
    "    def call(self, inputs):\n",
    "        x, a, i = inputs\n",
    "        x = self.conv1([x, a])\n",
    "        x = self.conv2([x, a])\n",
    "        x = self.pool([x, i])\n",
    "        return self.dense(x)\n"
   ]
  },
  {
   "cell_type": "code",
   "execution_count": 78,
   "id": "26f9c0cf",
   "metadata": {},
   "outputs": [],
   "source": [
    "from tensorflow.keras.callbacks import ReduceLROnPlateau\n",
    "\n",
    "def train_GNN(x_train, y_train, c_train,\n",
    "              x_val, y_val, c_val,\n",
    "              epochs=10, batch_size=32, threshold=1.5, verbose=0):\n",
    "    # Create dataset\n",
    "    train_dataset = SCFAtomGraphDataset(x_train, y_train, c_train, threshold=threshold)\n",
    "\n",
    "    # tried: SingleLoader (not compatible with N,3,3 data)\n",
    "    train_loader = DisjointLoader(train_dataset, epochs=epochs, batch_size=batch_size, shuffle=True)\n",
    "\n",
    "    val_dataset = SCFAtomGraphDataset(x_val, y_val, c_val, threshold=threshold)\n",
    "    val_loader = DisjointLoader(val_dataset, epochs=epochs, batch_size=batch_size, shuffle=False)\n",
    "\n",
    "    # idx = np.arange(len(X))\n",
    "    # rng = np.random.default_rng(42)\n",
    "    # rng.shuffle(idx)\n",
    "\n",
    "    # split = int(0.8 * len(idx))\n",
    "    # tr_idx, va_idx = idx[:split], idx[split:]\n",
    "\n",
    "    # train_ds = SCFAtomGraphDataset(X[tr_idx], Y[tr_idx], C[tr_idx], threshold=2.0)\n",
    "    # val_ds   = SCFAtomGraphDataset(X[va_idx], Y[va_idx], C[va_idx], threshold=2.0)\n",
    "\n",
    "    # train_loader = DisjointLoader(train_ds, batch_size=32, shuffle=True)   # Keras Sequence ✅\n",
    "    # val_loader   = DisjointLoader(val_ds,   batch_size=32, shuffle=False)\n",
    "    \n",
    "    \n",
    "    # # Build and compile model\n",
    "    # with tf.device('/CPU:0'):\n",
    "    model = GNNModel(y_mean=y_train.mean())\n",
    "    lr_scheduler = ReduceLROnPlateau(monitor='val_loss', factor=0.5, patience=50, min_lr=1e-6)\n",
    "    model.compile(optimizer='adam', loss='mse')\n",
    "\n",
    "    # Train\n",
    "    history = model.fit(train_loader.load(), steps_per_epoch=train_loader.steps_per_epoch, \n",
    "                        validation_data=val_loader.load(), validation_steps=val_loader.steps_per_epoch,\n",
    "                        epochs=epochs, verbose=verbose, callbacks=[lr_scheduler])    \n",
    "    \n",
    "    return model, history.history"
   ]
  },
  {
   "cell_type": "code",
   "execution_count": 79,
   "id": "bbc10a8c",
   "metadata": {},
   "outputs": [
    {
     "name": "stderr",
     "output_type": "stream",
     "text": [
      "/home/yizhou_chen/miniconda3/envs/base-ml/lib/python3.12/site-packages/keras/src/trainers/epoch_iterator.py:164: UserWarning: Your input ran out of data; interrupting training. Make sure that your dataset or generator can generate at least `steps_per_epoch * epochs` batches. You may need to use the `.repeat()` function when building your dataset.\n",
      "  self._interrupted_warning()\n",
      "/home/yizhou_chen/miniconda3/envs/base-ml/lib/python3.12/site-packages/keras/src/callbacks/callback_list.py:145: UserWarning: Learning rate reduction is conditioned on metric `val_loss` which is not available. Available metrics are: loss,learning_rate.\n",
      "  callback.on_epoch_end(epoch, logs)\n"
     ]
    }
   ],
   "source": [
    "gnn_model, history = train_GNN(x_train=x_train,y_train=y_train, c_train=c_train,\n",
    "                           x_val=x_val,y_val=y_val,c_val=c_val,\n",
    "                           epochs=5000, verbose=0)"
   ]
  },
  {
   "cell_type": "code",
   "execution_count": 80,
   "id": "00ba510a",
   "metadata": {},
   "outputs": [
    {
     "data": {
      "image/png": "[encoded data removed]",
      "text/plain": [
       "<Figure size 640x480 with 1 Axes>"
      ]
     },
     "metadata": {},
     "output_type": "display_data"
    }
   ],
   "source": [
    "plt.plot(history['loss'], label='Train Loss')\n",
    "plt.plot(history['val_loss'], label='Val Loss')\n",
    "plt.xlabel(\"Epoch\")\n",
    "plt.ylabel(\"Loss (MSE)\")\n",
    "plt.title(\"Training vs Validation Loss\")\n",
    "plt.legend()\n",
    "plt.grid(True)\n",
    "plt.show()"
   ]
  },
  {
   "cell_type": "code",
   "execution_count": 81,
   "id": "64a64017",
   "metadata": {},
   "outputs": [
    {
     "name": "stdout",
     "output_type": "stream",
     "text": [
      "(99, 3, 70) (99,)\n"
     ]
    }
   ],
   "source": [
    "print(x_test.shape, y_test.shape)"
   ]
  },
  {
   "cell_type": "code",
   "execution_count": 84,
   "id": "beee94a8",
   "metadata": {},
   "outputs": [
    {
     "name": "stdout",
     "output_type": "stream",
     "text": [
      "\u001b[1m4/4\u001b[0m \u001b[32m━━━━━━━━━━━━━━━━━━━━\u001b[0m\u001b[37m\u001b[0m \u001b[1m0s\u001b[0m 3ms/step - loss: 0.0098 \n",
      "Test MSE loss: 0.01\n"
     ]
    }
   ],
   "source": [
    "# Create test dataset and loader\n",
    "test_dataset = SCFAtomGraphDataset(x_test, y_test, c_test, threshold=1.5)\n",
    "test_loader = DisjointLoader(test_dataset, epochs=1, batch_size=32, shuffle=False)\n",
    "\n",
    "# Evaluate on test set\n",
    "test_loss = gnn_model.evaluate(test_loader.load(), steps=test_loader.steps_per_epoch)\n",
    "print(f\"Test MSE loss: {test_loss:.2f}\")\n"
   ]
  },
  {
   "cell_type": "code",
   "execution_count": 88,
   "id": "01e2d8d4",
   "metadata": {},
   "outputs": [
    {
     "name": "stdout",
     "output_type": "stream",
     "text": [
      "\u001b[1m4/4\u001b[0m \u001b[32m━━━━━━━━━━━━━━━━━━━━\u001b[0m\u001b[37m\u001b[0m \u001b[1m0s\u001b[0m 4ms/step \n",
      "y_pred shape: (99,)\n"
     ]
    },
    {
     "data": {
      "image/png": "[encoded data removed]",
      "text/plain": [
       "<Figure size 640x480 with 1 Axes>"
      ]
     },
     "metadata": {},
     "output_type": "display_data"
    }
   ],
   "source": [
    "# CRITICAL: **Re‐instantiate** the loader for prediction\n",
    "pred_loader = DisjointLoader(test_dataset, batch_size=32, epochs=1, shuffle=False)\n",
    "y_pred = gnn_model.predict(pred_loader.load(), steps=pred_loader.steps_per_epoch).flatten()\n",
    "\n",
    "# 3) Now y_pred.shape == y_true.shape == 99\n",
    "print(\"y_pred shape:\", y_pred.shape)\n",
    "\n",
    "# 4) Plot\n",
    "plt.scatter(y_test, y_pred, alpha=0.6)\n",
    "mn, mx = y_test.min(), y_test.max()\n",
    "plt.plot([mn, mx], [mn, mx], 'r--')\n",
    "plt.xlabel(\"True Values\")\n",
    "plt.ylabel(\"Predicted Values\")\n",
    "plt.title(\"Predicted vs True on Test Set\")\n",
    "plt.grid(True)\n",
    "plt.show()\n"
   ]
  },
  {
   "cell_type": "code",
   "execution_count": 89,
   "id": "7e0f5e8f",
   "metadata": {},
   "outputs": [
    {
     "name": "stdout",
     "output_type": "stream",
     "text": [
      "MAE: 6.358825e-02\n",
      "R²:  0.9711\n"
     ]
    }
   ],
   "source": [
    "from sklearn.metrics import mean_squared_error, mean_absolute_error, r2_score\n",
    "\n",
    "# y_true and y_pred should be 1D NumPy arrays (e.g., from your test set)\n",
    "mse = mean_squared_error(y_test, y_pred)\n",
    "mae = mean_absolute_error(y_test, y_pred)\n",
    "r2 = r2_score(y_test, y_pred)\n",
    "\n",
    "# print(f\"MSE: {mse:.6e}\")\n",
    "print(f\"MAE: {mae:.6e}\")\n",
    "print(f\"R²:  {r2:.4f}\")"
   ]
  },
  {
   "cell_type": "code",
   "execution_count": 87,
   "id": "3b35b243",
   "metadata": {},
   "outputs": [],
   "source": [
    "model_dir = Path('./gnn_model/')\n",
    "model_dir.mkdir(parents=True, exist_ok=True)\n",
    "\n",
    "gnn_model.save(model_dir / 'h2o_gnn_model_scf_features.keras')"
   ]
  },
  {
   "cell_type": "markdown",
   "id": "8d3bfc2c",
   "metadata": {},
   "source": [
    "## Test on translational invariance"
   ]
  },
  {
   "cell_type": "code",
   "execution_count": 19,
   "id": "2f4bada7",
   "metadata": {},
   "outputs": [],
   "source": [
    "# Evaluation on: CNN, GNN. We have x_test, y_test\n",
    "from numpy.random import default_rng\n",
    "\n",
    "def translation(X, offset=10.0):\n",
    "    '''\n",
    "    Offset: a (3,) vector (tuple) or a scaler. \n",
    "    '''\n",
    "    off = np.asarray(offset)\n",
    "    if off.ndim == 0:\n",
    "        off = np.array([off, off, off])\n",
    "    return X + off  # broadcasting: (N,n_atoms,3) + (3,) → (N,n_atoms,3)\n",
    "\n",
    "def rotate_180_y_axis(X):\n",
    "    R = np.array([[-1, 0, 0],\n",
    "              [ 0, 1, 0],\n",
    "              [ 0, 0,-1]])\n",
    "    return X @ R.T\n",
    "\n",
    "def permutation(X, seed=None):\n",
    "    N, n_atoms, xyz = X.shape\n",
    "    rng = default_rng(seed)          # create a Generator with seed 42\n",
    "    perm = rng.permutation(n_atoms)\n",
    "    return X[:, perm, :]"
   ]
  },
  {
   "cell_type": "markdown",
   "id": "80251d22",
   "metadata": {},
   "source": [
    "Step 1: save test dataset's energies and xyz coordinates"
   ]
  },
  {
   "cell_type": "code",
   "execution_count": 20,
   "id": "520ec029",
   "metadata": {},
   "outputs": [
    {
     "data": {
      "text/plain": [
       "((99, 3, 70), (99,), (99, 3, 3))"
      ]
     },
     "execution_count": 20,
     "metadata": {},
     "output_type": "execute_result"
    }
   ],
   "source": [
    "x_test.shape, y_test.shape, c_test.shape"
   ]
  },
  {
   "cell_type": "code",
   "execution_count": 21,
   "id": "373c5410",
   "metadata": {},
   "outputs": [],
   "source": [
    "np.save(f'./test_xyz_{molecule}.npy', c_test)"
   ]
  },
  {
   "cell_type": "code",
   "execution_count": 27,
   "id": "e26c7199",
   "metadata": {},
   "outputs": [],
   "source": [
    "x_test = np.load('./test_scf_h2o_permutated.npy')\n",
    "y_test = y_test\n",
    "c_test =np.load('./test_xyz_h2o_permutated.npy')"
   ]
  },
  {
   "cell_type": "code",
   "execution_count": 28,
   "id": "4511eb5e",
   "metadata": {},
   "outputs": [
    {
     "name": "stdout",
     "output_type": "stream",
     "text": [
      "(99, 3, 70) (99,) (99, 3, 3)\n"
     ]
    }
   ],
   "source": [
    "print(x_test.shape, y_test.shape, c_test.shape)"
   ]
  },
  {
   "cell_type": "code",
   "execution_count": 29,
   "id": "c6f7f30d",
   "metadata": {},
   "outputs": [
    {
     "name": "stdout",
     "output_type": "stream",
     "text": [
      "\u001b[1m4/4\u001b[0m \u001b[32m━━━━━━━━━━━━━━━━━━━━\u001b[0m\u001b[37m\u001b[0m \u001b[1m0s\u001b[0m 4ms/step \n",
      "MAE: 7.125822e+00\n",
      "R²:  0.9398\n"
     ]
    }
   ],
   "source": [
    "# Create test dataset and loader\n",
    "test_dataset = SCFAtomGraphDataset(x_test, y_test, c_test, threshold=1.5)\n",
    "\n",
    "# CRITICAL: **Re‐instantiate** the loader for prediction\n",
    "pred_loader = DisjointLoader(test_dataset, batch_size=32, epochs=1, shuffle=False)\n",
    "y_pred = gnn_model.predict(pred_loader.load(), steps=pred_loader.steps_per_epoch).flatten()\n",
    "\n",
    "from sklearn.metrics import  mean_absolute_error\n",
    "\n",
    "# y_true and y_pred should be 1D NumPy arrays (e.g., from your test set)\n",
    "mae = mean_absolute_error(y_test, y_pred)\n",
    "\n",
    "# print(f\"MSE: {mse:.6e}\")\n",
    "print(f\"MAE: {mae:.6e}\")\n",
    "print(f\"R²:  {r2:.4f}\")"
   ]
  }
 ],
 "metadata": {
  "kernelspec": {
   "display_name": "base-ml",
   "language": "python",
   "name": "python3"
  },
  "language_info": {
   "codemirror_mode": {
    "name": "ipython",
    "version": 3
   },
   "file_extension": ".py",
   "mimetype": "text/x-python",
   "name": "python",
   "nbconvert_exporter": "python",
   "pygments_lexer": "ipython3",
   "version": "3.12.11"
  }
 },
 "nbformat": 4,
 "nbformat_minor": 5
}
