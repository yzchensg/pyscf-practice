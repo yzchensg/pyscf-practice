{
 "cells": [
  {
   "cell_type": "code",
   "execution_count": 1,
   "id": "c55cc24c",
   "metadata": {},
   "outputs": [],
   "source": [
    "from pyscf import gto, scf, dft\n",
    "import numpy as np\n",
    "from IPython.display import clear_output\n",
    "import pandas as pd\n",
    "from pathlib import Path"
   ]
  },
  {
   "cell_type": "code",
   "execution_count": null,
   "id": "59a1b291",
   "metadata": {},
   "outputs": [],
   "source": [
    "def np_to_scfinput(atoms, coords):\n",
    "    '''\n",
    "    Input: tuple of (coordinates: np.array; atom representation: tuple of strings)\n",
    "    '''\n",
    "    # safeguarding here\n",
    "    # convertion\n",
    "    raw = []\n",
    "    for atom, coord in zip(atoms, coords):\n",
    "        raw.append(' '.join([atom, *coord.astype(str)]))\n",
    "    \n",
    "    return ' ;'.join(raw)\n",
    "\n",
    "def add_gaussian_noise(coords, sigma=0.02, seed=None):\n",
    "    '''\n",
    "    Input: (3,3)\n",
    "    First row is oxygen: 0,0,0. Or any other atom that is kept at the origin\n",
    "    Second and third rows are hydrogens / all other atoms\n",
    "    '''\n",
    "    # default_rng is the new np random Generator. good to use!\n",
    "    rng = np.random.default_rng(seed)\n",
    "    noise = rng.normal(loc=0.0, scale=sigma, size=coords.shape)\n",
    "    coords_w_noise = coords + noise\n",
    "\n",
    "    # force the first row (oxygen) to be 0,0,0\n",
    "    coords_w_noise[0] = [0,0,0]\n",
    "    return coords_w_noise"
   ]
  },
  {
   "cell_type": "markdown",
   "id": "1118a5cb",
   "metadata": {},
   "source": [
    "## Prepare water molecule file (default)"
   ]
  },
  {
   "cell_type": "code",
   "execution_count": 14,
   "id": "6eae114e",
   "metadata": {},
   "outputs": [],
   "source": [
    "# actual water molecule data\n",
    "bond_len = 0.9572\n",
    "bond_ang = 104.5\n",
    "x = bond_len * np.sin(np.radians(bond_ang))\n",
    "y = bond_len * np.cos(np.radians(bond_ang))\n",
    "\n",
    "\n",
    "h2o_atoms = ('O','H','H') # what atom that each row corresponds to \n",
    "h2o_coords = np.array([[0,0,0],[x, y, 0],[-x,y,0]]) # put in the actual data"
   ]
  },
  {
   "cell_type": "code",
   "execution_count": 15,
   "id": "2dff27ca",
   "metadata": {},
   "outputs": [
    {
     "name": "stdout",
     "output_type": "stream",
     "text": [
      "converged SCF energy = -75.2379878188155\n",
      "converged SCF energy = -75.2357325401288\n",
      "converged SCF energy = -75.2303126561192\n"
     ]
    },
    {
     "ename": "KeyboardInterrupt",
     "evalue": "",
     "output_type": "error",
     "traceback": [
      "\u001b[31m---------------------------------------------------------------------------\u001b[39m",
      "\u001b[31mKeyboardInterrupt\u001b[39m                         Traceback (most recent call last)",
      "\u001b[36mCell\u001b[39m\u001b[36m \u001b[39m\u001b[32mIn[15]\u001b[39m\u001b[32m, line 11\u001b[39m\n\u001b[32m      9\u001b[39m h2o_coords_w_noise = add_gaussian_noise(h2o_coords, sigma=sigma, seed=i)\n\u001b[32m     10\u001b[39m h2o_inp = np_to_scfinput(h2o_atoms, h2o_coords_w_noise)\n\u001b[32m---> \u001b[39m\u001b[32m11\u001b[39m e = \u001b[43mmf_scanner\u001b[49m\u001b[43m(\u001b[49m\u001b[43mgto\u001b[49m\u001b[43m.\u001b[49m\u001b[43mM\u001b[49m\u001b[43m(\u001b[49m\u001b[43matom\u001b[49m\u001b[43m=\u001b[49m\u001b[43mh2o_inp\u001b[49m\u001b[43m)\u001b[49m\u001b[43m)\u001b[49m\n\u001b[32m     13\u001b[39m np.savez_compressed(\n\u001b[32m     14\u001b[39m     data_dir / \u001b[33mf\u001b[39m\u001b[33m'\u001b[39m\u001b[33mh2o_noise_dft_b3lyp_def2-SVP_\u001b[39m\u001b[38;5;132;01m{\u001b[39;00mi\u001b[38;5;132;01m}\u001b[39;00m\u001b[33m.npz\u001b[39m\u001b[33m'\u001b[39m,\n\u001b[32m     15\u001b[39m     coords=h2o_coords_w_noise,\n\u001b[32m     16\u001b[39m     energy = e,\n\u001b[32m     17\u001b[39m     noise_sigma = sigma\n\u001b[32m     18\u001b[39m )\n",
      "\u001b[36mFile \u001b[39m\u001b[32m~/miniconda3/envs/pyscf-env/lib/python3.12/site-packages/pyscf/scf/hf.py:1587\u001b[39m, in \u001b[36mSCF_Scanner.__call__\u001b[39m\u001b[34m(self, mol_or_geom, **kwargs)\u001b[39m\n\u001b[32m   1585\u001b[39m         dm0 = \u001b[38;5;28mself\u001b[39m.from_chk(\u001b[38;5;28mself\u001b[39m.chkfile)\n\u001b[32m   1586\u001b[39m \u001b[38;5;28mself\u001b[39m.mo_coeff = \u001b[38;5;28;01mNone\u001b[39;00m  \u001b[38;5;66;03m# To avoid last mo_coeff being used by SOSCF\u001b[39;00m\n\u001b[32m-> \u001b[39m\u001b[32m1587\u001b[39m e_tot = \u001b[38;5;28;43mself\u001b[39;49m\u001b[43m.\u001b[49m\u001b[43mkernel\u001b[49m\u001b[43m(\u001b[49m\u001b[43mdm0\u001b[49m\u001b[43m=\u001b[49m\u001b[43mdm0\u001b[49m\u001b[43m,\u001b[49m\u001b[43m \u001b[49m\u001b[43m*\u001b[49m\u001b[43m*\u001b[49m\u001b[43mkwargs\u001b[49m\u001b[43m)\u001b[49m\n\u001b[32m   1588\u001b[39m \u001b[38;5;28mself\u001b[39m._last_mol_fp = mol.ao_loc\n\u001b[32m   1589\u001b[39m \u001b[38;5;28;01mreturn\u001b[39;00m e_tot\n",
      "\u001b[36mFile \u001b[39m\u001b[32m<string>:2\u001b[39m, in \u001b[36mkernel\u001b[39m\u001b[34m(self, dm0, **kwargs)\u001b[39m\n",
      "\u001b[36mFile \u001b[39m\u001b[32m~/miniconda3/envs/pyscf-env/lib/python3.12/site-packages/pyscf/scf/hf.py:2016\u001b[39m, in \u001b[36mSCF.scf\u001b[39m\u001b[34m(self, dm0, **kwargs)\u001b[39m\n\u001b[32m   2011\u001b[39m     dm0 = \u001b[38;5;28mself\u001b[39m.make_rdm1()\n\u001b[32m   2013\u001b[39m \u001b[38;5;28;01mif\u001b[39;00m \u001b[38;5;28mself\u001b[39m.max_cycle > \u001b[32m0\u001b[39m \u001b[38;5;129;01mor\u001b[39;00m \u001b[38;5;28mself\u001b[39m.mo_coeff \u001b[38;5;129;01mis\u001b[39;00m \u001b[38;5;28;01mNone\u001b[39;00m:\n\u001b[32m   2014\u001b[39m     \u001b[38;5;28mself\u001b[39m.converged, \u001b[38;5;28mself\u001b[39m.e_tot, \\\n\u001b[32m   2015\u001b[39m             \u001b[38;5;28mself\u001b[39m.mo_energy, \u001b[38;5;28mself\u001b[39m.mo_coeff, \u001b[38;5;28mself\u001b[39m.mo_occ = \\\n\u001b[32m-> \u001b[39m\u001b[32m2016\u001b[39m             \u001b[43mkernel\u001b[49m\u001b[43m(\u001b[49m\u001b[38;5;28;43mself\u001b[39;49m\u001b[43m,\u001b[49m\u001b[43m \u001b[49m\u001b[38;5;28;43mself\u001b[39;49m\u001b[43m.\u001b[49m\u001b[43mconv_tol\u001b[49m\u001b[43m,\u001b[49m\u001b[43m \u001b[49m\u001b[38;5;28;43mself\u001b[39;49m\u001b[43m.\u001b[49m\u001b[43mconv_tol_grad\u001b[49m\u001b[43m,\u001b[49m\n\u001b[32m   2017\u001b[39m \u001b[43m                   \u001b[49m\u001b[43mdm0\u001b[49m\u001b[43m=\u001b[49m\u001b[43mdm0\u001b[49m\u001b[43m,\u001b[49m\u001b[43m \u001b[49m\u001b[43mcallback\u001b[49m\u001b[43m=\u001b[49m\u001b[38;5;28;43mself\u001b[39;49m\u001b[43m.\u001b[49m\u001b[43mcallback\u001b[49m\u001b[43m,\u001b[49m\n\u001b[32m   2018\u001b[39m \u001b[43m                   \u001b[49m\u001b[43mconv_check\u001b[49m\u001b[43m=\u001b[49m\u001b[38;5;28;43mself\u001b[39;49m\u001b[43m.\u001b[49m\u001b[43mconv_check\u001b[49m\u001b[43m,\u001b[49m\u001b[43m \u001b[49m\u001b[43m*\u001b[49m\u001b[43m*\u001b[49m\u001b[43mkwargs\u001b[49m\u001b[43m)\u001b[49m\n\u001b[32m   2019\u001b[39m \u001b[38;5;28;01melse\u001b[39;00m:\n\u001b[32m   2020\u001b[39m     \u001b[38;5;66;03m# Avoid to update SCF orbitals in the non-SCF initialization\u001b[39;00m\n\u001b[32m   2021\u001b[39m     \u001b[38;5;66;03m# (issue #495).  But run regular SCF for initial guess if SCF was\u001b[39;00m\n\u001b[32m   2022\u001b[39m     \u001b[38;5;66;03m# not initialized.\u001b[39;00m\n\u001b[32m   2023\u001b[39m     \u001b[38;5;28mself\u001b[39m.e_tot = kernel(\u001b[38;5;28mself\u001b[39m, \u001b[38;5;28mself\u001b[39m.conv_tol, \u001b[38;5;28mself\u001b[39m.conv_tol_grad,\n\u001b[32m   2024\u001b[39m                         dm0=dm0, callback=\u001b[38;5;28mself\u001b[39m.callback,\n\u001b[32m   2025\u001b[39m                         conv_check=\u001b[38;5;28mself\u001b[39m.conv_check, **kwargs)[\u001b[32m1\u001b[39m]\n",
      "\u001b[36mFile \u001b[39m\u001b[32m~/miniconda3/envs/pyscf-env/lib/python3.12/site-packages/pyscf/scf/hf.py:129\u001b[39m, in \u001b[36mkernel\u001b[39m\u001b[34m(mf, conv_tol, conv_tol_grad, dump_chk, dm0, callback, conv_check, **kwargs)\u001b[39m\n\u001b[32m    126\u001b[39m     dm = dm0\n\u001b[32m    128\u001b[39m h1e = mf.get_hcore(mol)\n\u001b[32m--> \u001b[39m\u001b[32m129\u001b[39m vhf = \u001b[43mmf\u001b[49m\u001b[43m.\u001b[49m\u001b[43mget_veff\u001b[49m\u001b[43m(\u001b[49m\u001b[43mmol\u001b[49m\u001b[43m,\u001b[49m\u001b[43m \u001b[49m\u001b[43mdm\u001b[49m\u001b[43m)\u001b[49m\n\u001b[32m    130\u001b[39m e_tot = mf.energy_tot(dm, h1e, vhf)\n\u001b[32m    131\u001b[39m logger.info(mf, \u001b[33m'\u001b[39m\u001b[33minit E= \u001b[39m\u001b[38;5;132;01m%.15g\u001b[39;00m\u001b[33m'\u001b[39m, e_tot)\n",
      "\u001b[36mFile \u001b[39m\u001b[32m~/miniconda3/envs/pyscf-env/lib/python3.12/site-packages/pyscf/dft/rks.py:69\u001b[39m, in \u001b[36mget_veff\u001b[39m\u001b[34m(ks, mol, dm, dm_last, vhf_last, hermi)\u001b[39m\n\u001b[32m     67\u001b[39m \u001b[38;5;28;01mif\u001b[39;00m mol \u001b[38;5;129;01mis\u001b[39;00m \u001b[38;5;28;01mNone\u001b[39;00m: mol = ks.mol\n\u001b[32m     68\u001b[39m \u001b[38;5;28;01mif\u001b[39;00m dm \u001b[38;5;129;01mis\u001b[39;00m \u001b[38;5;28;01mNone\u001b[39;00m: dm = ks.make_rdm1()\n\u001b[32m---> \u001b[39m\u001b[32m69\u001b[39m \u001b[43mks\u001b[49m\u001b[43m.\u001b[49m\u001b[43minitialize_grids\u001b[49m\u001b[43m(\u001b[49m\u001b[43mmol\u001b[49m\u001b[43m,\u001b[49m\u001b[43m \u001b[49m\u001b[43mdm\u001b[49m\u001b[43m)\u001b[49m\n\u001b[32m     71\u001b[39m t0 = (logger.process_clock(), logger.perf_counter())\n\u001b[32m     73\u001b[39m ground_state = (\u001b[38;5;28misinstance\u001b[39m(dm, numpy.ndarray) \u001b[38;5;129;01mand\u001b[39;00m dm.ndim == \u001b[32m2\u001b[39m)\n",
      "\u001b[36mFile \u001b[39m\u001b[32m~/miniconda3/envs/pyscf-env/lib/python3.12/site-packages/pyscf/dft/rks.py:503\u001b[39m, in \u001b[36mKohnShamDFT.initialize_grids\u001b[39m\u001b[34m(self, mol, dm)\u001b[39m\n\u001b[32m    501\u001b[39m \u001b[38;5;28;01mif\u001b[39;00m \u001b[38;5;28mself\u001b[39m.grids.coords \u001b[38;5;129;01mis\u001b[39;00m \u001b[38;5;28;01mNone\u001b[39;00m:\n\u001b[32m    502\u001b[39m     t0 = (logger.process_clock(), logger.perf_counter())\n\u001b[32m--> \u001b[39m\u001b[32m503\u001b[39m     \u001b[38;5;28;43mself\u001b[39;49m\u001b[43m.\u001b[49m\u001b[43mgrids\u001b[49m\u001b[43m.\u001b[49m\u001b[43mbuild\u001b[49m\u001b[43m(\u001b[49m\u001b[43mwith_non0tab\u001b[49m\u001b[43m=\u001b[49m\u001b[38;5;28;43;01mTrue\u001b[39;49;00m\u001b[43m)\u001b[49m\n\u001b[32m    504\u001b[39m     \u001b[38;5;28;01mif\u001b[39;00m \u001b[38;5;28mself\u001b[39m.small_rho_cutoff > \u001b[32m1e-20\u001b[39m \u001b[38;5;129;01mand\u001b[39;00m ground_state:\n\u001b[32m    505\u001b[39m         \u001b[38;5;66;03m# Filter grids the first time setup grids\u001b[39;00m\n\u001b[32m    506\u001b[39m         \u001b[38;5;28mself\u001b[39m.grids = prune_small_rho_grids_(\u001b[38;5;28mself\u001b[39m, \u001b[38;5;28mself\u001b[39m.mol, dm,\n\u001b[32m    507\u001b[39m                                             \u001b[38;5;28mself\u001b[39m.grids)\n",
      "\u001b[36mFile \u001b[39m\u001b[32m~/miniconda3/envs/pyscf-env/lib/python3.12/site-packages/pyscf/dft/gen_grid.py:515\u001b[39m, in \u001b[36mGrids.build\u001b[39m\u001b[34m(self, mol, with_non0tab, sort_grids, **kwargs)\u001b[39m\n\u001b[32m    511\u001b[39m \u001b[38;5;28mself\u001b[39m.coords, \u001b[38;5;28mself\u001b[39m.weights = \u001b[38;5;28mself\u001b[39m.get_partition(\n\u001b[32m    512\u001b[39m     mol, atom_grids_tab, \u001b[38;5;28mself\u001b[39m.radii_adjust, \u001b[38;5;28mself\u001b[39m.atomic_radii, \u001b[38;5;28mself\u001b[39m.becke_scheme)\n\u001b[32m    514\u001b[39m \u001b[38;5;28;01mif\u001b[39;00m sort_grids:\n\u001b[32m--> \u001b[39m\u001b[32m515\u001b[39m     idx = \u001b[43marg_group_grids\u001b[49m\u001b[43m(\u001b[49m\u001b[43mmol\u001b[49m\u001b[43m,\u001b[49m\u001b[43m \u001b[49m\u001b[38;5;28;43mself\u001b[39;49m\u001b[43m.\u001b[49m\u001b[43mcoords\u001b[49m\u001b[43m)\u001b[49m\n\u001b[32m    516\u001b[39m     \u001b[38;5;28mself\u001b[39m.coords = \u001b[38;5;28mself\u001b[39m.coords[idx]\n\u001b[32m    517\u001b[39m     \u001b[38;5;28mself\u001b[39m.weights = \u001b[38;5;28mself\u001b[39m.weights[idx]\n",
      "\u001b[36mFile \u001b[39m\u001b[32m~/miniconda3/envs/pyscf-env/lib/python3.12/site-packages/pyscf/dft/gen_grid.py:367\u001b[39m, in \u001b[36marg_group_grids\u001b[39m\u001b[34m(mol, coords, box_size)\u001b[39m\n\u001b[32m    365\u001b[39m box_ids[box_ids[:,\u001b[32m1\u001b[39m] > boxes[\u001b[32m1\u001b[39m], \u001b[32m1\u001b[39m] = boxes[\u001b[32m1\u001b[39m]\n\u001b[32m    366\u001b[39m box_ids[box_ids[:,\u001b[32m2\u001b[39m] > boxes[\u001b[32m2\u001b[39m], \u001b[32m2\u001b[39m] = boxes[\u001b[32m2\u001b[39m]\n\u001b[32m--> \u001b[39m\u001b[32m367\u001b[39m rev_idx, counts = \u001b[43mnumpy\u001b[49m\u001b[43m.\u001b[49m\u001b[43munique\u001b[49m\u001b[43m(\u001b[49m\u001b[43mbox_ids\u001b[49m\u001b[43m,\u001b[49m\u001b[43m \u001b[49m\u001b[43maxis\u001b[49m\u001b[43m=\u001b[49m\u001b[32;43m0\u001b[39;49m\u001b[43m,\u001b[49m\u001b[43m \u001b[49m\u001b[43mreturn_inverse\u001b[49m\u001b[43m=\u001b[49m\u001b[38;5;28;43;01mTrue\u001b[39;49;00m\u001b[43m,\u001b[49m\n\u001b[32m    368\u001b[39m \u001b[43m                               \u001b[49m\u001b[43mreturn_counts\u001b[49m\u001b[43m=\u001b[49m\u001b[38;5;28;43;01mTrue\u001b[39;49;00m\u001b[43m)\u001b[49m[\u001b[32m1\u001b[39m:\u001b[32m3\u001b[39m]\n\u001b[32m    369\u001b[39m \u001b[38;5;28;01mreturn\u001b[39;00m rev_idx.ravel().argsort(kind=\u001b[33m'\u001b[39m\u001b[33mstable\u001b[39m\u001b[33m'\u001b[39m)\n",
      "\u001b[36mFile \u001b[39m\u001b[32m~/miniconda3/envs/pyscf-env/lib/python3.12/site-packages/numpy/lib/_arraysetops_impl.py:334\u001b[39m, in \u001b[36munique\u001b[39m\u001b[34m(ar, return_index, return_inverse, return_counts, axis, equal_nan)\u001b[39m\n\u001b[32m    331\u001b[39m     uniq = np.moveaxis(uniq, \u001b[32m0\u001b[39m, axis)\n\u001b[32m    332\u001b[39m     \u001b[38;5;28;01mreturn\u001b[39;00m uniq\n\u001b[32m--> \u001b[39m\u001b[32m334\u001b[39m output = \u001b[43m_unique1d\u001b[49m\u001b[43m(\u001b[49m\u001b[43mconsolidated\u001b[49m\u001b[43m,\u001b[49m\u001b[43m \u001b[49m\u001b[43mreturn_index\u001b[49m\u001b[43m,\u001b[49m\n\u001b[32m    335\u001b[39m \u001b[43m                   \u001b[49m\u001b[43mreturn_inverse\u001b[49m\u001b[43m,\u001b[49m\u001b[43m \u001b[49m\u001b[43mreturn_counts\u001b[49m\u001b[43m,\u001b[49m\n\u001b[32m    336\u001b[39m \u001b[43m                   \u001b[49m\u001b[43mequal_nan\u001b[49m\u001b[43m=\u001b[49m\u001b[43mequal_nan\u001b[49m\u001b[43m,\u001b[49m\u001b[43m \u001b[49m\u001b[43minverse_shape\u001b[49m\u001b[43m=\u001b[49m\u001b[43minverse_shape\u001b[49m\u001b[43m,\u001b[49m\n\u001b[32m    337\u001b[39m \u001b[43m                   \u001b[49m\u001b[43maxis\u001b[49m\u001b[43m=\u001b[49m\u001b[43maxis\u001b[49m\u001b[43m)\u001b[49m\n\u001b[32m    338\u001b[39m output = (reshape_uniq(output[\u001b[32m0\u001b[39m]),) + output[\u001b[32m1\u001b[39m:]\n\u001b[32m    339\u001b[39m \u001b[38;5;28;01mreturn\u001b[39;00m _unpack_tuple(output)\n",
      "\u001b[36mFile \u001b[39m\u001b[32m~/miniconda3/envs/pyscf-env/lib/python3.12/site-packages/numpy/lib/_arraysetops_impl.py:353\u001b[39m, in \u001b[36m_unique1d\u001b[39m\u001b[34m(ar, return_index, return_inverse, return_counts, equal_nan, inverse_shape, axis)\u001b[39m\n\u001b[32m    350\u001b[39m optional_indices = return_index \u001b[38;5;129;01mor\u001b[39;00m return_inverse\n\u001b[32m    352\u001b[39m \u001b[38;5;28;01mif\u001b[39;00m optional_indices:\n\u001b[32m--> \u001b[39m\u001b[32m353\u001b[39m     perm = \u001b[43mar\u001b[49m\u001b[43m.\u001b[49m\u001b[43margsort\u001b[49m\u001b[43m(\u001b[49m\u001b[43mkind\u001b[49m\u001b[43m=\u001b[49m\u001b[33;43m'\u001b[39;49m\u001b[33;43mmergesort\u001b[39;49m\u001b[33;43m'\u001b[39;49m\u001b[43m \u001b[49m\u001b[38;5;28;43;01mif\u001b[39;49;00m\u001b[43m \u001b[49m\u001b[43mreturn_index\u001b[49m\u001b[43m \u001b[49m\u001b[38;5;28;43;01melse\u001b[39;49;00m\u001b[43m \u001b[49m\u001b[33;43m'\u001b[39;49m\u001b[33;43mquicksort\u001b[39;49m\u001b[33;43m'\u001b[39;49m\u001b[43m)\u001b[49m\n\u001b[32m    354\u001b[39m     aux = ar[perm]\n\u001b[32m    355\u001b[39m \u001b[38;5;28;01melse\u001b[39;00m:\n",
      "\u001b[31mKeyboardInterrupt\u001b[39m: "
     ]
    }
   ],
   "source": [
    "mf_scanner = gto.M().apply(dft.RKS).set(xc='b3lyp', basis='def2-SVP').as_scanner() # an easy way to ask for energy only\n",
    "\n",
    "data_dir = Path('./water_energies_noise')\n",
    "data_dir.mkdir(exist_ok=True)\n",
    "\n",
    "sigma = 0.02\n",
    "\n",
    "for i in range(1000):\n",
    "    h2o_coords_w_noise = add_gaussian_noise(h2o_coords, sigma=sigma, seed=i)\n",
    "    h2o_inp = np_to_scfinput(h2o_atoms, h2o_coords_w_noise)\n",
    "    e = mf_scanner(gto.M(atom=h2o_inp))\n",
    "\n",
    "    np.savez_compressed(\n",
    "        data_dir / f'h2o_noise_dft_b3lyp_def2-SVP_{i}.npz',\n",
    "        coords=h2o_coords_w_noise,\n",
    "        energy = e,\n",
    "        noise_sigma = sigma\n",
    "    )"
   ]
  },
  {
   "cell_type": "code",
   "execution_count": 16,
   "id": "02176bcf",
   "metadata": {},
   "outputs": [
    {
     "name": "stdout",
     "output_type": "stream",
     "text": [
      "[[ 0.          0.          0.        ]\n",
      " [ 0.92395162 -0.21938935  0.02704284]\n",
      " [-0.91363515 -0.20972138  0.00579915]] -75.23438594734546\n"
     ]
    }
   ],
   "source": [
    "# inspection of one single file\n",
    "index = 6\n",
    "file_path = data_dir / f'h2o_noise_dft_b3lyp_def2-SVP_{index}.npz'\n",
    "data = np.load(file_path)\n",
    "print(data['coords'], data['energy'])"
   ]
  }
 ],
 "metadata": {
  "kernelspec": {
   "display_name": "pyscf-env",
   "language": "python",
   "name": "python3"
  },
  "language_info": {
   "codemirror_mode": {
    "name": "ipython",
    "version": 3
   },
   "file_extension": ".py",
   "mimetype": "text/x-python",
   "name": "python",
   "nbconvert_exporter": "python",
   "pygments_lexer": "ipython3",
   "version": "3.12.11"
  }
 },
 "nbformat": 4,
 "nbformat_minor": 5
}
