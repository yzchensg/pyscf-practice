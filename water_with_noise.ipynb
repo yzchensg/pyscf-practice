{
 "cells": [
  {
   "cell_type": "code",
   "execution_count": 2,
   "id": "c55cc24c",
   "metadata": {},
   "outputs": [],
   "source": [
    "from pyscf import gto, scf, dft\n",
    "from pyscf.lo import orth\n",
    "\n",
    "\n",
    "import numpy as np\n",
    "from IPython.display import clear_output\n",
    "import pandas as pd\n",
    "from pathlib import Path\n"
   ]
  },
  {
   "cell_type": "code",
   "execution_count": 4,
   "id": "59a1b291",
   "metadata": {},
   "outputs": [],
   "source": [
    "def np_to_scfinput(atoms, coords):\n",
    "    '''\n",
    "    Input: tuple of (coordinates: np.array; atom representation: tuple of strings)\n",
    "    '''\n",
    "    # safeguarding here\n",
    "    # convertion\n",
    "    raw = []\n",
    "    for atom, coord in zip(atoms, coords):\n",
    "        raw.append(' '.join([atom, *coord.astype(str)]))\n",
    "    \n",
    "    return ' ;'.join(raw)\n",
    "\n",
    "def add_gaussian_noise(coords, sigma=0.02, seed=None):\n",
    "    '''\n",
    "    Input: np array shape (N,3)\n",
    "    First row is central atom: 0,0,0. Or any other atom that is kept at the origin\n",
    "    Second and third rows are hydrogens / all other atoms\n",
    "    '''\n",
    "    # default_rng is the new np random Generator. good to use!\n",
    "    rng = np.random.default_rng(seed)\n",
    "    noise = rng.normal(loc=0.0, scale=sigma, size=coords.shape)\n",
    "    coords_w_noise = coords + noise\n",
    "\n",
    "    # force the first row (central atom) to be 0,0,0\n",
    "    coords_w_noise[0] = [0,0,0]\n",
    "    return coords_w_noise\n",
    "\n",
    "def scf_features(mf, mol):\n",
    "\n",
    "    # Grab SAAO coefficients from a molecule\n",
    "    S = mf.get_ovlp()                               # AO overlap (nao×nao)\n",
    "    C_sao = orth.orth_ao(mol, method='lowdin', s=S)     # Symmetric orthogonalizer: for transformation to SAAO basis\n",
    "\n",
    "    # Obtain the AO basis matrices:\n",
    "    H_ao  = mf.get_hcore()                              # Core Hamiltonian in AO basis\n",
    "    F_ao  = mf.get_fock(dm=mf.make_rdm1())              # Fock in AO basis\n",
    "    P_ao  = mf.make_rdm1()                              # Density in AO basis\n",
    "    J_ao, K_ao = mf.get_jk(mf, dm=mf.make_rdm1())\n",
    "\n",
    "    # Project into SAAO basis:\n",
    "    H_sao = C_sao.T @ H_ao @ C_sao\n",
    "    F_sao = C_sao.T @ F_ao @ C_sao\n",
    "    P_sao = C_sao.T @ P_ao @ C_sao\n",
    "    J_sao = C_sao.T @ J_ao @ C_sao\n",
    "    K_sao = C_sao.T @ K_ao @ C_sao\n",
    "\n",
    "    # diagonal blocks per atom:\n",
    "    diag_blocks = []\n",
    "    atom_slices = mol.aoslice_by_atom()\n",
    "    for (_, _, ist, sto) in atom_slices:\n",
    "        diag_blocks.append(np.stack([\n",
    "        np.diag(F_sao[ist:sto, ist:sto]),\n",
    "        np.diag(J_sao[ist:sto, ist:sto]),\n",
    "        np.diag(K_sao[ist:sto, ist:sto]),\n",
    "        np.diag(P_sao[ist:sto, ist:sto]),\n",
    "        np.diag(H_sao[ist:sto, ist:sto]),\n",
    "        ], axis=1))\n",
    "\n",
    "    # Pad each block to (max_n,5)\n",
    "    max_n = max(b.shape[0] for b in diag_blocks)\n",
    "    padded = []\n",
    "    for b in diag_blocks:\n",
    "        pad = np.zeros((max_n - b.shape[0], 5), dtype=b.dtype)\n",
    "        padded.append(np.vstack([b, pad]))\n",
    "\n",
    "    return np.stack(padded, axis=0)  # shape (natoms, max_n, 5)\n"
   ]
  },
  {
   "cell_type": "markdown",
   "id": "1118a5cb",
   "metadata": {},
   "source": [
    "## Prepare water molecule file (default)"
   ]
  },
  {
   "cell_type": "markdown",
   "id": "3e599a42",
   "metadata": {},
   "source": [
    "1. Water molecule"
   ]
  },
  {
   "cell_type": "code",
   "execution_count": 22,
   "id": "6eae114e",
   "metadata": {},
   "outputs": [],
   "source": [
    "# actual water molecule data\n",
    "bond_len = 0.9572\n",
    "bond_ang = 104.5\n",
    "atoms = ('O','H','H') # what atom that each row corresponds to "
   ]
  },
  {
   "cell_type": "markdown",
   "id": "e39db5be",
   "metadata": {},
   "source": [
    "2. $CO_2$ molecule"
   ]
  },
  {
   "cell_type": "code",
   "execution_count": 5,
   "id": "501176f1",
   "metadata": {},
   "outputs": [],
   "source": [
    "bond_len = 1.163\n",
    "bond_ang = 180\n",
    "atoms = ('C','O','O') # what atom that each row corresponds to \n"
   ]
  },
  {
   "cell_type": "code",
   "execution_count": 23,
   "id": "b1be4aa8",
   "metadata": {},
   "outputs": [
    {
     "name": "stdout",
     "output_type": "stream",
     "text": [
      "[[ 0.          0.          0.        ]\n",
      " [ 0.92671092 -0.23966374  0.        ]\n",
      " [-0.92671092 -0.23966374  0.        ]]\n"
     ]
    }
   ],
   "source": [
    "x = bond_len * np.sin(np.radians(bond_ang))\n",
    "y = bond_len * np.cos(np.radians(bond_ang))\n",
    "\n",
    "coords = np.array([[0,0,0],[x, y, 0],[-x,y,0]]) # put in the actual data\n",
    "print(coords)"
   ]
  },
  {
   "cell_type": "markdown",
   "id": "2c75d29b",
   "metadata": {},
   "source": [
    "3. More complex CH3OH molecule: "
   ]
  },
  {
   "cell_type": "code",
   "execution_count": 10,
   "id": "80f3f235",
   "metadata": {},
   "outputs": [],
   "source": [
    "\n",
    "atoms = ('C', 'H', 'H', 'H', 'O', 'H')\n",
    "\n",
    "coords = np.array([\n",
    "    [ 0.0000,   0.0000,   0.0000],   # C\n",
    "    [ 0.4970,   0.0280,   0.9736],   # H\n",
    "    [ 0.2846,   0.8860,  -0.5809],   # H\n",
    "    [ 0.3124,  -0.9001,  -0.5437],   # H\n",
    "    [-1.3613,  -0.0150,   0.3035],   # O\n",
    "    [-1.8357,  -0.0394,  -0.5177],   # H\n",
    "])"
   ]
  },
  {
   "cell_type": "markdown",
   "id": "02317232",
   "metadata": {},
   "source": [
    "The code"
   ]
  },
  {
   "cell_type": "code",
   "execution_count": 24,
   "id": "2dff27ca",
   "metadata": {},
   "outputs": [
    {
     "name": "stderr",
     "output_type": "stream",
     "text": [
      "Warning: <pyscf.gto.mole.Mole object at 0x7162560cd4f0> must be initialized before calling SCF.\n",
      "Initialize <pyscf.gto.mole.Mole object at 0x7162560cd4f0> in <pyscf.scf.hf.RHF object at 0x716258700530>\n"
     ]
    },
    {
     "name": "stdout",
     "output_type": "stream",
     "text": [
      "converged SCF energy = -75.9247089792245\n"
     ]
    },
    {
     "name": "stderr",
     "output_type": "stream",
     "text": [
      "Warning: <pyscf.gto.mole.Mole object at 0x7162560cf2c0> must be initialized before calling SCF.\n",
      "Initialize <pyscf.gto.mole.Mole object at 0x7162560cf2c0> in <pyscf.scf.hf.RHF object at 0x716255f6d910>\n"
     ]
    },
    {
     "name": "stdout",
     "output_type": "stream",
     "text": [
      "converged SCF energy = -75.9231085282139\n"
     ]
    },
    {
     "name": "stderr",
     "output_type": "stream",
     "text": [
      "Warning: <pyscf.gto.mole.Mole object at 0x716255e23b90> must be initialized before calling SCF.\n",
      "Initialize <pyscf.gto.mole.Mole object at 0x716255e23b90> in <pyscf.scf.hf.RHF object at 0x716255e20530>\n"
     ]
    },
    {
     "name": "stdout",
     "output_type": "stream",
     "text": [
      "converged SCF energy = -75.9214864921861\n"
     ]
    },
    {
     "name": "stderr",
     "output_type": "stream",
     "text": [
      "Warning: <pyscf.gto.mole.Mole object at 0x7162560cf470> must be initialized before calling SCF.\n",
      "Initialize <pyscf.gto.mole.Mole object at 0x7162560cf470> in <pyscf.scf.hf.RHF object at 0x716255e1f050>\n"
     ]
    },
    {
     "name": "stdout",
     "output_type": "stream",
     "text": [
      "converged SCF energy = -75.9212755955712\n"
     ]
    },
    {
     "name": "stderr",
     "output_type": "stream",
     "text": [
      "Warning: <pyscf.gto.mole.Mole object at 0x716255e22b10> must be initialized before calling SCF.\n",
      "Initialize <pyscf.gto.mole.Mole object at 0x716255e22b10> in <pyscf.scf.hf.RHF object at 0x716258700530>\n"
     ]
    },
    {
     "name": "stdout",
     "output_type": "stream",
     "text": [
      "converged SCF energy = -75.9233253581574\n"
     ]
    },
    {
     "name": "stderr",
     "output_type": "stream",
     "text": [
      "Warning: <pyscf.gto.mole.Mole object at 0x7162560cf470> must be initialized before calling SCF.\n",
      "Initialize <pyscf.gto.mole.Mole object at 0x7162560cf470> in <pyscf.scf.hf.RHF object at 0x716255e1c740>\n"
     ]
    },
    {
     "name": "stdout",
     "output_type": "stream",
     "text": [
      "converged SCF energy = -75.9223775916314\n"
     ]
    },
    {
     "name": "stderr",
     "output_type": "stream",
     "text": [
      "Warning: <pyscf.gto.mole.Mole object at 0x716255e1f050> must be initialized before calling SCF.\n",
      "Initialize <pyscf.gto.mole.Mole object at 0x716255e1f050> in <pyscf.scf.hf.RHF object at 0x716255e20530>\n"
     ]
    },
    {
     "name": "stdout",
     "output_type": "stream",
     "text": [
      "converged SCF energy = -75.9228362631751\n"
     ]
    },
    {
     "name": "stderr",
     "output_type": "stream",
     "text": [
      "Warning: <pyscf.gto.mole.Mole object at 0x716256bbf4a0> must be initialized before calling SCF.\n",
      "Initialize <pyscf.gto.mole.Mole object at 0x716256bbf4a0> in <pyscf.scf.hf.RHF object at 0x71625692baa0>\n"
     ]
    },
    {
     "name": "stdout",
     "output_type": "stream",
     "text": [
      "converged SCF energy = -75.9247159965966\n"
     ]
    },
    {
     "name": "stderr",
     "output_type": "stream",
     "text": [
      "Warning: <pyscf.gto.mole.Mole object at 0x716255f6d9d0> must be initialized before calling SCF.\n",
      "Initialize <pyscf.gto.mole.Mole object at 0x716255f6d9d0> in <pyscf.scf.hf.RHF object at 0x716255f6d6d0>\n"
     ]
    },
    {
     "name": "stdout",
     "output_type": "stream",
     "text": [
      "converged SCF energy = -75.924535425532\n"
     ]
    },
    {
     "name": "stderr",
     "output_type": "stream",
     "text": [
      "Warning: <pyscf.gto.mole.Mole object at 0x716255f6f1a0> must be initialized before calling SCF.\n",
      "Initialize <pyscf.gto.mole.Mole object at 0x716255f6f1a0> in <pyscf.scf.hf.RHF object at 0x716256abd310>\n"
     ]
    },
    {
     "name": "stdout",
     "output_type": "stream",
     "text": [
      "converged SCF energy = -75.9226300538893\n"
     ]
    },
    {
     "name": "stderr",
     "output_type": "stream",
     "text": [
      "Warning: <pyscf.gto.mole.Mole object at 0x716256984740> must be initialized before calling SCF.\n",
      "Initialize <pyscf.gto.mole.Mole object at 0x716256984740> in <pyscf.scf.hf.RHF object at 0x716255e1f620>\n"
     ]
    },
    {
     "name": "stdout",
     "output_type": "stream",
     "text": [
      "converged SCF energy = -75.9241503439304\n"
     ]
    },
    {
     "name": "stderr",
     "output_type": "stream",
     "text": [
      "Warning: <pyscf.gto.mole.Mole object at 0x716255e1f2c0> must be initialized before calling SCF.\n",
      "Initialize <pyscf.gto.mole.Mole object at 0x716255e1f2c0> in <pyscf.scf.hf.RHF object at 0x716255e1ec90>\n"
     ]
    },
    {
     "name": "stdout",
     "output_type": "stream",
     "text": [
      "converged SCF energy = -75.9261080154272\n"
     ]
    },
    {
     "name": "stderr",
     "output_type": "stream",
     "text": [
      "Warning: <pyscf.gto.mole.Mole object at 0x716255e1f620> must be initialized before calling SCF.\n",
      "Initialize <pyscf.gto.mole.Mole object at 0x716255e1f620> in <pyscf.scf.hf.RHF object at 0x716258700530>\n"
     ]
    },
    {
     "name": "stdout",
     "output_type": "stream",
     "text": [
      "converged SCF energy = -75.9216716213917\n"
     ]
    },
    {
     "name": "stderr",
     "output_type": "stream",
     "text": [
      "Warning: <pyscf.gto.mole.Mole object at 0x716255e1ef60> must be initialized before calling SCF.\n",
      "Initialize <pyscf.gto.mole.Mole object at 0x716255e1ef60> in <pyscf.scf.hf.RHF object at 0x7162560cf2c0>\n"
     ]
    },
    {
     "name": "stdout",
     "output_type": "stream",
     "text": [
      "converged SCF energy = -75.9243151198202\n"
     ]
    },
    {
     "name": "stderr",
     "output_type": "stream",
     "text": [
      "Warning: <pyscf.gto.mole.Mole object at 0x7162560cd460> must be initialized before calling SCF.\n",
      "Initialize <pyscf.gto.mole.Mole object at 0x7162560cd460> in <pyscf.scf.hf.RHF object at 0x716255e1c740>\n"
     ]
    },
    {
     "name": "stdout",
     "output_type": "stream",
     "text": [
      "converged SCF energy = -75.9252584266755\n"
     ]
    },
    {
     "name": "stderr",
     "output_type": "stream",
     "text": [
      "Warning: <pyscf.gto.mole.Mole object at 0x716255e1ef60> must be initialized before calling SCF.\n",
      "Initialize <pyscf.gto.mole.Mole object at 0x716255e1ef60> in <pyscf.scf.hf.RHF object at 0x7162560cf2c0>\n"
     ]
    },
    {
     "name": "stdout",
     "output_type": "stream",
     "text": [
      "converged SCF energy = -75.9208821289751\n"
     ]
    },
    {
     "name": "stderr",
     "output_type": "stream",
     "text": [
      "Warning: <pyscf.gto.mole.Mole object at 0x716256984740> must be initialized before calling SCF.\n",
      "Initialize <pyscf.gto.mole.Mole object at 0x716256984740> in <pyscf.scf.hf.RHF object at 0x716255e1f530>\n"
     ]
    },
    {
     "name": "stdout",
     "output_type": "stream",
     "text": [
      "converged SCF energy = -75.9221644485412\n"
     ]
    },
    {
     "name": "stderr",
     "output_type": "stream",
     "text": [
      "Warning: <pyscf.gto.mole.Mole object at 0x7162560cd700> must be initialized before calling SCF.\n",
      "Initialize <pyscf.gto.mole.Mole object at 0x7162560cd700> in <pyscf.scf.hf.RHF object at 0x7162560cd460>\n"
     ]
    },
    {
     "name": "stdout",
     "output_type": "stream",
     "text": [
      "converged SCF energy = -75.9270397562323\n"
     ]
    },
    {
     "name": "stderr",
     "output_type": "stream",
     "text": [
      "Warning: <pyscf.gto.mole.Mole object at 0x716255e1c740> must be initialized before calling SCF.\n",
      "Initialize <pyscf.gto.mole.Mole object at 0x716255e1c740> in <pyscf.scf.hf.RHF object at 0x716255e1ef60>\n"
     ]
    },
    {
     "name": "stdout",
     "output_type": "stream",
     "text": [
      "converged SCF energy = -75.9221398344796\n"
     ]
    },
    {
     "name": "stderr",
     "output_type": "stream",
     "text": [
      "Warning: <pyscf.gto.mole.Mole object at 0x716256fb6ab0> must be initialized before calling SCF.\n",
      "Initialize <pyscf.gto.mole.Mole object at 0x716256fb6ab0> in <pyscf.scf.hf.RHF object at 0x716256985460>\n"
     ]
    },
    {
     "name": "stdout",
     "output_type": "stream",
     "text": [
      "converged SCF energy = -75.9257303615135\n"
     ]
    },
    {
     "name": "stderr",
     "output_type": "stream",
     "text": [
      "Warning: <pyscf.gto.mole.Mole object at 0x716256984740> must be initialized before calling SCF.\n",
      "Initialize <pyscf.gto.mole.Mole object at 0x716256984740> in <pyscf.scf.hf.RHF object at 0x716255e23a70>\n"
     ]
    },
    {
     "name": "stdout",
     "output_type": "stream",
     "text": [
      "converged SCF energy = -75.9225373162893\n"
     ]
    },
    {
     "name": "stderr",
     "output_type": "stream",
     "text": [
      "Warning: <pyscf.gto.mole.Mole object at 0x716255e1ef60> must be initialized before calling SCF.\n",
      "Initialize <pyscf.gto.mole.Mole object at 0x716255e1ef60> in <pyscf.scf.hf.RHF object at 0x7162569874a0>\n"
     ]
    },
    {
     "name": "stdout",
     "output_type": "stream",
     "text": [
      "converged SCF energy = -75.9203584099367\n"
     ]
    },
    {
     "name": "stderr",
     "output_type": "stream",
     "text": [
      "Warning: <pyscf.gto.mole.Mole object at 0x716255e22780> must be initialized before calling SCF.\n",
      "Initialize <pyscf.gto.mole.Mole object at 0x716255e22780> in <pyscf.scf.hf.RHF object at 0x716255e23a70>\n"
     ]
    },
    {
     "name": "stdout",
     "output_type": "stream",
     "text": [
      "converged SCF energy = -75.9233112424406\n"
     ]
    },
    {
     "name": "stderr",
     "output_type": "stream",
     "text": [
      "Warning: <pyscf.gto.mole.Mole object at 0x7162560cd460> must be initialized before calling SCF.\n",
      "Initialize <pyscf.gto.mole.Mole object at 0x7162560cd460> in <pyscf.scf.hf.RHF object at 0x716255e20290>\n"
     ]
    },
    {
     "name": "stdout",
     "output_type": "stream",
     "text": [
      "converged SCF energy = -75.9253177699712\n"
     ]
    },
    {
     "name": "stderr",
     "output_type": "stream",
     "text": [
      "Warning: <pyscf.gto.mole.Mole object at 0x716255e23ec0> must be initialized before calling SCF.\n",
      "Initialize <pyscf.gto.mole.Mole object at 0x716255e23ec0> in <pyscf.scf.hf.RHF object at 0x716255e210a0>\n"
     ]
    },
    {
     "name": "stdout",
     "output_type": "stream",
     "text": [
      "converged SCF energy = -75.9270251476537\n"
     ]
    },
    {
     "name": "stderr",
     "output_type": "stream",
     "text": [
      "Warning: <pyscf.gto.mole.Mole object at 0x716255f6fa40> must be initialized before calling SCF.\n",
      "Initialize <pyscf.gto.mole.Mole object at 0x716255f6fa40> in <pyscf.scf.hf.RHF object at 0x716255e207d0>\n"
     ]
    },
    {
     "name": "stdout",
     "output_type": "stream",
     "text": [
      "converged SCF energy = -75.9274624950766\n"
     ]
    },
    {
     "name": "stderr",
     "output_type": "stream",
     "text": [
      "Warning: <pyscf.gto.mole.Mole object at 0x716255e20890> must be initialized before calling SCF.\n",
      "Initialize <pyscf.gto.mole.Mole object at 0x716255e20890> in <pyscf.scf.hf.RHF object at 0x716255e23a70>\n"
     ]
    },
    {
     "name": "stdout",
     "output_type": "stream",
     "text": [
      "converged SCF energy = -75.9204278694468\n"
     ]
    },
    {
     "name": "stderr",
     "output_type": "stream",
     "text": [
      "Warning: <pyscf.gto.mole.Mole object at 0x716255e23ec0> must be initialized before calling SCF.\n",
      "Initialize <pyscf.gto.mole.Mole object at 0x716255e23ec0> in <pyscf.scf.hf.RHF object at 0x716255e21970>\n"
     ]
    },
    {
     "name": "stdout",
     "output_type": "stream",
     "text": [
      "converged SCF energy = -75.9231938419931\n"
     ]
    },
    {
     "name": "stderr",
     "output_type": "stream",
     "text": [
      "Warning: <pyscf.gto.mole.Mole object at 0x716255e20290> must be initialized before calling SCF.\n",
      "Initialize <pyscf.gto.mole.Mole object at 0x716255e20290> in <pyscf.scf.hf.RHF object at 0x716255e23a70>\n"
     ]
    },
    {
     "name": "stdout",
     "output_type": "stream",
     "text": [
      "converged SCF energy = -75.9257930163543\n"
     ]
    },
    {
     "name": "stderr",
     "output_type": "stream",
     "text": [
      "Warning: <pyscf.gto.mole.Mole object at 0x716256985400> must be initialized before calling SCF.\n",
      "Initialize <pyscf.gto.mole.Mole object at 0x716256985400> in <pyscf.scf.hf.RHF object at 0x716256987350>\n"
     ]
    },
    {
     "name": "stdout",
     "output_type": "stream",
     "text": [
      "converged SCF energy = -75.9250144391668\n"
     ]
    },
    {
     "name": "stderr",
     "output_type": "stream",
     "text": [
      "Warning: <pyscf.gto.mole.Mole object at 0x716255e20dd0> must be initialized before calling SCF.\n",
      "Initialize <pyscf.gto.mole.Mole object at 0x716255e20dd0> in <pyscf.scf.hf.RHF object at 0x716255e23a70>\n"
     ]
    },
    {
     "name": "stdout",
     "output_type": "stream",
     "text": [
      "converged SCF energy = -75.9222366865599\n"
     ]
    },
    {
     "name": "stderr",
     "output_type": "stream",
     "text": [
      "Warning: <pyscf.gto.mole.Mole object at 0x71625e1b3b90> must be initialized before calling SCF.\n",
      "Initialize <pyscf.gto.mole.Mole object at 0x71625e1b3b90> in <pyscf.scf.hf.RHF object at 0x71625c9d8530>\n"
     ]
    },
    {
     "name": "stdout",
     "output_type": "stream",
     "text": [
      "converged SCF energy = -75.9252294259717\n"
     ]
    },
    {
     "name": "stderr",
     "output_type": "stream",
     "text": [
      "Warning: <pyscf.gto.mole.Mole object at 0x716255e0f560> must be initialized before calling SCF.\n",
      "Initialize <pyscf.gto.mole.Mole object at 0x716255e0f560> in <pyscf.scf.hf.RHF object at 0x716255e0e360>\n"
     ]
    },
    {
     "name": "stdout",
     "output_type": "stream",
     "text": [
      "converged SCF energy = -75.9247161554235\n"
     ]
    },
    {
     "name": "stderr",
     "output_type": "stream",
     "text": [
      "Warning: <pyscf.gto.mole.Mole object at 0x71625d3d0950> must be initialized before calling SCF.\n",
      "Initialize <pyscf.gto.mole.Mole object at 0x71625d3d0950> in <pyscf.scf.hf.RHF object at 0x716255f77cb0>\n"
     ]
    },
    {
     "name": "stdout",
     "output_type": "stream",
     "text": [
      "converged SCF energy = -75.9250856004907\n"
     ]
    },
    {
     "name": "stderr",
     "output_type": "stream",
     "text": [
      "Warning: <pyscf.gto.mole.Mole object at 0x716255e0a630> must be initialized before calling SCF.\n",
      "Initialize <pyscf.gto.mole.Mole object at 0x716255e0a630> in <pyscf.scf.hf.RHF object at 0x716255f73170>\n"
     ]
    },
    {
     "name": "stdout",
     "output_type": "stream",
     "text": [
      "converged SCF energy = -75.9228074298725\n"
     ]
    },
    {
     "name": "stderr",
     "output_type": "stream",
     "text": [
      "Warning: <pyscf.gto.mole.Mole object at 0x71625d3d0950> must be initialized before calling SCF.\n",
      "Initialize <pyscf.gto.mole.Mole object at 0x71625d3d0950> in <pyscf.scf.hf.RHF object at 0x716255dfc350>\n"
     ]
    },
    {
     "name": "stdout",
     "output_type": "stream",
     "text": [
      "converged SCF energy = -75.9190904600813\n"
     ]
    },
    {
     "name": "stderr",
     "output_type": "stream",
     "text": [
      "Warning: <pyscf.gto.mole.Mole object at 0x71625e1b3b90> must be initialized before calling SCF.\n",
      "Initialize <pyscf.gto.mole.Mole object at 0x71625e1b3b90> in <pyscf.scf.hf.RHF object at 0x7162587aa4b0>\n"
     ]
    },
    {
     "name": "stdout",
     "output_type": "stream",
     "text": [
      "converged SCF energy = -75.9240719872289\n"
     ]
    },
    {
     "name": "stderr",
     "output_type": "stream",
     "text": [
      "Warning: <pyscf.gto.mole.Mole object at 0x71625d3d0950> must be initialized before calling SCF.\n",
      "Initialize <pyscf.gto.mole.Mole object at 0x71625d3d0950> in <pyscf.scf.hf.RHF object at 0x71625c9d8530>\n"
     ]
    },
    {
     "name": "stdout",
     "output_type": "stream",
     "text": [
      "converged SCF energy = -75.9170847054585\n"
     ]
    },
    {
     "name": "stderr",
     "output_type": "stream",
     "text": [
      "Warning: <pyscf.gto.mole.Mole object at 0x71625e1b3b90> must be initialized before calling SCF.\n",
      "Initialize <pyscf.gto.mole.Mole object at 0x71625e1b3b90> in <pyscf.scf.hf.RHF object at 0x716255f77bc0>\n"
     ]
    },
    {
     "name": "stdout",
     "output_type": "stream",
     "text": [
      "converged SCF energy = -75.9196311932224\n"
     ]
    },
    {
     "name": "stderr",
     "output_type": "stream",
     "text": [
      "Warning: <pyscf.gto.mole.Mole object at 0x716257604a40> must be initialized before calling SCF.\n",
      "Initialize <pyscf.gto.mole.Mole object at 0x716257604a40> in <pyscf.scf.hf.RHF object at 0x716255e07560>\n"
     ]
    },
    {
     "name": "stdout",
     "output_type": "stream",
     "text": [
      "converged SCF energy = -75.9251210894918\n"
     ]
    },
    {
     "name": "stderr",
     "output_type": "stream",
     "text": [
      "Warning: <pyscf.gto.mole.Mole object at 0x71625e1b3b90> must be initialized before calling SCF.\n",
      "Initialize <pyscf.gto.mole.Mole object at 0x71625e1b3b90> in <pyscf.scf.hf.RHF object at 0x716255e0fd10>\n"
     ]
    },
    {
     "name": "stdout",
     "output_type": "stream",
     "text": [
      "converged SCF energy = -75.9219512912468\n"
     ]
    },
    {
     "name": "stderr",
     "output_type": "stream",
     "text": [
      "Warning: <pyscf.gto.mole.Mole object at 0x716255dfe4b0> must be initialized before calling SCF.\n",
      "Initialize <pyscf.gto.mole.Mole object at 0x716255dfe4b0> in <pyscf.scf.hf.RHF object at 0x716255dfc0b0>\n"
     ]
    },
    {
     "name": "stdout",
     "output_type": "stream",
     "text": [
      "converged SCF energy = -75.9257911140763\n"
     ]
    },
    {
     "name": "stderr",
     "output_type": "stream",
     "text": [
      "Warning: <pyscf.gto.mole.Mole object at 0x71625e1b3b90> must be initialized before calling SCF.\n",
      "Initialize <pyscf.gto.mole.Mole object at 0x71625e1b3b90> in <pyscf.scf.hf.RHF object at 0x716257846300>\n"
     ]
    },
    {
     "name": "stdout",
     "output_type": "stream",
     "text": [
      "converged SCF energy = -75.9244956719577\n"
     ]
    },
    {
     "name": "stderr",
     "output_type": "stream",
     "text": [
      "Warning: <pyscf.gto.mole.Mole object at 0x716255f708f0> must be initialized before calling SCF.\n",
      "Initialize <pyscf.gto.mole.Mole object at 0x716255f708f0> in <pyscf.scf.hf.RHF object at 0x716255dfc140>\n"
     ]
    },
    {
     "name": "stdout",
     "output_type": "stream",
     "text": [
      "converged SCF energy = -75.927326721503\n"
     ]
    },
    {
     "name": "stderr",
     "output_type": "stream",
     "text": [
      "Warning: <pyscf.gto.mole.Mole object at 0x716256abf710> must be initialized before calling SCF.\n",
      "Initialize <pyscf.gto.mole.Mole object at 0x716256abf710> in <pyscf.scf.hf.RHF object at 0x716255dfc0b0>\n"
     ]
    },
    {
     "name": "stdout",
     "output_type": "stream",
     "text": [
      "converged SCF energy = -75.9218633199987\n"
     ]
    },
    {
     "name": "stderr",
     "output_type": "stream",
     "text": [
      "Warning: <pyscf.gto.mole.Mole object at 0x71625d3d0950> must be initialized before calling SCF.\n",
      "Initialize <pyscf.gto.mole.Mole object at 0x71625d3d0950> in <pyscf.scf.hf.RHF object at 0x716255dfc140>\n"
     ]
    },
    {
     "name": "stdout",
     "output_type": "stream",
     "text": [
      "converged SCF energy = -75.9229062026798\n"
     ]
    },
    {
     "name": "stderr",
     "output_type": "stream",
     "text": [
      "Warning: <pyscf.gto.mole.Mole object at 0x716255dfc0b0> must be initialized before calling SCF.\n",
      "Initialize <pyscf.gto.mole.Mole object at 0x716255dfc0b0> in <pyscf.scf.hf.RHF object at 0x716255e0ecc0>\n"
     ]
    },
    {
     "name": "stdout",
     "output_type": "stream",
     "text": [
      "converged SCF energy = -75.9243807543852\n"
     ]
    },
    {
     "name": "stderr",
     "output_type": "stream",
     "text": [
      "Warning: <pyscf.gto.mole.Mole object at 0x716255f6f710> must be initialized before calling SCF.\n",
      "Initialize <pyscf.gto.mole.Mole object at 0x716255f6f710> in <pyscf.scf.hf.RHF object at 0x716255f6e1e0>\n"
     ]
    },
    {
     "name": "stdout",
     "output_type": "stream",
     "text": [
      "converged SCF energy = -75.9266724881678\n"
     ]
    },
    {
     "name": "stderr",
     "output_type": "stream",
     "text": [
      "Warning: <pyscf.gto.mole.Mole object at 0x71625d3d0950> must be initialized before calling SCF.\n",
      "Initialize <pyscf.gto.mole.Mole object at 0x71625d3d0950> in <pyscf.scf.hf.RHF object at 0x716255dfc0b0>\n"
     ]
    },
    {
     "name": "stdout",
     "output_type": "stream",
     "text": [
      "converged SCF energy = -75.9231317002113\n"
     ]
    },
    {
     "name": "stderr",
     "output_type": "stream",
     "text": [
      "Warning: <pyscf.gto.mole.Mole object at 0x716255f6e2d0> must be initialized before calling SCF.\n",
      "Initialize <pyscf.gto.mole.Mole object at 0x716255f6e2d0> in <pyscf.scf.hf.RHF object at 0x716255f6e1e0>\n"
     ]
    },
    {
     "name": "stdout",
     "output_type": "stream",
     "text": [
      "converged SCF energy = -75.9256844508599\n"
     ]
    },
    {
     "name": "stderr",
     "output_type": "stream",
     "text": [
      "Warning: <pyscf.gto.mole.Mole object at 0x71625d3d0950> must be initialized before calling SCF.\n",
      "Initialize <pyscf.gto.mole.Mole object at 0x71625d3d0950> in <pyscf.scf.hf.RHF object at 0x716255f76ff0>\n"
     ]
    },
    {
     "name": "stdout",
     "output_type": "stream",
     "text": [
      "converged SCF energy = -75.923433076668\n"
     ]
    },
    {
     "name": "stderr",
     "output_type": "stream",
     "text": [
      "Warning: <pyscf.gto.mole.Mole object at 0x716255dfc0b0> must be initialized before calling SCF.\n",
      "Initialize <pyscf.gto.mole.Mole object at 0x716255dfc0b0> in <pyscf.scf.hf.RHF object at 0x716255f6e1e0>\n"
     ]
    },
    {
     "name": "stdout",
     "output_type": "stream",
     "text": [
      "converged SCF energy = -75.9193001558623\n"
     ]
    },
    {
     "name": "stderr",
     "output_type": "stream",
     "text": [
      "Warning: <pyscf.gto.mole.Mole object at 0x716255e08950> must be initialized before calling SCF.\n",
      "Initialize <pyscf.gto.mole.Mole object at 0x716255e08950> in <pyscf.scf.hf.RHF object at 0x716255f76570>\n"
     ]
    },
    {
     "name": "stdout",
     "output_type": "stream",
     "text": [
      "converged SCF energy = -75.9242896207074\n"
     ]
    },
    {
     "name": "stderr",
     "output_type": "stream",
     "text": [
      "Warning: <pyscf.gto.mole.Mole object at 0x716255e0f530> must be initialized before calling SCF.\n",
      "Initialize <pyscf.gto.mole.Mole object at 0x716255e0f530> in <pyscf.scf.hf.RHF object at 0x716255dfe4b0>\n"
     ]
    },
    {
     "name": "stdout",
     "output_type": "stream",
     "text": [
      "converged SCF energy = -75.9263462773574\n"
     ]
    },
    {
     "name": "stderr",
     "output_type": "stream",
     "text": [
      "Warning: <pyscf.gto.mole.Mole object at 0x71625d3d0950> must be initialized before calling SCF.\n",
      "Initialize <pyscf.gto.mole.Mole object at 0x71625d3d0950> in <pyscf.scf.hf.RHF object at 0x716255f6e1e0>\n"
     ]
    },
    {
     "name": "stdout",
     "output_type": "stream",
     "text": [
      "converged SCF energy = -75.9201263583894\n"
     ]
    },
    {
     "name": "stderr",
     "output_type": "stream",
     "text": [
      "Warning: <pyscf.gto.mole.Mole object at 0x716255f70bf0> must be initialized before calling SCF.\n",
      "Initialize <pyscf.gto.mole.Mole object at 0x716255f70bf0> in <pyscf.scf.hf.RHF object at 0x71625c9d8530>\n"
     ]
    },
    {
     "name": "stdout",
     "output_type": "stream",
     "text": [
      "converged SCF energy = -75.9250088291742\n"
     ]
    },
    {
     "name": "stderr",
     "output_type": "stream",
     "text": [
      "Warning: <pyscf.gto.mole.Mole object at 0x71625d3d0950> must be initialized before calling SCF.\n",
      "Initialize <pyscf.gto.mole.Mole object at 0x71625d3d0950> in <pyscf.scf.hf.RHF object at 0x716255e0fcb0>\n"
     ]
    },
    {
     "name": "stdout",
     "output_type": "stream",
     "text": [
      "converged SCF energy = -75.9209363738678\n"
     ]
    },
    {
     "name": "stderr",
     "output_type": "stream",
     "text": [
      "Warning: <pyscf.gto.mole.Mole object at 0x716255e0e2a0> must be initialized before calling SCF.\n",
      "Initialize <pyscf.gto.mole.Mole object at 0x716255e0e2a0> in <pyscf.scf.hf.RHF object at 0x716255f6e300>\n"
     ]
    },
    {
     "name": "stdout",
     "output_type": "stream",
     "text": [
      "converged SCF energy = -75.9197207558801\n"
     ]
    },
    {
     "name": "stderr",
     "output_type": "stream",
     "text": [
      "Warning: <pyscf.gto.mole.Mole object at 0x716255dfe4b0> must be initialized before calling SCF.\n",
      "Initialize <pyscf.gto.mole.Mole object at 0x716255dfe4b0> in <pyscf.scf.hf.RHF object at 0x71625d3d0950>\n"
     ]
    },
    {
     "name": "stdout",
     "output_type": "stream",
     "text": [
      "converged SCF energy = -75.9273442323834\n"
     ]
    },
    {
     "name": "stderr",
     "output_type": "stream",
     "text": [
      "Warning: <pyscf.gto.mole.Mole object at 0x716255e0f530> must be initialized before calling SCF.\n",
      "Initialize <pyscf.gto.mole.Mole object at 0x716255e0f530> in <pyscf.scf.hf.RHF object at 0x716255f6d700>\n"
     ]
    },
    {
     "name": "stdout",
     "output_type": "stream",
     "text": [
      "converged SCF energy = -75.9260671719831\n"
     ]
    },
    {
     "name": "stderr",
     "output_type": "stream",
     "text": [
      "Warning: <pyscf.gto.mole.Mole object at 0x71625d3d0950> must be initialized before calling SCF.\n",
      "Initialize <pyscf.gto.mole.Mole object at 0x71625d3d0950> in <pyscf.scf.hf.RHF object at 0x716255dfc140>\n"
     ]
    },
    {
     "name": "stdout",
     "output_type": "stream",
     "text": [
      "converged SCF energy = -75.9260960438706\n"
     ]
    },
    {
     "name": "stderr",
     "output_type": "stream",
     "text": [
      "Warning: <pyscf.gto.mole.Mole object at 0x716255f6df70> must be initialized before calling SCF.\n",
      "Initialize <pyscf.gto.mole.Mole object at 0x716255f6df70> in <pyscf.scf.hf.RHF object at 0x716255f6f020>\n"
     ]
    },
    {
     "name": "stdout",
     "output_type": "stream",
     "text": [
      "converged SCF energy = -75.929542974684\n"
     ]
    },
    {
     "name": "stderr",
     "output_type": "stream",
     "text": [
      "Warning: <pyscf.gto.mole.Mole object at 0x716255e08950> must be initialized before calling SCF.\n",
      "Initialize <pyscf.gto.mole.Mole object at 0x716255e08950> in <pyscf.scf.hf.RHF object at 0x7162587362a0>\n"
     ]
    },
    {
     "name": "stdout",
     "output_type": "stream",
     "text": [
      "converged SCF energy = -75.9271919370278\n"
     ]
    },
    {
     "name": "stderr",
     "output_type": "stream",
     "text": [
      "Warning: <pyscf.gto.mole.Mole object at 0x716255f70bf0> must be initialized before calling SCF.\n",
      "Initialize <pyscf.gto.mole.Mole object at 0x716255f70bf0> in <pyscf.scf.hf.RHF object at 0x716255e0f8f0>\n"
     ]
    },
    {
     "name": "stdout",
     "output_type": "stream",
     "text": [
      "converged SCF energy = -75.9244724888052\n"
     ]
    },
    {
     "name": "stderr",
     "output_type": "stream",
     "text": [
      "Warning: <pyscf.gto.mole.Mole object at 0x716255f75bb0> must be initialized before calling SCF.\n",
      "Initialize <pyscf.gto.mole.Mole object at 0x716255f75bb0> in <pyscf.scf.hf.RHF object at 0x71625d3d0950>\n"
     ]
    },
    {
     "name": "stdout",
     "output_type": "stream",
     "text": [
      "converged SCF energy = -75.9203077462998\n"
     ]
    },
    {
     "name": "stderr",
     "output_type": "stream",
     "text": [
      "Warning: <pyscf.gto.mole.Mole object at 0x716255f6fec0> must be initialized before calling SCF.\n",
      "Initialize <pyscf.gto.mole.Mole object at 0x716255f6fec0> in <pyscf.scf.hf.RHF object at 0x716255f6e690>\n"
     ]
    },
    {
     "name": "stdout",
     "output_type": "stream",
     "text": [
      "converged SCF energy = -75.9265462527321\n"
     ]
    },
    {
     "name": "stderr",
     "output_type": "stream",
     "text": [
      "Warning: <pyscf.gto.mole.Mole object at 0x71625d3d0950> must be initialized before calling SCF.\n",
      "Initialize <pyscf.gto.mole.Mole object at 0x71625d3d0950> in <pyscf.scf.hf.RHF object at 0x716255e0fcb0>\n"
     ]
    },
    {
     "name": "stdout",
     "output_type": "stream",
     "text": [
      "converged SCF energy = -75.9264199357943\n"
     ]
    },
    {
     "name": "stderr",
     "output_type": "stream",
     "text": [
      "Warning: <pyscf.gto.mole.Mole object at 0x716255e0f0b0> must be initialized before calling SCF.\n",
      "Initialize <pyscf.gto.mole.Mole object at 0x716255e0f0b0> in <pyscf.scf.hf.RHF object at 0x716255f6e2a0>\n"
     ]
    },
    {
     "name": "stdout",
     "output_type": "stream",
     "text": [
      "converged SCF energy = -75.9233831639835\n"
     ]
    },
    {
     "name": "stderr",
     "output_type": "stream",
     "text": [
      "Warning: <pyscf.gto.mole.Mole object at 0x716255dfc3e0> must be initialized before calling SCF.\n",
      "Initialize <pyscf.gto.mole.Mole object at 0x716255dfc3e0> in <pyscf.scf.hf.RHF object at 0x71625d3d0950>\n"
     ]
    },
    {
     "name": "stdout",
     "output_type": "stream",
     "text": [
      "converged SCF energy = -75.9228326278053\n"
     ]
    },
    {
     "name": "stderr",
     "output_type": "stream",
     "text": [
      "Warning: <pyscf.gto.mole.Mole object at 0x716255e0ecc0> must be initialized before calling SCF.\n",
      "Initialize <pyscf.gto.mole.Mole object at 0x716255e0ecc0> in <pyscf.scf.hf.RHF object at 0x716255f6f410>\n"
     ]
    },
    {
     "name": "stdout",
     "output_type": "stream",
     "text": [
      "converged SCF energy = -75.9289036985821\n"
     ]
    },
    {
     "name": "stderr",
     "output_type": "stream",
     "text": [
      "Warning: <pyscf.gto.mole.Mole object at 0x71625d3d0950> must be initialized before calling SCF.\n",
      "Initialize <pyscf.gto.mole.Mole object at 0x71625d3d0950> in <pyscf.scf.hf.RHF object at 0x716255f6ebd0>\n"
     ]
    },
    {
     "name": "stdout",
     "output_type": "stream",
     "text": [
      "converged SCF energy = -75.9240966683059\n"
     ]
    },
    {
     "name": "stderr",
     "output_type": "stream",
     "text": [
      "Warning: <pyscf.gto.mole.Mole object at 0x716255f772f0> must be initialized before calling SCF.\n",
      "Initialize <pyscf.gto.mole.Mole object at 0x716255f772f0> in <pyscf.scf.hf.RHF object at 0x716255f6d910>\n"
     ]
    },
    {
     "name": "stdout",
     "output_type": "stream",
     "text": [
      "converged SCF energy = -75.9258266684744\n"
     ]
    },
    {
     "name": "stderr",
     "output_type": "stream",
     "text": [
      "Warning: <pyscf.gto.mole.Mole object at 0x71625d3d0950> must be initialized before calling SCF.\n",
      "Initialize <pyscf.gto.mole.Mole object at 0x71625d3d0950> in <pyscf.scf.hf.RHF object at 0x716255f6f380>\n"
     ]
    },
    {
     "name": "stdout",
     "output_type": "stream",
     "text": [
      "converged SCF energy = -75.9272528870147\n"
     ]
    },
    {
     "name": "stderr",
     "output_type": "stream",
     "text": [
      "Warning: <pyscf.gto.mole.Mole object at 0x716255e0f0b0> must be initialized before calling SCF.\n",
      "Initialize <pyscf.gto.mole.Mole object at 0x716255e0f0b0> in <pyscf.scf.hf.RHF object at 0x716255f6f260>\n"
     ]
    },
    {
     "name": "stdout",
     "output_type": "stream",
     "text": [
      "converged SCF energy = -75.9254167054614\n"
     ]
    },
    {
     "name": "stderr",
     "output_type": "stream",
     "text": [
      "Warning: <pyscf.gto.mole.Mole object at 0x716255f76570> must be initialized before calling SCF.\n",
      "Initialize <pyscf.gto.mole.Mole object at 0x716255f76570> in <pyscf.scf.hf.RHF object at 0x71625d3d0950>\n"
     ]
    },
    {
     "name": "stdout",
     "output_type": "stream",
     "text": [
      "converged SCF energy = -75.925423452779\n"
     ]
    },
    {
     "name": "stderr",
     "output_type": "stream",
     "text": [
      "Warning: <pyscf.gto.mole.Mole object at 0x716255e0a4b0> must be initialized before calling SCF.\n",
      "Initialize <pyscf.gto.mole.Mole object at 0x716255e0a4b0> in <pyscf.scf.hf.RHF object at 0x716255f6f260>\n"
     ]
    },
    {
     "name": "stdout",
     "output_type": "stream",
     "text": [
      "converged SCF energy = -75.9227694867376\n"
     ]
    },
    {
     "name": "stderr",
     "output_type": "stream",
     "text": [
      "Warning: <pyscf.gto.mole.Mole object at 0x716255e06780> must be initialized before calling SCF.\n",
      "Initialize <pyscf.gto.mole.Mole object at 0x716255e06780> in <pyscf.scf.hf.RHF object at 0x71625d3d0950>\n"
     ]
    },
    {
     "name": "stdout",
     "output_type": "stream",
     "text": [
      "converged SCF energy = -75.9217929066589\n"
     ]
    },
    {
     "name": "stderr",
     "output_type": "stream",
     "text": [
      "Warning: <pyscf.gto.mole.Mole object at 0x716255f76cc0> must be initialized before calling SCF.\n",
      "Initialize <pyscf.gto.mole.Mole object at 0x716255f76cc0> in <pyscf.scf.hf.RHF object at 0x716255f6f260>\n"
     ]
    },
    {
     "name": "stdout",
     "output_type": "stream",
     "text": [
      "converged SCF energy = -75.9233687189209\n"
     ]
    },
    {
     "name": "stderr",
     "output_type": "stream",
     "text": [
      "Warning: <pyscf.gto.mole.Mole object at 0x716255e07560> must be initialized before calling SCF.\n",
      "Initialize <pyscf.gto.mole.Mole object at 0x716255e07560> in <pyscf.scf.hf.RHF object at 0x71625d3d0950>\n"
     ]
    },
    {
     "name": "stdout",
     "output_type": "stream",
     "text": [
      "converged SCF energy = -75.9241064432612\n"
     ]
    },
    {
     "name": "stderr",
     "output_type": "stream",
     "text": [
      "Warning: <pyscf.gto.mole.Mole object at 0x7162c45aeae0> must be initialized before calling SCF.\n",
      "Initialize <pyscf.gto.mole.Mole object at 0x7162c45aeae0> in <pyscf.scf.hf.RHF object at 0x716255f6f260>\n"
     ]
    },
    {
     "name": "stdout",
     "output_type": "stream",
     "text": [
      "converged SCF energy = -75.9194173143409\n"
     ]
    },
    {
     "name": "stderr",
     "output_type": "stream",
     "text": [
      "Warning: <pyscf.gto.mole.Mole object at 0x7162589d8860> must be initialized before calling SCF.\n",
      "Initialize <pyscf.gto.mole.Mole object at 0x7162589d8860> in <pyscf.scf.hf.RHF object at 0x716255e0f8f0>\n"
     ]
    },
    {
     "name": "stdout",
     "output_type": "stream",
     "text": [
      "converged SCF energy = -75.9272731578979\n"
     ]
    },
    {
     "name": "stderr",
     "output_type": "stream",
     "text": [
      "Warning: <pyscf.gto.mole.Mole object at 0x716255e0e2d0> must be initialized before calling SCF.\n",
      "Initialize <pyscf.gto.mole.Mole object at 0x716255e0e2d0> in <pyscf.scf.hf.RHF object at 0x716255f6f260>\n"
     ]
    },
    {
     "name": "stdout",
     "output_type": "stream",
     "text": [
      "converged SCF energy = -75.9223195682205\n"
     ]
    },
    {
     "name": "stderr",
     "output_type": "stream",
     "text": [
      "Warning: <pyscf.gto.mole.Mole object at 0x716255f77530> must be initialized before calling SCF.\n",
      "Initialize <pyscf.gto.mole.Mole object at 0x716255f77530> in <pyscf.scf.hf.RHF object at 0x716255dfc140>\n"
     ]
    },
    {
     "name": "stdout",
     "output_type": "stream",
     "text": [
      "converged SCF energy = -75.9227690186687\n"
     ]
    },
    {
     "name": "stderr",
     "output_type": "stream",
     "text": [
      "Warning: <pyscf.gto.mole.Mole object at 0x71625d3d0950> must be initialized before calling SCF.\n",
      "Initialize <pyscf.gto.mole.Mole object at 0x71625d3d0950> in <pyscf.scf.hf.RHF object at 0x71625c9d8530>\n"
     ]
    },
    {
     "name": "stdout",
     "output_type": "stream",
     "text": [
      "converged SCF energy = -75.9253610797791\n"
     ]
    },
    {
     "name": "stderr",
     "output_type": "stream",
     "text": [
      "Warning: <pyscf.gto.mole.Mole object at 0x716255e0ecc0> must be initialized before calling SCF.\n",
      "Initialize <pyscf.gto.mole.Mole object at 0x716255e0ecc0> in <pyscf.scf.hf.RHF object at 0x716255e0f260>\n"
     ]
    },
    {
     "name": "stdout",
     "output_type": "stream",
     "text": [
      "converged SCF energy = -75.923888909258\n"
     ]
    },
    {
     "name": "stderr",
     "output_type": "stream",
     "text": [
      "Warning: <pyscf.gto.mole.Mole object at 0x716255dfc140> must be initialized before calling SCF.\n",
      "Initialize <pyscf.gto.mole.Mole object at 0x716255dfc140> in <pyscf.scf.hf.RHF object at 0x71625d3d0950>\n"
     ]
    },
    {
     "name": "stdout",
     "output_type": "stream",
     "text": [
      "converged SCF energy = -75.9257923610933\n"
     ]
    },
    {
     "name": "stderr",
     "output_type": "stream",
     "text": [
      "Warning: <pyscf.gto.mole.Mole object at 0x716255e0f260> must be initialized before calling SCF.\n",
      "Initialize <pyscf.gto.mole.Mole object at 0x716255e0f260> in <pyscf.scf.hf.RHF object at 0x716255f6d700>\n"
     ]
    },
    {
     "name": "stdout",
     "output_type": "stream",
     "text": [
      "converged SCF energy = -75.9241427462502\n"
     ]
    },
    {
     "name": "stderr",
     "output_type": "stream",
     "text": [
      "Warning: <pyscf.gto.mole.Mole object at 0x716255f76000> must be initialized before calling SCF.\n",
      "Initialize <pyscf.gto.mole.Mole object at 0x716255f76000> in <pyscf.scf.hf.RHF object at 0x716255dfc140>\n"
     ]
    },
    {
     "name": "stdout",
     "output_type": "stream",
     "text": [
      "converged SCF energy = -75.9224959558338\n"
     ]
    },
    {
     "name": "stderr",
     "output_type": "stream",
     "text": [
      "Warning: <pyscf.gto.mole.Mole object at 0x716255f74890> must be initialized before calling SCF.\n",
      "Initialize <pyscf.gto.mole.Mole object at 0x716255f74890> in <pyscf.scf.hf.RHF object at 0x716255f6e330>\n"
     ]
    },
    {
     "name": "stdout",
     "output_type": "stream",
     "text": [
      "converged SCF energy = -75.9257199324811\n"
     ]
    },
    {
     "name": "stderr",
     "output_type": "stream",
     "text": [
      "Warning: <pyscf.gto.mole.Mole object at 0x716255f77530> must be initialized before calling SCF.\n",
      "Initialize <pyscf.gto.mole.Mole object at 0x716255f77530> in <pyscf.scf.hf.RHF object at 0x716255e0f260>\n"
     ]
    },
    {
     "name": "stdout",
     "output_type": "stream",
     "text": [
      "converged SCF energy = -75.9236288675004\n"
     ]
    },
    {
     "name": "stderr",
     "output_type": "stream",
     "text": [
      "Warning: <pyscf.gto.mole.Mole object at 0x716255dfc140> must be initialized before calling SCF.\n",
      "Initialize <pyscf.gto.mole.Mole object at 0x716255dfc140> in <pyscf.scf.hf.RHF object at 0x716255f6ef60>\n"
     ]
    },
    {
     "name": "stdout",
     "output_type": "stream",
     "text": [
      "converged SCF energy = -75.9233703028746\n"
     ]
    },
    {
     "name": "stderr",
     "output_type": "stream",
     "text": [
      "Warning: <pyscf.gto.mole.Mole object at 0x716255ef4200> must be initialized before calling SCF.\n",
      "Initialize <pyscf.gto.mole.Mole object at 0x716255ef4200> in <pyscf.scf.hf.RHF object at 0x716255ef40b0>\n"
     ]
    },
    {
     "name": "stdout",
     "output_type": "stream",
     "text": [
      "converged SCF energy = -75.9241238340806\n"
     ]
    },
    {
     "name": "stderr",
     "output_type": "stream",
     "text": [
      "Warning: <pyscf.gto.mole.Mole object at 0x716255dfef60> must be initialized before calling SCF.\n",
      "Initialize <pyscf.gto.mole.Mole object at 0x716255dfef60> in <pyscf.scf.hf.RHF object at 0x716255dfc140>\n"
     ]
    },
    {
     "name": "stdout",
     "output_type": "stream",
     "text": [
      "converged SCF energy = -75.9248632794295\n"
     ]
    },
    {
     "name": "stderr",
     "output_type": "stream",
     "text": [
      "Warning: <pyscf.gto.mole.Mole object at 0x716255ef5ee0> must be initialized before calling SCF.\n",
      "Initialize <pyscf.gto.mole.Mole object at 0x716255ef5ee0> in <pyscf.scf.hf.RHF object at 0x716255ef40b0>\n"
     ]
    },
    {
     "name": "stdout",
     "output_type": "stream",
     "text": [
      "converged SCF energy = -75.9199999644314\n"
     ]
    },
    {
     "name": "stderr",
     "output_type": "stream",
     "text": [
      "Warning: <pyscf.gto.mole.Mole object at 0x716255e08950> must be initialized before calling SCF.\n",
      "Initialize <pyscf.gto.mole.Mole object at 0x716255e08950> in <pyscf.scf.hf.RHF object at 0x716255f6e900>\n"
     ]
    },
    {
     "name": "stdout",
     "output_type": "stream",
     "text": [
      "converged SCF energy = -75.924726001119\n"
     ]
    },
    {
     "name": "stderr",
     "output_type": "stream",
     "text": [
      "Warning: <pyscf.gto.mole.Mole object at 0x716255e0f530> must be initialized before calling SCF.\n",
      "Initialize <pyscf.gto.mole.Mole object at 0x716255e0f530> in <pyscf.scf.hf.RHF object at 0x716255ef70b0>\n"
     ]
    },
    {
     "name": "stdout",
     "output_type": "stream",
     "text": [
      "converged SCF energy = -75.9253979817172\n"
     ]
    },
    {
     "name": "stderr",
     "output_type": "stream",
     "text": [
      "Warning: <pyscf.gto.mole.Mole object at 0x71625d3d0950> must be initialized before calling SCF.\n",
      "Initialize <pyscf.gto.mole.Mole object at 0x71625d3d0950> in <pyscf.scf.hf.RHF object at 0x716257afae40>\n"
     ]
    },
    {
     "name": "stdout",
     "output_type": "stream",
     "text": [
      "converged SCF energy = -75.9239080639165\n"
     ]
    },
    {
     "name": "stderr",
     "output_type": "stream",
     "text": [
      "Warning: <pyscf.gto.mole.Mole object at 0x716255e0e3f0> must be initialized before calling SCF.\n",
      "Initialize <pyscf.gto.mole.Mole object at 0x716255e0e3f0> in <pyscf.scf.hf.RHF object at 0x716255ef6990>\n"
     ]
    },
    {
     "name": "stdout",
     "output_type": "stream",
     "text": [
      "converged SCF energy = -75.9271137377752\n"
     ]
    },
    {
     "name": "stderr",
     "output_type": "stream",
     "text": [
      "Warning: <pyscf.gto.mole.Mole object at 0x716255ef6d80> must be initialized before calling SCF.\n",
      "Initialize <pyscf.gto.mole.Mole object at 0x716255ef6d80> in <pyscf.scf.hf.RHF object at 0x716255e08950>\n"
     ]
    },
    {
     "name": "stdout",
     "output_type": "stream",
     "text": [
      "converged SCF energy = -75.921873498796\n"
     ]
    },
    {
     "name": "stderr",
     "output_type": "stream",
     "text": [
      "Warning: <pyscf.gto.mole.Mole object at 0x716255e0e9f0> must be initialized before calling SCF.\n",
      "Initialize <pyscf.gto.mole.Mole object at 0x716255e0e9f0> in <pyscf.scf.hf.RHF object at 0x716255e0f260>\n"
     ]
    },
    {
     "name": "stdout",
     "output_type": "stream",
     "text": [
      "converged SCF energy = -75.9242023036498\n"
     ]
    },
    {
     "name": "stderr",
     "output_type": "stream",
     "text": [
      "Warning: <pyscf.gto.mole.Mole object at 0x716255e08950> must be initialized before calling SCF.\n",
      "Initialize <pyscf.gto.mole.Mole object at 0x716255e08950> in <pyscf.scf.hf.RHF object at 0x716255f6e000>\n"
     ]
    },
    {
     "name": "stdout",
     "output_type": "stream",
     "text": [
      "converged SCF energy = -75.9243044036172\n"
     ]
    },
    {
     "name": "stderr",
     "output_type": "stream",
     "text": [
      "Warning: <pyscf.gto.mole.Mole object at 0x716255e0e570> must be initialized before calling SCF.\n",
      "Initialize <pyscf.gto.mole.Mole object at 0x716255e0e570> in <pyscf.scf.hf.RHF object at 0x716255e0f260>\n"
     ]
    },
    {
     "name": "stdout",
     "output_type": "stream",
     "text": [
      "converged SCF energy = -75.9231431967862\n"
     ]
    },
    {
     "name": "stderr",
     "output_type": "stream",
     "text": [
      "Warning: <pyscf.gto.mole.Mole object at 0x716255e08950> must be initialized before calling SCF.\n",
      "Initialize <pyscf.gto.mole.Mole object at 0x716255e08950> in <pyscf.scf.hf.RHF object at 0x716255e0fcb0>\n"
     ]
    },
    {
     "name": "stdout",
     "output_type": "stream",
     "text": [
      "converged SCF energy = -75.9249628908913\n"
     ]
    },
    {
     "name": "stderr",
     "output_type": "stream",
     "text": [
      "Warning: <pyscf.gto.mole.Mole object at 0x716255ef5910> must be initialized before calling SCF.\n",
      "Initialize <pyscf.gto.mole.Mole object at 0x716255ef5910> in <pyscf.scf.hf.RHF object at 0x716255f6dbb0>\n"
     ]
    },
    {
     "name": "stdout",
     "output_type": "stream",
     "text": [
      "converged SCF energy = -75.9236737607243\n"
     ]
    },
    {
     "name": "stderr",
     "output_type": "stream",
     "text": [
      "Warning: <pyscf.gto.mole.Mole object at 0x716255e08950> must be initialized before calling SCF.\n",
      "Initialize <pyscf.gto.mole.Mole object at 0x716255e08950> in <pyscf.scf.hf.RHF object at 0x716255e0a4b0>\n"
     ]
    },
    {
     "name": "stdout",
     "output_type": "stream",
     "text": [
      "converged SCF energy = -75.9260048168245\n"
     ]
    },
    {
     "name": "stderr",
     "output_type": "stream",
     "text": [
      "Warning: <pyscf.gto.mole.Mole object at 0x716255ef6f30> must be initialized before calling SCF.\n",
      "Initialize <pyscf.gto.mole.Mole object at 0x716255ef6f30> in <pyscf.scf.hf.RHF object at 0x716255e0f260>\n"
     ]
    },
    {
     "name": "stdout",
     "output_type": "stream",
     "text": [
      "converged SCF energy = -75.9241260815692\n"
     ]
    },
    {
     "name": "stderr",
     "output_type": "stream",
     "text": [
      "Warning: <pyscf.gto.mole.Mole object at 0x716255e0ff50> must be initialized before calling SCF.\n",
      "Initialize <pyscf.gto.mole.Mole object at 0x716255e0ff50> in <pyscf.scf.hf.RHF object at 0x716255e08950>\n"
     ]
    },
    {
     "name": "stdout",
     "output_type": "stream",
     "text": [
      "converged SCF energy = -75.9252224183131\n"
     ]
    },
    {
     "name": "stderr",
     "output_type": "stream",
     "text": [
      "Warning: <pyscf.gto.mole.Mole object at 0x716255f6f0b0> must be initialized before calling SCF.\n",
      "Initialize <pyscf.gto.mole.Mole object at 0x716255f6f0b0> in <pyscf.scf.hf.RHF object at 0x716255f6f260>\n"
     ]
    },
    {
     "name": "stdout",
     "output_type": "stream",
     "text": [
      "converged SCF energy = -75.9190034376941\n"
     ]
    },
    {
     "name": "stderr",
     "output_type": "stream",
     "text": [
      "Warning: <pyscf.gto.mole.Mole object at 0x716255ef70b0> must be initialized before calling SCF.\n",
      "Initialize <pyscf.gto.mole.Mole object at 0x716255ef70b0> in <pyscf.scf.hf.RHF object at 0x71625c9d8530>\n"
     ]
    },
    {
     "name": "stdout",
     "output_type": "stream",
     "text": [
      "converged SCF energy = -75.9207471594369\n"
     ]
    },
    {
     "name": "stderr",
     "output_type": "stream",
     "text": [
      "Warning: <pyscf.gto.mole.Mole object at 0x716255e08950> must be initialized before calling SCF.\n",
      "Initialize <pyscf.gto.mole.Mole object at 0x716255e08950> in <pyscf.scf.hf.RHF object at 0x716255f6f260>\n"
     ]
    },
    {
     "name": "stdout",
     "output_type": "stream",
     "text": [
      "converged SCF energy = -75.924331188699\n"
     ]
    },
    {
     "name": "stderr",
     "output_type": "stream",
     "text": [
      "Warning: <pyscf.gto.mole.Mole object at 0x716255e0ff50> must be initialized before calling SCF.\n",
      "Initialize <pyscf.gto.mole.Mole object at 0x716255e0ff50> in <pyscf.scf.hf.RHF object at 0x716255f6e4b0>\n"
     ]
    },
    {
     "name": "stdout",
     "output_type": "stream",
     "text": [
      "converged SCF energy = -75.9249801760017\n"
     ]
    },
    {
     "name": "stderr",
     "output_type": "stream",
     "text": [
      "Warning: <pyscf.gto.mole.Mole object at 0x716255f6f0b0> must be initialized before calling SCF.\n",
      "Initialize <pyscf.gto.mole.Mole object at 0x716255f6f0b0> in <pyscf.scf.hf.RHF object at 0x716255f6f260>\n"
     ]
    },
    {
     "name": "stdout",
     "output_type": "stream",
     "text": [
      "converged SCF energy = -75.9248105643701\n"
     ]
    },
    {
     "name": "stderr",
     "output_type": "stream",
     "text": [
      "Warning: <pyscf.gto.mole.Mole object at 0x716255ef74d0> must be initialized before calling SCF.\n",
      "Initialize <pyscf.gto.mole.Mole object at 0x716255ef74d0> in <pyscf.scf.hf.RHF object at 0x716255f6e330>\n"
     ]
    },
    {
     "name": "stdout",
     "output_type": "stream",
     "text": [
      "converged SCF energy = -75.9229733707451\n"
     ]
    },
    {
     "name": "stderr",
     "output_type": "stream",
     "text": [
      "Warning: <pyscf.gto.mole.Mole object at 0x716255f6f380> must be initialized before calling SCF.\n",
      "Initialize <pyscf.gto.mole.Mole object at 0x716255f6f380> in <pyscf.scf.hf.RHF object at 0x716255f6f980>\n"
     ]
    },
    {
     "name": "stdout",
     "output_type": "stream",
     "text": [
      "converged SCF energy = -75.9246119086944\n"
     ]
    },
    {
     "name": "stderr",
     "output_type": "stream",
     "text": [
      "Warning: <pyscf.gto.mole.Mole object at 0x716255e0e900> must be initialized before calling SCF.\n",
      "Initialize <pyscf.gto.mole.Mole object at 0x716255e0e900> in <pyscf.scf.hf.RHF object at 0x716255e0ff50>\n"
     ]
    },
    {
     "name": "stdout",
     "output_type": "stream",
     "text": [
      "converged SCF energy = -75.9211054639926\n"
     ]
    },
    {
     "name": "stderr",
     "output_type": "stream",
     "text": [
      "Warning: <pyscf.gto.mole.Mole object at 0x716255f6d340> must be initialized before calling SCF.\n",
      "Initialize <pyscf.gto.mole.Mole object at 0x716255f6d340> in <pyscf.scf.hf.RHF object at 0x71625c9d8530>\n"
     ]
    },
    {
     "name": "stdout",
     "output_type": "stream",
     "text": [
      "converged SCF energy = -75.9229591671522\n"
     ]
    },
    {
     "name": "stderr",
     "output_type": "stream",
     "text": [
      "Warning: <pyscf.gto.mole.Mole object at 0x716255e08950> must be initialized before calling SCF.\n",
      "Initialize <pyscf.gto.mole.Mole object at 0x716255e08950> in <pyscf.scf.hf.RHF object at 0x716255e0ed80>\n"
     ]
    },
    {
     "name": "stdout",
     "output_type": "stream",
     "text": [
      "converged SCF energy = -75.9273547550144\n"
     ]
    },
    {
     "name": "stderr",
     "output_type": "stream",
     "text": [
      "Warning: <pyscf.gto.mole.Mole object at 0x716255e0f1a0> must be initialized before calling SCF.\n",
      "Initialize <pyscf.gto.mole.Mole object at 0x716255e0f1a0> in <pyscf.scf.hf.RHF object at 0x716255ef6c30>\n"
     ]
    },
    {
     "name": "stdout",
     "output_type": "stream",
     "text": [
      "converged SCF energy = -75.9217793119058\n"
     ]
    },
    {
     "name": "stderr",
     "output_type": "stream",
     "text": [
      "Warning: <pyscf.gto.mole.Mole object at 0x716255e08950> must be initialized before calling SCF.\n",
      "Initialize <pyscf.gto.mole.Mole object at 0x716255e08950> in <pyscf.scf.hf.RHF object at 0x716255e0f320>\n"
     ]
    },
    {
     "name": "stdout",
     "output_type": "stream",
     "text": [
      "converged SCF energy = -75.9239801987279\n"
     ]
    },
    {
     "name": "stderr",
     "output_type": "stream",
     "text": [
      "Warning: <pyscf.gto.mole.Mole object at 0x7162587aaa50> must be initialized before calling SCF.\n",
      "Initialize <pyscf.gto.mole.Mole object at 0x7162587aaa50> in <pyscf.scf.hf.RHF object at 0x716255dfc0e0>\n"
     ]
    },
    {
     "name": "stdout",
     "output_type": "stream",
     "text": [
      "converged SCF energy = -75.9257164360982\n"
     ]
    },
    {
     "name": "stderr",
     "output_type": "stream",
     "text": [
      "Warning: <pyscf.gto.mole.Mole object at 0x716255e08950> must be initialized before calling SCF.\n",
      "Initialize <pyscf.gto.mole.Mole object at 0x716255e08950> in <pyscf.scf.hf.RHF object at 0x716255e0fb00>\n"
     ]
    },
    {
     "name": "stdout",
     "output_type": "stream",
     "text": [
      "converged SCF energy = -75.921446601069\n"
     ]
    },
    {
     "name": "stderr",
     "output_type": "stream",
     "text": [
      "Warning: <pyscf.gto.mole.Mole object at 0x716255ef6540> must be initialized before calling SCF.\n",
      "Initialize <pyscf.gto.mole.Mole object at 0x716255ef6540> in <pyscf.scf.hf.RHF object at 0x716255dfc140>\n"
     ]
    },
    {
     "name": "stdout",
     "output_type": "stream",
     "text": [
      "converged SCF energy = -75.9252939958169\n"
     ]
    },
    {
     "name": "stderr",
     "output_type": "stream",
     "text": [
      "Warning: <pyscf.gto.mole.Mole object at 0x716255ef40e0> must be initialized before calling SCF.\n",
      "Initialize <pyscf.gto.mole.Mole object at 0x716255ef40e0> in <pyscf.scf.hf.RHF object at 0x71625d3d0950>\n"
     ]
    },
    {
     "name": "stdout",
     "output_type": "stream",
     "text": [
      "converged SCF energy = -75.9230251608252\n"
     ]
    },
    {
     "name": "stderr",
     "output_type": "stream",
     "text": [
      "Warning: <pyscf.gto.mole.Mole object at 0x716255ef7920> must be initialized before calling SCF.\n",
      "Initialize <pyscf.gto.mole.Mole object at 0x716255ef7920> in <pyscf.scf.hf.RHF object at 0x716255ef4260>\n"
     ]
    },
    {
     "name": "stdout",
     "output_type": "stream",
     "text": [
      "converged SCF energy = -75.9217097716966\n"
     ]
    },
    {
     "name": "stderr",
     "output_type": "stream",
     "text": [
      "Warning: <pyscf.gto.mole.Mole object at 0x716255dfd670> must be initialized before calling SCF.\n",
      "Initialize <pyscf.gto.mole.Mole object at 0x716255dfd670> in <pyscf.scf.hf.RHF object at 0x716255edda00>\n"
     ]
    },
    {
     "name": "stdout",
     "output_type": "stream",
     "text": [
      "converged SCF energy = -75.9218336243027\n"
     ]
    },
    {
     "name": "stderr",
     "output_type": "stream",
     "text": [
      "Warning: <pyscf.gto.mole.Mole object at 0x716255edc260> must be initialized before calling SCF.\n",
      "Initialize <pyscf.gto.mole.Mole object at 0x716255edc260> in <pyscf.scf.hf.RHF object at 0x716255dfc140>\n"
     ]
    },
    {
     "name": "stdout",
     "output_type": "stream",
     "text": [
      "converged SCF energy = -75.9260792353851\n"
     ]
    },
    {
     "name": "stderr",
     "output_type": "stream",
     "text": [
      "Warning: <pyscf.gto.mole.Mole object at 0x716255edf1a0> must be initialized before calling SCF.\n",
      "Initialize <pyscf.gto.mole.Mole object at 0x716255edf1a0> in <pyscf.scf.hf.RHF object at 0x7162587aa4b0>\n"
     ]
    },
    {
     "name": "stdout",
     "output_type": "stream",
     "text": [
      "converged SCF energy = -75.9254155680564\n"
     ]
    },
    {
     "name": "stderr",
     "output_type": "stream",
     "text": [
      "Warning: <pyscf.gto.mole.Mole object at 0x716255edc260> must be initialized before calling SCF.\n",
      "Initialize <pyscf.gto.mole.Mole object at 0x716255edc260> in <pyscf.scf.hf.RHF object at 0x716255edc1d0>\n"
     ]
    },
    {
     "name": "stdout",
     "output_type": "stream",
     "text": [
      "converged SCF energy = -75.9293146936566\n"
     ]
    },
    {
     "name": "stderr",
     "output_type": "stream",
     "text": [
      "Warning: <pyscf.gto.mole.Mole object at 0x716255e0f1a0> must be initialized before calling SCF.\n",
      "Initialize <pyscf.gto.mole.Mole object at 0x716255e0f1a0> in <pyscf.scf.hf.RHF object at 0x716255f6e4b0>\n"
     ]
    },
    {
     "name": "stdout",
     "output_type": "stream",
     "text": [
      "converged SCF energy = -75.9216898284833\n"
     ]
    },
    {
     "name": "stderr",
     "output_type": "stream",
     "text": [
      "Warning: <pyscf.gto.mole.Mole object at 0x716256abd1f0> must be initialized before calling SCF.\n",
      "Initialize <pyscf.gto.mole.Mole object at 0x716256abd1f0> in <pyscf.scf.hf.RHF object at 0x716255dfc140>\n"
     ]
    },
    {
     "name": "stdout",
     "output_type": "stream",
     "text": [
      "converged SCF energy = -75.9243940774253\n"
     ]
    },
    {
     "name": "stderr",
     "output_type": "stream",
     "text": [
      "Warning: <pyscf.gto.mole.Mole object at 0x716255f6d7f0> must be initialized before calling SCF.\n",
      "Initialize <pyscf.gto.mole.Mole object at 0x716255f6d7f0> in <pyscf.scf.hf.RHF object at 0x716255edc170>\n"
     ]
    },
    {
     "name": "stdout",
     "output_type": "stream",
     "text": [
      "converged SCF energy = -75.923999431015\n"
     ]
    },
    {
     "name": "stderr",
     "output_type": "stream",
     "text": [
      "Warning: <pyscf.gto.mole.Mole object at 0x716255dfc140> must be initialized before calling SCF.\n",
      "Initialize <pyscf.gto.mole.Mole object at 0x716255dfc140> in <pyscf.scf.hf.RHF object at 0x716255edd1f0>\n"
     ]
    },
    {
     "name": "stdout",
     "output_type": "stream",
     "text": [
      "converged SCF energy = -75.9216890253408\n"
     ]
    },
    {
     "name": "stderr",
     "output_type": "stream",
     "text": [
      "Warning: <pyscf.gto.mole.Mole object at 0x716255f6e390> must be initialized before calling SCF.\n",
      "Initialize <pyscf.gto.mole.Mole object at 0x716255f6e390> in <pyscf.scf.hf.RHF object at 0x716255f6d7f0>\n"
     ]
    },
    {
     "name": "stdout",
     "output_type": "stream",
     "text": [
      "converged SCF energy = -75.925380725719\n"
     ]
    },
    {
     "name": "stderr",
     "output_type": "stream",
     "text": [
      "Warning: <pyscf.gto.mole.Mole object at 0x716255edd670> must be initialized before calling SCF.\n",
      "Initialize <pyscf.gto.mole.Mole object at 0x716255edd670> in <pyscf.scf.hf.RHF object at 0x71625c9d8530>\n"
     ]
    },
    {
     "name": "stdout",
     "output_type": "stream",
     "text": [
      "converged SCF energy = -75.9231345533619\n"
     ]
    },
    {
     "name": "stderr",
     "output_type": "stream",
     "text": [
      "Warning: <pyscf.gto.mole.Mole object at 0x716255ede0c0> must be initialized before calling SCF.\n",
      "Initialize <pyscf.gto.mole.Mole object at 0x716255ede0c0> in <pyscf.scf.hf.RHF object at 0x716255f6da00>\n"
     ]
    },
    {
     "name": "stdout",
     "output_type": "stream",
     "text": [
      "converged SCF energy = -75.925800273418\n"
     ]
    },
    {
     "name": "stderr",
     "output_type": "stream",
     "text": [
      "Warning: <pyscf.gto.mole.Mole object at 0x716255edd610> must be initialized before calling SCF.\n",
      "Initialize <pyscf.gto.mole.Mole object at 0x716255edd610> in <pyscf.scf.hf.RHF object at 0x716255edd670>\n"
     ]
    },
    {
     "name": "stdout",
     "output_type": "stream",
     "text": [
      "converged SCF energy = -75.9211345117485\n"
     ]
    },
    {
     "name": "stderr",
     "output_type": "stream",
     "text": [
      "Warning: <pyscf.gto.mole.Mole object at 0x716255f6d340> must be initialized before calling SCF.\n",
      "Initialize <pyscf.gto.mole.Mole object at 0x716255f6d340> in <pyscf.scf.hf.RHF object at 0x716255f74fe0>\n"
     ]
    },
    {
     "name": "stdout",
     "output_type": "stream",
     "text": [
      "converged SCF energy = -75.9168653714832\n"
     ]
    },
    {
     "name": "stderr",
     "output_type": "stream",
     "text": [
      "Warning: <pyscf.gto.mole.Mole object at 0x716255e0f1a0> must be initialized before calling SCF.\n",
      "Initialize <pyscf.gto.mole.Mole object at 0x716255e0f1a0> in <pyscf.scf.hf.RHF object at 0x716255e0e360>\n"
     ]
    },
    {
     "name": "stdout",
     "output_type": "stream",
     "text": [
      "converged SCF energy = -75.9260267856823\n"
     ]
    },
    {
     "name": "stderr",
     "output_type": "stream",
     "text": [
      "Warning: <pyscf.gto.mole.Mole object at 0x716255f6ecc0> must be initialized before calling SCF.\n",
      "Initialize <pyscf.gto.mole.Mole object at 0x716255f6ecc0> in <pyscf.scf.hf.RHF object at 0x716255f6f620>\n"
     ]
    },
    {
     "name": "stdout",
     "output_type": "stream",
     "text": [
      "converged SCF energy = -75.9260229819755\n"
     ]
    },
    {
     "name": "stderr",
     "output_type": "stream",
     "text": [
      "Warning: <pyscf.gto.mole.Mole object at 0x716255e0fa70> must be initialized before calling SCF.\n",
      "Initialize <pyscf.gto.mole.Mole object at 0x716255e0fa70> in <pyscf.scf.hf.RHF object at 0x716255e0e390>\n"
     ]
    },
    {
     "name": "stdout",
     "output_type": "stream",
     "text": [
      "converged SCF energy = -75.9263561629709\n"
     ]
    },
    {
     "name": "stderr",
     "output_type": "stream",
     "text": [
      "Warning: <pyscf.gto.mole.Mole object at 0x716255f6e000> must be initialized before calling SCF.\n",
      "Initialize <pyscf.gto.mole.Mole object at 0x716255f6e000> in <pyscf.scf.hf.RHF object at 0x716255f6f500>\n"
     ]
    },
    {
     "name": "stdout",
     "output_type": "stream",
     "text": [
      "converged SCF energy = -75.9190131406388\n"
     ]
    },
    {
     "name": "stderr",
     "output_type": "stream",
     "text": [
      "Warning: <pyscf.gto.mole.Mole object at 0x716255e0e7b0> must be initialized before calling SCF.\n",
      "Initialize <pyscf.gto.mole.Mole object at 0x716255e0e7b0> in <pyscf.scf.hf.RHF object at 0x716255e0e390>\n"
     ]
    },
    {
     "name": "stdout",
     "output_type": "stream",
     "text": [
      "converged SCF energy = -75.9248519513329\n"
     ]
    },
    {
     "name": "stderr",
     "output_type": "stream",
     "text": [
      "Warning: <pyscf.gto.mole.Mole object at 0x716255dfc1a0> must be initialized before calling SCF.\n",
      "Initialize <pyscf.gto.mole.Mole object at 0x716255dfc1a0> in <pyscf.scf.hf.RHF object at 0x716255f6d610>\n"
     ]
    },
    {
     "name": "stdout",
     "output_type": "stream",
     "text": [
      "converged SCF energy = -75.9200964121173\n"
     ]
    },
    {
     "name": "stderr",
     "output_type": "stream",
     "text": [
      "Warning: <pyscf.gto.mole.Mole object at 0x716255f6e810> must be initialized before calling SCF.\n",
      "Initialize <pyscf.gto.mole.Mole object at 0x716255f6e810> in <pyscf.scf.hf.RHF object at 0x716255f6e4b0>\n"
     ]
    },
    {
     "name": "stdout",
     "output_type": "stream",
     "text": [
      "converged SCF energy = -75.9230133978993\n"
     ]
    },
    {
     "name": "stderr",
     "output_type": "stream",
     "text": [
      "Warning: <pyscf.gto.mole.Mole object at 0x716255f76cc0> must be initialized before calling SCF.\n",
      "Initialize <pyscf.gto.mole.Mole object at 0x716255f76cc0> in <pyscf.scf.hf.RHF object at 0x716255f6e390>\n"
     ]
    },
    {
     "name": "stdout",
     "output_type": "stream",
     "text": [
      "converged SCF energy = -75.9207404295907\n"
     ]
    },
    {
     "name": "stderr",
     "output_type": "stream",
     "text": [
      "Warning: <pyscf.gto.mole.Mole object at 0x716255edd970> must be initialized before calling SCF.\n",
      "Initialize <pyscf.gto.mole.Mole object at 0x716255edd970> in <pyscf.scf.hf.RHF object at 0x7162560cda60>\n"
     ]
    },
    {
     "name": "stdout",
     "output_type": "stream",
     "text": [
      "converged SCF energy = -75.9253983822922\n"
     ]
    },
    {
     "name": "stderr",
     "output_type": "stream",
     "text": [
      "Warning: <pyscf.gto.mole.Mole object at 0x716255dfc1a0> must be initialized before calling SCF.\n",
      "Initialize <pyscf.gto.mole.Mole object at 0x716255dfc1a0> in <pyscf.scf.hf.RHF object at 0x716255dfe4b0>\n"
     ]
    },
    {
     "name": "stdout",
     "output_type": "stream",
     "text": [
      "converged SCF energy = -75.922372932372\n"
     ]
    },
    {
     "name": "stderr",
     "output_type": "stream",
     "text": [
      "Warning: <pyscf.gto.mole.Mole object at 0x716255dfc140> must be initialized before calling SCF.\n",
      "Initialize <pyscf.gto.mole.Mole object at 0x716255dfc140> in <pyscf.scf.hf.RHF object at 0x7162560cf260>\n"
     ]
    },
    {
     "name": "stdout",
     "output_type": "stream",
     "text": [
      "converged SCF energy = -75.9267239749436\n"
     ]
    },
    {
     "name": "stderr",
     "output_type": "stream",
     "text": [
      "Warning: <pyscf.gto.mole.Mole object at 0x716255ef74d0> must be initialized before calling SCF.\n",
      "Initialize <pyscf.gto.mole.Mole object at 0x716255ef74d0> in <pyscf.scf.hf.RHF object at 0x716255f6d7f0>\n"
     ]
    },
    {
     "name": "stdout",
     "output_type": "stream",
     "text": [
      "converged SCF energy = -75.9208811817664\n"
     ]
    },
    {
     "name": "stderr",
     "output_type": "stream",
     "text": [
      "Warning: <pyscf.gto.mole.Mole object at 0x716255f76120> must be initialized before calling SCF.\n",
      "Initialize <pyscf.gto.mole.Mole object at 0x716255f76120> in <pyscf.scf.hf.RHF object at 0x716255dfc140>\n"
     ]
    },
    {
     "name": "stdout",
     "output_type": "stream",
     "text": [
      "converged SCF energy = -75.9228736227819\n"
     ]
    },
    {
     "name": "stderr",
     "output_type": "stream",
     "text": [
      "Warning: <pyscf.gto.mole.Mole object at 0x716255ef6f30> must be initialized before calling SCF.\n",
      "Initialize <pyscf.gto.mole.Mole object at 0x716255ef6f30> in <pyscf.scf.hf.RHF object at 0x716255f6d040>\n"
     ]
    },
    {
     "name": "stdout",
     "output_type": "stream",
     "text": [
      "converged SCF energy = -75.920964785905\n"
     ]
    },
    {
     "name": "stderr",
     "output_type": "stream",
     "text": [
      "Warning: <pyscf.gto.mole.Mole object at 0x716255f6d160> must be initialized before calling SCF.\n",
      "Initialize <pyscf.gto.mole.Mole object at 0x716255f6d160> in <pyscf.scf.hf.RHF object at 0x716255dfc140>\n"
     ]
    },
    {
     "name": "stdout",
     "output_type": "stream",
     "text": [
      "converged SCF energy = -75.9233865333514\n"
     ]
    },
    {
     "name": "stderr",
     "output_type": "stream",
     "text": [
      "Warning: <pyscf.gto.mole.Mole object at 0x716255e0ef30> must be initialized before calling SCF.\n",
      "Initialize <pyscf.gto.mole.Mole object at 0x716255e0ef30> in <pyscf.scf.hf.RHF object at 0x716255f755e0>\n"
     ]
    },
    {
     "name": "stdout",
     "output_type": "stream",
     "text": [
      "converged SCF energy = -75.9265072349413\n"
     ]
    },
    {
     "name": "stderr",
     "output_type": "stream",
     "text": [
      "Warning: <pyscf.gto.mole.Mole object at 0x716255ede270> must be initialized before calling SCF.\n",
      "Initialize <pyscf.gto.mole.Mole object at 0x716255ede270> in <pyscf.scf.hf.RHF object at 0x716255edc830>\n"
     ]
    },
    {
     "name": "stdout",
     "output_type": "stream",
     "text": [
      "converged SCF energy = -75.9221596486416\n"
     ]
    },
    {
     "name": "stderr",
     "output_type": "stream",
     "text": [
      "Warning: <pyscf.gto.mole.Mole object at 0x716256aef500> must be initialized before calling SCF.\n",
      "Initialize <pyscf.gto.mole.Mole object at 0x716256aef500> in <pyscf.scf.hf.RHF object at 0x716255dfc140>\n"
     ]
    },
    {
     "name": "stdout",
     "output_type": "stream",
     "text": [
      "converged SCF energy = -75.9245577399405\n"
     ]
    },
    {
     "name": "stderr",
     "output_type": "stream",
     "text": [
      "Warning: <pyscf.gto.mole.Mole object at 0x716255dfd040> must be initialized before calling SCF.\n",
      "Initialize <pyscf.gto.mole.Mole object at 0x716255dfd040> in <pyscf.scf.hf.RHF object at 0x716255f6f680>\n"
     ]
    },
    {
     "name": "stdout",
     "output_type": "stream",
     "text": [
      "converged SCF energy = -75.9224791504453\n"
     ]
    },
    {
     "name": "stderr",
     "output_type": "stream",
     "text": [
      "Warning: <pyscf.gto.mole.Mole object at 0x716255ede0c0> must be initialized before calling SCF.\n",
      "Initialize <pyscf.gto.mole.Mole object at 0x716255ede0c0> in <pyscf.scf.hf.RHF object at 0x716255dfc140>\n"
     ]
    },
    {
     "name": "stdout",
     "output_type": "stream",
     "text": [
      "converged SCF energy = -75.9248128254387\n"
     ]
    },
    {
     "name": "stderr",
     "output_type": "stream",
     "text": [
      "Warning: <pyscf.gto.mole.Mole object at 0x716255f6d7f0> must be initialized before calling SCF.\n",
      "Initialize <pyscf.gto.mole.Mole object at 0x716255f6d7f0> in <pyscf.scf.hf.RHF object at 0x7162560cf260>\n"
     ]
    },
    {
     "name": "stdout",
     "output_type": "stream",
     "text": [
      "converged SCF energy = -75.9205013637115\n"
     ]
    },
    {
     "name": "stderr",
     "output_type": "stream",
     "text": [
      "Warning: <pyscf.gto.mole.Mole object at 0x716255ef6c30> must be initialized before calling SCF.\n",
      "Initialize <pyscf.gto.mole.Mole object at 0x716255ef6c30> in <pyscf.scf.hf.RHF object at 0x716255dfc140>\n"
     ]
    },
    {
     "name": "stdout",
     "output_type": "stream",
     "text": [
      "converged SCF energy = -75.9266552214671\n"
     ]
    },
    {
     "name": "stderr",
     "output_type": "stream",
     "text": [
      "Warning: <pyscf.gto.mole.Mole object at 0x716256aef500> must be initialized before calling SCF.\n",
      "Initialize <pyscf.gto.mole.Mole object at 0x716256aef500> in <pyscf.scf.hf.RHF object at 0x716255f6f5f0>\n"
     ]
    },
    {
     "name": "stdout",
     "output_type": "stream",
     "text": [
      "converged SCF energy = -75.9227303065775\n"
     ]
    },
    {
     "name": "stderr",
     "output_type": "stream",
     "text": [
      "Warning: <pyscf.gto.mole.Mole object at 0x716255f6e2d0> must be initialized before calling SCF.\n",
      "Initialize <pyscf.gto.mole.Mole object at 0x716255f6e2d0> in <pyscf.scf.hf.RHF object at 0x716255dfc140>\n"
     ]
    },
    {
     "name": "stdout",
     "output_type": "stream",
     "text": [
      "converged SCF energy = -75.9256918876757\n"
     ]
    },
    {
     "name": "stderr",
     "output_type": "stream",
     "text": [
      "Warning: <pyscf.gto.mole.Mole object at 0x716255f6da60> must be initialized before calling SCF.\n",
      "Initialize <pyscf.gto.mole.Mole object at 0x716255f6da60> in <pyscf.scf.hf.RHF object at 0x716255f6e8d0>\n"
     ]
    },
    {
     "name": "stdout",
     "output_type": "stream",
     "text": [
      "converged SCF energy = -75.9245763145748\n"
     ]
    },
    {
     "name": "stderr",
     "output_type": "stream",
     "text": [
      "Warning: <pyscf.gto.mole.Mole object at 0x716255dfc140> must be initialized before calling SCF.\n",
      "Initialize <pyscf.gto.mole.Mole object at 0x716255dfc140> in <pyscf.scf.hf.RHF object at 0x7162560ce1e0>\n"
     ]
    },
    {
     "name": "stdout",
     "output_type": "stream",
     "text": [
      "converged SCF energy = -75.9242981108305\n"
     ]
    },
    {
     "name": "stderr",
     "output_type": "stream",
     "text": [
      "Warning: <pyscf.gto.mole.Mole object at 0x716255edc9e0> must be initialized before calling SCF.\n",
      "Initialize <pyscf.gto.mole.Mole object at 0x716255edc9e0> in <pyscf.scf.hf.RHF object at 0x7162560cf260>\n"
     ]
    },
    {
     "name": "stdout",
     "output_type": "stream",
     "text": [
      "converged SCF energy = -75.9197911302709\n"
     ]
    },
    {
     "name": "stderr",
     "output_type": "stream",
     "text": [
      "Warning: <pyscf.gto.mole.Mole object at 0x716255dfc140> must be initialized before calling SCF.\n",
      "Initialize <pyscf.gto.mole.Mole object at 0x716255dfc140> in <pyscf.scf.hf.RHF object at 0x7162560ce1e0>\n"
     ]
    },
    {
     "name": "stdout",
     "output_type": "stream",
     "text": [
      "converged SCF energy = -75.9222612329126\n"
     ]
    },
    {
     "name": "stderr",
     "output_type": "stream",
     "text": [
      "Warning: <pyscf.gto.mole.Mole object at 0x716255f6d610> must be initialized before calling SCF.\n",
      "Initialize <pyscf.gto.mole.Mole object at 0x716255f6d610> in <pyscf.scf.hf.RHF object at 0x716255f6d970>\n"
     ]
    },
    {
     "name": "stdout",
     "output_type": "stream",
     "text": [
      "converged SCF energy = -75.9202953294128\n"
     ]
    },
    {
     "name": "stderr",
     "output_type": "stream",
     "text": [
      "Warning: <pyscf.gto.mole.Mole object at 0x716255f6f500> must be initialized before calling SCF.\n",
      "Initialize <pyscf.gto.mole.Mole object at 0x716255f6f500> in <pyscf.scf.hf.RHF object at 0x716255dfc140>\n"
     ]
    },
    {
     "name": "stdout",
     "output_type": "stream",
     "text": [
      "converged SCF energy = -75.923877265425\n"
     ]
    },
    {
     "name": "stderr",
     "output_type": "stream",
     "text": [
      "Warning: <pyscf.gto.mole.Mole object at 0x716255edd610> must be initialized before calling SCF.\n",
      "Initialize <pyscf.gto.mole.Mole object at 0x716255edd610> in <pyscf.scf.hf.RHF object at 0x71625c9d8530>\n"
     ]
    },
    {
     "name": "stdout",
     "output_type": "stream",
     "text": [
      "converged SCF energy = -75.9232874609217\n"
     ]
    },
    {
     "name": "stderr",
     "output_type": "stream",
     "text": [
      "Warning: <pyscf.gto.mole.Mole object at 0x716256aef500> must be initialized before calling SCF.\n",
      "Initialize <pyscf.gto.mole.Mole object at 0x716256aef500> in <pyscf.scf.hf.RHF object at 0x716255dfc140>\n"
     ]
    },
    {
     "name": "stdout",
     "output_type": "stream",
     "text": [
      "converged SCF energy = -75.9267640322631\n"
     ]
    },
    {
     "name": "stderr",
     "output_type": "stream",
     "text": [
      "Warning: <pyscf.gto.mole.Mole object at 0x716255f6eea0> must be initialized before calling SCF.\n",
      "Initialize <pyscf.gto.mole.Mole object at 0x716255f6eea0> in <pyscf.scf.hf.RHF object at 0x7162560cf320>\n"
     ]
    },
    {
     "name": "stdout",
     "output_type": "stream",
     "text": [
      "converged SCF energy = -75.9227886284447\n"
     ]
    },
    {
     "name": "stderr",
     "output_type": "stream",
     "text": [
      "Warning: <pyscf.gto.mole.Mole object at 0x716255f760c0> must be initialized before calling SCF.\n",
      "Initialize <pyscf.gto.mole.Mole object at 0x716255f760c0> in <pyscf.scf.hf.RHF object at 0x716255dfc140>\n"
     ]
    },
    {
     "name": "stdout",
     "output_type": "stream",
     "text": [
      "converged SCF energy = -75.9172703741954\n"
     ]
    },
    {
     "name": "stderr",
     "output_type": "stream",
     "text": [
      "Warning: <pyscf.gto.mole.Mole object at 0x716255e0e330> must be initialized before calling SCF.\n",
      "Initialize <pyscf.gto.mole.Mole object at 0x716255e0e330> in <pyscf.scf.hf.RHF object at 0x716255e0ec30>\n"
     ]
    },
    {
     "name": "stdout",
     "output_type": "stream",
     "text": [
      "converged SCF energy = -75.9228309372522\n"
     ]
    },
    {
     "name": "stderr",
     "output_type": "stream",
     "text": [
      "Warning: <pyscf.gto.mole.Mole object at 0x716255f760c0> must be initialized before calling SCF.\n",
      "Initialize <pyscf.gto.mole.Mole object at 0x716255f760c0> in <pyscf.scf.hf.RHF object at 0x716255dfc140>\n"
     ]
    },
    {
     "name": "stdout",
     "output_type": "stream",
     "text": [
      "converged SCF energy = -75.9232613647699\n"
     ]
    },
    {
     "name": "stderr",
     "output_type": "stream",
     "text": [
      "Warning: <pyscf.gto.mole.Mole object at 0x716255e0f830> must be initialized before calling SCF.\n",
      "Initialize <pyscf.gto.mole.Mole object at 0x716255e0f830> in <pyscf.scf.hf.RHF object at 0x7162560cfe30>\n"
     ]
    },
    {
     "name": "stdout",
     "output_type": "stream",
     "text": [
      "converged SCF energy = -75.9272624436659\n"
     ]
    },
    {
     "name": "stderr",
     "output_type": "stream",
     "text": [
      "Warning: <pyscf.gto.mole.Mole object at 0x716255f760c0> must be initialized before calling SCF.\n",
      "Initialize <pyscf.gto.mole.Mole object at 0x716255f760c0> in <pyscf.scf.hf.RHF object at 0x716255dfe4b0>\n"
     ]
    },
    {
     "name": "stdout",
     "output_type": "stream",
     "text": [
      "converged SCF energy = -75.9236775606686\n"
     ]
    },
    {
     "name": "stderr",
     "output_type": "stream",
     "text": [
      "Warning: <pyscf.gto.mole.Mole object at 0x716255f6f6b0> must be initialized before calling SCF.\n",
      "Initialize <pyscf.gto.mole.Mole object at 0x716255f6f6b0> in <pyscf.scf.hf.RHF object at 0x716255ef6c30>\n"
     ]
    },
    {
     "name": "stdout",
     "output_type": "stream",
     "text": [
      "converged SCF energy = -75.9200623988913\n"
     ]
    },
    {
     "name": "stderr",
     "output_type": "stream",
     "text": [
      "Warning: <pyscf.gto.mole.Mole object at 0x716255f6ebd0> must be initialized before calling SCF.\n",
      "Initialize <pyscf.gto.mole.Mole object at 0x716255f6ebd0> in <pyscf.scf.hf.RHF object at 0x716255edcbf0>\n"
     ]
    },
    {
     "name": "stdout",
     "output_type": "stream",
     "text": [
      "converged SCF energy = -75.9205061616942\n"
     ]
    },
    {
     "name": "stderr",
     "output_type": "stream",
     "text": [
      "Warning: <pyscf.gto.mole.Mole object at 0x716255dfc140> must be initialized before calling SCF.\n",
      "Initialize <pyscf.gto.mole.Mole object at 0x716255dfc140> in <pyscf.scf.hf.RHF object at 0x716255f6e8d0>\n"
     ]
    },
    {
     "name": "stdout",
     "output_type": "stream",
     "text": [
      "converged SCF energy = -75.923398617812\n"
     ]
    },
    {
     "name": "stderr",
     "output_type": "stream",
     "text": [
      "Warning: <pyscf.gto.mole.Mole object at 0x716255edc830> must be initialized before calling SCF.\n",
      "Initialize <pyscf.gto.mole.Mole object at 0x716255edc830> in <pyscf.scf.hf.RHF object at 0x716255ef5910>\n"
     ]
    },
    {
     "name": "stdout",
     "output_type": "stream",
     "text": [
      "converged SCF energy = -75.9269780776736\n"
     ]
    },
    {
     "name": "stderr",
     "output_type": "stream",
     "text": [
      "Warning: <pyscf.gto.mole.Mole object at 0x716255f6f5f0> must be initialized before calling SCF.\n",
      "Initialize <pyscf.gto.mole.Mole object at 0x716255f6f5f0> in <pyscf.scf.hf.RHF object at 0x716255dfc140>\n"
     ]
    },
    {
     "name": "stdout",
     "output_type": "stream",
     "text": [
      "converged SCF energy = -75.9225722202745\n"
     ]
    },
    {
     "name": "stderr",
     "output_type": "stream",
     "text": [
      "Warning: <pyscf.gto.mole.Mole object at 0x716255e0eb10> must be initialized before calling SCF.\n",
      "Initialize <pyscf.gto.mole.Mole object at 0x716255e0eb10> in <pyscf.scf.hf.RHF object at 0x7162560cf500>\n"
     ]
    },
    {
     "name": "stdout",
     "output_type": "stream",
     "text": [
      "converged SCF energy = -75.9216823701237\n"
     ]
    },
    {
     "name": "stderr",
     "output_type": "stream",
     "text": [
      "Warning: <pyscf.gto.mole.Mole object at 0x716255dfc830> must be initialized before calling SCF.\n",
      "Initialize <pyscf.gto.mole.Mole object at 0x716255dfc830> in <pyscf.scf.hf.RHF object at 0x716255f6f830>\n"
     ]
    },
    {
     "name": "stdout",
     "output_type": "stream",
     "text": [
      "converged SCF energy = -75.9238881022659\n"
     ]
    },
    {
     "name": "stderr",
     "output_type": "stream",
     "text": [
      "Warning: <pyscf.gto.mole.Mole object at 0x716255f6f5f0> must be initialized before calling SCF.\n",
      "Initialize <pyscf.gto.mole.Mole object at 0x716255f6f5f0> in <pyscf.scf.hf.RHF object at 0x7162560cfce0>\n"
     ]
    },
    {
     "name": "stdout",
     "output_type": "stream",
     "text": [
      "converged SCF energy = -75.9220721045395\n"
     ]
    },
    {
     "name": "stderr",
     "output_type": "stream",
     "text": [
      "Warning: <pyscf.gto.mole.Mole object at 0x716255e0a4b0> must be initialized before calling SCF.\n",
      "Initialize <pyscf.gto.mole.Mole object at 0x716255e0a4b0> in <pyscf.scf.hf.RHF object at 0x7162560ce4e0>\n"
     ]
    },
    {
     "name": "stdout",
     "output_type": "stream",
     "text": [
      "converged SCF energy = -75.9169105694572\n"
     ]
    },
    {
     "name": "stderr",
     "output_type": "stream",
     "text": [
      "Warning: <pyscf.gto.mole.Mole object at 0x7162560cf500> must be initialized before calling SCF.\n",
      "Initialize <pyscf.gto.mole.Mole object at 0x7162560cf500> in <pyscf.scf.hf.RHF object at 0x71625c9d8530>\n"
     ]
    },
    {
     "name": "stdout",
     "output_type": "stream",
     "text": [
      "converged SCF energy = -75.9251695926344\n"
     ]
    },
    {
     "name": "stderr",
     "output_type": "stream",
     "text": [
      "Warning: <pyscf.gto.mole.Mole object at 0x7162560cfb90> must be initialized before calling SCF.\n",
      "Initialize <pyscf.gto.mole.Mole object at 0x7162560cfb90> in <pyscf.scf.hf.RHF object at 0x7162560cfd10>\n"
     ]
    },
    {
     "name": "stdout",
     "output_type": "stream",
     "text": [
      "converged SCF energy = -75.9270637171075\n"
     ]
    },
    {
     "name": "stderr",
     "output_type": "stream",
     "text": [
      "Warning: <pyscf.gto.mole.Mole object at 0x716255e0f8f0> must be initialized before calling SCF.\n",
      "Initialize <pyscf.gto.mole.Mole object at 0x716255e0f8f0> in <pyscf.scf.hf.RHF object at 0x716255f6cfe0>\n"
     ]
    },
    {
     "name": "stdout",
     "output_type": "stream",
     "text": [
      "converged SCF energy = -75.9218191974405\n"
     ]
    },
    {
     "name": "stderr",
     "output_type": "stream",
     "text": [
      "Warning: <pyscf.gto.mole.Mole object at 0x716255ede0c0> must be initialized before calling SCF.\n",
      "Initialize <pyscf.gto.mole.Mole object at 0x716255ede0c0> in <pyscf.scf.hf.RHF object at 0x716255dfc140>\n"
     ]
    },
    {
     "name": "stdout",
     "output_type": "stream",
     "text": [
      "converged SCF energy = -75.9270006787637\n"
     ]
    },
    {
     "name": "stderr",
     "output_type": "stream",
     "text": [
      "Warning: <pyscf.gto.mole.Mole object at 0x716255f6d730> must be initialized before calling SCF.\n",
      "Initialize <pyscf.gto.mole.Mole object at 0x716255f6d730> in <pyscf.scf.hf.RHF object at 0x7162560ce5d0>\n"
     ]
    },
    {
     "name": "stdout",
     "output_type": "stream",
     "text": [
      "converged SCF energy = -75.9200365517212\n"
     ]
    },
    {
     "name": "stderr",
     "output_type": "stream",
     "text": [
      "Warning: <pyscf.gto.mole.Mole object at 0x716255e0a4b0> must be initialized before calling SCF.\n",
      "Initialize <pyscf.gto.mole.Mole object at 0x716255e0a4b0> in <pyscf.scf.hf.RHF object at 0x71625c9d8530>\n"
     ]
    },
    {
     "name": "stdout",
     "output_type": "stream",
     "text": [
      "converged SCF energy = -75.9240053535906\n"
     ]
    },
    {
     "name": "stderr",
     "output_type": "stream",
     "text": [
      "Warning: <pyscf.gto.mole.Mole object at 0x716255e0f320> must be initialized before calling SCF.\n",
      "Initialize <pyscf.gto.mole.Mole object at 0x716255e0f320> in <pyscf.scf.hf.RHF object at 0x716255dfc140>\n"
     ]
    },
    {
     "name": "stdout",
     "output_type": "stream",
     "text": [
      "converged SCF energy = -75.9224843528373\n"
     ]
    },
    {
     "name": "stderr",
     "output_type": "stream",
     "text": [
      "Warning: <pyscf.gto.mole.Mole object at 0x7162560ce450> must be initialized before calling SCF.\n",
      "Initialize <pyscf.gto.mole.Mole object at 0x7162560ce450> in <pyscf.scf.hf.RHF object at 0x7162560cfd10>\n"
     ]
    },
    {
     "name": "stdout",
     "output_type": "stream",
     "text": [
      "converged SCF energy = -75.9244937173456\n"
     ]
    },
    {
     "name": "stderr",
     "output_type": "stream",
     "text": [
      "Warning: <pyscf.gto.mole.Mole object at 0x716255edec60> must be initialized before calling SCF.\n",
      "Initialize <pyscf.gto.mole.Mole object at 0x716255edec60> in <pyscf.scf.hf.RHF object at 0x7162560cf320>\n"
     ]
    },
    {
     "name": "stdout",
     "output_type": "stream",
     "text": [
      "converged SCF energy = -75.9230100363306\n"
     ]
    },
    {
     "name": "stderr",
     "output_type": "stream",
     "text": [
      "Warning: <pyscf.gto.mole.Mole object at 0x716255dfc140> must be initialized before calling SCF.\n",
      "Initialize <pyscf.gto.mole.Mole object at 0x716255dfc140> in <pyscf.scf.hf.RHF object at 0x7162560ce1b0>\n"
     ]
    },
    {
     "name": "stdout",
     "output_type": "stream",
     "text": [
      "converged SCF energy = -75.9232877376994\n"
     ]
    },
    {
     "name": "stderr",
     "output_type": "stream",
     "text": [
      "Warning: <pyscf.gto.mole.Mole object at 0x716255edd970> must be initialized before calling SCF.\n",
      "Initialize <pyscf.gto.mole.Mole object at 0x716255edd970> in <pyscf.scf.hf.RHF object at 0x716255e0eb10>\n"
     ]
    },
    {
     "name": "stdout",
     "output_type": "stream",
     "text": [
      "converged SCF energy = -75.9199691637438\n"
     ]
    },
    {
     "name": "stderr",
     "output_type": "stream",
     "text": [
      "Warning: <pyscf.gto.mole.Mole object at 0x716255dfc140> must be initialized before calling SCF.\n",
      "Initialize <pyscf.gto.mole.Mole object at 0x716255dfc140> in <pyscf.scf.hf.RHF object at 0x7162560ce1b0>\n"
     ]
    },
    {
     "name": "stdout",
     "output_type": "stream",
     "text": [
      "converged SCF energy = -75.9254790873468\n"
     ]
    },
    {
     "name": "stderr",
     "output_type": "stream",
     "text": [
      "Warning: <pyscf.gto.mole.Mole object at 0x716255e0f6b0> must be initialized before calling SCF.\n",
      "Initialize <pyscf.gto.mole.Mole object at 0x716255e0f6b0> in <pyscf.scf.hf.RHF object at 0x716255ede0c0>\n"
     ]
    },
    {
     "name": "stdout",
     "output_type": "stream",
     "text": [
      "converged SCF energy = -75.9247512941088\n"
     ]
    },
    {
     "name": "stderr",
     "output_type": "stream",
     "text": [
      "Warning: <pyscf.gto.mole.Mole object at 0x7162587aa4b0> must be initialized before calling SCF.\n",
      "Initialize <pyscf.gto.mole.Mole object at 0x7162587aa4b0> in <pyscf.scf.hf.RHF object at 0x716255dfc140>\n"
     ]
    },
    {
     "name": "stdout",
     "output_type": "stream",
     "text": [
      "converged SCF energy = -75.9206399348001\n"
     ]
    },
    {
     "name": "stderr",
     "output_type": "stream",
     "text": [
      "Warning: <pyscf.gto.mole.Mole object at 0x716255f760c0> must be initialized before calling SCF.\n",
      "Initialize <pyscf.gto.mole.Mole object at 0x716255f760c0> in <pyscf.scf.hf.RHF object at 0x716255edfa70>\n"
     ]
    },
    {
     "name": "stdout",
     "output_type": "stream",
     "text": [
      "converged SCF energy = -75.9265459643161\n"
     ]
    },
    {
     "name": "stderr",
     "output_type": "stream",
     "text": [
      "Warning: <pyscf.gto.mole.Mole object at 0x716255e0f680> must be initialized before calling SCF.\n",
      "Initialize <pyscf.gto.mole.Mole object at 0x716255e0f680> in <pyscf.scf.hf.RHF object at 0x7162560ce1b0>\n"
     ]
    },
    {
     "name": "stdout",
     "output_type": "stream",
     "text": [
      "converged SCF energy = -75.92580312019\n"
     ]
    },
    {
     "name": "stderr",
     "output_type": "stream",
     "text": [
      "Warning: <pyscf.gto.mole.Mole object at 0x7162560cc080> must be initialized before calling SCF.\n",
      "Initialize <pyscf.gto.mole.Mole object at 0x7162560cc080> in <pyscf.scf.hf.RHF object at 0x7162560cc500>\n"
     ]
    },
    {
     "name": "stdout",
     "output_type": "stream",
     "text": [
      "converged SCF energy = -75.9237432802365\n"
     ]
    },
    {
     "name": "stderr",
     "output_type": "stream",
     "text": [
      "Warning: <pyscf.gto.mole.Mole object at 0x716255e0f680> must be initialized before calling SCF.\n",
      "Initialize <pyscf.gto.mole.Mole object at 0x716255e0f680> in <pyscf.scf.hf.RHF object at 0x7162560ce1b0>\n"
     ]
    },
    {
     "name": "stdout",
     "output_type": "stream",
     "text": [
      "converged SCF energy = -75.9227250997618\n"
     ]
    },
    {
     "name": "stderr",
     "output_type": "stream",
     "text": [
      "Warning: <pyscf.gto.mole.Mole object at 0x716255edec60> must be initialized before calling SCF.\n",
      "Initialize <pyscf.gto.mole.Mole object at 0x716255edec60> in <pyscf.scf.hf.RHF object at 0x7162560ce5d0>\n"
     ]
    },
    {
     "name": "stdout",
     "output_type": "stream",
     "text": [
      "converged SCF energy = -75.9264538028657\n"
     ]
    },
    {
     "name": "stderr",
     "output_type": "stream",
     "text": [
      "Warning: <pyscf.gto.mole.Mole object at 0x7162560cddc0> must be initialized before calling SCF.\n",
      "Initialize <pyscf.gto.mole.Mole object at 0x7162560cddc0> in <pyscf.scf.hf.RHF object at 0x7162560ce1b0>\n"
     ]
    },
    {
     "name": "stdout",
     "output_type": "stream",
     "text": [
      "converged SCF energy = -75.9234152956233\n"
     ]
    },
    {
     "name": "stderr",
     "output_type": "stream",
     "text": [
      "Warning: <pyscf.gto.mole.Mole object at 0x716255e0f980> must be initialized before calling SCF.\n",
      "Initialize <pyscf.gto.mole.Mole object at 0x716255e0f980> in <pyscf.scf.hf.RHF object at 0x7162560cd2b0>\n"
     ]
    },
    {
     "name": "stdout",
     "output_type": "stream",
     "text": [
      "converged SCF energy = -75.9206926840514\n"
     ]
    },
    {
     "name": "stderr",
     "output_type": "stream",
     "text": [
      "Warning: <pyscf.gto.mole.Mole object at 0x716255e0f0b0> must be initialized before calling SCF.\n",
      "Initialize <pyscf.gto.mole.Mole object at 0x716255e0f0b0> in <pyscf.scf.hf.RHF object at 0x7162560cd5b0>\n"
     ]
    },
    {
     "name": "stdout",
     "output_type": "stream",
     "text": [
      "converged SCF energy = -75.922699164385\n"
     ]
    },
    {
     "name": "stderr",
     "output_type": "stream",
     "text": [
      "Warning: <pyscf.gto.mole.Mole object at 0x716255ede270> must be initialized before calling SCF.\n",
      "Initialize <pyscf.gto.mole.Mole object at 0x716255ede270> in <pyscf.scf.hf.RHF object at 0x7162560ced50>\n"
     ]
    },
    {
     "name": "stdout",
     "output_type": "stream",
     "text": [
      "converged SCF energy = -75.9227076680876\n"
     ]
    },
    {
     "name": "stderr",
     "output_type": "stream",
     "text": [
      "Warning: <pyscf.gto.mole.Mole object at 0x716255e0f980> must be initialized before calling SCF.\n",
      "Initialize <pyscf.gto.mole.Mole object at 0x716255e0f980> in <pyscf.scf.hf.RHF object at 0x7162560ccf80>\n"
     ]
    },
    {
     "name": "stdout",
     "output_type": "stream",
     "text": [
      "converged SCF energy = -75.9243511502967\n"
     ]
    },
    {
     "name": "stderr",
     "output_type": "stream",
     "text": [
      "Warning: <pyscf.gto.mole.Mole object at 0x716255ede270> must be initialized before calling SCF.\n",
      "Initialize <pyscf.gto.mole.Mole object at 0x716255ede270> in <pyscf.scf.hf.RHF object at 0x7162560cf4a0>\n"
     ]
    },
    {
     "name": "stdout",
     "output_type": "stream",
     "text": [
      "converged SCF energy = -75.9261815945486\n"
     ]
    },
    {
     "name": "stderr",
     "output_type": "stream",
     "text": [
      "Warning: <pyscf.gto.mole.Mole object at 0x716257b83380> must be initialized before calling SCF.\n",
      "Initialize <pyscf.gto.mole.Mole object at 0x716257b83380> in <pyscf.scf.hf.RHF object at 0x716255ef6540>\n"
     ]
    },
    {
     "name": "stdout",
     "output_type": "stream",
     "text": [
      "converged SCF energy = -75.9256782514468\n"
     ]
    },
    {
     "name": "stderr",
     "output_type": "stream",
     "text": [
      "Warning: <pyscf.gto.mole.Mole object at 0x7162560cfcb0> must be initialized before calling SCF.\n",
      "Initialize <pyscf.gto.mole.Mole object at 0x7162560cfcb0> in <pyscf.scf.hf.RHF object at 0x7162560cd790>\n"
     ]
    },
    {
     "name": "stdout",
     "output_type": "stream",
     "text": [
      "converged SCF energy = -75.9206828136962\n"
     ]
    },
    {
     "name": "stderr",
     "output_type": "stream",
     "text": [
      "Warning: <pyscf.gto.mole.Mole object at 0x716257b83380> must be initialized before calling SCF.\n",
      "Initialize <pyscf.gto.mole.Mole object at 0x716257b83380> in <pyscf.scf.hf.RHF object at 0x7162560cd4c0>\n"
     ]
    },
    {
     "name": "stdout",
     "output_type": "stream",
     "text": [
      "converged SCF energy = -75.9234295477733\n"
     ]
    },
    {
     "name": "stderr",
     "output_type": "stream",
     "text": [
      "Warning: <pyscf.gto.mole.Mole object at 0x7162560cf380> must be initialized before calling SCF.\n",
      "Initialize <pyscf.gto.mole.Mole object at 0x7162560cf380> in <pyscf.scf.hf.RHF object at 0x7162560cf4a0>\n"
     ]
    },
    {
     "name": "stdout",
     "output_type": "stream",
     "text": [
      "converged SCF energy = -75.924489985331\n"
     ]
    },
    {
     "name": "stderr",
     "output_type": "stream",
     "text": [
      "Warning: <pyscf.gto.mole.Mole object at 0x716257b83380> must be initialized before calling SCF.\n",
      "Initialize <pyscf.gto.mole.Mole object at 0x716257b83380> in <pyscf.scf.hf.RHF object at 0x716255e0e270>\n"
     ]
    },
    {
     "name": "stdout",
     "output_type": "stream",
     "text": [
      "converged SCF energy = -75.9224346048683\n"
     ]
    },
    {
     "name": "stderr",
     "output_type": "stream",
     "text": [
      "Warning: <pyscf.gto.mole.Mole object at 0x716255e0a4b0> must be initialized before calling SCF.\n",
      "Initialize <pyscf.gto.mole.Mole object at 0x716255e0a4b0> in <pyscf.scf.hf.RHF object at 0x716255e0ec00>\n"
     ]
    },
    {
     "name": "stdout",
     "output_type": "stream",
     "text": [
      "converged SCF energy = -75.926109237849\n"
     ]
    },
    {
     "name": "stderr",
     "output_type": "stream",
     "text": [
      "Warning: <pyscf.gto.mole.Mole object at 0x716257b83380> must be initialized before calling SCF.\n",
      "Initialize <pyscf.gto.mole.Mole object at 0x716257b83380> in <pyscf.scf.hf.RHF object at 0x716255edf320>\n"
     ]
    },
    {
     "name": "stdout",
     "output_type": "stream",
     "text": [
      "converged SCF energy = -75.9258159838634\n"
     ]
    },
    {
     "name": "stderr",
     "output_type": "stream",
     "text": [
      "Warning: <pyscf.gto.mole.Mole object at 0x716255ef6540> must be initialized before calling SCF.\n",
      "Initialize <pyscf.gto.mole.Mole object at 0x716255ef6540> in <pyscf.scf.hf.RHF object at 0x716255dfc140>\n"
     ]
    },
    {
     "name": "stdout",
     "output_type": "stream",
     "text": [
      "converged SCF energy = -75.9211141279896\n"
     ]
    },
    {
     "name": "stderr",
     "output_type": "stream",
     "text": [
      "Warning: <pyscf.gto.mole.Mole object at 0x716257b83380> must be initialized before calling SCF.\n",
      "Initialize <pyscf.gto.mole.Mole object at 0x716257b83380> in <pyscf.scf.hf.RHF object at 0x716255ef75f0>\n"
     ]
    },
    {
     "name": "stdout",
     "output_type": "stream",
     "text": [
      "converged SCF energy = -75.9214046601435\n"
     ]
    },
    {
     "name": "stderr",
     "output_type": "stream",
     "text": [
      "Warning: <pyscf.gto.mole.Mole object at 0x716255ef6540> must be initialized before calling SCF.\n",
      "Initialize <pyscf.gto.mole.Mole object at 0x716255ef6540> in <pyscf.scf.hf.RHF object at 0x716255dfc140>\n"
     ]
    },
    {
     "name": "stdout",
     "output_type": "stream",
     "text": [
      "converged SCF energy = -75.926636268546\n"
     ]
    },
    {
     "name": "stderr",
     "output_type": "stream",
     "text": [
      "Warning: <pyscf.gto.mole.Mole object at 0x716257b83380> must be initialized before calling SCF.\n",
      "Initialize <pyscf.gto.mole.Mole object at 0x716257b83380> in <pyscf.scf.hf.RHF object at 0x7162560ce330>\n"
     ]
    },
    {
     "name": "stdout",
     "output_type": "stream",
     "text": [
      "converged SCF energy = -75.9151853340799\n"
     ]
    },
    {
     "name": "stderr",
     "output_type": "stream",
     "text": [
      "Warning: <pyscf.gto.mole.Mole object at 0x716255f6d460> must be initialized before calling SCF.\n",
      "Initialize <pyscf.gto.mole.Mole object at 0x716255f6d460> in <pyscf.scf.hf.RHF object at 0x716255dfc140>\n"
     ]
    },
    {
     "name": "stdout",
     "output_type": "stream",
     "text": [
      "converged SCF energy = -75.922994297037\n"
     ]
    },
    {
     "name": "stderr",
     "output_type": "stream",
     "text": [
      "Warning: <pyscf.gto.mole.Mole object at 0x716257b83380> must be initialized before calling SCF.\n",
      "Initialize <pyscf.gto.mole.Mole object at 0x716257b83380> in <pyscf.scf.hf.RHF object at 0x716255edd4c0>\n"
     ]
    },
    {
     "name": "stdout",
     "output_type": "stream",
     "text": [
      "converged SCF energy = -75.9234083775798\n"
     ]
    },
    {
     "name": "stderr",
     "output_type": "stream",
     "text": [
      "Warning: <pyscf.gto.mole.Mole object at 0x7162571e0bc0> must be initialized before calling SCF.\n",
      "Initialize <pyscf.gto.mole.Mole object at 0x7162571e0bc0> in <pyscf.scf.hf.RHF object at 0x716258700050>\n"
     ]
    },
    {
     "name": "stdout",
     "output_type": "stream",
     "text": [
      "converged SCF energy = -75.922870393584\n"
     ]
    },
    {
     "name": "stderr",
     "output_type": "stream",
     "text": [
      "Warning: <pyscf.gto.mole.Mole object at 0x716257b83380> must be initialized before calling SCF.\n",
      "Initialize <pyscf.gto.mole.Mole object at 0x716257b83380> in <pyscf.scf.hf.RHF object at 0x716255f74320>\n"
     ]
    },
    {
     "name": "stdout",
     "output_type": "stream",
     "text": [
      "converged SCF energy = -75.9241524322674\n"
     ]
    },
    {
     "name": "stderr",
     "output_type": "stream",
     "text": [
      "Warning: <pyscf.gto.mole.Mole object at 0x716255f75bb0> must be initialized before calling SCF.\n",
      "Initialize <pyscf.gto.mole.Mole object at 0x716255f75bb0> in <pyscf.scf.hf.RHF object at 0x716255dfc140>\n"
     ]
    },
    {
     "name": "stdout",
     "output_type": "stream",
     "text": [
      "converged SCF energy = -75.9255575380437\n"
     ]
    },
    {
     "name": "stderr",
     "output_type": "stream",
     "text": [
      "Warning: <pyscf.gto.mole.Mole object at 0x716257b83380> must be initialized before calling SCF.\n",
      "Initialize <pyscf.gto.mole.Mole object at 0x716257b83380> in <pyscf.scf.hf.RHF object at 0x7162560cd130>\n"
     ]
    },
    {
     "name": "stdout",
     "output_type": "stream",
     "text": [
      "converged SCF energy = -75.9229086580553\n"
     ]
    },
    {
     "name": "stderr",
     "output_type": "stream",
     "text": [
      "Warning: <pyscf.gto.mole.Mole object at 0x7162571e0bc0> must be initialized before calling SCF.\n",
      "Initialize <pyscf.gto.mole.Mole object at 0x7162571e0bc0> in <pyscf.scf.hf.RHF object at 0x716255dfc140>\n"
     ]
    },
    {
     "name": "stdout",
     "output_type": "stream",
     "text": [
      "converged SCF energy = -75.924638370234\n"
     ]
    },
    {
     "name": "stderr",
     "output_type": "stream",
     "text": [
      "Warning: <pyscf.gto.mole.Mole object at 0x716257b83380> must be initialized before calling SCF.\n",
      "Initialize <pyscf.gto.mole.Mole object at 0x716257b83380> in <pyscf.scf.hf.RHF object at 0x7162560cfa70>\n"
     ]
    },
    {
     "name": "stdout",
     "output_type": "stream",
     "text": [
      "converged SCF energy = -75.9215242438752\n"
     ]
    },
    {
     "name": "stderr",
     "output_type": "stream",
     "text": [
      "Warning: <pyscf.gto.mole.Mole object at 0x7162560cf890> must be initialized before calling SCF.\n",
      "Initialize <pyscf.gto.mole.Mole object at 0x7162560cf890> in <pyscf.scf.hf.RHF object at 0x7162560cfe30>\n"
     ]
    },
    {
     "name": "stdout",
     "output_type": "stream",
     "text": [
      "converged SCF energy = -75.9236997729609\n"
     ]
    },
    {
     "name": "stderr",
     "output_type": "stream",
     "text": [
      "Warning: <pyscf.gto.mole.Mole object at 0x716257b83380> must be initialized before calling SCF.\n",
      "Initialize <pyscf.gto.mole.Mole object at 0x716257b83380> in <pyscf.scf.hf.RHF object at 0x7162571e0bc0>\n"
     ]
    },
    {
     "name": "stdout",
     "output_type": "stream",
     "text": [
      "converged SCF energy = -75.9219466398897\n"
     ]
    },
    {
     "name": "stderr",
     "output_type": "stream",
     "text": [
      "Warning: <pyscf.gto.mole.Mole object at 0x7162560cd9a0> must be initialized before calling SCF.\n",
      "Initialize <pyscf.gto.mole.Mole object at 0x7162560cd9a0> in <pyscf.scf.hf.RHF object at 0x7162560cdbb0>\n"
     ]
    },
    {
     "name": "stdout",
     "output_type": "stream",
     "text": [
      "converged SCF energy = -75.9171984366267\n"
     ]
    },
    {
     "name": "stderr",
     "output_type": "stream",
     "text": [
      "Warning: <pyscf.gto.mole.Mole object at 0x716257b83380> must be initialized before calling SCF.\n",
      "Initialize <pyscf.gto.mole.Mole object at 0x716257b83380> in <pyscf.scf.hf.RHF object at 0x7162571e0bc0>\n"
     ]
    },
    {
     "name": "stdout",
     "output_type": "stream",
     "text": [
      "converged SCF energy = -75.9235934377791\n"
     ]
    },
    {
     "name": "stderr",
     "output_type": "stream",
     "text": [
      "Warning: <pyscf.gto.mole.Mole object at 0x71625694fec0> must be initialized before calling SCF.\n",
      "Initialize <pyscf.gto.mole.Mole object at 0x71625694fec0> in <pyscf.scf.hf.RHF object at 0x716255f6e810>\n"
     ]
    },
    {
     "name": "stdout",
     "output_type": "stream",
     "text": [
      "converged SCF energy = -75.9226161071344\n"
     ]
    },
    {
     "name": "stderr",
     "output_type": "stream",
     "text": [
      "Warning: <pyscf.gto.mole.Mole object at 0x716257b83380> must be initialized before calling SCF.\n",
      "Initialize <pyscf.gto.mole.Mole object at 0x716257b83380> in <pyscf.scf.hf.RHF object at 0x716255dfc140>\n"
     ]
    },
    {
     "name": "stdout",
     "output_type": "stream",
     "text": [
      "converged SCF energy = -75.9215061730201\n"
     ]
    },
    {
     "name": "stderr",
     "output_type": "stream",
     "text": [
      "Warning: <pyscf.gto.mole.Mole object at 0x716255f6daf0> must be initialized before calling SCF.\n",
      "Initialize <pyscf.gto.mole.Mole object at 0x716255f6daf0> in <pyscf.scf.hf.RHF object at 0x716255f6d130>\n"
     ]
    },
    {
     "name": "stdout",
     "output_type": "stream",
     "text": [
      "converged SCF energy = -75.9211447332997\n"
     ]
    },
    {
     "name": "stderr",
     "output_type": "stream",
     "text": [
      "Warning: <pyscf.gto.mole.Mole object at 0x716257b83380> must be initialized before calling SCF.\n",
      "Initialize <pyscf.gto.mole.Mole object at 0x716257b83380> in <pyscf.scf.hf.RHF object at 0x71625c9d8530>\n"
     ]
    },
    {
     "name": "stdout",
     "output_type": "stream",
     "text": [
      "converged SCF energy = -75.925504345695\n"
     ]
    },
    {
     "name": "stderr",
     "output_type": "stream",
     "text": [
      "Warning: <pyscf.gto.mole.Mole object at 0x716255f6daf0> must be initialized before calling SCF.\n",
      "Initialize <pyscf.gto.mole.Mole object at 0x716255f6daf0> in <pyscf.scf.hf.RHF object at 0x716255e0fc20>\n"
     ]
    },
    {
     "name": "stdout",
     "output_type": "stream",
     "text": [
      "converged SCF energy = -75.9174052772115\n"
     ]
    },
    {
     "name": "stderr",
     "output_type": "stream",
     "text": [
      "Warning: <pyscf.gto.mole.Mole object at 0x716257b83380> must be initialized before calling SCF.\n",
      "Initialize <pyscf.gto.mole.Mole object at 0x716257b83380> in <pyscf.scf.hf.RHF object at 0x716255f6d130>\n"
     ]
    },
    {
     "name": "stdout",
     "output_type": "stream",
     "text": [
      "converged SCF energy = -75.921262445816\n"
     ]
    },
    {
     "name": "stderr",
     "output_type": "stream",
     "text": [
      "Warning: <pyscf.gto.mole.Mole object at 0x716255e0fc20> must be initialized before calling SCF.\n",
      "Initialize <pyscf.gto.mole.Mole object at 0x716255e0fc20> in <pyscf.scf.hf.RHF object at 0x71625692bb90>\n"
     ]
    },
    {
     "name": "stdout",
     "output_type": "stream",
     "text": [
      "converged SCF energy = -75.921880684882\n"
     ]
    },
    {
     "name": "stderr",
     "output_type": "stream",
     "text": [
      "Warning: <pyscf.gto.mole.Mole object at 0x716257b83380> must be initialized before calling SCF.\n",
      "Initialize <pyscf.gto.mole.Mole object at 0x716257b83380> in <pyscf.scf.hf.RHF object at 0x716255f6bf50>\n"
     ]
    },
    {
     "name": "stdout",
     "output_type": "stream",
     "text": [
      "converged SCF energy = -75.9217303535448\n"
     ]
    },
    {
     "name": "stderr",
     "output_type": "stream",
     "text": [
      "Warning: <pyscf.gto.mole.Mole object at 0x7162560cc8c0> must be initialized before calling SCF.\n",
      "Initialize <pyscf.gto.mole.Mole object at 0x7162560cc8c0> in <pyscf.scf.hf.RHF object at 0x7162560cdbb0>\n"
     ]
    },
    {
     "name": "stdout",
     "output_type": "stream",
     "text": [
      "converged SCF energy = -75.9282151175961\n"
     ]
    },
    {
     "name": "stderr",
     "output_type": "stream",
     "text": [
      "Warning: <pyscf.gto.mole.Mole object at 0x716257b83380> must be initialized before calling SCF.\n",
      "Initialize <pyscf.gto.mole.Mole object at 0x716257b83380> in <pyscf.scf.hf.RHF object at 0x71625694e8a0>\n"
     ]
    },
    {
     "name": "stdout",
     "output_type": "stream",
     "text": [
      "converged SCF energy = -75.927067133687\n"
     ]
    },
    {
     "name": "stderr",
     "output_type": "stream",
     "text": [
      "Warning: <pyscf.gto.mole.Mole object at 0x716255f6f680> must be initialized before calling SCF.\n",
      "Initialize <pyscf.gto.mole.Mole object at 0x716255f6f680> in <pyscf.scf.hf.RHF object at 0x716255dfc140>\n"
     ]
    },
    {
     "name": "stdout",
     "output_type": "stream",
     "text": [
      "converged SCF energy = -75.9273914245546\n"
     ]
    },
    {
     "name": "stderr",
     "output_type": "stream",
     "text": [
      "Warning: <pyscf.gto.mole.Mole object at 0x716257b83380> must be initialized before calling SCF.\n",
      "Initialize <pyscf.gto.mole.Mole object at 0x716257b83380> in <pyscf.scf.hf.RHF object at 0x716255dfc320>\n"
     ]
    },
    {
     "name": "stdout",
     "output_type": "stream",
     "text": [
      "converged SCF energy = -75.9249290155555\n"
     ]
    },
    {
     "name": "stderr",
     "output_type": "stream",
     "text": [
      "Warning: <pyscf.gto.mole.Mole object at 0x7162560ce330> must be initialized before calling SCF.\n",
      "Initialize <pyscf.gto.mole.Mole object at 0x7162560ce330> in <pyscf.scf.hf.RHF object at 0x7162560cfb90>\n"
     ]
    },
    {
     "name": "stdout",
     "output_type": "stream",
     "text": [
      "converged SCF energy = -75.924322580663\n"
     ]
    },
    {
     "name": "stderr",
     "output_type": "stream",
     "text": [
      "Warning: <pyscf.gto.mole.Mole object at 0x716257b83380> must be initialized before calling SCF.\n",
      "Initialize <pyscf.gto.mole.Mole object at 0x716257b83380> in <pyscf.scf.hf.RHF object at 0x7162560ce5d0>\n"
     ]
    },
    {
     "name": "stdout",
     "output_type": "stream",
     "text": [
      "converged SCF energy = -75.9169232056672\n"
     ]
    },
    {
     "name": "stderr",
     "output_type": "stream",
     "text": [
      "Warning: <pyscf.gto.mole.Mole object at 0x716255f6d1c0> must be initialized before calling SCF.\n",
      "Initialize <pyscf.gto.mole.Mole object at 0x716255f6d1c0> in <pyscf.scf.hf.RHF object at 0x7162560cd430>\n"
     ]
    },
    {
     "name": "stdout",
     "output_type": "stream",
     "text": [
      "converged SCF energy = -75.9232143317073\n"
     ]
    },
    {
     "name": "stderr",
     "output_type": "stream",
     "text": [
      "Warning: <pyscf.gto.mole.Mole object at 0x716257b83380> must be initialized before calling SCF.\n",
      "Initialize <pyscf.gto.mole.Mole object at 0x716257b83380> in <pyscf.scf.hf.RHF object at 0x716265950bc0>\n"
     ]
    },
    {
     "name": "stdout",
     "output_type": "stream",
     "text": [
      "converged SCF energy = -75.9245208809019\n"
     ]
    },
    {
     "name": "stderr",
     "output_type": "stream",
     "text": [
      "Warning: <pyscf.gto.mole.Mole object at 0x716255f6d940> must be initialized before calling SCF.\n",
      "Initialize <pyscf.gto.mole.Mole object at 0x716255f6d940> in <pyscf.scf.hf.RHF object at 0x7162560cfb60>\n"
     ]
    },
    {
     "name": "stdout",
     "output_type": "stream",
     "text": [
      "converged SCF energy = -75.9228885597895\n"
     ]
    },
    {
     "name": "stderr",
     "output_type": "stream",
     "text": [
      "Warning: <pyscf.gto.mole.Mole object at 0x716257b83380> must be initialized before calling SCF.\n",
      "Initialize <pyscf.gto.mole.Mole object at 0x716257b83380> in <pyscf.scf.hf.RHF object at 0x716255f6dd00>\n"
     ]
    },
    {
     "name": "stdout",
     "output_type": "stream",
     "text": [
      "converged SCF energy = -75.9240755364734\n"
     ]
    },
    {
     "name": "stderr",
     "output_type": "stream",
     "text": [
      "Warning: <pyscf.gto.mole.Mole object at 0x716255f6fc20> must be initialized before calling SCF.\n",
      "Initialize <pyscf.gto.mole.Mole object at 0x716255f6fc20> in <pyscf.scf.hf.RHF object at 0x7162560cdb20>\n"
     ]
    },
    {
     "name": "stdout",
     "output_type": "stream",
     "text": [
      "converged SCF energy = -75.9266265072311\n"
     ]
    },
    {
     "name": "stderr",
     "output_type": "stream",
     "text": [
      "Warning: <pyscf.gto.mole.Mole object at 0x716255f6ff50> must be initialized before calling SCF.\n",
      "Initialize <pyscf.gto.mole.Mole object at 0x716255f6ff50> in <pyscf.scf.hf.RHF object at 0x716255f6dd00>\n"
     ]
    },
    {
     "name": "stdout",
     "output_type": "stream",
     "text": [
      "converged SCF energy = -75.922073506782\n"
     ]
    },
    {
     "name": "stderr",
     "output_type": "stream",
     "text": [
      "Warning: <pyscf.gto.mole.Mole object at 0x71625692ba40> must be initialized before calling SCF.\n",
      "Initialize <pyscf.gto.mole.Mole object at 0x71625692ba40> in <pyscf.scf.hf.RHF object at 0x716255e0e330>\n"
     ]
    },
    {
     "name": "stdout",
     "output_type": "stream",
     "text": [
      "converged SCF energy = -75.922997731587\n"
     ]
    },
    {
     "name": "stderr",
     "output_type": "stream",
     "text": [
      "Warning: <pyscf.gto.mole.Mole object at 0x716257b83380> must be initialized before calling SCF.\n",
      "Initialize <pyscf.gto.mole.Mole object at 0x716257b83380> in <pyscf.scf.hf.RHF object at 0x716255f6dd00>\n"
     ]
    },
    {
     "name": "stdout",
     "output_type": "stream",
     "text": [
      "converged SCF energy = -75.92000935103\n"
     ]
    },
    {
     "name": "stderr",
     "output_type": "stream",
     "text": [
      "Warning: <pyscf.gto.mole.Mole object at 0x716255dfc140> must be initialized before calling SCF.\n",
      "Initialize <pyscf.gto.mole.Mole object at 0x716255dfc140> in <pyscf.scf.hf.RHF object at 0x716255f6faa0>\n"
     ]
    },
    {
     "name": "stdout",
     "output_type": "stream",
     "text": [
      "converged SCF energy = -75.9256005189086\n"
     ]
    },
    {
     "name": "stderr",
     "output_type": "stream",
     "text": [
      "Warning: <pyscf.gto.mole.Mole object at 0x716257b83380> must be initialized before calling SCF.\n",
      "Initialize <pyscf.gto.mole.Mole object at 0x716257b83380> in <pyscf.scf.hf.RHF object at 0x716255f6d1c0>\n"
     ]
    },
    {
     "name": "stdout",
     "output_type": "stream",
     "text": [
      "converged SCF energy = -75.9254385024577\n"
     ]
    },
    {
     "name": "stderr",
     "output_type": "stream",
     "text": [
      "Warning: <pyscf.gto.mole.Mole object at 0x716255f6daf0> must be initialized before calling SCF.\n",
      "Initialize <pyscf.gto.mole.Mole object at 0x716255f6daf0> in <pyscf.scf.hf.RHF object at 0x7162560cdb20>\n"
     ]
    },
    {
     "name": "stdout",
     "output_type": "stream",
     "text": [
      "converged SCF energy = -75.9242379354359\n"
     ]
    },
    {
     "name": "stderr",
     "output_type": "stream",
     "text": [
      "Warning: <pyscf.gto.mole.Mole object at 0x716257b83380> must be initialized before calling SCF.\n",
      "Initialize <pyscf.gto.mole.Mole object at 0x716257b83380> in <pyscf.scf.hf.RHF object at 0x716255e0fe30>\n"
     ]
    },
    {
     "name": "stdout",
     "output_type": "stream",
     "text": [
      "converged SCF energy = -75.9215193488973\n"
     ]
    },
    {
     "name": "stderr",
     "output_type": "stream",
     "text": [
      "Warning: <pyscf.gto.mole.Mole object at 0x716255edd4c0> must be initialized before calling SCF.\n",
      "Initialize <pyscf.gto.mole.Mole object at 0x716255edd4c0> in <pyscf.scf.hf.RHF object at 0x716265950bc0>\n"
     ]
    },
    {
     "name": "stdout",
     "output_type": "stream",
     "text": [
      "converged SCF energy = -75.9251641743712\n"
     ]
    },
    {
     "name": "stderr",
     "output_type": "stream",
     "text": [
      "Warning: <pyscf.gto.mole.Mole object at 0x716257b83380> must be initialized before calling SCF.\n",
      "Initialize <pyscf.gto.mole.Mole object at 0x716257b83380> in <pyscf.scf.hf.RHF object at 0x71625692b2f0>\n"
     ]
    },
    {
     "name": "stdout",
     "output_type": "stream",
     "text": [
      "converged SCF energy = -75.9266222610861\n"
     ]
    },
    {
     "name": "stderr",
     "output_type": "stream",
     "text": [
      "Warning: <pyscf.gto.mole.Mole object at 0x716255f6e8d0> must be initialized before calling SCF.\n",
      "Initialize <pyscf.gto.mole.Mole object at 0x716255f6e8d0> in <pyscf.scf.hf.RHF object at 0x716255e1e1e0>\n"
     ]
    },
    {
     "name": "stdout",
     "output_type": "stream",
     "text": [
      "converged SCF energy = -75.9182054077517\n"
     ]
    },
    {
     "name": "stderr",
     "output_type": "stream",
     "text": [
      "Warning: <pyscf.gto.mole.Mole object at 0x71625692bb90> must be initialized before calling SCF.\n",
      "Initialize <pyscf.gto.mole.Mole object at 0x71625692bb90> in <pyscf.scf.hf.RHF object at 0x716257b83380>\n"
     ]
    },
    {
     "name": "stdout",
     "output_type": "stream",
     "text": [
      "converged SCF energy = -75.9271471719144\n"
     ]
    },
    {
     "name": "stderr",
     "output_type": "stream",
     "text": [
      "Warning: <pyscf.gto.mole.Mole object at 0x716255edd4c0> must be initialized before calling SCF.\n",
      "Initialize <pyscf.gto.mole.Mole object at 0x716255edd4c0> in <pyscf.scf.hf.RHF object at 0x716255e1e1e0>\n"
     ]
    },
    {
     "name": "stdout",
     "output_type": "stream",
     "text": [
      "converged SCF energy = -75.9283431002059\n"
     ]
    },
    {
     "name": "stderr",
     "output_type": "stream",
     "text": [
      "Warning: <pyscf.gto.mole.Mole object at 0x71625692bb90> must be initialized before calling SCF.\n",
      "Initialize <pyscf.gto.mole.Mole object at 0x71625692bb90> in <pyscf.scf.hf.RHF object at 0x7162560cfe30>\n"
     ]
    },
    {
     "name": "stdout",
     "output_type": "stream",
     "text": [
      "converged SCF energy = -75.9229087544564\n"
     ]
    },
    {
     "name": "stderr",
     "output_type": "stream",
     "text": [
      "Warning: <pyscf.gto.mole.Mole object at 0x716257b83380> must be initialized before calling SCF.\n",
      "Initialize <pyscf.gto.mole.Mole object at 0x716257b83380> in <pyscf.scf.hf.RHF object at 0x716255e1e1e0>\n"
     ]
    },
    {
     "name": "stdout",
     "output_type": "stream",
     "text": [
      "converged SCF energy = -75.9215567273623\n"
     ]
    },
    {
     "name": "stderr",
     "output_type": "stream",
     "text": [
      "Warning: <pyscf.gto.mole.Mole object at 0x7162560ceea0> must be initialized before calling SCF.\n",
      "Initialize <pyscf.gto.mole.Mole object at 0x7162560ceea0> in <pyscf.scf.hf.RHF object at 0x716255dfc140>\n"
     ]
    },
    {
     "name": "stdout",
     "output_type": "stream",
     "text": [
      "converged SCF energy = -75.924229906008\n"
     ]
    },
    {
     "name": "stderr",
     "output_type": "stream",
     "text": [
      "Warning: <pyscf.gto.mole.Mole object at 0x71625692bb90> must be initialized before calling SCF.\n",
      "Initialize <pyscf.gto.mole.Mole object at 0x71625692bb90> in <pyscf.scf.hf.RHF object at 0x716257b83380>\n"
     ]
    },
    {
     "name": "stdout",
     "output_type": "stream",
     "text": [
      "converged SCF energy = -75.9250333328866\n"
     ]
    },
    {
     "name": "stderr",
     "output_type": "stream",
     "text": [
      "Warning: <pyscf.gto.mole.Mole object at 0x7162560cd670> must be initialized before calling SCF.\n",
      "Initialize <pyscf.gto.mole.Mole object at 0x7162560cd670> in <pyscf.scf.hf.RHF object at 0x716255dfc140>\n"
     ]
    },
    {
     "name": "stdout",
     "output_type": "stream",
     "text": [
      "converged SCF energy = -75.9228359174634\n"
     ]
    },
    {
     "name": "stderr",
     "output_type": "stream",
     "text": [
      "Warning: <pyscf.gto.mole.Mole object at 0x71625692bb90> must be initialized before calling SCF.\n",
      "Initialize <pyscf.gto.mole.Mole object at 0x71625692bb90> in <pyscf.scf.hf.RHF object at 0x71625c9d8530>\n"
     ]
    },
    {
     "name": "stdout",
     "output_type": "stream",
     "text": [
      "converged SCF energy = -75.9255244419605\n"
     ]
    },
    {
     "name": "stderr",
     "output_type": "stream",
     "text": [
      "Warning: <pyscf.gto.mole.Mole object at 0x716255f6dd00> must be initialized before calling SCF.\n",
      "Initialize <pyscf.gto.mole.Mole object at 0x716255f6dd00> in <pyscf.scf.hf.RHF object at 0x716255dfc140>\n"
     ]
    },
    {
     "name": "stdout",
     "output_type": "stream",
     "text": [
      "converged SCF energy = -75.923830835721\n"
     ]
    },
    {
     "name": "stderr",
     "output_type": "stream",
     "text": [
      "Warning: <pyscf.gto.mole.Mole object at 0x71625692bb90> must be initialized before calling SCF.\n",
      "Initialize <pyscf.gto.mole.Mole object at 0x71625692bb90> in <pyscf.scf.hf.RHF object at 0x7162560cc8c0>\n"
     ]
    },
    {
     "name": "stdout",
     "output_type": "stream",
     "text": [
      "converged SCF energy = -75.9273421113712\n"
     ]
    },
    {
     "name": "stderr",
     "output_type": "stream",
     "text": [
      "Warning: <pyscf.gto.mole.Mole object at 0x716255f6dd00> must be initialized before calling SCF.\n",
      "Initialize <pyscf.gto.mole.Mole object at 0x716255f6dd00> in <pyscf.scf.hf.RHF object at 0x716255dfc140>\n"
     ]
    },
    {
     "name": "stdout",
     "output_type": "stream",
     "text": [
      "converged SCF energy = -75.9249814558832\n"
     ]
    },
    {
     "name": "stderr",
     "output_type": "stream",
     "text": [
      "Warning: <pyscf.gto.mole.Mole object at 0x716255f6ebd0> must be initialized before calling SCF.\n",
      "Initialize <pyscf.gto.mole.Mole object at 0x716255f6ebd0> in <pyscf.scf.hf.RHF object at 0x716255e1db50>\n"
     ]
    },
    {
     "name": "stdout",
     "output_type": "stream",
     "text": [
      "converged SCF energy = -75.9189251746505\n"
     ]
    },
    {
     "name": "stderr",
     "output_type": "stream",
     "text": [
      "Warning: <pyscf.gto.mole.Mole object at 0x716257b834a0> must be initialized before calling SCF.\n",
      "Initialize <pyscf.gto.mole.Mole object at 0x716257b834a0> in <pyscf.scf.hf.RHF object at 0x71625c9d8530>\n"
     ]
    },
    {
     "name": "stdout",
     "output_type": "stream",
     "text": [
      "converged SCF energy = -75.9232911345324\n"
     ]
    },
    {
     "name": "stderr",
     "output_type": "stream",
     "text": [
      "Warning: <pyscf.gto.mole.Mole object at 0x71625692bb90> must be initialized before calling SCF.\n",
      "Initialize <pyscf.gto.mole.Mole object at 0x71625692bb90> in <pyscf.scf.hf.RHF object at 0x7162560cdb50>\n"
     ]
    },
    {
     "name": "stdout",
     "output_type": "stream",
     "text": [
      "converged SCF energy = -75.9247293574506\n"
     ]
    },
    {
     "name": "stderr",
     "output_type": "stream",
     "text": [
      "Warning: <pyscf.gto.mole.Mole object at 0x716255e0f800> must be initialized before calling SCF.\n",
      "Initialize <pyscf.gto.mole.Mole object at 0x716255e0f800> in <pyscf.scf.hf.RHF object at 0x716255e1f260>\n"
     ]
    },
    {
     "name": "stdout",
     "output_type": "stream",
     "text": [
      "converged SCF energy = -75.9233744670626\n"
     ]
    },
    {
     "name": "stderr",
     "output_type": "stream",
     "text": [
      "Warning: <pyscf.gto.mole.Mole object at 0x716255e1f8c0> must be initialized before calling SCF.\n",
      "Initialize <pyscf.gto.mole.Mole object at 0x716255e1f8c0> in <pyscf.scf.hf.RHF object at 0x716255e1e540>\n"
     ]
    },
    {
     "name": "stdout",
     "output_type": "stream",
     "text": [
      "converged SCF energy = -75.9224800617054\n"
     ]
    },
    {
     "name": "stderr",
     "output_type": "stream",
     "text": [
      "Warning: <pyscf.gto.mole.Mole object at 0x716265950bc0> must be initialized before calling SCF.\n",
      "Initialize <pyscf.gto.mole.Mole object at 0x716265950bc0> in <pyscf.scf.hf.RHF object at 0x716255f6dd00>\n"
     ]
    },
    {
     "name": "stdout",
     "output_type": "stream",
     "text": [
      "converged SCF energy = -75.9231554660301\n"
     ]
    },
    {
     "name": "stderr",
     "output_type": "stream",
     "text": [
      "Warning: <pyscf.gto.mole.Mole object at 0x71625692b2f0> must be initialized before calling SCF.\n",
      "Initialize <pyscf.gto.mole.Mole object at 0x71625692b2f0> in <pyscf.scf.hf.RHF object at 0x716255e1f710>\n"
     ]
    },
    {
     "name": "stdout",
     "output_type": "stream",
     "text": [
      "converged SCF energy = -75.9227988759381\n"
     ]
    },
    {
     "name": "stderr",
     "output_type": "stream",
     "text": [
      "Warning: <pyscf.gto.mole.Mole object at 0x7162560ce960> must be initialized before calling SCF.\n",
      "Initialize <pyscf.gto.mole.Mole object at 0x7162560ce960> in <pyscf.scf.hf.RHF object at 0x71625c9d8530>\n"
     ]
    },
    {
     "name": "stdout",
     "output_type": "stream",
     "text": [
      "converged SCF energy = -75.926458668686\n"
     ]
    },
    {
     "name": "stderr",
     "output_type": "stream",
     "text": [
      "Warning: <pyscf.gto.mole.Mole object at 0x716255e1ff80> must be initialized before calling SCF.\n",
      "Initialize <pyscf.gto.mole.Mole object at 0x716255e1ff80> in <pyscf.scf.hf.RHF object at 0x716255e1fbf0>\n"
     ]
    },
    {
     "name": "stdout",
     "output_type": "stream",
     "text": [
      "converged SCF energy = -75.9216134757554\n"
     ]
    },
    {
     "name": "stderr",
     "output_type": "stream",
     "text": [
      "Warning: <pyscf.gto.mole.Mole object at 0x7162560cfb90> must be initialized before calling SCF.\n",
      "Initialize <pyscf.gto.mole.Mole object at 0x7162560cfb90> in <pyscf.scf.hf.RHF object at 0x716255e1e630>\n"
     ]
    },
    {
     "name": "stdout",
     "output_type": "stream",
     "text": [
      "converged SCF energy = -75.9210259961058\n"
     ]
    },
    {
     "name": "stderr",
     "output_type": "stream",
     "text": [
      "Warning: <pyscf.gto.mole.Mole object at 0x716255e0f530> must be initialized before calling SCF.\n",
      "Initialize <pyscf.gto.mole.Mole object at 0x716255e0f530> in <pyscf.scf.hf.RHF object at 0x716255e1f7a0>\n"
     ]
    },
    {
     "name": "stdout",
     "output_type": "stream",
     "text": [
      "converged SCF energy = -75.9259517309186\n"
     ]
    },
    {
     "name": "stderr",
     "output_type": "stream",
     "text": [
      "Warning: <pyscf.gto.mole.Mole object at 0x716255e1e3f0> must be initialized before calling SCF.\n",
      "Initialize <pyscf.gto.mole.Mole object at 0x716255e1e3f0> in <pyscf.scf.hf.RHF object at 0x716255e1f200>\n"
     ]
    },
    {
     "name": "stdout",
     "output_type": "stream",
     "text": [
      "converged SCF energy = -75.9259436198756\n"
     ]
    },
    {
     "name": "stderr",
     "output_type": "stream",
     "text": [
      "Warning: <pyscf.gto.mole.Mole object at 0x7162571e0bc0> must be initialized before calling SCF.\n",
      "Initialize <pyscf.gto.mole.Mole object at 0x7162571e0bc0> in <pyscf.scf.hf.RHF object at 0x716255e1fb90>\n"
     ]
    },
    {
     "name": "stdout",
     "output_type": "stream",
     "text": [
      "converged SCF energy = -75.9220839975972\n"
     ]
    },
    {
     "name": "stderr",
     "output_type": "stream",
     "text": [
      "Warning: <pyscf.gto.mole.Mole object at 0x716255e1fe90> must be initialized before calling SCF.\n",
      "Initialize <pyscf.gto.mole.Mole object at 0x716255e1fe90> in <pyscf.scf.hf.RHF object at 0x716255e1e270>\n"
     ]
    },
    {
     "name": "stdout",
     "output_type": "stream",
     "text": [
      "converged SCF energy = -75.9270013995177\n"
     ]
    },
    {
     "name": "stderr",
     "output_type": "stream",
     "text": [
      "Warning: <pyscf.gto.mole.Mole object at 0x7162560cc980> must be initialized before calling SCF.\n",
      "Initialize <pyscf.gto.mole.Mole object at 0x7162560cc980> in <pyscf.scf.hf.RHF object at 0x7162560ccad0>\n"
     ]
    },
    {
     "name": "stdout",
     "output_type": "stream",
     "text": [
      "converged SCF energy = -75.9231342054503\n"
     ]
    },
    {
     "name": "stderr",
     "output_type": "stream",
     "text": [
      "Warning: <pyscf.gto.mole.Mole object at 0x7162560cf200> must be initialized before calling SCF.\n",
      "Initialize <pyscf.gto.mole.Mole object at 0x7162560cf200> in <pyscf.scf.hf.RHF object at 0x716255e1cc50>\n"
     ]
    },
    {
     "name": "stdout",
     "output_type": "stream",
     "text": [
      "converged SCF energy = -75.9186819308709\n"
     ]
    },
    {
     "name": "stderr",
     "output_type": "stream",
     "text": [
      "Warning: <pyscf.gto.mole.Mole object at 0x716255e0f080> must be initialized before calling SCF.\n",
      "Initialize <pyscf.gto.mole.Mole object at 0x716255e0f080> in <pyscf.scf.hf.RHF object at 0x716255e1dd90>\n"
     ]
    },
    {
     "name": "stdout",
     "output_type": "stream",
     "text": [
      "converged SCF energy = -75.9229669494917\n"
     ]
    },
    {
     "name": "stderr",
     "output_type": "stream",
     "text": [
      "Warning: <pyscf.gto.mole.Mole object at 0x716255f6ebd0> must be initialized before calling SCF.\n",
      "Initialize <pyscf.gto.mole.Mole object at 0x716255f6ebd0> in <pyscf.scf.hf.RHF object at 0x716255dfc140>\n"
     ]
    },
    {
     "name": "stdout",
     "output_type": "stream",
     "text": [
      "converged SCF energy = -75.9239469290556\n"
     ]
    },
    {
     "name": "stderr",
     "output_type": "stream",
     "text": [
      "Warning: <pyscf.gto.mole.Mole object at 0x7162560cfb60> must be initialized before calling SCF.\n",
      "Initialize <pyscf.gto.mole.Mole object at 0x7162560cfb60> in <pyscf.scf.hf.RHF object at 0x716255e1de20>\n"
     ]
    },
    {
     "name": "stdout",
     "output_type": "stream",
     "text": [
      "converged SCF energy = -75.9244120628255\n"
     ]
    },
    {
     "name": "stderr",
     "output_type": "stream",
     "text": [
      "Warning: <pyscf.gto.mole.Mole object at 0x716255e1e9c0> must be initialized before calling SCF.\n",
      "Initialize <pyscf.gto.mole.Mole object at 0x716255e1e9c0> in <pyscf.scf.hf.RHF object at 0x716255e1e030>\n"
     ]
    },
    {
     "name": "stdout",
     "output_type": "stream",
     "text": [
      "converged SCF energy = -75.9263338376333\n"
     ]
    },
    {
     "name": "stderr",
     "output_type": "stream",
     "text": [
      "Warning: <pyscf.gto.mole.Mole object at 0x7162560cd9a0> must be initialized before calling SCF.\n",
      "Initialize <pyscf.gto.mole.Mole object at 0x7162560cd9a0> in <pyscf.scf.hf.RHF object at 0x716255e1d6a0>\n"
     ]
    },
    {
     "name": "stdout",
     "output_type": "stream",
     "text": [
      "converged SCF energy = -75.9231616696032\n"
     ]
    },
    {
     "name": "stderr",
     "output_type": "stream",
     "text": [
      "Warning: <pyscf.gto.mole.Mole object at 0x716255e0f9b0> must be initialized before calling SCF.\n",
      "Initialize <pyscf.gto.mole.Mole object at 0x716255e0f9b0> in <pyscf.scf.hf.RHF object at 0x716255e1fa70>\n"
     ]
    },
    {
     "name": "stdout",
     "output_type": "stream",
     "text": [
      "converged SCF energy = -75.921415761589\n"
     ]
    },
    {
     "name": "stderr",
     "output_type": "stream",
     "text": [
      "Warning: <pyscf.gto.mole.Mole object at 0x716255e0f6e0> must be initialized before calling SCF.\n",
      "Initialize <pyscf.gto.mole.Mole object at 0x716255e0f6e0> in <pyscf.scf.hf.RHF object at 0x716255e1fe00>\n"
     ]
    },
    {
     "name": "stdout",
     "output_type": "stream",
     "text": [
      "converged SCF energy = -75.9229237662086\n"
     ]
    },
    {
     "name": "stderr",
     "output_type": "stream",
     "text": [
      "Warning: <pyscf.gto.mole.Mole object at 0x716255e1d100> must be initialized before calling SCF.\n",
      "Initialize <pyscf.gto.mole.Mole object at 0x716255e1d100> in <pyscf.scf.hf.RHF object at 0x716255e1de20>\n"
     ]
    },
    {
     "name": "stdout",
     "output_type": "stream",
     "text": [
      "converged SCF energy = -75.9212167577292\n"
     ]
    },
    {
     "name": "stderr",
     "output_type": "stream",
     "text": [
      "Warning: <pyscf.gto.mole.Mole object at 0x716255e1f6e0> must be initialized before calling SCF.\n",
      "Initialize <pyscf.gto.mole.Mole object at 0x716255e1f6e0> in <pyscf.scf.hf.RHF object at 0x716255e1f8c0>\n"
     ]
    },
    {
     "name": "stdout",
     "output_type": "stream",
     "text": [
      "converged SCF energy = -75.9236316498473\n"
     ]
    },
    {
     "name": "stderr",
     "output_type": "stream",
     "text": [
      "Warning: <pyscf.gto.mole.Mole object at 0x716255ede270> must be initialized before calling SCF.\n",
      "Initialize <pyscf.gto.mole.Mole object at 0x716255ede270> in <pyscf.scf.hf.RHF object at 0x716255e1d490>\n"
     ]
    },
    {
     "name": "stdout",
     "output_type": "stream",
     "text": [
      "converged SCF energy = -75.9260451045994\n"
     ]
    },
    {
     "name": "stderr",
     "output_type": "stream",
     "text": [
      "Warning: <pyscf.gto.mole.Mole object at 0x716255e1e030> must be initialized before calling SCF.\n",
      "Initialize <pyscf.gto.mole.Mole object at 0x716255e1e030> in <pyscf.scf.hf.RHF object at 0x716255e1ff80>\n"
     ]
    },
    {
     "name": "stdout",
     "output_type": "stream",
     "text": [
      "converged SCF energy = -75.9257567855373\n"
     ]
    },
    {
     "name": "stderr",
     "output_type": "stream",
     "text": [
      "Warning: <pyscf.gto.mole.Mole object at 0x716255dfc2f0> must be initialized before calling SCF.\n",
      "Initialize <pyscf.gto.mole.Mole object at 0x716255dfc2f0> in <pyscf.scf.hf.RHF object at 0x716255e1e780>\n"
     ]
    },
    {
     "name": "stdout",
     "output_type": "stream",
     "text": [
      "converged SCF energy = -75.9250099977376\n"
     ]
    },
    {
     "name": "stderr",
     "output_type": "stream",
     "text": [
      "Warning: <pyscf.gto.mole.Mole object at 0x716255f6cfe0> must be initialized before calling SCF.\n",
      "Initialize <pyscf.gto.mole.Mole object at 0x716255f6cfe0> in <pyscf.scf.hf.RHF object at 0x716255e1f200>\n"
     ]
    },
    {
     "name": "stdout",
     "output_type": "stream",
     "text": [
      "converged SCF energy = -75.9232405938504\n"
     ]
    },
    {
     "name": "stderr",
     "output_type": "stream",
     "text": [
      "Warning: <pyscf.gto.mole.Mole object at 0x716255e1e810> must be initialized before calling SCF.\n",
      "Initialize <pyscf.gto.mole.Mole object at 0x716255e1e810> in <pyscf.scf.hf.RHF object at 0x716255e1f140>\n"
     ]
    },
    {
     "name": "stdout",
     "output_type": "stream",
     "text": [
      "converged SCF energy = -75.9267839095199\n"
     ]
    },
    {
     "name": "stderr",
     "output_type": "stream",
     "text": [
      "Warning: <pyscf.gto.mole.Mole object at 0x716255e1ec90> must be initialized before calling SCF.\n",
      "Initialize <pyscf.gto.mole.Mole object at 0x716255e1ec90> in <pyscf.scf.hf.RHF object at 0x716255e1d3a0>\n"
     ]
    },
    {
     "name": "stdout",
     "output_type": "stream",
     "text": [
      "converged SCF energy = -75.9259682267557\n"
     ]
    },
    {
     "name": "stderr",
     "output_type": "stream",
     "text": [
      "Warning: <pyscf.gto.mole.Mole object at 0x716255e1f140> must be initialized before calling SCF.\n",
      "Initialize <pyscf.gto.mole.Mole object at 0x716255e1f140> in <pyscf.scf.hf.RHF object at 0x716255e1c6e0>\n"
     ]
    },
    {
     "name": "stdout",
     "output_type": "stream",
     "text": [
      "converged SCF energy = -75.9233061401924\n"
     ]
    },
    {
     "name": "stderr",
     "output_type": "stream",
     "text": [
      "Warning: <pyscf.gto.mole.Mole object at 0x7162560cd6a0> must be initialized before calling SCF.\n",
      "Initialize <pyscf.gto.mole.Mole object at 0x7162560cd6a0> in <pyscf.scf.hf.RHF object at 0x716255e1f200>\n"
     ]
    },
    {
     "name": "stdout",
     "output_type": "stream",
     "text": [
      "converged SCF energy = -75.9252953556143\n"
     ]
    },
    {
     "name": "stderr",
     "output_type": "stream",
     "text": [
      "Warning: <pyscf.gto.mole.Mole object at 0x716255edc6e0> must be initialized before calling SCF.\n",
      "Initialize <pyscf.gto.mole.Mole object at 0x716255edc6e0> in <pyscf.scf.hf.RHF object at 0x716255e1ec90>\n"
     ]
    },
    {
     "name": "stdout",
     "output_type": "stream",
     "text": [
      "converged SCF energy = -75.9214426677272\n"
     ]
    },
    {
     "name": "stderr",
     "output_type": "stream",
     "text": [
      "Warning: <pyscf.gto.mole.Mole object at 0x716255e1fe00> must be initialized before calling SCF.\n",
      "Initialize <pyscf.gto.mole.Mole object at 0x716255e1fe00> in <pyscf.scf.hf.RHF object at 0x716255e1e780>\n"
     ]
    },
    {
     "name": "stdout",
     "output_type": "stream",
     "text": [
      "converged SCF energy = -75.9235292786644\n"
     ]
    },
    {
     "name": "stderr",
     "output_type": "stream",
     "text": [
      "Warning: <pyscf.gto.mole.Mole object at 0x716255e1cd10> must be initialized before calling SCF.\n",
      "Initialize <pyscf.gto.mole.Mole object at 0x716255e1cd10> in <pyscf.scf.hf.RHF object at 0x716255e1d400>\n"
     ]
    },
    {
     "name": "stdout",
     "output_type": "stream",
     "text": [
      "converged SCF energy = -75.9256724474126\n"
     ]
    },
    {
     "name": "stderr",
     "output_type": "stream",
     "text": [
      "Warning: <pyscf.gto.mole.Mole object at 0x716255e1e900> must be initialized before calling SCF.\n",
      "Initialize <pyscf.gto.mole.Mole object at 0x716255e1e900> in <pyscf.scf.hf.RHF object at 0x716255e1c7a0>\n"
     ]
    },
    {
     "name": "stdout",
     "output_type": "stream",
     "text": [
      "converged SCF energy = -75.9235999092315\n"
     ]
    },
    {
     "name": "stderr",
     "output_type": "stream",
     "text": [
      "Warning: <pyscf.gto.mole.Mole object at 0x716255dfc140> must be initialized before calling SCF.\n",
      "Initialize <pyscf.gto.mole.Mole object at 0x716255dfc140> in <pyscf.scf.hf.RHF object at 0x716255e1d280>\n"
     ]
    },
    {
     "name": "stdout",
     "output_type": "stream",
     "text": [
      "converged SCF energy = -75.9292362455647\n"
     ]
    },
    {
     "name": "stderr",
     "output_type": "stream",
     "text": [
      "Warning: <pyscf.gto.mole.Mole object at 0x7162560cdb50> must be initialized before calling SCF.\n",
      "Initialize <pyscf.gto.mole.Mole object at 0x7162560cdb50> in <pyscf.scf.hf.RHF object at 0x716255e1f770>\n"
     ]
    },
    {
     "name": "stdout",
     "output_type": "stream",
     "text": [
      "converged SCF energy = -75.9247172816111\n"
     ]
    },
    {
     "name": "stderr",
     "output_type": "stream",
     "text": [
      "Warning: <pyscf.gto.mole.Mole object at 0x716255dfc140> must be initialized before calling SCF.\n",
      "Initialize <pyscf.gto.mole.Mole object at 0x716255dfc140> in <pyscf.scf.hf.RHF object at 0x716255e1f590>\n"
     ]
    },
    {
     "name": "stdout",
     "output_type": "stream",
     "text": [
      "converged SCF energy = -75.9250875866725\n"
     ]
    },
    {
     "name": "stderr",
     "output_type": "stream",
     "text": [
      "Warning: <pyscf.gto.mole.Mole object at 0x7162560ccb30> must be initialized before calling SCF.\n",
      "Initialize <pyscf.gto.mole.Mole object at 0x7162560ccb30> in <pyscf.scf.hf.RHF object at 0x716255e1fa70>\n"
     ]
    },
    {
     "name": "stdout",
     "output_type": "stream",
     "text": [
      "converged SCF energy = -75.9232627148459\n"
     ]
    },
    {
     "name": "stderr",
     "output_type": "stream",
     "text": [
      "Warning: <pyscf.gto.mole.Mole object at 0x716255dfc140> must be initialized before calling SCF.\n",
      "Initialize <pyscf.gto.mole.Mole object at 0x716255dfc140> in <pyscf.scf.hf.RHF object at 0x716255e1dc70>\n"
     ]
    },
    {
     "name": "stdout",
     "output_type": "stream",
     "text": [
      "converged SCF energy = -75.9286669683573\n"
     ]
    },
    {
     "name": "stderr",
     "output_type": "stream",
     "text": [
      "Warning: <pyscf.gto.mole.Mole object at 0x7162560cdeb0> must be initialized before calling SCF.\n",
      "Initialize <pyscf.gto.mole.Mole object at 0x7162560cdeb0> in <pyscf.scf.hf.RHF object at 0x716255f6f5f0>\n"
     ]
    },
    {
     "name": "stdout",
     "output_type": "stream",
     "text": [
      "converged SCF energy = -75.9225651169215\n"
     ]
    },
    {
     "name": "stderr",
     "output_type": "stream",
     "text": [
      "Warning: <pyscf.gto.mole.Mole object at 0x716255dfc140> must be initialized before calling SCF.\n",
      "Initialize <pyscf.gto.mole.Mole object at 0x716255dfc140> in <pyscf.scf.hf.RHF object at 0x71625c9d8530>\n"
     ]
    },
    {
     "name": "stdout",
     "output_type": "stream",
     "text": [
      "converged SCF energy = -75.9197195772625\n"
     ]
    },
    {
     "name": "stderr",
     "output_type": "stream",
     "text": [
      "Warning: <pyscf.gto.mole.Mole object at 0x71625694fc80> must be initialized before calling SCF.\n",
      "Initialize <pyscf.gto.mole.Mole object at 0x71625694fc80> in <pyscf.scf.hf.RHF object at 0x716255e1f080>\n"
     ]
    },
    {
     "name": "stdout",
     "output_type": "stream",
     "text": [
      "converged SCF energy = -75.9232618470719\n"
     ]
    },
    {
     "name": "stderr",
     "output_type": "stream",
     "text": [
      "Warning: <pyscf.gto.mole.Mole object at 0x716255ede0c0> must be initialized before calling SCF.\n",
      "Initialize <pyscf.gto.mole.Mole object at 0x716255ede0c0> in <pyscf.scf.hf.RHF object at 0x716255dfc140>\n"
     ]
    },
    {
     "name": "stdout",
     "output_type": "stream",
     "text": [
      "converged SCF energy = -75.9259169468131\n"
     ]
    },
    {
     "name": "stderr",
     "output_type": "stream",
     "text": [
      "Warning: <pyscf.gto.mole.Mole object at 0x716255e1fe90> must be initialized before calling SCF.\n",
      "Initialize <pyscf.gto.mole.Mole object at 0x716255e1fe90> in <pyscf.scf.hf.RHF object at 0x71625c9d8530>\n"
     ]
    },
    {
     "name": "stdout",
     "output_type": "stream",
     "text": [
      "converged SCF energy = -75.9242571910506\n"
     ]
    },
    {
     "name": "stderr",
     "output_type": "stream",
     "text": [
      "Warning: <pyscf.gto.mole.Mole object at 0x7162560ceb10> must be initialized before calling SCF.\n",
      "Initialize <pyscf.gto.mole.Mole object at 0x7162560ceb10> in <pyscf.scf.hf.RHF object at 0x716255e1ee10>\n"
     ]
    },
    {
     "name": "stdout",
     "output_type": "stream",
     "text": [
      "converged SCF energy = -75.9233083423702\n"
     ]
    },
    {
     "name": "stderr",
     "output_type": "stream",
     "text": [
      "Warning: <pyscf.gto.mole.Mole object at 0x716255e0e2a0> must be initialized before calling SCF.\n",
      "Initialize <pyscf.gto.mole.Mole object at 0x716255e0e2a0> in <pyscf.scf.hf.RHF object at 0x716255e1f020>\n"
     ]
    },
    {
     "name": "stdout",
     "output_type": "stream",
     "text": [
      "converged SCF energy = -75.9228934794517\n"
     ]
    },
    {
     "name": "stderr",
     "output_type": "stream",
     "text": [
      "Warning: <pyscf.gto.mole.Mole object at 0x7162571a5fa0> must be initialized before calling SCF.\n",
      "Initialize <pyscf.gto.mole.Mole object at 0x7162571a5fa0> in <pyscf.scf.hf.RHF object at 0x716255e1d280>\n"
     ]
    },
    {
     "name": "stdout",
     "output_type": "stream",
     "text": [
      "converged SCF energy = -75.9276810152605\n"
     ]
    },
    {
     "name": "stderr",
     "output_type": "stream",
     "text": [
      "Warning: <pyscf.gto.mole.Mole object at 0x716255ede0c0> must be initialized before calling SCF.\n",
      "Initialize <pyscf.gto.mole.Mole object at 0x716255ede0c0> in <pyscf.scf.hf.RHF object at 0x716255e1c320>\n"
     ]
    },
    {
     "name": "stdout",
     "output_type": "stream",
     "text": [
      "converged SCF energy = -75.9200680585915\n"
     ]
    },
    {
     "name": "stderr",
     "output_type": "stream",
     "text": [
      "Warning: <pyscf.gto.mole.Mole object at 0x7162560cf470> must be initialized before calling SCF.\n",
      "Initialize <pyscf.gto.mole.Mole object at 0x7162560cf470> in <pyscf.scf.hf.RHF object at 0x71625c9d8530>\n"
     ]
    },
    {
     "name": "stdout",
     "output_type": "stream",
     "text": [
      "converged SCF energy = -75.9227385391983\n"
     ]
    },
    {
     "name": "stderr",
     "output_type": "stream",
     "text": [
      "Warning: <pyscf.gto.mole.Mole object at 0x7162560cdfa0> must be initialized before calling SCF.\n",
      "Initialize <pyscf.gto.mole.Mole object at 0x7162560cdfa0> in <pyscf.scf.hf.RHF object at 0x716255f70410>\n"
     ]
    },
    {
     "name": "stdout",
     "output_type": "stream",
     "text": [
      "converged SCF energy = -75.9275434806641\n"
     ]
    },
    {
     "name": "stderr",
     "output_type": "stream",
     "text": [
      "Warning: <pyscf.gto.mole.Mole object at 0x716255dfc140> must be initialized before calling SCF.\n",
      "Initialize <pyscf.gto.mole.Mole object at 0x716255dfc140> in <pyscf.scf.hf.RHF object at 0x71625c9d8530>\n"
     ]
    },
    {
     "name": "stdout",
     "output_type": "stream",
     "text": [
      "converged SCF energy = -75.924480778384\n"
     ]
    },
    {
     "name": "stderr",
     "output_type": "stream",
     "text": [
      "Warning: <pyscf.gto.mole.Mole object at 0x716255e1f4d0> must be initialized before calling SCF.\n",
      "Initialize <pyscf.gto.mole.Mole object at 0x716255e1f4d0> in <pyscf.scf.hf.RHF object at 0x716255e1db50>\n"
     ]
    },
    {
     "name": "stdout",
     "output_type": "stream",
     "text": [
      "converged SCF energy = -75.9262198917042\n"
     ]
    },
    {
     "name": "stderr",
     "output_type": "stream",
     "text": [
      "Warning: <pyscf.gto.mole.Mole object at 0x716255dfc140> must be initialized before calling SCF.\n",
      "Initialize <pyscf.gto.mole.Mole object at 0x716255dfc140> in <pyscf.scf.hf.RHF object at 0x716255e1ce30>\n"
     ]
    },
    {
     "name": "stdout",
     "output_type": "stream",
     "text": [
      "converged SCF energy = -75.9247412399878\n"
     ]
    },
    {
     "name": "stderr",
     "output_type": "stream",
     "text": [
      "Warning: <pyscf.gto.mole.Mole object at 0x716255e1e510> must be initialized before calling SCF.\n",
      "Initialize <pyscf.gto.mole.Mole object at 0x716255e1e510> in <pyscf.scf.hf.RHF object at 0x716255e1d490>\n"
     ]
    },
    {
     "name": "stdout",
     "output_type": "stream",
     "text": [
      "converged SCF energy = -75.9223615882427\n"
     ]
    },
    {
     "name": "stderr",
     "output_type": "stream",
     "text": [
      "Warning: <pyscf.gto.mole.Mole object at 0x716255e1d670> must be initialized before calling SCF.\n",
      "Initialize <pyscf.gto.mole.Mole object at 0x716255e1d670> in <pyscf.scf.hf.RHF object at 0x716255e1fdd0>\n"
     ]
    },
    {
     "name": "stdout",
     "output_type": "stream",
     "text": [
      "converged SCF energy = -75.9231104581461\n"
     ]
    },
    {
     "name": "stderr",
     "output_type": "stream",
     "text": [
      "Warning: <pyscf.gto.mole.Mole object at 0x7162560ce510> must be initialized before calling SCF.\n",
      "Initialize <pyscf.gto.mole.Mole object at 0x7162560ce510> in <pyscf.scf.hf.RHF object at 0x716255e1f5f0>\n"
     ]
    },
    {
     "name": "stdout",
     "output_type": "stream",
     "text": [
      "converged SCF energy = -75.9215510161776\n"
     ]
    },
    {
     "name": "stderr",
     "output_type": "stream",
     "text": [
      "Warning: <pyscf.gto.mole.Mole object at 0x716255e1f6b0> must be initialized before calling SCF.\n",
      "Initialize <pyscf.gto.mole.Mole object at 0x716255e1f6b0> in <pyscf.scf.hf.RHF object at 0x716255e1d670>\n"
     ]
    },
    {
     "name": "stdout",
     "output_type": "stream",
     "text": [
      "converged SCF energy = -75.9239381415931\n"
     ]
    },
    {
     "name": "stderr",
     "output_type": "stream",
     "text": [
      "Warning: <pyscf.gto.mole.Mole object at 0x716255e1d9d0> must be initialized before calling SCF.\n",
      "Initialize <pyscf.gto.mole.Mole object at 0x716255e1d9d0> in <pyscf.scf.hf.RHF object at 0x716255e1fce0>\n"
     ]
    },
    {
     "name": "stdout",
     "output_type": "stream",
     "text": [
      "converged SCF energy = -75.9197262335722\n"
     ]
    },
    {
     "name": "stderr",
     "output_type": "stream",
     "text": [
      "Warning: <pyscf.gto.mole.Mole object at 0x7162560cd670> must be initialized before calling SCF.\n",
      "Initialize <pyscf.gto.mole.Mole object at 0x7162560cd670> in <pyscf.scf.hf.RHF object at 0x716255e1ca70>\n"
     ]
    },
    {
     "name": "stdout",
     "output_type": "stream",
     "text": [
      "converged SCF energy = -75.9201101971936\n"
     ]
    },
    {
     "name": "stderr",
     "output_type": "stream",
     "text": [
      "Warning: <pyscf.gto.mole.Mole object at 0x716255edc1d0> must be initialized before calling SCF.\n",
      "Initialize <pyscf.gto.mole.Mole object at 0x716255edc1d0> in <pyscf.scf.hf.RHF object at 0x71625c9d8530>\n"
     ]
    },
    {
     "name": "stdout",
     "output_type": "stream",
     "text": [
      "converged SCF energy = -75.9257129244877\n"
     ]
    },
    {
     "name": "stderr",
     "output_type": "stream",
     "text": [
      "Warning: <pyscf.gto.mole.Mole object at 0x716255e1d220> must be initialized before calling SCF.\n",
      "Initialize <pyscf.gto.mole.Mole object at 0x716255e1d220> in <pyscf.scf.hf.RHF object at 0x716255e1e180>\n"
     ]
    },
    {
     "name": "stdout",
     "output_type": "stream",
     "text": [
      "converged SCF energy = -75.9207162112495\n"
     ]
    },
    {
     "name": "stderr",
     "output_type": "stream",
     "text": [
      "Warning: <pyscf.gto.mole.Mole object at 0x7162560ce510> must be initialized before calling SCF.\n",
      "Initialize <pyscf.gto.mole.Mole object at 0x7162560ce510> in <pyscf.scf.hf.RHF object at 0x716255e1d9d0>\n"
     ]
    },
    {
     "name": "stdout",
     "output_type": "stream",
     "text": [
      "converged SCF energy = -75.9237925290189\n"
     ]
    },
    {
     "name": "stderr",
     "output_type": "stream",
     "text": [
      "Warning: <pyscf.gto.mole.Mole object at 0x716255e1e8a0> must be initialized before calling SCF.\n",
      "Initialize <pyscf.gto.mole.Mole object at 0x716255e1e8a0> in <pyscf.scf.hf.RHF object at 0x716255e1c5f0>\n"
     ]
    },
    {
     "name": "stdout",
     "output_type": "stream",
     "text": [
      "converged SCF energy = -75.9223133560582\n"
     ]
    },
    {
     "name": "stderr",
     "output_type": "stream",
     "text": [
      "Warning: <pyscf.gto.mole.Mole object at 0x7162c41ddc40> must be initialized before calling SCF.\n",
      "Initialize <pyscf.gto.mole.Mole object at 0x7162c41ddc40> in <pyscf.scf.hf.RHF object at 0x716255e1d280>\n"
     ]
    },
    {
     "name": "stdout",
     "output_type": "stream",
     "text": [
      "converged SCF energy = -75.9292493894846\n"
     ]
    },
    {
     "name": "stderr",
     "output_type": "stream",
     "text": [
      "Warning: <pyscf.gto.mole.Mole object at 0x7162560ccef0> must be initialized before calling SCF.\n",
      "Initialize <pyscf.gto.mole.Mole object at 0x7162560ccef0> in <pyscf.scf.hf.RHF object at 0x716255dfc140>\n"
     ]
    },
    {
     "name": "stdout",
     "output_type": "stream",
     "text": [
      "converged SCF energy = -75.9254357142367\n"
     ]
    },
    {
     "name": "stderr",
     "output_type": "stream",
     "text": [
      "Warning: <pyscf.gto.mole.Mole object at 0x7162560cd580> must be initialized before calling SCF.\n",
      "Initialize <pyscf.gto.mole.Mole object at 0x7162560cd580> in <pyscf.scf.hf.RHF object at 0x716255e1e0c0>\n"
     ]
    },
    {
     "name": "stdout",
     "output_type": "stream",
     "text": [
      "converged SCF energy = -75.9210217787717\n"
     ]
    },
    {
     "name": "stderr",
     "output_type": "stream",
     "text": [
      "Warning: <pyscf.gto.mole.Mole object at 0x716255e1c4d0> must be initialized before calling SCF.\n",
      "Initialize <pyscf.gto.mole.Mole object at 0x716255e1c4d0> in <pyscf.scf.hf.RHF object at 0x716255e1f290>\n"
     ]
    },
    {
     "name": "stdout",
     "output_type": "stream",
     "text": [
      "converged SCF energy = -75.9238145315899\n"
     ]
    },
    {
     "name": "stderr",
     "output_type": "stream",
     "text": [
      "Warning: <pyscf.gto.mole.Mole object at 0x716255e1c230> must be initialized before calling SCF.\n",
      "Initialize <pyscf.gto.mole.Mole object at 0x716255e1c230> in <pyscf.scf.hf.RHF object at 0x716255e1e8a0>\n"
     ]
    },
    {
     "name": "stdout",
     "output_type": "stream",
     "text": [
      "converged SCF energy = -75.9227853138074\n"
     ]
    },
    {
     "name": "stderr",
     "output_type": "stream",
     "text": [
      "Warning: <pyscf.gto.mole.Mole object at 0x7162560ce0f0> must be initialized before calling SCF.\n",
      "Initialize <pyscf.gto.mole.Mole object at 0x7162560ce0f0> in <pyscf.scf.hf.RHF object at 0x716255e1d190>\n"
     ]
    },
    {
     "name": "stdout",
     "output_type": "stream",
     "text": [
      "converged SCF energy = -75.921053220315\n"
     ]
    },
    {
     "name": "stderr",
     "output_type": "stream",
     "text": [
      "Warning: <pyscf.gto.mole.Mole object at 0x7162560cfe30> must be initialized before calling SCF.\n",
      "Initialize <pyscf.gto.mole.Mole object at 0x7162560cfe30> in <pyscf.scf.hf.RHF object at 0x716255dfc140>\n"
     ]
    },
    {
     "name": "stdout",
     "output_type": "stream",
     "text": [
      "converged SCF energy = -75.9236500003932\n"
     ]
    },
    {
     "name": "stderr",
     "output_type": "stream",
     "text": [
      "Warning: <pyscf.gto.mole.Mole object at 0x716255f6f6b0> must be initialized before calling SCF.\n",
      "Initialize <pyscf.gto.mole.Mole object at 0x716255f6f6b0> in <pyscf.scf.hf.RHF object at 0x716255e1e600>\n"
     ]
    },
    {
     "name": "stdout",
     "output_type": "stream",
     "text": [
      "converged SCF energy = -75.9272331457135\n"
     ]
    },
    {
     "name": "stderr",
     "output_type": "stream",
     "text": [
      "Warning: <pyscf.gto.mole.Mole object at 0x716255e1d7f0> must be initialized before calling SCF.\n",
      "Initialize <pyscf.gto.mole.Mole object at 0x716255e1d7f0> in <pyscf.scf.hf.RHF object at 0x71625c9d8530>\n"
     ]
    },
    {
     "name": "stdout",
     "output_type": "stream",
     "text": [
      "converged SCF energy = -75.9235914583642\n"
     ]
    },
    {
     "name": "stderr",
     "output_type": "stream",
     "text": [
      "Warning: <pyscf.gto.mole.Mole object at 0x71625692b4a0> must be initialized before calling SCF.\n",
      "Initialize <pyscf.gto.mole.Mole object at 0x71625692b4a0> in <pyscf.scf.hf.RHF object at 0x716255dfc140>\n"
     ]
    },
    {
     "name": "stdout",
     "output_type": "stream",
     "text": [
      "converged SCF energy = -75.9196605841785\n"
     ]
    },
    {
     "name": "stderr",
     "output_type": "stream",
     "text": [
      "Warning: <pyscf.gto.mole.Mole object at 0x7162560cca70> must be initialized before calling SCF.\n",
      "Initialize <pyscf.gto.mole.Mole object at 0x7162560cca70> in <pyscf.scf.hf.RHF object at 0x716255e1cef0>\n"
     ]
    },
    {
     "name": "stdout",
     "output_type": "stream",
     "text": [
      "converged SCF energy = -75.9188402387694\n"
     ]
    },
    {
     "name": "stderr",
     "output_type": "stream",
     "text": [
      "Warning: <pyscf.gto.mole.Mole object at 0x716255e1e630> must be initialized before calling SCF.\n",
      "Initialize <pyscf.gto.mole.Mole object at 0x716255e1e630> in <pyscf.scf.hf.RHF object at 0x716255e1c470>\n"
     ]
    },
    {
     "name": "stdout",
     "output_type": "stream",
     "text": [
      "converged SCF energy = -75.9197483711416\n"
     ]
    },
    {
     "name": "stderr",
     "output_type": "stream",
     "text": [
      "Warning: <pyscf.gto.mole.Mole object at 0x7162560cc680> must be initialized before calling SCF.\n",
      "Initialize <pyscf.gto.mole.Mole object at 0x7162560cc680> in <pyscf.scf.hf.RHF object at 0x716255e1fe30>\n"
     ]
    },
    {
     "name": "stdout",
     "output_type": "stream",
     "text": [
      "converged SCF energy = -75.9238447625642\n"
     ]
    },
    {
     "name": "stderr",
     "output_type": "stream",
     "text": [
      "Warning: <pyscf.gto.mole.Mole object at 0x716255e1dfa0> must be initialized before calling SCF.\n",
      "Initialize <pyscf.gto.mole.Mole object at 0x716255e1dfa0> in <pyscf.scf.hf.RHF object at 0x716255e1d8b0>\n"
     ]
    },
    {
     "name": "stdout",
     "output_type": "stream",
     "text": [
      "converged SCF energy = -75.923074717774\n"
     ]
    },
    {
     "name": "stderr",
     "output_type": "stream",
     "text": [
      "Warning: <pyscf.gto.mole.Mole object at 0x716255e1d040> must be initialized before calling SCF.\n",
      "Initialize <pyscf.gto.mole.Mole object at 0x716255e1d040> in <pyscf.scf.hf.RHF object at 0x716255e1dcd0>\n"
     ]
    },
    {
     "name": "stdout",
     "output_type": "stream",
     "text": [
      "converged SCF energy = -75.9252663960663\n"
     ]
    },
    {
     "name": "stderr",
     "output_type": "stream",
     "text": [
      "Warning: <pyscf.gto.mole.Mole object at 0x7162560cdf10> must be initialized before calling SCF.\n",
      "Initialize <pyscf.gto.mole.Mole object at 0x7162560cdf10> in <pyscf.scf.hf.RHF object at 0x716255e1dbb0>\n"
     ]
    },
    {
     "name": "stdout",
     "output_type": "stream",
     "text": [
      "converged SCF energy = -75.9241922329259\n"
     ]
    },
    {
     "name": "stderr",
     "output_type": "stream",
     "text": [
      "Warning: <pyscf.gto.mole.Mole object at 0x7162560ccb00> must be initialized before calling SCF.\n",
      "Initialize <pyscf.gto.mole.Mole object at 0x7162560ccb00> in <pyscf.scf.hf.RHF object at 0x716255e1cb60>\n"
     ]
    },
    {
     "name": "stdout",
     "output_type": "stream",
     "text": [
      "converged SCF energy = -75.9277660612193\n"
     ]
    },
    {
     "name": "stderr",
     "output_type": "stream",
     "text": [
      "Warning: <pyscf.gto.mole.Mole object at 0x716255f6d8b0> must be initialized before calling SCF.\n",
      "Initialize <pyscf.gto.mole.Mole object at 0x716255f6d8b0> in <pyscf.scf.hf.RHF object at 0x716255e1e1b0>\n"
     ]
    },
    {
     "name": "stdout",
     "output_type": "stream",
     "text": [
      "converged SCF energy = -75.9208104783914\n"
     ]
    },
    {
     "name": "stderr",
     "output_type": "stream",
     "text": [
      "Warning: <pyscf.gto.mole.Mole object at 0x716255e0e540> must be initialized before calling SCF.\n",
      "Initialize <pyscf.gto.mole.Mole object at 0x716255e0e540> in <pyscf.scf.hf.RHF object at 0x716255e1cb00>\n"
     ]
    },
    {
     "name": "stdout",
     "output_type": "stream",
     "text": [
      "converged SCF energy = -75.9246959290086\n"
     ]
    },
    {
     "name": "stderr",
     "output_type": "stream",
     "text": [
      "Warning: <pyscf.gto.mole.Mole object at 0x7162571a5fa0> must be initialized before calling SCF.\n",
      "Initialize <pyscf.gto.mole.Mole object at 0x7162571a5fa0> in <pyscf.scf.hf.RHF object at 0x7162560ce1b0>\n"
     ]
    },
    {
     "name": "stdout",
     "output_type": "stream",
     "text": [
      "converged SCF energy = -75.919973430406\n"
     ]
    },
    {
     "name": "stderr",
     "output_type": "stream",
     "text": [
      "Warning: <pyscf.gto.mole.Mole object at 0x71625694d760> must be initialized before calling SCF.\n",
      "Initialize <pyscf.gto.mole.Mole object at 0x71625694d760> in <pyscf.scf.hf.RHF object at 0x71625c9d8530>\n"
     ]
    },
    {
     "name": "stdout",
     "output_type": "stream",
     "text": [
      "converged SCF energy = -75.9215353263212\n"
     ]
    },
    {
     "name": "stderr",
     "output_type": "stream",
     "text": [
      "Warning: <pyscf.gto.mole.Mole object at 0x716255eddac0> must be initialized before calling SCF.\n",
      "Initialize <pyscf.gto.mole.Mole object at 0x716255eddac0> in <pyscf.scf.hf.RHF object at 0x716255dfc140>\n"
     ]
    },
    {
     "name": "stdout",
     "output_type": "stream",
     "text": [
      "converged SCF energy = -75.9269261455229\n"
     ]
    },
    {
     "name": "stderr",
     "output_type": "stream",
     "text": [
      "Warning: <pyscf.gto.mole.Mole object at 0x716255e1c500> must be initialized before calling SCF.\n",
      "Initialize <pyscf.gto.mole.Mole object at 0x716255e1c500> in <pyscf.scf.hf.RHF object at 0x716255e1c9b0>\n"
     ]
    },
    {
     "name": "stdout",
     "output_type": "stream",
     "text": [
      "converged SCF energy = -75.9260694098145\n"
     ]
    },
    {
     "name": "stderr",
     "output_type": "stream",
     "text": [
      "Warning: <pyscf.gto.mole.Mole object at 0x716255dfc140> must be initialized before calling SCF.\n",
      "Initialize <pyscf.gto.mole.Mole object at 0x716255dfc140> in <pyscf.scf.hf.RHF object at 0x716255e1dbb0>\n"
     ]
    },
    {
     "name": "stdout",
     "output_type": "stream",
     "text": [
      "converged SCF energy = -75.9228828705971\n"
     ]
    },
    {
     "name": "stderr",
     "output_type": "stream",
     "text": [
      "Warning: <pyscf.gto.mole.Mole object at 0x716255e1dac0> must be initialized before calling SCF.\n",
      "Initialize <pyscf.gto.mole.Mole object at 0x716255e1dac0> in <pyscf.scf.hf.RHF object at 0x716255e1ce00>\n"
     ]
    },
    {
     "name": "stdout",
     "output_type": "stream",
     "text": [
      "converged SCF energy = -75.9271803152508\n"
     ]
    },
    {
     "name": "stderr",
     "output_type": "stream",
     "text": [
      "Warning: <pyscf.gto.mole.Mole object at 0x716255f6e750> must be initialized before calling SCF.\n",
      "Initialize <pyscf.gto.mole.Mole object at 0x716255f6e750> in <pyscf.scf.hf.RHF object at 0x716255dfc140>\n"
     ]
    },
    {
     "name": "stdout",
     "output_type": "stream",
     "text": [
      "converged SCF energy = -75.9254406478876\n"
     ]
    },
    {
     "name": "stderr",
     "output_type": "stream",
     "text": [
      "Warning: <pyscf.gto.mole.Mole object at 0x7162c41ddbb0> must be initialized before calling SCF.\n",
      "Initialize <pyscf.gto.mole.Mole object at 0x7162c41ddbb0> in <pyscf.scf.hf.RHF object at 0x716255ef5910>\n"
     ]
    },
    {
     "name": "stdout",
     "output_type": "stream",
     "text": [
      "converged SCF energy = -75.9212968440515\n"
     ]
    },
    {
     "name": "stderr",
     "output_type": "stream",
     "text": [
      "Warning: <pyscf.gto.mole.Mole object at 0x716255dfc770> must be initialized before calling SCF.\n",
      "Initialize <pyscf.gto.mole.Mole object at 0x716255dfc770> in <pyscf.scf.hf.RHF object at 0x716255dfc140>\n"
     ]
    },
    {
     "name": "stdout",
     "output_type": "stream",
     "text": [
      "converged SCF energy = -75.9209069921133\n"
     ]
    },
    {
     "name": "stderr",
     "output_type": "stream",
     "text": [
      "Warning: <pyscf.gto.mole.Mole object at 0x7162c41ddbb0> must be initialized before calling SCF.\n",
      "Initialize <pyscf.gto.mole.Mole object at 0x7162c41ddbb0> in <pyscf.scf.hf.RHF object at 0x716255f6d130>\n"
     ]
    },
    {
     "name": "stdout",
     "output_type": "stream",
     "text": [
      "converged SCF energy = -75.9225536224455\n"
     ]
    },
    {
     "name": "stderr",
     "output_type": "stream",
     "text": [
      "Warning: <pyscf.gto.mole.Mole object at 0x716255e1e0f0> must be initialized before calling SCF.\n",
      "Initialize <pyscf.gto.mole.Mole object at 0x716255e1e0f0> in <pyscf.scf.hf.RHF object at 0x716255e1f4d0>\n"
     ]
    },
    {
     "name": "stdout",
     "output_type": "stream",
     "text": [
      "converged SCF energy = -75.9235306944107\n"
     ]
    },
    {
     "name": "stderr",
     "output_type": "stream",
     "text": [
      "Warning: <pyscf.gto.mole.Mole object at 0x716255edca40> must be initialized before calling SCF.\n",
      "Initialize <pyscf.gto.mole.Mole object at 0x716255edca40> in <pyscf.scf.hf.RHF object at 0x716255e1d640>\n"
     ]
    },
    {
     "name": "stdout",
     "output_type": "stream",
     "text": [
      "converged SCF energy = -75.9214481379996\n"
     ]
    },
    {
     "name": "stderr",
     "output_type": "stream",
     "text": [
      "Warning: <pyscf.gto.mole.Mole object at 0x716255edcb60> must be initialized before calling SCF.\n",
      "Initialize <pyscf.gto.mole.Mole object at 0x716255edcb60> in <pyscf.scf.hf.RHF object at 0x716255e1cf80>\n"
     ]
    },
    {
     "name": "stdout",
     "output_type": "stream",
     "text": [
      "converged SCF energy = -75.9234899467428\n"
     ]
    },
    {
     "name": "stderr",
     "output_type": "stream",
     "text": [
      "Warning: <pyscf.gto.mole.Mole object at 0x716255e1cce0> must be initialized before calling SCF.\n",
      "Initialize <pyscf.gto.mole.Mole object at 0x716255e1cce0> in <pyscf.scf.hf.RHF object at 0x716255e1ce00>\n"
     ]
    },
    {
     "name": "stdout",
     "output_type": "stream",
     "text": [
      "converged SCF energy = -75.9202680429599\n"
     ]
    },
    {
     "name": "stderr",
     "output_type": "stream",
     "text": [
      "Warning: <pyscf.gto.mole.Mole object at 0x716255e0f890> must be initialized before calling SCF.\n",
      "Initialize <pyscf.gto.mole.Mole object at 0x716255e0f890> in <pyscf.scf.hf.RHF object at 0x71625c9d8530>\n"
     ]
    },
    {
     "name": "stdout",
     "output_type": "stream",
     "text": [
      "converged SCF energy = -75.9237267813331\n"
     ]
    },
    {
     "name": "stderr",
     "output_type": "stream",
     "text": [
      "Warning: <pyscf.gto.mole.Mole object at 0x7162560cca10> must be initialized before calling SCF.\n",
      "Initialize <pyscf.gto.mole.Mole object at 0x7162560cca10> in <pyscf.scf.hf.RHF object at 0x716255dfc140>\n"
     ]
    },
    {
     "name": "stdout",
     "output_type": "stream",
     "text": [
      "converged SCF energy = -75.9228422597411\n"
     ]
    },
    {
     "name": "stderr",
     "output_type": "stream",
     "text": [
      "Warning: <pyscf.gto.mole.Mole object at 0x716255dfc2c0> must be initialized before calling SCF.\n",
      "Initialize <pyscf.gto.mole.Mole object at 0x716255dfc2c0> in <pyscf.scf.hf.RHF object at 0x71625c9d8530>\n"
     ]
    },
    {
     "name": "stdout",
     "output_type": "stream",
     "text": [
      "converged SCF energy = -75.9285757829846\n"
     ]
    },
    {
     "name": "stderr",
     "output_type": "stream",
     "text": [
      "Warning: <pyscf.gto.mole.Mole object at 0x716255e1dee0> must be initialized before calling SCF.\n",
      "Initialize <pyscf.gto.mole.Mole object at 0x716255e1dee0> in <pyscf.scf.hf.RHF object at 0x716255e1e8d0>\n"
     ]
    },
    {
     "name": "stdout",
     "output_type": "stream",
     "text": [
      "converged SCF energy = -75.9254186815583\n"
     ]
    },
    {
     "name": "stderr",
     "output_type": "stream",
     "text": [
      "Warning: <pyscf.gto.mole.Mole object at 0x716255f6d3d0> must be initialized before calling SCF.\n",
      "Initialize <pyscf.gto.mole.Mole object at 0x716255f6d3d0> in <pyscf.scf.hf.RHF object at 0x716255e1c050>\n"
     ]
    },
    {
     "name": "stdout",
     "output_type": "stream",
     "text": [
      "converged SCF energy = -75.923776467476\n"
     ]
    },
    {
     "name": "stderr",
     "output_type": "stream",
     "text": [
      "Warning: <pyscf.gto.mole.Mole object at 0x716255f6dee0> must be initialized before calling SCF.\n",
      "Initialize <pyscf.gto.mole.Mole object at 0x716255f6dee0> in <pyscf.scf.hf.RHF object at 0x71625c9d8530>\n"
     ]
    },
    {
     "name": "stdout",
     "output_type": "stream",
     "text": [
      "converged SCF energy = -75.9180067130883\n"
     ]
    },
    {
     "name": "stderr",
     "output_type": "stream",
     "text": [
      "Warning: <pyscf.gto.mole.Mole object at 0x7162560cdfa0> must be initialized before calling SCF.\n",
      "Initialize <pyscf.gto.mole.Mole object at 0x7162560cdfa0> in <pyscf.scf.hf.RHF object at 0x716255dfc140>\n"
     ]
    },
    {
     "name": "stdout",
     "output_type": "stream",
     "text": [
      "converged SCF energy = -75.9238993144257\n"
     ]
    },
    {
     "name": "stderr",
     "output_type": "stream",
     "text": [
      "Warning: <pyscf.gto.mole.Mole object at 0x716255e1e5a0> must be initialized before calling SCF.\n",
      "Initialize <pyscf.gto.mole.Mole object at 0x716255e1e5a0> in <pyscf.scf.hf.RHF object at 0x716255e1c440>\n"
     ]
    },
    {
     "name": "stdout",
     "output_type": "stream",
     "text": [
      "converged SCF energy = -75.9204892197568\n"
     ]
    },
    {
     "name": "stderr",
     "output_type": "stream",
     "text": [
      "Warning: <pyscf.gto.mole.Mole object at 0x7162560cc050> must be initialized before calling SCF.\n",
      "Initialize <pyscf.gto.mole.Mole object at 0x7162560cc050> in <pyscf.scf.hf.RHF object at 0x716255e1e5d0>\n"
     ]
    },
    {
     "name": "stdout",
     "output_type": "stream",
     "text": [
      "converged SCF energy = -75.9243930908212\n"
     ]
    },
    {
     "name": "stderr",
     "output_type": "stream",
     "text": [
      "Warning: <pyscf.gto.mole.Mole object at 0x716255e1d610> must be initialized before calling SCF.\n",
      "Initialize <pyscf.gto.mole.Mole object at 0x716255e1d610> in <pyscf.scf.hf.RHF object at 0x71625c9d8530>\n"
     ]
    },
    {
     "name": "stdout",
     "output_type": "stream",
     "text": [
      "converged SCF energy = -75.9253857119033\n"
     ]
    },
    {
     "name": "stderr",
     "output_type": "stream",
     "text": [
      "Warning: <pyscf.gto.mole.Mole object at 0x716255e1e750> must be initialized before calling SCF.\n",
      "Initialize <pyscf.gto.mole.Mole object at 0x716255e1e750> in <pyscf.scf.hf.RHF object at 0x7162560cc8c0>\n"
     ]
    },
    {
     "name": "stdout",
     "output_type": "stream",
     "text": [
      "converged SCF energy = -75.9239319592356\n"
     ]
    },
    {
     "name": "stderr",
     "output_type": "stream",
     "text": [
      "Warning: <pyscf.gto.mole.Mole object at 0x716255dfc2c0> must be initialized before calling SCF.\n",
      "Initialize <pyscf.gto.mole.Mole object at 0x716255dfc2c0> in <pyscf.scf.hf.RHF object at 0x716255e1c050>\n"
     ]
    },
    {
     "name": "stdout",
     "output_type": "stream",
     "text": [
      "converged SCF energy = -75.9223508839591\n"
     ]
    },
    {
     "name": "stderr",
     "output_type": "stream",
     "text": [
      "Warning: <pyscf.gto.mole.Mole object at 0x716255dfd160> must be initialized before calling SCF.\n",
      "Initialize <pyscf.gto.mole.Mole object at 0x716255dfd160> in <pyscf.scf.hf.RHF object at 0x716255f6e750>\n"
     ]
    },
    {
     "name": "stdout",
     "output_type": "stream",
     "text": [
      "converged SCF energy = -75.9236666108784\n"
     ]
    },
    {
     "name": "stderr",
     "output_type": "stream",
     "text": [
      "Warning: <pyscf.gto.mole.Mole object at 0x716255ef5550> must be initialized before calling SCF.\n",
      "Initialize <pyscf.gto.mole.Mole object at 0x716255ef5550> in <pyscf.scf.hf.RHF object at 0x71625c9d8530>\n"
     ]
    },
    {
     "name": "stdout",
     "output_type": "stream",
     "text": [
      "converged SCF energy = -75.9234593703096\n"
     ]
    },
    {
     "name": "stderr",
     "output_type": "stream",
     "text": [
      "Warning: <pyscf.gto.mole.Mole object at 0x7162560cdfa0> must be initialized before calling SCF.\n",
      "Initialize <pyscf.gto.mole.Mole object at 0x7162560cdfa0> in <pyscf.scf.hf.RHF object at 0x716255dfc140>\n"
     ]
    },
    {
     "name": "stdout",
     "output_type": "stream",
     "text": [
      "converged SCF energy = -75.922385174513\n"
     ]
    },
    {
     "name": "stderr",
     "output_type": "stream",
     "text": [
      "Warning: <pyscf.gto.mole.Mole object at 0x716255dfc2c0> must be initialized before calling SCF.\n",
      "Initialize <pyscf.gto.mole.Mole object at 0x716255dfc2c0> in <pyscf.scf.hf.RHF object at 0x716255e1cf80>\n"
     ]
    },
    {
     "name": "stdout",
     "output_type": "stream",
     "text": [
      "converged SCF energy = -75.9254936373886\n"
     ]
    },
    {
     "name": "stderr",
     "output_type": "stream",
     "text": [
      "Warning: <pyscf.gto.mole.Mole object at 0x7162560cc440> must be initialized before calling SCF.\n",
      "Initialize <pyscf.gto.mole.Mole object at 0x7162560cc440> in <pyscf.scf.hf.RHF object at 0x7162571a5fa0>\n"
     ]
    },
    {
     "name": "stdout",
     "output_type": "stream",
     "text": [
      "converged SCF energy = -75.9263284620532\n"
     ]
    },
    {
     "name": "stderr",
     "output_type": "stream",
     "text": [
      "Warning: <pyscf.gto.mole.Mole object at 0x7162560cd460> must be initialized before calling SCF.\n",
      "Initialize <pyscf.gto.mole.Mole object at 0x7162560cd460> in <pyscf.scf.hf.RHF object at 0x71625c9d8530>\n"
     ]
    },
    {
     "name": "stdout",
     "output_type": "stream",
     "text": [
      "converged SCF energy = -75.9226370074804\n"
     ]
    },
    {
     "name": "stderr",
     "output_type": "stream",
     "text": [
      "Warning: <pyscf.gto.mole.Mole object at 0x7162560cd640> must be initialized before calling SCF.\n",
      "Initialize <pyscf.gto.mole.Mole object at 0x7162560cd640> in <pyscf.scf.hf.RHF object at 0x716255e1cce0>\n"
     ]
    },
    {
     "name": "stdout",
     "output_type": "stream",
     "text": [
      "converged SCF energy = -75.9240695415101\n"
     ]
    },
    {
     "name": "stderr",
     "output_type": "stream",
     "text": [
      "Warning: <pyscf.gto.mole.Mole object at 0x716255e1e750> must be initialized before calling SCF.\n",
      "Initialize <pyscf.gto.mole.Mole object at 0x716255e1e750> in <pyscf.scf.hf.RHF object at 0x716255dfc140>\n"
     ]
    },
    {
     "name": "stdout",
     "output_type": "stream",
     "text": [
      "converged SCF energy = -75.9209291879284\n"
     ]
    },
    {
     "name": "stderr",
     "output_type": "stream",
     "text": [
      "Warning: <pyscf.gto.mole.Mole object at 0x716255e0f260> must be initialized before calling SCF.\n",
      "Initialize <pyscf.gto.mole.Mole object at 0x716255e0f260> in <pyscf.scf.hf.RHF object at 0x716255e1e000>\n"
     ]
    },
    {
     "name": "stdout",
     "output_type": "stream",
     "text": [
      "converged SCF energy = -75.9239371654934\n"
     ]
    },
    {
     "name": "stderr",
     "output_type": "stream",
     "text": [
      "Warning: <pyscf.gto.mole.Mole object at 0x7162560cc440> must be initialized before calling SCF.\n",
      "Initialize <pyscf.gto.mole.Mole object at 0x7162560cc440> in <pyscf.scf.hf.RHF object at 0x716256984350>\n"
     ]
    },
    {
     "name": "stdout",
     "output_type": "stream",
     "text": [
      "converged SCF energy = -75.9212892983647\n"
     ]
    },
    {
     "name": "stderr",
     "output_type": "stream",
     "text": [
      "Warning: <pyscf.gto.mole.Mole object at 0x7162560cd160> must be initialized before calling SCF.\n",
      "Initialize <pyscf.gto.mole.Mole object at 0x7162560cd160> in <pyscf.scf.hf.RHF object at 0x716256986fc0>\n"
     ]
    },
    {
     "name": "stdout",
     "output_type": "stream",
     "text": [
      "converged SCF energy = -75.9191958172764\n"
     ]
    },
    {
     "name": "stderr",
     "output_type": "stream",
     "text": [
      "Warning: <pyscf.gto.mole.Mole object at 0x716255e0e540> must be initialized before calling SCF.\n",
      "Initialize <pyscf.gto.mole.Mole object at 0x716255e0e540> in <pyscf.scf.hf.RHF object at 0x716256985d60>\n"
     ]
    },
    {
     "name": "stdout",
     "output_type": "stream",
     "text": [
      "converged SCF energy = -75.9203897109635\n"
     ]
    },
    {
     "name": "stderr",
     "output_type": "stream",
     "text": [
      "Warning: <pyscf.gto.mole.Mole object at 0x716255e1dc40> must be initialized before calling SCF.\n",
      "Initialize <pyscf.gto.mole.Mole object at 0x716255e1dc40> in <pyscf.scf.hf.RHF object at 0x716256987260>\n"
     ]
    },
    {
     "name": "stdout",
     "output_type": "stream",
     "text": [
      "converged SCF energy = -75.922332512425\n"
     ]
    },
    {
     "name": "stderr",
     "output_type": "stream",
     "text": [
      "Warning: <pyscf.gto.mole.Mole object at 0x716255e1c440> must be initialized before calling SCF.\n",
      "Initialize <pyscf.gto.mole.Mole object at 0x716255e1c440> in <pyscf.scf.hf.RHF object at 0x7162569840e0>\n"
     ]
    },
    {
     "name": "stdout",
     "output_type": "stream",
     "text": [
      "converged SCF energy = -75.9249819966546\n"
     ]
    },
    {
     "name": "stderr",
     "output_type": "stream",
     "text": [
      "Warning: <pyscf.gto.mole.Mole object at 0x716255e1d160> must be initialized before calling SCF.\n",
      "Initialize <pyscf.gto.mole.Mole object at 0x716255e1d160> in <pyscf.scf.hf.RHF object at 0x7162560cc8c0>\n"
     ]
    },
    {
     "name": "stdout",
     "output_type": "stream",
     "text": [
      "converged SCF energy = -75.922038521518\n"
     ]
    },
    {
     "name": "stderr",
     "output_type": "stream",
     "text": [
      "Warning: <pyscf.gto.mole.Mole object at 0x71625c9d8530> must be initialized before calling SCF.\n",
      "Initialize <pyscf.gto.mole.Mole object at 0x71625c9d8530> in <pyscf.scf.hf.RHF object at 0x716255e1e180>\n"
     ]
    },
    {
     "name": "stdout",
     "output_type": "stream",
     "text": [
      "converged SCF energy = -75.9204093264164\n"
     ]
    },
    {
     "name": "stderr",
     "output_type": "stream",
     "text": [
      "Warning: <pyscf.gto.mole.Mole object at 0x716255dfc140> must be initialized before calling SCF.\n",
      "Initialize <pyscf.gto.mole.Mole object at 0x716255dfc140> in <pyscf.scf.hf.RHF object at 0x7162560cd640>\n"
     ]
    },
    {
     "name": "stdout",
     "output_type": "stream",
     "text": [
      "converged SCF energy = -75.9235813977302\n"
     ]
    },
    {
     "name": "stderr",
     "output_type": "stream",
     "text": [
      "Warning: <pyscf.gto.mole.Mole object at 0x716255e1e180> must be initialized before calling SCF.\n",
      "Initialize <pyscf.gto.mole.Mole object at 0x716255e1e180> in <pyscf.scf.hf.RHF object at 0x716256987260>\n"
     ]
    },
    {
     "name": "stdout",
     "output_type": "stream",
     "text": [
      "converged SCF energy = -75.9275242179861\n"
     ]
    },
    {
     "name": "stderr",
     "output_type": "stream",
     "text": [
      "Warning: <pyscf.gto.mole.Mole object at 0x716255dfc140> must be initialized before calling SCF.\n",
      "Initialize <pyscf.gto.mole.Mole object at 0x716255dfc140> in <pyscf.scf.hf.RHF object at 0x716255e1e5a0>\n"
     ]
    },
    {
     "name": "stdout",
     "output_type": "stream",
     "text": [
      "converged SCF energy = -75.9256084766713\n"
     ]
    },
    {
     "name": "stderr",
     "output_type": "stream",
     "text": [
      "Warning: <pyscf.gto.mole.Mole object at 0x7162560ccad0> must be initialized before calling SCF.\n",
      "Initialize <pyscf.gto.mole.Mole object at 0x7162560ccad0> in <pyscf.scf.hf.RHF object at 0x7162560cda90>\n"
     ]
    },
    {
     "name": "stdout",
     "output_type": "stream",
     "text": [
      "converged SCF energy = -75.9233536998034\n"
     ]
    },
    {
     "name": "stderr",
     "output_type": "stream",
     "text": [
      "Warning: <pyscf.gto.mole.Mole object at 0x71625694fd10> must be initialized before calling SCF.\n",
      "Initialize <pyscf.gto.mole.Mole object at 0x71625694fd10> in <pyscf.scf.hf.RHF object at 0x716255dfc140>\n"
     ]
    },
    {
     "name": "stdout",
     "output_type": "stream",
     "text": [
      "converged SCF energy = -75.9212785244545\n"
     ]
    },
    {
     "name": "stderr",
     "output_type": "stream",
     "text": [
      "Warning: <pyscf.gto.mole.Mole object at 0x716256986ba0> must be initialized before calling SCF.\n",
      "Initialize <pyscf.gto.mole.Mole object at 0x716256986ba0> in <pyscf.scf.hf.RHF object at 0x716256987260>\n"
     ]
    },
    {
     "name": "stdout",
     "output_type": "stream",
     "text": [
      "converged SCF energy = -75.9215736888693\n"
     ]
    },
    {
     "name": "stderr",
     "output_type": "stream",
     "text": [
      "Warning: <pyscf.gto.mole.Mole object at 0x71625694fd10> must be initialized before calling SCF.\n",
      "Initialize <pyscf.gto.mole.Mole object at 0x71625694fd10> in <pyscf.scf.hf.RHF object at 0x716255f748f0>\n"
     ]
    },
    {
     "name": "stdout",
     "output_type": "stream",
     "text": [
      "converged SCF energy = -75.924115187493\n"
     ]
    },
    {
     "name": "stderr",
     "output_type": "stream",
     "text": [
      "Warning: <pyscf.gto.mole.Mole object at 0x716255dfc140> must be initialized before calling SCF.\n",
      "Initialize <pyscf.gto.mole.Mole object at 0x716255dfc140> in <pyscf.scf.hf.RHF object at 0x716255e0f260>\n"
     ]
    },
    {
     "name": "stdout",
     "output_type": "stream",
     "text": [
      "converged SCF energy = -75.9280261577138\n"
     ]
    },
    {
     "name": "stderr",
     "output_type": "stream",
     "text": [
      "Warning: <pyscf.gto.mole.Mole object at 0x71625694fd10> must be initialized before calling SCF.\n",
      "Initialize <pyscf.gto.mole.Mole object at 0x71625694fd10> in <pyscf.scf.hf.RHF object at 0x716255e1f590>\n"
     ]
    },
    {
     "name": "stdout",
     "output_type": "stream",
     "text": [
      "converged SCF energy = -75.9243855498351\n"
     ]
    },
    {
     "name": "stderr",
     "output_type": "stream",
     "text": [
      "Warning: <pyscf.gto.mole.Mole object at 0x716255dfc140> must be initialized before calling SCF.\n",
      "Initialize <pyscf.gto.mole.Mole object at 0x716255dfc140> in <pyscf.scf.hf.RHF object at 0x716255e1e180>\n"
     ]
    },
    {
     "name": "stdout",
     "output_type": "stream",
     "text": [
      "converged SCF energy = -75.9210246852226\n"
     ]
    },
    {
     "name": "stderr",
     "output_type": "stream",
     "text": [
      "Warning: <pyscf.gto.mole.Mole object at 0x71625694fd10> must be initialized before calling SCF.\n",
      "Initialize <pyscf.gto.mole.Mole object at 0x71625694fd10> in <pyscf.scf.hf.RHF object at 0x716256984500>\n"
     ]
    },
    {
     "name": "stdout",
     "output_type": "stream",
     "text": [
      "converged SCF energy = -75.9187207092636\n"
     ]
    },
    {
     "name": "stderr",
     "output_type": "stream",
     "text": [
      "Warning: <pyscf.gto.mole.Mole object at 0x716255e1db50> must be initialized before calling SCF.\n",
      "Initialize <pyscf.gto.mole.Mole object at 0x716255e1db50> in <pyscf.scf.hf.RHF object at 0x71625c9d8530>\n"
     ]
    },
    {
     "name": "stdout",
     "output_type": "stream",
     "text": [
      "converged SCF energy = -75.9271963630863\n"
     ]
    },
    {
     "name": "stderr",
     "output_type": "stream",
     "text": [
      "Warning: <pyscf.gto.mole.Mole object at 0x71625694fd10> must be initialized before calling SCF.\n",
      "Initialize <pyscf.gto.mole.Mole object at 0x71625694fd10> in <pyscf.scf.hf.RHF object at 0x716255e1ecf0>\n"
     ]
    },
    {
     "name": "stdout",
     "output_type": "stream",
     "text": [
      "converged SCF energy = -75.9254595930117\n"
     ]
    },
    {
     "name": "stderr",
     "output_type": "stream",
     "text": [
      "Warning: <pyscf.gto.mole.Mole object at 0x7162569879e0> must be initialized before calling SCF.\n",
      "Initialize <pyscf.gto.mole.Mole object at 0x7162569879e0> in <pyscf.scf.hf.RHF object at 0x7162569861b0>\n"
     ]
    },
    {
     "name": "stdout",
     "output_type": "stream",
     "text": [
      "converged SCF energy = -75.9262124284774\n"
     ]
    },
    {
     "name": "stderr",
     "output_type": "stream",
     "text": [
      "Warning: <pyscf.gto.mole.Mole object at 0x71625694fd10> must be initialized before calling SCF.\n",
      "Initialize <pyscf.gto.mole.Mole object at 0x71625694fd10> in <pyscf.scf.hf.RHF object at 0x716256987e90>\n"
     ]
    },
    {
     "name": "stdout",
     "output_type": "stream",
     "text": [
      "converged SCF energy = -75.9223472932935\n"
     ]
    },
    {
     "name": "stderr",
     "output_type": "stream",
     "text": [
      "Warning: <pyscf.gto.mole.Mole object at 0x716256985c40> must be initialized before calling SCF.\n",
      "Initialize <pyscf.gto.mole.Mole object at 0x716256985c40> in <pyscf.scf.hf.RHF object at 0x7162569861b0>\n"
     ]
    },
    {
     "name": "stdout",
     "output_type": "stream",
     "text": [
      "converged SCF energy = -75.9223963162446\n"
     ]
    },
    {
     "name": "stderr",
     "output_type": "stream",
     "text": [
      "Warning: <pyscf.gto.mole.Mole object at 0x7162560ccef0> must be initialized before calling SCF.\n",
      "Initialize <pyscf.gto.mole.Mole object at 0x7162560ccef0> in <pyscf.scf.hf.RHF object at 0x716256987590>\n"
     ]
    },
    {
     "name": "stdout",
     "output_type": "stream",
     "text": [
      "converged SCF energy = -75.9203417554601\n"
     ]
    },
    {
     "name": "stderr",
     "output_type": "stream",
     "text": [
      "Warning: <pyscf.gto.mole.Mole object at 0x716255e1ecf0> must be initialized before calling SCF.\n",
      "Initialize <pyscf.gto.mole.Mole object at 0x716255e1ecf0> in <pyscf.scf.hf.RHF object at 0x7162560cce30>\n"
     ]
    },
    {
     "name": "stdout",
     "output_type": "stream",
     "text": [
      "converged SCF energy = -75.9241830593036\n"
     ]
    },
    {
     "name": "stderr",
     "output_type": "stream",
     "text": [
      "Warning: <pyscf.gto.mole.Mole object at 0x7162560ccef0> must be initialized before calling SCF.\n",
      "Initialize <pyscf.gto.mole.Mole object at 0x7162560ccef0> in <pyscf.scf.hf.RHF object at 0x7162560ce1b0>\n"
     ]
    },
    {
     "name": "stdout",
     "output_type": "stream",
     "text": [
      "converged SCF energy = -75.9192376820314\n"
     ]
    },
    {
     "name": "stderr",
     "output_type": "stream",
     "text": [
      "Warning: <pyscf.gto.mole.Mole object at 0x716255e1ecf0> must be initialized before calling SCF.\n",
      "Initialize <pyscf.gto.mole.Mole object at 0x716255e1ecf0> in <pyscf.scf.hf.RHF object at 0x716255dfc140>\n"
     ]
    },
    {
     "name": "stdout",
     "output_type": "stream",
     "text": [
      "converged SCF energy = -75.9257166019708\n"
     ]
    },
    {
     "name": "stderr",
     "output_type": "stream",
     "text": [
      "Warning: <pyscf.gto.mole.Mole object at 0x7162560ce1b0> must be initialized before calling SCF.\n",
      "Initialize <pyscf.gto.mole.Mole object at 0x7162560ce1b0> in <pyscf.scf.hf.RHF object at 0x716256987d70>\n"
     ]
    },
    {
     "name": "stdout",
     "output_type": "stream",
     "text": [
      "converged SCF energy = -75.9190599610815\n"
     ]
    },
    {
     "name": "stderr",
     "output_type": "stream",
     "text": [
      "Warning: <pyscf.gto.mole.Mole object at 0x716255e1cef0> must be initialized before calling SCF.\n",
      "Initialize <pyscf.gto.mole.Mole object at 0x716255e1cef0> in <pyscf.scf.hf.RHF object at 0x716255dfc140>\n"
     ]
    },
    {
     "name": "stdout",
     "output_type": "stream",
     "text": [
      "converged SCF energy = -75.9263951673071\n"
     ]
    },
    {
     "name": "stderr",
     "output_type": "stream",
     "text": [
      "Warning: <pyscf.gto.mole.Mole object at 0x7162560ce1b0> must be initialized before calling SCF.\n",
      "Initialize <pyscf.gto.mole.Mole object at 0x7162560ce1b0> in <pyscf.scf.hf.RHF object at 0x716255e1ce30>\n"
     ]
    },
    {
     "name": "stdout",
     "output_type": "stream",
     "text": [
      "converged SCF energy = -75.9225836150179\n"
     ]
    },
    {
     "name": "stderr",
     "output_type": "stream",
     "text": [
      "Warning: <pyscf.gto.mole.Mole object at 0x716256986d80> must be initialized before calling SCF.\n",
      "Initialize <pyscf.gto.mole.Mole object at 0x716256986d80> in <pyscf.scf.hf.RHF object at 0x7162569853d0>\n"
     ]
    },
    {
     "name": "stdout",
     "output_type": "stream",
     "text": [
      "converged SCF energy = -75.9247222401775\n"
     ]
    },
    {
     "name": "stderr",
     "output_type": "stream",
     "text": [
      "Warning: <pyscf.gto.mole.Mole object at 0x7162560cc8c0> must be initialized before calling SCF.\n",
      "Initialize <pyscf.gto.mole.Mole object at 0x7162560cc8c0> in <pyscf.scf.hf.RHF object at 0x71625c9d8530>\n"
     ]
    },
    {
     "name": "stdout",
     "output_type": "stream",
     "text": [
      "converged SCF energy = -75.9234478937113\n"
     ]
    },
    {
     "name": "stderr",
     "output_type": "stream",
     "text": [
      "Warning: <pyscf.gto.mole.Mole object at 0x716255e1dca0> must be initialized before calling SCF.\n",
      "Initialize <pyscf.gto.mole.Mole object at 0x716255e1dca0> in <pyscf.scf.hf.RHF object at 0x716256986ba0>\n"
     ]
    },
    {
     "name": "stdout",
     "output_type": "stream",
     "text": [
      "converged SCF energy = -75.9238627033358\n"
     ]
    },
    {
     "name": "stderr",
     "output_type": "stream",
     "text": [
      "Warning: <pyscf.gto.mole.Mole object at 0x716255e1c9e0> must be initialized before calling SCF.\n",
      "Initialize <pyscf.gto.mole.Mole object at 0x716255e1c9e0> in <pyscf.scf.hf.RHF object at 0x7162569861b0>\n"
     ]
    },
    {
     "name": "stdout",
     "output_type": "stream",
     "text": [
      "converged SCF energy = -75.9241765250926\n"
     ]
    },
    {
     "name": "stderr",
     "output_type": "stream",
     "text": [
      "Warning: <pyscf.gto.mole.Mole object at 0x7162560cc8c0> must be initialized before calling SCF.\n",
      "Initialize <pyscf.gto.mole.Mole object at 0x7162560cc8c0> in <pyscf.scf.hf.RHF object at 0x716256985ca0>\n"
     ]
    },
    {
     "name": "stdout",
     "output_type": "stream",
     "text": [
      "converged SCF energy = -75.9248244883737\n"
     ]
    },
    {
     "name": "stderr",
     "output_type": "stream",
     "text": [
      "Warning: <pyscf.gto.mole.Mole object at 0x716255ef4860> must be initialized before calling SCF.\n",
      "Initialize <pyscf.gto.mole.Mole object at 0x716255ef4860> in <pyscf.scf.hf.RHF object at 0x7162569861b0>\n"
     ]
    },
    {
     "name": "stdout",
     "output_type": "stream",
     "text": [
      "converged SCF energy = -75.9256588664024\n"
     ]
    },
    {
     "name": "stderr",
     "output_type": "stream",
     "text": [
      "Warning: <pyscf.gto.mole.Mole object at 0x716255dfc140> must be initialized before calling SCF.\n",
      "Initialize <pyscf.gto.mole.Mole object at 0x716255dfc140> in <pyscf.scf.hf.RHF object at 0x7162569853d0>\n"
     ]
    },
    {
     "name": "stdout",
     "output_type": "stream",
     "text": [
      "converged SCF energy = -75.9256913624665\n"
     ]
    },
    {
     "name": "stderr",
     "output_type": "stream",
     "text": [
      "Warning: <pyscf.gto.mole.Mole object at 0x716255e1ed80> must be initialized before calling SCF.\n",
      "Initialize <pyscf.gto.mole.Mole object at 0x716255e1ed80> in <pyscf.scf.hf.RHF object at 0x7162569861b0>\n"
     ]
    },
    {
     "name": "stdout",
     "output_type": "stream",
     "text": [
      "converged SCF energy = -75.920591399353\n"
     ]
    },
    {
     "name": "stderr",
     "output_type": "stream",
     "text": [
      "Warning: <pyscf.gto.mole.Mole object at 0x7162569871a0> must be initialized before calling SCF.\n",
      "Initialize <pyscf.gto.mole.Mole object at 0x7162569871a0> in <pyscf.scf.hf.RHF object at 0x716255e0ff80>\n"
     ]
    },
    {
     "name": "stdout",
     "output_type": "stream",
     "text": [
      "converged SCF energy = -75.9255166106853\n"
     ]
    },
    {
     "name": "stderr",
     "output_type": "stream",
     "text": [
      "Warning: <pyscf.gto.mole.Mole object at 0x716255e1c9e0> must be initialized before calling SCF.\n",
      "Initialize <pyscf.gto.mole.Mole object at 0x716255e1c9e0> in <pyscf.scf.hf.RHF object at 0x7162569861b0>\n"
     ]
    },
    {
     "name": "stdout",
     "output_type": "stream",
     "text": [
      "converged SCF energy = -75.9248697634302\n"
     ]
    },
    {
     "name": "stderr",
     "output_type": "stream",
     "text": [
      "Warning: <pyscf.gto.mole.Mole object at 0x716255f6d490> must be initialized before calling SCF.\n",
      "Initialize <pyscf.gto.mole.Mole object at 0x716255f6d490> in <pyscf.scf.hf.RHF object at 0x71625c9d8530>\n"
     ]
    },
    {
     "name": "stdout",
     "output_type": "stream",
     "text": [
      "converged SCF energy = -75.9221443830908\n"
     ]
    },
    {
     "name": "stderr",
     "output_type": "stream",
     "text": [
      "Warning: <pyscf.gto.mole.Mole object at 0x716255dfc140> must be initialized before calling SCF.\n",
      "Initialize <pyscf.gto.mole.Mole object at 0x716255dfc140> in <pyscf.scf.hf.RHF object at 0x7162569861b0>\n"
     ]
    },
    {
     "name": "stdout",
     "output_type": "stream",
     "text": [
      "converged SCF energy = -75.9220871346128\n"
     ]
    },
    {
     "name": "stderr",
     "output_type": "stream",
     "text": [
      "Warning: <pyscf.gto.mole.Mole object at 0x7162560cc5f0> must be initialized before calling SCF.\n",
      "Initialize <pyscf.gto.mole.Mole object at 0x7162560cc5f0> in <pyscf.scf.hf.RHF object at 0x7162569848c0>\n"
     ]
    },
    {
     "name": "stdout",
     "output_type": "stream",
     "text": [
      "converged SCF energy = -75.9255263992191\n"
     ]
    },
    {
     "name": "stderr",
     "output_type": "stream",
     "text": [
      "Warning: <pyscf.gto.mole.Mole object at 0x716255f6ff50> must be initialized before calling SCF.\n",
      "Initialize <pyscf.gto.mole.Mole object at 0x716255f6ff50> in <pyscf.scf.hf.RHF object at 0x7162569861b0>\n"
     ]
    },
    {
     "name": "stdout",
     "output_type": "stream",
     "text": [
      "converged SCF energy = -75.9241930043751\n"
     ]
    },
    {
     "name": "stderr",
     "output_type": "stream",
     "text": [
      "Warning: <pyscf.gto.mole.Mole object at 0x7162560cecf0> must be initialized before calling SCF.\n",
      "Initialize <pyscf.gto.mole.Mole object at 0x7162560cecf0> in <pyscf.scf.hf.RHF object at 0x716256984800>\n"
     ]
    },
    {
     "name": "stdout",
     "output_type": "stream",
     "text": [
      "converged SCF energy = -75.9203908724176\n"
     ]
    },
    {
     "name": "stderr",
     "output_type": "stream",
     "text": [
      "Warning: <pyscf.gto.mole.Mole object at 0x7162569861b0> must be initialized before calling SCF.\n",
      "Initialize <pyscf.gto.mole.Mole object at 0x7162569861b0> in <pyscf.scf.hf.RHF object at 0x716255e1e9f0>\n"
     ]
    },
    {
     "name": "stdout",
     "output_type": "stream",
     "text": [
      "converged SCF energy = -75.9228428040868\n"
     ]
    },
    {
     "name": "stderr",
     "output_type": "stream",
     "text": [
      "Warning: <pyscf.gto.mole.Mole object at 0x716255f6d490> must be initialized before calling SCF.\n",
      "Initialize <pyscf.gto.mole.Mole object at 0x716255f6d490> in <pyscf.scf.hf.RHF object at 0x716255e1dca0>\n"
     ]
    },
    {
     "name": "stdout",
     "output_type": "stream",
     "text": [
      "converged SCF energy = -75.9229341788457\n"
     ]
    },
    {
     "name": "stderr",
     "output_type": "stream",
     "text": [
      "Warning: <pyscf.gto.mole.Mole object at 0x716256987680> must be initialized before calling SCF.\n",
      "Initialize <pyscf.gto.mole.Mole object at 0x716256987680> in <pyscf.scf.hf.RHF object at 0x7162569861b0>\n"
     ]
    },
    {
     "name": "stdout",
     "output_type": "stream",
     "text": [
      "converged SCF energy = -75.9225975381118\n"
     ]
    },
    {
     "name": "stderr",
     "output_type": "stream",
     "text": [
      "Warning: <pyscf.gto.mole.Mole object at 0x716256985ca0> must be initialized before calling SCF.\n",
      "Initialize <pyscf.gto.mole.Mole object at 0x716256985ca0> in <pyscf.scf.hf.RHF object at 0x71625c9d8530>\n"
     ]
    },
    {
     "name": "stdout",
     "output_type": "stream",
     "text": [
      "converged SCF energy = -75.9248867447046\n"
     ]
    },
    {
     "name": "stderr",
     "output_type": "stream",
     "text": [
      "Warning: <pyscf.gto.mole.Mole object at 0x7162560cde50> must be initialized before calling SCF.\n",
      "Initialize <pyscf.gto.mole.Mole object at 0x7162560cde50> in <pyscf.scf.hf.RHF object at 0x7162569861b0>\n"
     ]
    },
    {
     "name": "stdout",
     "output_type": "stream",
     "text": [
      "converged SCF energy = -75.9232891269103\n"
     ]
    },
    {
     "name": "stderr",
     "output_type": "stream",
     "text": [
      "Warning: <pyscf.gto.mole.Mole object at 0x7162560cecf0> must be initialized before calling SCF.\n",
      "Initialize <pyscf.gto.mole.Mole object at 0x7162560cecf0> in <pyscf.scf.hf.RHF object at 0x716255dfc140>\n"
     ]
    },
    {
     "name": "stdout",
     "output_type": "stream",
     "text": [
      "converged SCF energy = -75.9224725756861\n"
     ]
    },
    {
     "name": "stderr",
     "output_type": "stream",
     "text": [
      "Warning: <pyscf.gto.mole.Mole object at 0x7162560cde50> must be initialized before calling SCF.\n",
      "Initialize <pyscf.gto.mole.Mole object at 0x7162560cde50> in <pyscf.scf.hf.RHF object at 0x7162560ce1b0>\n"
     ]
    },
    {
     "name": "stdout",
     "output_type": "stream",
     "text": [
      "converged SCF energy = -75.9257053568938\n"
     ]
    },
    {
     "name": "stderr",
     "output_type": "stream",
     "text": [
      "Warning: <pyscf.gto.mole.Mole object at 0x716255dfc140> must be initialized before calling SCF.\n",
      "Initialize <pyscf.gto.mole.Mole object at 0x716255dfc140> in <pyscf.scf.hf.RHF object at 0x71625c9d8530>\n"
     ]
    },
    {
     "name": "stdout",
     "output_type": "stream",
     "text": [
      "converged SCF energy = -75.9217539224846\n"
     ]
    },
    {
     "name": "stderr",
     "output_type": "stream",
     "text": [
      "Warning: <pyscf.gto.mole.Mole object at 0x71625694fd10> must be initialized before calling SCF.\n",
      "Initialize <pyscf.gto.mole.Mole object at 0x71625694fd10> in <pyscf.scf.hf.RHF object at 0x7162560ce1b0>\n"
     ]
    },
    {
     "name": "stdout",
     "output_type": "stream",
     "text": [
      "converged SCF energy = -75.9208795902092\n"
     ]
    },
    {
     "name": "stderr",
     "output_type": "stream",
     "text": [
      "Warning: <pyscf.gto.mole.Mole object at 0x716255dfc140> must be initialized before calling SCF.\n",
      "Initialize <pyscf.gto.mole.Mole object at 0x716255dfc140> in <pyscf.scf.hf.RHF object at 0x716255e0e060>\n"
     ]
    },
    {
     "name": "stdout",
     "output_type": "stream",
     "text": [
      "converged SCF energy = -75.9196198553112\n"
     ]
    },
    {
     "name": "stderr",
     "output_type": "stream",
     "text": [
      "Warning: <pyscf.gto.mole.Mole object at 0x7162560ce1b0> must be initialized before calling SCF.\n",
      "Initialize <pyscf.gto.mole.Mole object at 0x7162560ce1b0> in <pyscf.scf.hf.RHF object at 0x716258762fc0>\n"
     ]
    },
    {
     "name": "stdout",
     "output_type": "stream",
     "text": [
      "converged SCF energy = -75.9248471517949\n"
     ]
    },
    {
     "name": "stderr",
     "output_type": "stream",
     "text": [
      "Warning: <pyscf.gto.mole.Mole object at 0x716255dfc140> must be initialized before calling SCF.\n",
      "Initialize <pyscf.gto.mole.Mole object at 0x716255dfc140> in <pyscf.scf.hf.RHF object at 0x716256985490>\n"
     ]
    },
    {
     "name": "stdout",
     "output_type": "stream",
     "text": [
      "converged SCF energy = -75.9267477554185\n"
     ]
    },
    {
     "name": "stderr",
     "output_type": "stream",
     "text": [
      "Warning: <pyscf.gto.mole.Mole object at 0x71625694fd10> must be initialized before calling SCF.\n",
      "Initialize <pyscf.gto.mole.Mole object at 0x71625694fd10> in <pyscf.scf.hf.RHF object at 0x716255e1f350>\n"
     ]
    },
    {
     "name": "stdout",
     "output_type": "stream",
     "text": [
      "converged SCF energy = -75.9202961533474\n"
     ]
    },
    {
     "name": "stderr",
     "output_type": "stream",
     "text": [
      "Warning: <pyscf.gto.mole.Mole object at 0x7162569869f0> must be initialized before calling SCF.\n",
      "Initialize <pyscf.gto.mole.Mole object at 0x7162569869f0> in <pyscf.scf.hf.RHF object at 0x716255e1e150>\n"
     ]
    },
    {
     "name": "stdout",
     "output_type": "stream",
     "text": [
      "converged SCF energy = -75.9236833698961\n"
     ]
    },
    {
     "name": "stderr",
     "output_type": "stream",
     "text": [
      "Warning: <pyscf.gto.mole.Mole object at 0x71625694fd10> must be initialized before calling SCF.\n",
      "Initialize <pyscf.gto.mole.Mole object at 0x71625694fd10> in <pyscf.scf.hf.RHF object at 0x716255f73f80>\n"
     ]
    },
    {
     "name": "stdout",
     "output_type": "stream",
     "text": [
      "converged SCF energy = -75.9268868154847\n"
     ]
    },
    {
     "name": "stderr",
     "output_type": "stream",
     "text": [
      "Warning: <pyscf.gto.mole.Mole object at 0x71625c6f9160> must be initialized before calling SCF.\n",
      "Initialize <pyscf.gto.mole.Mole object at 0x71625c6f9160> in <pyscf.scf.hf.RHF object at 0x716256986060>\n"
     ]
    },
    {
     "name": "stdout",
     "output_type": "stream",
     "text": [
      "converged SCF energy = -75.9272501389614\n"
     ]
    },
    {
     "name": "stderr",
     "output_type": "stream",
     "text": [
      "Warning: <pyscf.gto.mole.Mole object at 0x71625694fd10> must be initialized before calling SCF.\n",
      "Initialize <pyscf.gto.mole.Mole object at 0x71625694fd10> in <pyscf.scf.hf.RHF object at 0x716255f73f80>\n"
     ]
    },
    {
     "name": "stdout",
     "output_type": "stream",
     "text": [
      "converged SCF energy = -75.9249760477095\n"
     ]
    },
    {
     "name": "stderr",
     "output_type": "stream",
     "text": [
      "Warning: <pyscf.gto.mole.Mole object at 0x716255e1e9f0> must be initialized before calling SCF.\n",
      "Initialize <pyscf.gto.mole.Mole object at 0x716255e1e9f0> in <pyscf.scf.hf.RHF object at 0x716255dfc140>\n"
     ]
    },
    {
     "name": "stdout",
     "output_type": "stream",
     "text": [
      "converged SCF energy = -75.9226227834317\n"
     ]
    },
    {
     "name": "stderr",
     "output_type": "stream",
     "text": [
      "Warning: <pyscf.gto.mole.Mole object at 0x71625694fd10> must be initialized before calling SCF.\n",
      "Initialize <pyscf.gto.mole.Mole object at 0x71625694fd10> in <pyscf.scf.hf.RHF object at 0x7162560ce1b0>\n"
     ]
    },
    {
     "name": "stdout",
     "output_type": "stream",
     "text": [
      "converged SCF energy = -75.9258575030383\n"
     ]
    },
    {
     "name": "stderr",
     "output_type": "stream",
     "text": [
      "Warning: <pyscf.gto.mole.Mole object at 0x716256985280> must be initialized before calling SCF.\n",
      "Initialize <pyscf.gto.mole.Mole object at 0x716256985280> in <pyscf.scf.hf.RHF object at 0x716255dfc140>\n"
     ]
    },
    {
     "name": "stdout",
     "output_type": "stream",
     "text": [
      "converged SCF energy = -75.9258871964488\n"
     ]
    },
    {
     "name": "stderr",
     "output_type": "stream",
     "text": [
      "Warning: <pyscf.gto.mole.Mole object at 0x71625694fd10> must be initialized before calling SCF.\n",
      "Initialize <pyscf.gto.mole.Mole object at 0x71625694fd10> in <pyscf.scf.hf.RHF object at 0x7162560ce1b0>\n"
     ]
    },
    {
     "name": "stdout",
     "output_type": "stream",
     "text": [
      "converged SCF energy = -75.9252885507171\n"
     ]
    },
    {
     "name": "stderr",
     "output_type": "stream",
     "text": [
      "Warning: <pyscf.gto.mole.Mole object at 0x716258761700> must be initialized before calling SCF.\n",
      "Initialize <pyscf.gto.mole.Mole object at 0x716258761700> in <pyscf.scf.hf.RHF object at 0x716255dfc140>\n"
     ]
    },
    {
     "name": "stdout",
     "output_type": "stream",
     "text": [
      "converged SCF energy = -75.9178296176695\n"
     ]
    },
    {
     "name": "stderr",
     "output_type": "stream",
     "text": [
      "Warning: <pyscf.gto.mole.Mole object at 0x71625694fd10> must be initialized before calling SCF.\n",
      "Initialize <pyscf.gto.mole.Mole object at 0x71625694fd10> in <pyscf.scf.hf.RHF object at 0x7162560ce1b0>\n"
     ]
    },
    {
     "name": "stdout",
     "output_type": "stream",
     "text": [
      "converged SCF energy = -75.9222857977259\n"
     ]
    },
    {
     "name": "stderr",
     "output_type": "stream",
     "text": [
      "Warning: <pyscf.gto.mole.Mole object at 0x716255f6f290> must be initialized before calling SCF.\n",
      "Initialize <pyscf.gto.mole.Mole object at 0x716255f6f290> in <pyscf.scf.hf.RHF object at 0x716255e22d80>\n"
     ]
    },
    {
     "name": "stdout",
     "output_type": "stream",
     "text": [
      "converged SCF energy = -75.9262838303447\n"
     ]
    },
    {
     "name": "stderr",
     "output_type": "stream",
     "text": [
      "Warning: <pyscf.gto.mole.Mole object at 0x71625694fd10> must be initialized before calling SCF.\n",
      "Initialize <pyscf.gto.mole.Mole object at 0x71625694fd10> in <pyscf.scf.hf.RHF object at 0x7162560ce1b0>\n"
     ]
    },
    {
     "name": "stdout",
     "output_type": "stream",
     "text": [
      "converged SCF energy = -75.9271497740769\n"
     ]
    },
    {
     "name": "stderr",
     "output_type": "stream",
     "text": [
      "Warning: <pyscf.gto.mole.Mole object at 0x716255e21dc0> must be initialized before calling SCF.\n",
      "Initialize <pyscf.gto.mole.Mole object at 0x716255e21dc0> in <pyscf.scf.hf.RHF object at 0x71625c9d8530>\n"
     ]
    },
    {
     "name": "stdout",
     "output_type": "stream",
     "text": [
      "converged SCF energy = -75.9244138792634\n"
     ]
    },
    {
     "name": "stderr",
     "output_type": "stream",
     "text": [
      "Warning: <pyscf.gto.mole.Mole object at 0x71625694fd10> must be initialized before calling SCF.\n",
      "Initialize <pyscf.gto.mole.Mole object at 0x71625694fd10> in <pyscf.scf.hf.RHF object at 0x7162560ce1b0>\n"
     ]
    },
    {
     "name": "stdout",
     "output_type": "stream",
     "text": [
      "converged SCF energy = -75.9221170526787\n"
     ]
    },
    {
     "name": "stderr",
     "output_type": "stream",
     "text": [
      "Warning: <pyscf.gto.mole.Mole object at 0x716255e0a8d0> must be initialized before calling SCF.\n",
      "Initialize <pyscf.gto.mole.Mole object at 0x716255e0a8d0> in <pyscf.scf.hf.RHF object at 0x716255dfc140>\n"
     ]
    },
    {
     "name": "stdout",
     "output_type": "stream",
     "text": [
      "converged SCF energy = -75.9215832356353\n"
     ]
    },
    {
     "name": "stderr",
     "output_type": "stream",
     "text": [
      "Warning: <pyscf.gto.mole.Mole object at 0x71625694fd10> must be initialized before calling SCF.\n",
      "Initialize <pyscf.gto.mole.Mole object at 0x71625694fd10> in <pyscf.scf.hf.RHF object at 0x7162560ce1b0>\n"
     ]
    },
    {
     "name": "stdout",
     "output_type": "stream",
     "text": [
      "converged SCF energy = -75.9248898757344\n"
     ]
    },
    {
     "name": "stderr",
     "output_type": "stream",
     "text": [
      "Warning: <pyscf.gto.mole.Mole object at 0x716255dfc140> must be initialized before calling SCF.\n",
      "Initialize <pyscf.gto.mole.Mole object at 0x716255dfc140> in <pyscf.scf.hf.RHF object at 0x716255e21eb0>\n"
     ]
    },
    {
     "name": "stdout",
     "output_type": "stream",
     "text": [
      "converged SCF energy = -75.9246016829915\n"
     ]
    },
    {
     "name": "stderr",
     "output_type": "stream",
     "text": [
      "Warning: <pyscf.gto.mole.Mole object at 0x716257afad80> must be initialized before calling SCF.\n",
      "Initialize <pyscf.gto.mole.Mole object at 0x716257afad80> in <pyscf.scf.hf.RHF object at 0x7162560ce1b0>\n"
     ]
    },
    {
     "name": "stdout",
     "output_type": "stream",
     "text": [
      "converged SCF energy = -75.9236151086371\n"
     ]
    },
    {
     "name": "stderr",
     "output_type": "stream",
     "text": [
      "Warning: <pyscf.gto.mole.Mole object at 0x71625692ba40> must be initialized before calling SCF.\n",
      "Initialize <pyscf.gto.mole.Mole object at 0x71625692ba40> in <pyscf.scf.hf.RHF object at 0x716255e207d0>\n"
     ]
    },
    {
     "name": "stdout",
     "output_type": "stream",
     "text": [
      "converged SCF energy = -75.9238402642232\n"
     ]
    },
    {
     "name": "stderr",
     "output_type": "stream",
     "text": [
      "Warning: <pyscf.gto.mole.Mole object at 0x716255f6d490> must be initialized before calling SCF.\n",
      "Initialize <pyscf.gto.mole.Mole object at 0x716255f6d490> in <pyscf.scf.hf.RHF object at 0x7162560ce1b0>\n"
     ]
    },
    {
     "name": "stdout",
     "output_type": "stream",
     "text": [
      "converged SCF energy = -75.9217294056964\n"
     ]
    },
    {
     "name": "stderr",
     "output_type": "stream",
     "text": [
      "Warning: <pyscf.gto.mole.Mole object at 0x71625692ba40> must be initialized before calling SCF.\n",
      "Initialize <pyscf.gto.mole.Mole object at 0x71625692ba40> in <pyscf.scf.hf.RHF object at 0x716255e22b10>\n"
     ]
    },
    {
     "name": "stdout",
     "output_type": "stream",
     "text": [
      "converged SCF energy = -75.9225424711133\n"
     ]
    },
    {
     "name": "stderr",
     "output_type": "stream",
     "text": [
      "Warning: <pyscf.gto.mole.Mole object at 0x716255f73f80> must be initialized before calling SCF.\n",
      "Initialize <pyscf.gto.mole.Mole object at 0x716255f73f80> in <pyscf.scf.hf.RHF object at 0x7162560ce1b0>\n"
     ]
    },
    {
     "name": "stdout",
     "output_type": "stream",
     "text": [
      "converged SCF energy = -75.9220502151239\n"
     ]
    },
    {
     "name": "stderr",
     "output_type": "stream",
     "text": [
      "Warning: <pyscf.gto.mole.Mole object at 0x716255e1f290> must be initialized before calling SCF.\n",
      "Initialize <pyscf.gto.mole.Mole object at 0x716255e1f290> in <pyscf.scf.hf.RHF object at 0x716255dfc140>\n"
     ]
    },
    {
     "name": "stdout",
     "output_type": "stream",
     "text": [
      "converged SCF energy = -75.9236408978699\n"
     ]
    },
    {
     "name": "stderr",
     "output_type": "stream",
     "text": [
      "Warning: <pyscf.gto.mole.Mole object at 0x7162560ce1b0> must be initialized before calling SCF.\n",
      "Initialize <pyscf.gto.mole.Mole object at 0x7162560ce1b0> in <pyscf.scf.hf.RHF object at 0x71625c9d8530>\n"
     ]
    },
    {
     "name": "stdout",
     "output_type": "stream",
     "text": [
      "converged SCF energy = -75.9252317671718\n"
     ]
    },
    {
     "name": "stderr",
     "output_type": "stream",
     "text": [
      "Warning: <pyscf.gto.mole.Mole object at 0x71625694fd10> must be initialized before calling SCF.\n",
      "Initialize <pyscf.gto.mole.Mole object at 0x71625694fd10> in <pyscf.scf.hf.RHF object at 0x716255e20ef0>\n"
     ]
    },
    {
     "name": "stdout",
     "output_type": "stream",
     "text": [
      "converged SCF energy = -75.9251438929886\n"
     ]
    },
    {
     "name": "stderr",
     "output_type": "stream",
     "text": [
      "Warning: <pyscf.gto.mole.Mole object at 0x716255f25220> must be initialized before calling SCF.\n",
      "Initialize <pyscf.gto.mole.Mole object at 0x716255f25220> in <pyscf.scf.hf.RHF object at 0x7162560ce1b0>\n"
     ]
    },
    {
     "name": "stdout",
     "output_type": "stream",
     "text": [
      "converged SCF energy = -75.9203727618148\n"
     ]
    },
    {
     "name": "stderr",
     "output_type": "stream",
     "text": [
      "Warning: <pyscf.gto.mole.Mole object at 0x71625694fd10> must be initialized before calling SCF.\n",
      "Initialize <pyscf.gto.mole.Mole object at 0x71625694fd10> in <pyscf.scf.hf.RHF object at 0x716255e23e90>\n"
     ]
    },
    {
     "name": "stdout",
     "output_type": "stream",
     "text": [
      "converged SCF energy = -75.9253690107576\n"
     ]
    },
    {
     "name": "stderr",
     "output_type": "stream",
     "text": [
      "Warning: <pyscf.gto.mole.Mole object at 0x7162560ce1b0> must be initialized before calling SCF.\n",
      "Initialize <pyscf.gto.mole.Mole object at 0x7162560ce1b0> in <pyscf.scf.hf.RHF object at 0x716255e23ef0>\n"
     ]
    },
    {
     "name": "stdout",
     "output_type": "stream",
     "text": [
      "converged SCF energy = -75.9244296321171\n"
     ]
    },
    {
     "name": "stderr",
     "output_type": "stream",
     "text": [
      "Warning: <pyscf.gto.mole.Mole object at 0x716255dfc140> must be initialized before calling SCF.\n",
      "Initialize <pyscf.gto.mole.Mole object at 0x716255dfc140> in <pyscf.scf.hf.RHF object at 0x716255e208f0>\n"
     ]
    },
    {
     "name": "stdout",
     "output_type": "stream",
     "text": [
      "converged SCF energy = -75.9194189519378\n"
     ]
    },
    {
     "name": "stderr",
     "output_type": "stream",
     "text": [
      "Warning: <pyscf.gto.mole.Mole object at 0x716258783890> must be initialized before calling SCF.\n",
      "Initialize <pyscf.gto.mole.Mole object at 0x716258783890> in <pyscf.scf.hf.RHF object at 0x7162560ce1b0>\n"
     ]
    },
    {
     "name": "stdout",
     "output_type": "stream",
     "text": [
      "converged SCF energy = -75.9258044280676\n"
     ]
    },
    {
     "name": "stderr",
     "output_type": "stream",
     "text": [
      "Warning: <pyscf.gto.mole.Mole object at 0x716255dfc140> must be initialized before calling SCF.\n",
      "Initialize <pyscf.gto.mole.Mole object at 0x716255dfc140> in <pyscf.scf.hf.RHF object at 0x716255e208f0>\n"
     ]
    },
    {
     "name": "stdout",
     "output_type": "stream",
     "text": [
      "converged SCF energy = -75.9234159422132\n"
     ]
    },
    {
     "name": "stderr",
     "output_type": "stream",
     "text": [
      "Warning: <pyscf.gto.mole.Mole object at 0x716255e228d0> must be initialized before calling SCF.\n",
      "Initialize <pyscf.gto.mole.Mole object at 0x716255e228d0> in <pyscf.scf.hf.RHF object at 0x7162569861b0>\n"
     ]
    },
    {
     "name": "stdout",
     "output_type": "stream",
     "text": [
      "converged SCF energy = -75.9220523704881\n"
     ]
    },
    {
     "name": "stderr",
     "output_type": "stream",
     "text": [
      "Warning: <pyscf.gto.mole.Mole object at 0x716255e208f0> must be initialized before calling SCF.\n",
      "Initialize <pyscf.gto.mole.Mole object at 0x716255e208f0> in <pyscf.scf.hf.RHF object at 0x716255e23e90>\n"
     ]
    },
    {
     "name": "stdout",
     "output_type": "stream",
     "text": [
      "converged SCF energy = -75.9212892649008\n"
     ]
    },
    {
     "name": "stderr",
     "output_type": "stream",
     "text": [
      "Warning: <pyscf.gto.mole.Mole object at 0x7162569861b0> must be initialized before calling SCF.\n",
      "Initialize <pyscf.gto.mole.Mole object at 0x7162569861b0> in <pyscf.scf.hf.RHF object at 0x716255e228d0>\n"
     ]
    },
    {
     "name": "stdout",
     "output_type": "stream",
     "text": [
      "converged SCF energy = -75.9266600803145\n"
     ]
    },
    {
     "name": "stderr",
     "output_type": "stream",
     "text": [
      "Warning: <pyscf.gto.mole.Mole object at 0x71625694fd10> must be initialized before calling SCF.\n",
      "Initialize <pyscf.gto.mole.Mole object at 0x71625694fd10> in <pyscf.scf.hf.RHF object at 0x716255e21af0>\n"
     ]
    },
    {
     "name": "stdout",
     "output_type": "stream",
     "text": [
      "converged SCF energy = -75.9262189875362\n"
     ]
    },
    {
     "name": "stderr",
     "output_type": "stream",
     "text": [
      "Warning: <pyscf.gto.mole.Mole object at 0x716256985280> must be initialized before calling SCF.\n",
      "Initialize <pyscf.gto.mole.Mole object at 0x716256985280> in <pyscf.scf.hf.RHF object at 0x7162569861b0>\n"
     ]
    },
    {
     "name": "stdout",
     "output_type": "stream",
     "text": [
      "converged SCF energy = -75.9237669769192\n"
     ]
    },
    {
     "name": "stderr",
     "output_type": "stream",
     "text": [
      "Warning: <pyscf.gto.mole.Mole object at 0x716255e23980> must be initialized before calling SCF.\n",
      "Initialize <pyscf.gto.mole.Mole object at 0x716255e23980> in <pyscf.scf.hf.RHF object at 0x716255e10860>\n"
     ]
    },
    {
     "name": "stdout",
     "output_type": "stream",
     "text": [
      "converged SCF energy = -75.9223955147589\n"
     ]
    },
    {
     "name": "stderr",
     "output_type": "stream",
     "text": [
      "Warning: <pyscf.gto.mole.Mole object at 0x716256985280> must be initialized before calling SCF.\n",
      "Initialize <pyscf.gto.mole.Mole object at 0x716256985280> in <pyscf.scf.hf.RHF object at 0x7162569861b0>\n"
     ]
    },
    {
     "name": "stdout",
     "output_type": "stream",
     "text": [
      "converged SCF energy = -75.9252948087651\n"
     ]
    },
    {
     "name": "stderr",
     "output_type": "stream",
     "text": [
      "Warning: <pyscf.gto.mole.Mole object at 0x716255e20a70> must be initialized before calling SCF.\n",
      "Initialize <pyscf.gto.mole.Mole object at 0x716255e20a70> in <pyscf.scf.hf.RHF object at 0x716255e107d0>\n"
     ]
    },
    {
     "name": "stdout",
     "output_type": "stream",
     "text": [
      "converged SCF energy = -75.9250043111437\n"
     ]
    },
    {
     "name": "stderr",
     "output_type": "stream",
     "text": [
      "Warning: <pyscf.gto.mole.Mole object at 0x716255e212e0> must be initialized before calling SCF.\n",
      "Initialize <pyscf.gto.mole.Mole object at 0x716255e212e0> in <pyscf.scf.hf.RHF object at 0x7162569861b0>\n"
     ]
    },
    {
     "name": "stdout",
     "output_type": "stream",
     "text": [
      "converged SCF energy = -75.9185847059609\n"
     ]
    },
    {
     "name": "stderr",
     "output_type": "stream",
     "text": [
      "Warning: <pyscf.gto.mole.Mole object at 0x71625692b4a0> must be initialized before calling SCF.\n",
      "Initialize <pyscf.gto.mole.Mole object at 0x71625692b4a0> in <pyscf.scf.hf.RHF object at 0x71625c9d8530>\n"
     ]
    },
    {
     "name": "stdout",
     "output_type": "stream",
     "text": [
      "converged SCF energy = -75.923715868739\n"
     ]
    },
    {
     "name": "stderr",
     "output_type": "stream",
     "text": [
      "Warning: <pyscf.gto.mole.Mole object at 0x716255e23980> must be initialized before calling SCF.\n",
      "Initialize <pyscf.gto.mole.Mole object at 0x716255e23980> in <pyscf.scf.hf.RHF object at 0x7162569861b0>\n"
     ]
    },
    {
     "name": "stdout",
     "output_type": "stream",
     "text": [
      "converged SCF energy = -75.9229882377007\n"
     ]
    },
    {
     "name": "stderr",
     "output_type": "stream",
     "text": [
      "Warning: <pyscf.gto.mole.Mole object at 0x716256985280> must be initialized before calling SCF.\n",
      "Initialize <pyscf.gto.mole.Mole object at 0x716256985280> in <pyscf.scf.hf.RHF object at 0x71625692b4a0>\n"
     ]
    },
    {
     "name": "stdout",
     "output_type": "stream",
     "text": [
      "converged SCF energy = -75.9231565596366\n"
     ]
    },
    {
     "name": "stderr",
     "output_type": "stream",
     "text": [
      "Warning: <pyscf.gto.mole.Mole object at 0x71625694fd10> must be initialized before calling SCF.\n",
      "Initialize <pyscf.gto.mole.Mole object at 0x71625694fd10> in <pyscf.scf.hf.RHF object at 0x71625c9d8530>\n"
     ]
    },
    {
     "name": "stdout",
     "output_type": "stream",
     "text": [
      "converged SCF energy = -75.9261244319116\n"
     ]
    },
    {
     "name": "stderr",
     "output_type": "stream",
     "text": [
      "Warning: <pyscf.gto.mole.Mole object at 0x716255e0a8d0> must be initialized before calling SCF.\n",
      "Initialize <pyscf.gto.mole.Mole object at 0x716255e0a8d0> in <pyscf.scf.hf.RHF object at 0x7162569861b0>\n"
     ]
    },
    {
     "name": "stdout",
     "output_type": "stream",
     "text": [
      "converged SCF energy = -75.9249720335564\n"
     ]
    },
    {
     "name": "stderr",
     "output_type": "stream",
     "text": [
      "Warning: <pyscf.gto.mole.Mole object at 0x71625694fd10> must be initialized before calling SCF.\n",
      "Initialize <pyscf.gto.mole.Mole object at 0x71625694fd10> in <pyscf.scf.hf.RHF object at 0x71625c9d8530>\n"
     ]
    },
    {
     "name": "stdout",
     "output_type": "stream",
     "text": [
      "converged SCF energy = -75.9212422855373\n"
     ]
    },
    {
     "name": "stderr",
     "output_type": "stream",
     "text": [
      "Warning: <pyscf.gto.mole.Mole object at 0x716255e239e0> must be initialized before calling SCF.\n",
      "Initialize <pyscf.gto.mole.Mole object at 0x716255e239e0> in <pyscf.scf.hf.RHF object at 0x7162569861b0>\n"
     ]
    },
    {
     "name": "stdout",
     "output_type": "stream",
     "text": [
      "converged SCF energy = -75.9266880963576\n"
     ]
    },
    {
     "name": "stderr",
     "output_type": "stream",
     "text": [
      "Warning: <pyscf.gto.mole.Mole object at 0x71625694fd10> must be initialized before calling SCF.\n",
      "Initialize <pyscf.gto.mole.Mole object at 0x71625694fd10> in <pyscf.scf.hf.RHF object at 0x716255e08d40>\n"
     ]
    },
    {
     "name": "stdout",
     "output_type": "stream",
     "text": [
      "converged SCF energy = -75.9240701490579\n"
     ]
    },
    {
     "name": "stderr",
     "output_type": "stream",
     "text": [
      "Warning: <pyscf.gto.mole.Mole object at 0x716255e213d0> must be initialized before calling SCF.\n",
      "Initialize <pyscf.gto.mole.Mole object at 0x716255e213d0> in <pyscf.scf.hf.RHF object at 0x7162560ce1b0>\n"
     ]
    },
    {
     "name": "stdout",
     "output_type": "stream",
     "text": [
      "converged SCF energy = -75.9211648148446\n"
     ]
    },
    {
     "name": "stderr",
     "output_type": "stream",
     "text": [
      "Warning: <pyscf.gto.mole.Mole object at 0x71625694fd10> must be initialized before calling SCF.\n",
      "Initialize <pyscf.gto.mole.Mole object at 0x71625694fd10> in <pyscf.scf.hf.RHF object at 0x716256986240>\n"
     ]
    },
    {
     "name": "stdout",
     "output_type": "stream",
     "text": [
      "converged SCF energy = -75.9230379467799\n"
     ]
    },
    {
     "name": "stderr",
     "output_type": "stream",
     "text": [
      "Warning: <pyscf.gto.mole.Mole object at 0x7162569861b0> must be initialized before calling SCF.\n",
      "Initialize <pyscf.gto.mole.Mole object at 0x7162569861b0> in <pyscf.scf.hf.RHF object at 0x716255e113d0>\n"
     ]
    },
    {
     "name": "stdout",
     "output_type": "stream",
     "text": [
      "converged SCF energy = -75.9193248132316\n"
     ]
    },
    {
     "name": "stderr",
     "output_type": "stream",
     "text": [
      "Warning: <pyscf.gto.mole.Mole object at 0x71625694fd10> must be initialized before calling SCF.\n",
      "Initialize <pyscf.gto.mole.Mole object at 0x71625694fd10> in <pyscf.scf.hf.RHF object at 0x716255e20860>\n"
     ]
    },
    {
     "name": "stdout",
     "output_type": "stream",
     "text": [
      "converged SCF energy = -75.9255673422586\n"
     ]
    },
    {
     "name": "stderr",
     "output_type": "stream",
     "text": [
      "Warning: <pyscf.gto.mole.Mole object at 0x716258783890> must be initialized before calling SCF.\n",
      "Initialize <pyscf.gto.mole.Mole object at 0x716258783890> in <pyscf.scf.hf.RHF object at 0x7162569861b0>\n"
     ]
    },
    {
     "name": "stdout",
     "output_type": "stream",
     "text": [
      "converged SCF energy = -75.9272735215488\n"
     ]
    },
    {
     "name": "stderr",
     "output_type": "stream",
     "text": [
      "Warning: <pyscf.gto.mole.Mole object at 0x71625694fd10> must be initialized before calling SCF.\n",
      "Initialize <pyscf.gto.mole.Mole object at 0x71625694fd10> in <pyscf.scf.hf.RHF object at 0x716255e23950>\n"
     ]
    },
    {
     "name": "stdout",
     "output_type": "stream",
     "text": [
      "converged SCF energy = -75.9265506250293\n"
     ]
    },
    {
     "name": "stderr",
     "output_type": "stream",
     "text": [
      "Warning: <pyscf.gto.mole.Mole object at 0x716255e20d10> must be initialized before calling SCF.\n",
      "Initialize <pyscf.gto.mole.Mole object at 0x716255e20d10> in <pyscf.scf.hf.RHF object at 0x7162560ce1b0>\n"
     ]
    },
    {
     "name": "stdout",
     "output_type": "stream",
     "text": [
      "converged SCF energy = -75.9230188103384\n"
     ]
    },
    {
     "name": "stderr",
     "output_type": "stream",
     "text": [
      "Warning: <pyscf.gto.mole.Mole object at 0x716255e22b70> must be initialized before calling SCF.\n",
      "Initialize <pyscf.gto.mole.Mole object at 0x716255e22b70> in <pyscf.scf.hf.RHF object at 0x71625c9d8530>\n"
     ]
    },
    {
     "name": "stdout",
     "output_type": "stream",
     "text": [
      "converged SCF energy = -75.9274811061744\n"
     ]
    },
    {
     "name": "stderr",
     "output_type": "stream",
     "text": [
      "Warning: <pyscf.gto.mole.Mole object at 0x7162569861b0> must be initialized before calling SCF.\n",
      "Initialize <pyscf.gto.mole.Mole object at 0x7162569861b0> in <pyscf.scf.hf.RHF object at 0x716255e10bf0>\n"
     ]
    },
    {
     "name": "stdout",
     "output_type": "stream",
     "text": [
      "converged SCF energy = -75.9234112623873\n"
     ]
    },
    {
     "name": "stderr",
     "output_type": "stream",
     "text": [
      "Warning: <pyscf.gto.mole.Mole object at 0x716255e228d0> must be initialized before calling SCF.\n",
      "Initialize <pyscf.gto.mole.Mole object at 0x716255e228d0> in <pyscf.scf.hf.RHF object at 0x716255e10860>\n"
     ]
    },
    {
     "name": "stdout",
     "output_type": "stream",
     "text": [
      "converged SCF energy = -75.9184919542067\n"
     ]
    },
    {
     "name": "stderr",
     "output_type": "stream",
     "text": [
      "Warning: <pyscf.gto.mole.Mole object at 0x716255e22360> must be initialized before calling SCF.\n",
      "Initialize <pyscf.gto.mole.Mole object at 0x716255e22360> in <pyscf.scf.hf.RHF object at 0x7162569861b0>\n"
     ]
    },
    {
     "name": "stdout",
     "output_type": "stream",
     "text": [
      "converged SCF energy = -75.9219265105182\n"
     ]
    },
    {
     "name": "stderr",
     "output_type": "stream",
     "text": [
      "Warning: <pyscf.gto.mole.Mole object at 0x716255e10560> must be initialized before calling SCF.\n",
      "Initialize <pyscf.gto.mole.Mole object at 0x716255e10560> in <pyscf.scf.hf.RHF object at 0x716255e10cb0>\n"
     ]
    },
    {
     "name": "stdout",
     "output_type": "stream",
     "text": [
      "converged SCF energy = -75.9248235162302\n"
     ]
    },
    {
     "name": "stderr",
     "output_type": "stream",
     "text": [
      "Warning: <pyscf.gto.mole.Mole object at 0x716255e213d0> must be initialized before calling SCF.\n",
      "Initialize <pyscf.gto.mole.Mole object at 0x716255e213d0> in <pyscf.scf.hf.RHF object at 0x7162560ce1b0>\n"
     ]
    },
    {
     "name": "stdout",
     "output_type": "stream",
     "text": [
      "converged SCF energy = -75.9255141780941\n"
     ]
    },
    {
     "name": "stderr",
     "output_type": "stream",
     "text": [
      "Warning: <pyscf.gto.mole.Mole object at 0x716258783890> must be initialized before calling SCF.\n",
      "Initialize <pyscf.gto.mole.Mole object at 0x716258783890> in <pyscf.scf.hf.RHF object at 0x716255e13e90>\n"
     ]
    },
    {
     "name": "stdout",
     "output_type": "stream",
     "text": [
      "converged SCF energy = -75.926757760312\n"
     ]
    },
    {
     "name": "stderr",
     "output_type": "stream",
     "text": [
      "Warning: <pyscf.gto.mole.Mole object at 0x7162569861b0> must be initialized before calling SCF.\n",
      "Initialize <pyscf.gto.mole.Mole object at 0x7162569861b0> in <pyscf.scf.hf.RHF object at 0x716255e13aa0>\n"
     ]
    },
    {
     "name": "stdout",
     "output_type": "stream",
     "text": [
      "converged SCF energy = -75.9221929691582\n"
     ]
    },
    {
     "name": "stderr",
     "output_type": "stream",
     "text": [
      "Warning: <pyscf.gto.mole.Mole object at 0x716255e22810> must be initialized before calling SCF.\n",
      "Initialize <pyscf.gto.mole.Mole object at 0x716255e22810> in <pyscf.scf.hf.RHF object at 0x71625c9d8530>\n"
     ]
    },
    {
     "name": "stdout",
     "output_type": "stream",
     "text": [
      "converged SCF energy = -75.9240720987489\n"
     ]
    },
    {
     "name": "stderr",
     "output_type": "stream",
     "text": [
      "Warning: <pyscf.gto.mole.Mole object at 0x716255e20d10> must be initialized before calling SCF.\n",
      "Initialize <pyscf.gto.mole.Mole object at 0x716255e20d10> in <pyscf.scf.hf.RHF object at 0x7162569861b0>\n"
     ]
    },
    {
     "name": "stdout",
     "output_type": "stream",
     "text": [
      "converged SCF energy = -75.9243469999265\n"
     ]
    },
    {
     "name": "stderr",
     "output_type": "stream",
     "text": [
      "Warning: <pyscf.gto.mole.Mole object at 0x716255e13230> must be initialized before calling SCF.\n",
      "Initialize <pyscf.gto.mole.Mole object at 0x716255e13230> in <pyscf.scf.hf.RHF object at 0x716255e13b30>\n"
     ]
    },
    {
     "name": "stdout",
     "output_type": "stream",
     "text": [
      "converged SCF energy = -75.9177814343682\n"
     ]
    },
    {
     "name": "stderr",
     "output_type": "stream",
     "text": [
      "Warning: <pyscf.gto.mole.Mole object at 0x7162560ce1b0> must be initialized before calling SCF.\n",
      "Initialize <pyscf.gto.mole.Mole object at 0x7162560ce1b0> in <pyscf.scf.hf.RHF object at 0x716255e10800>\n"
     ]
    },
    {
     "name": "stdout",
     "output_type": "stream",
     "text": [
      "converged SCF energy = -75.9252714689138\n"
     ]
    },
    {
     "name": "stderr",
     "output_type": "stream",
     "text": [
      "Warning: <pyscf.gto.mole.Mole object at 0x716255e10b60> must be initialized before calling SCF.\n",
      "Initialize <pyscf.gto.mole.Mole object at 0x716255e10b60> in <pyscf.scf.hf.RHF object at 0x716255e13bf0>\n"
     ]
    },
    {
     "name": "stdout",
     "output_type": "stream",
     "text": [
      "converged SCF energy = -75.9250237568921\n"
     ]
    },
    {
     "name": "stderr",
     "output_type": "stream",
     "text": [
      "Warning: <pyscf.gto.mole.Mole object at 0x7162560ce1b0> must be initialized before calling SCF.\n",
      "Initialize <pyscf.gto.mole.Mole object at 0x7162560ce1b0> in <pyscf.scf.hf.RHF object at 0x716255e13d40>\n"
     ]
    },
    {
     "name": "stdout",
     "output_type": "stream",
     "text": [
      "converged SCF energy = -75.9262903810989\n"
     ]
    },
    {
     "name": "stderr",
     "output_type": "stream",
     "text": [
      "Warning: <pyscf.gto.mole.Mole object at 0x716255e10800> must be initialized before calling SCF.\n",
      "Initialize <pyscf.gto.mole.Mole object at 0x716255e10800> in <pyscf.scf.hf.RHF object at 0x716255e138f0>\n"
     ]
    },
    {
     "name": "stdout",
     "output_type": "stream",
     "text": [
      "converged SCF energy = -75.9272333561816\n"
     ]
    },
    {
     "name": "stderr",
     "output_type": "stream",
     "text": [
      "Warning: <pyscf.gto.mole.Mole object at 0x7162560ce1b0> must be initialized before calling SCF.\n",
      "Initialize <pyscf.gto.mole.Mole object at 0x7162560ce1b0> in <pyscf.scf.hf.RHF object at 0x716255e20740>\n"
     ]
    },
    {
     "name": "stdout",
     "output_type": "stream",
     "text": [
      "converged SCF energy = -75.9219810135941\n"
     ]
    },
    {
     "name": "stderr",
     "output_type": "stream",
     "text": [
      "Warning: <pyscf.gto.mole.Mole object at 0x716255e12360> must be initialized before calling SCF.\n",
      "Initialize <pyscf.gto.mole.Mole object at 0x716255e12360> in <pyscf.scf.hf.RHF object at 0x716255e10a70>\n"
     ]
    },
    {
     "name": "stdout",
     "output_type": "stream",
     "text": [
      "converged SCF energy = -75.9234808010465\n"
     ]
    },
    {
     "name": "stderr",
     "output_type": "stream",
     "text": [
      "Warning: <pyscf.gto.mole.Mole object at 0x7162560ce1b0> must be initialized before calling SCF.\n",
      "Initialize <pyscf.gto.mole.Mole object at 0x7162560ce1b0> in <pyscf.scf.hf.RHF object at 0x716255e12720>\n"
     ]
    },
    {
     "name": "stdout",
     "output_type": "stream",
     "text": [
      "converged SCF energy = -75.9248940135719\n"
     ]
    },
    {
     "name": "stderr",
     "output_type": "stream",
     "text": [
      "Warning: <pyscf.gto.mole.Mole object at 0x716255e120f0> must be initialized before calling SCF.\n",
      "Initialize <pyscf.gto.mole.Mole object at 0x716255e120f0> in <pyscf.scf.hf.RHF object at 0x716255e13c20>\n"
     ]
    },
    {
     "name": "stdout",
     "output_type": "stream",
     "text": [
      "converged SCF energy = -75.9257725031823\n"
     ]
    },
    {
     "name": "stderr",
     "output_type": "stream",
     "text": [
      "Warning: <pyscf.gto.mole.Mole object at 0x716255e23b30> must be initialized before calling SCF.\n",
      "Initialize <pyscf.gto.mole.Mole object at 0x716255e23b30> in <pyscf.scf.hf.RHF object at 0x7162560ce1b0>\n"
     ]
    },
    {
     "name": "stdout",
     "output_type": "stream",
     "text": [
      "converged SCF energy = -75.9264804173339\n"
     ]
    },
    {
     "name": "stderr",
     "output_type": "stream",
     "text": [
      "Warning: <pyscf.gto.mole.Mole object at 0x716255e12030> must be initialized before calling SCF.\n",
      "Initialize <pyscf.gto.mole.Mole object at 0x716255e12030> in <pyscf.scf.hf.RHF object at 0x716255e10740>\n"
     ]
    },
    {
     "name": "stdout",
     "output_type": "stream",
     "text": [
      "converged SCF energy = -75.9271614467543\n"
     ]
    },
    {
     "name": "stderr",
     "output_type": "stream",
     "text": [
      "Warning: <pyscf.gto.mole.Mole object at 0x716255e21f10> must be initialized before calling SCF.\n",
      "Initialize <pyscf.gto.mole.Mole object at 0x716255e21f10> in <pyscf.scf.hf.RHF object at 0x71625c9d8530>\n"
     ]
    },
    {
     "name": "stdout",
     "output_type": "stream",
     "text": [
      "converged SCF energy = -75.9237037995558\n"
     ]
    },
    {
     "name": "stderr",
     "output_type": "stream",
     "text": [
      "Warning: <pyscf.gto.mole.Mole object at 0x7162569861b0> must be initialized before calling SCF.\n",
      "Initialize <pyscf.gto.mole.Mole object at 0x7162569861b0> in <pyscf.scf.hf.RHF object at 0x716255e13da0>\n"
     ]
    },
    {
     "name": "stdout",
     "output_type": "stream",
     "text": [
      "converged SCF energy = -75.9237165703505\n"
     ]
    },
    {
     "name": "stderr",
     "output_type": "stream",
     "text": [
      "Warning: <pyscf.gto.mole.Mole object at 0x716255e13a40> must be initialized before calling SCF.\n",
      "Initialize <pyscf.gto.mole.Mole object at 0x716255e13a40> in <pyscf.scf.hf.RHF object at 0x716255e12d80>\n"
     ]
    },
    {
     "name": "stdout",
     "output_type": "stream",
     "text": [
      "converged SCF energy = -75.9242522207017\n"
     ]
    },
    {
     "name": "stderr",
     "output_type": "stream",
     "text": [
      "Warning: <pyscf.gto.mole.Mole object at 0x716255e20b30> must be initialized before calling SCF.\n",
      "Initialize <pyscf.gto.mole.Mole object at 0x716255e20b30> in <pyscf.scf.hf.RHF object at 0x7162569861b0>\n"
     ]
    },
    {
     "name": "stdout",
     "output_type": "stream",
     "text": [
      "converged SCF energy = -75.9232149250095\n"
     ]
    },
    {
     "name": "stderr",
     "output_type": "stream",
     "text": [
      "Warning: <pyscf.gto.mole.Mole object at 0x716255e22660> must be initialized before calling SCF.\n",
      "Initialize <pyscf.gto.mole.Mole object at 0x716255e22660> in <pyscf.scf.hf.RHF object at 0x716255e12750>\n"
     ]
    },
    {
     "name": "stdout",
     "output_type": "stream",
     "text": [
      "converged SCF energy = -75.9219350102259\n"
     ]
    },
    {
     "name": "stderr",
     "output_type": "stream",
     "text": [
      "Warning: <pyscf.gto.mole.Mole object at 0x7162560ce1b0> must be initialized before calling SCF.\n",
      "Initialize <pyscf.gto.mole.Mole object at 0x7162560ce1b0> in <pyscf.scf.hf.RHF object at 0x716255e20d10>\n"
     ]
    },
    {
     "name": "stdout",
     "output_type": "stream",
     "text": [
      "converged SCF energy = -75.9245406358372\n"
     ]
    },
    {
     "name": "stderr",
     "output_type": "stream",
     "text": [
      "Warning: <pyscf.gto.mole.Mole object at 0x716255e12750> must be initialized before calling SCF.\n",
      "Initialize <pyscf.gto.mole.Mole object at 0x716255e12750> in <pyscf.scf.hf.RHF object at 0x716255e12ea0>\n"
     ]
    },
    {
     "name": "stdout",
     "output_type": "stream",
     "text": [
      "converged SCF energy = -75.9256327922772\n"
     ]
    },
    {
     "name": "stderr",
     "output_type": "stream",
     "text": [
      "Warning: <pyscf.gto.mole.Mole object at 0x7162560ce1b0> must be initialized before calling SCF.\n",
      "Initialize <pyscf.gto.mole.Mole object at 0x7162560ce1b0> in <pyscf.scf.hf.RHF object at 0x716255e129c0>\n"
     ]
    },
    {
     "name": "stdout",
     "output_type": "stream",
     "text": [
      "converged SCF energy = -75.9236753004426\n"
     ]
    },
    {
     "name": "stderr",
     "output_type": "stream",
     "text": [
      "Warning: <pyscf.gto.mole.Mole object at 0x716255e20b30> must be initialized before calling SCF.\n",
      "Initialize <pyscf.gto.mole.Mole object at 0x716255e20b30> in <pyscf.scf.hf.RHF object at 0x716255e13fb0>\n"
     ]
    },
    {
     "name": "stdout",
     "output_type": "stream",
     "text": [
      "converged SCF energy = -75.9231401033917\n"
     ]
    },
    {
     "name": "stderr",
     "output_type": "stream",
     "text": [
      "Warning: <pyscf.gto.mole.Mole object at 0x716255e22b40> must be initialized before calling SCF.\n",
      "Initialize <pyscf.gto.mole.Mole object at 0x716255e22b40> in <pyscf.scf.hf.RHF object at 0x7162560ce1b0>\n"
     ]
    },
    {
     "name": "stdout",
     "output_type": "stream",
     "text": [
      "converged SCF energy = -75.9270300827856\n"
     ]
    },
    {
     "name": "stderr",
     "output_type": "stream",
     "text": [
      "Warning: <pyscf.gto.mole.Mole object at 0x716255e13e90> must be initialized before calling SCF.\n",
      "Initialize <pyscf.gto.mole.Mole object at 0x716255e13e90> in <pyscf.scf.hf.RHF object at 0x716255e135c0>\n"
     ]
    },
    {
     "name": "stdout",
     "output_type": "stream",
     "text": [
      "converged SCF energy = -75.9236583279056\n"
     ]
    },
    {
     "name": "stderr",
     "output_type": "stream",
     "text": [
      "Warning: <pyscf.gto.mole.Mole object at 0x716255e23bc0> must be initialized before calling SCF.\n",
      "Initialize <pyscf.gto.mole.Mole object at 0x716255e23bc0> in <pyscf.scf.hf.RHF object at 0x7162569861b0>\n"
     ]
    },
    {
     "name": "stdout",
     "output_type": "stream",
     "text": [
      "converged SCF energy = -75.9263768625814\n"
     ]
    },
    {
     "name": "stderr",
     "output_type": "stream",
     "text": [
      "Warning: <pyscf.gto.mole.Mole object at 0x716255e0f1d0> must be initialized before calling SCF.\n",
      "Initialize <pyscf.gto.mole.Mole object at 0x716255e0f1d0> in <pyscf.scf.hf.RHF object at 0x71625c9d8530>\n"
     ]
    },
    {
     "name": "stdout",
     "output_type": "stream",
     "text": [
      "converged SCF energy = -75.9249107807668\n"
     ]
    },
    {
     "name": "stderr",
     "output_type": "stream",
     "text": [
      "Warning: <pyscf.gto.mole.Mole object at 0x7162560ce1b0> must be initialized before calling SCF.\n",
      "Initialize <pyscf.gto.mole.Mole object at 0x7162560ce1b0> in <pyscf.scf.hf.RHF object at 0x716255e11f10>\n"
     ]
    },
    {
     "name": "stdout",
     "output_type": "stream",
     "text": [
      "converged SCF energy = -75.923757499209\n"
     ]
    },
    {
     "name": "stderr",
     "output_type": "stream",
     "text": [
      "Warning: <pyscf.gto.mole.Mole object at 0x716258013bc0> must be initialized before calling SCF.\n",
      "Initialize <pyscf.gto.mole.Mole object at 0x716258013bc0> in <pyscf.scf.hf.RHF object at 0x716255e20ad0>\n"
     ]
    },
    {
     "name": "stdout",
     "output_type": "stream",
     "text": [
      "converged SCF energy = -75.9226283086523\n"
     ]
    },
    {
     "name": "stderr",
     "output_type": "stream",
     "text": [
      "Warning: <pyscf.gto.mole.Mole object at 0x7162560ce1b0> must be initialized before calling SCF.\n",
      "Initialize <pyscf.gto.mole.Mole object at 0x7162560ce1b0> in <pyscf.scf.hf.RHF object at 0x716255e12f30>\n"
     ]
    },
    {
     "name": "stdout",
     "output_type": "stream",
     "text": [
      "converged SCF energy = -75.9267464356126\n"
     ]
    },
    {
     "name": "stderr",
     "output_type": "stream",
     "text": [
      "Warning: <pyscf.gto.mole.Mole object at 0x716255e137a0> must be initialized before calling SCF.\n",
      "Initialize <pyscf.gto.mole.Mole object at 0x716255e137a0> in <pyscf.scf.hf.RHF object at 0x716255e12990>\n"
     ]
    },
    {
     "name": "stdout",
     "output_type": "stream",
     "text": [
      "converged SCF energy = -75.9282185375952\n"
     ]
    },
    {
     "name": "stderr",
     "output_type": "stream",
     "text": [
      "Warning: <pyscf.gto.mole.Mole object at 0x7162560ce1b0> must be initialized before calling SCF.\n",
      "Initialize <pyscf.gto.mole.Mole object at 0x7162560ce1b0> in <pyscf.scf.hf.RHF object at 0x716255e13b30>\n"
     ]
    },
    {
     "name": "stdout",
     "output_type": "stream",
     "text": [
      "converged SCF energy = -75.9230351962152\n"
     ]
    },
    {
     "name": "stderr",
     "output_type": "stream",
     "text": [
      "Warning: <pyscf.gto.mole.Mole object at 0x7162560ce750> must be initialized before calling SCF.\n",
      "Initialize <pyscf.gto.mole.Mole object at 0x7162560ce750> in <pyscf.scf.hf.RHF object at 0x716255e135c0>\n"
     ]
    },
    {
     "name": "stdout",
     "output_type": "stream",
     "text": [
      "converged SCF energy = -75.9225640113539\n"
     ]
    },
    {
     "name": "stderr",
     "output_type": "stream",
     "text": [
      "Warning: <pyscf.gto.mole.Mole object at 0x7162560cd7f0> must be initialized before calling SCF.\n",
      "Initialize <pyscf.gto.mole.Mole object at 0x7162560cd7f0> in <pyscf.scf.hf.RHF object at 0x7162560ce1b0>\n"
     ]
    },
    {
     "name": "stdout",
     "output_type": "stream",
     "text": [
      "converged SCF energy = -75.9235475565554\n"
     ]
    },
    {
     "name": "stderr",
     "output_type": "stream",
     "text": [
      "Warning: <pyscf.gto.mole.Mole object at 0x716255e229f0> must be initialized before calling SCF.\n",
      "Initialize <pyscf.gto.mole.Mole object at 0x716255e229f0> in <pyscf.scf.hf.RHF object at 0x716255e135c0>\n"
     ]
    },
    {
     "name": "stdout",
     "output_type": "stream",
     "text": [
      "converged SCF energy = -75.9251982962498\n"
     ]
    },
    {
     "name": "stderr",
     "output_type": "stream",
     "text": [
      "Warning: <pyscf.gto.mole.Mole object at 0x716255e1d7f0> must be initialized before calling SCF.\n",
      "Initialize <pyscf.gto.mole.Mole object at 0x716255e1d7f0> in <pyscf.scf.hf.RHF object at 0x7162560ce1b0>\n"
     ]
    },
    {
     "name": "stdout",
     "output_type": "stream",
     "text": [
      "converged SCF energy = -75.92080995692\n"
     ]
    },
    {
     "name": "stderr",
     "output_type": "stream",
     "text": [
      "Warning: <pyscf.gto.mole.Mole object at 0x716255e1d5b0> must be initialized before calling SCF.\n",
      "Initialize <pyscf.gto.mole.Mole object at 0x716255e1d5b0> in <pyscf.scf.hf.RHF object at 0x716255e135c0>\n"
     ]
    },
    {
     "name": "stdout",
     "output_type": "stream",
     "text": [
      "converged SCF energy = -75.9249291644004\n"
     ]
    },
    {
     "name": "stderr",
     "output_type": "stream",
     "text": [
      "Warning: <pyscf.gto.mole.Mole object at 0x716255e1c8f0> must be initialized before calling SCF.\n",
      "Initialize <pyscf.gto.mole.Mole object at 0x716255e1c8f0> in <pyscf.scf.hf.RHF object at 0x7162569861b0>\n"
     ]
    },
    {
     "name": "stdout",
     "output_type": "stream",
     "text": [
      "converged SCF energy = -75.9246991629034\n"
     ]
    },
    {
     "name": "stderr",
     "output_type": "stream",
     "text": [
      "Warning: <pyscf.gto.mole.Mole object at 0x716255e22bd0> must be initialized before calling SCF.\n",
      "Initialize <pyscf.gto.mole.Mole object at 0x716255e22bd0> in <pyscf.scf.hf.RHF object at 0x716255e135c0>\n"
     ]
    },
    {
     "name": "stdout",
     "output_type": "stream",
     "text": [
      "converged SCF energy = -75.9257758831047\n"
     ]
    },
    {
     "name": "stderr",
     "output_type": "stream",
     "text": [
      "Warning: <pyscf.gto.mole.Mole object at 0x7162569861b0> must be initialized before calling SCF.\n",
      "Initialize <pyscf.gto.mole.Mole object at 0x7162569861b0> in <pyscf.scf.hf.RHF object at 0x716255e10650>\n"
     ]
    },
    {
     "name": "stdout",
     "output_type": "stream",
     "text": [
      "converged SCF energy = -75.9229994768178\n"
     ]
    },
    {
     "name": "stderr",
     "output_type": "stream",
     "text": [
      "Warning: <pyscf.gto.mole.Mole object at 0x7162569841d0> must be initialized before calling SCF.\n",
      "Initialize <pyscf.gto.mole.Mole object at 0x7162569841d0> in <pyscf.scf.hf.RHF object at 0x716255e135c0>\n"
     ]
    },
    {
     "name": "stdout",
     "output_type": "stream",
     "text": [
      "converged SCF energy = -75.9268392791338\n"
     ]
    },
    {
     "name": "stderr",
     "output_type": "stream",
     "text": [
      "Warning: <pyscf.gto.mole.Mole object at 0x7162560cd7f0> must be initialized before calling SCF.\n",
      "Initialize <pyscf.gto.mole.Mole object at 0x7162560cd7f0> in <pyscf.scf.hf.RHF object at 0x7162569861b0>\n"
     ]
    },
    {
     "name": "stdout",
     "output_type": "stream",
     "text": [
      "converged SCF energy = -75.9229003847865\n"
     ]
    },
    {
     "name": "stderr",
     "output_type": "stream",
     "text": [
      "Warning: <pyscf.gto.mole.Mole object at 0x716255e103b0> must be initialized before calling SCF.\n",
      "Initialize <pyscf.gto.mole.Mole object at 0x716255e103b0> in <pyscf.scf.hf.RHF object at 0x716255e135c0>\n"
     ]
    },
    {
     "name": "stdout",
     "output_type": "stream",
     "text": [
      "converged SCF energy = -75.9235521051157\n"
     ]
    },
    {
     "name": "stderr",
     "output_type": "stream",
     "text": [
      "Warning: <pyscf.gto.mole.Mole object at 0x716255e1d7f0> must be initialized before calling SCF.\n",
      "Initialize <pyscf.gto.mole.Mole object at 0x716255e1d7f0> in <pyscf.scf.hf.RHF object at 0x7162560ce1b0>\n"
     ]
    },
    {
     "name": "stdout",
     "output_type": "stream",
     "text": [
      "converged SCF energy = -75.9296591355164\n"
     ]
    },
    {
     "name": "stderr",
     "output_type": "stream",
     "text": [
      "Warning: <pyscf.gto.mole.Mole object at 0x7162560cc350> must be initialized before calling SCF.\n",
      "Initialize <pyscf.gto.mole.Mole object at 0x7162560cc350> in <pyscf.scf.hf.RHF object at 0x716255e135c0>\n"
     ]
    },
    {
     "name": "stdout",
     "output_type": "stream",
     "text": [
      "converged SCF energy = -75.9263208573644\n"
     ]
    },
    {
     "name": "stderr",
     "output_type": "stream",
     "text": [
      "Warning: <pyscf.gto.mole.Mole object at 0x716255e221b0> must be initialized before calling SCF.\n",
      "Initialize <pyscf.gto.mole.Mole object at 0x716255e221b0> in <pyscf.scf.hf.RHF object at 0x71625c9d8530>\n"
     ]
    },
    {
     "name": "stdout",
     "output_type": "stream",
     "text": [
      "converged SCF energy = -75.9237473972433\n"
     ]
    },
    {
     "name": "stderr",
     "output_type": "stream",
     "text": [
      "Warning: <pyscf.gto.mole.Mole object at 0x716255ef5550> must be initialized before calling SCF.\n",
      "Initialize <pyscf.gto.mole.Mole object at 0x716255ef5550> in <pyscf.scf.hf.RHF object at 0x7162560ccef0>\n"
     ]
    },
    {
     "name": "stdout",
     "output_type": "stream",
     "text": [
      "converged SCF energy = -75.9250507045569\n"
     ]
    },
    {
     "name": "stderr",
     "output_type": "stream",
     "text": [
      "Warning: <pyscf.gto.mole.Mole object at 0x716255e10bf0> must be initialized before calling SCF.\n",
      "Initialize <pyscf.gto.mole.Mole object at 0x716255e10bf0> in <pyscf.scf.hf.RHF object at 0x716255e101a0>\n"
     ]
    },
    {
     "name": "stdout",
     "output_type": "stream",
     "text": [
      "converged SCF energy = -75.9258963446805\n"
     ]
    },
    {
     "name": "stderr",
     "output_type": "stream",
     "text": [
      "Warning: <pyscf.gto.mole.Mole object at 0x716255e20590> must be initialized before calling SCF.\n",
      "Initialize <pyscf.gto.mole.Mole object at 0x716255e20590> in <pyscf.scf.hf.RHF object at 0x71625c9d8530>\n"
     ]
    },
    {
     "name": "stdout",
     "output_type": "stream",
     "text": [
      "converged SCF energy = -75.9244869551517\n"
     ]
    },
    {
     "name": "stderr",
     "output_type": "stream",
     "text": [
      "Warning: <pyscf.gto.mole.Mole object at 0x716255e137a0> must be initialized before calling SCF.\n",
      "Initialize <pyscf.gto.mole.Mole object at 0x716255e137a0> in <pyscf.scf.hf.RHF object at 0x716255e135c0>\n"
     ]
    },
    {
     "name": "stdout",
     "output_type": "stream",
     "text": [
      "converged SCF energy = -75.922494789849\n"
     ]
    },
    {
     "name": "stderr",
     "output_type": "stream",
     "text": [
      "Warning: <pyscf.gto.mole.Mole object at 0x716256985550> must be initialized before calling SCF.\n",
      "Initialize <pyscf.gto.mole.Mole object at 0x716256985550> in <pyscf.scf.hf.RHF object at 0x716255e10530>\n"
     ]
    },
    {
     "name": "stdout",
     "output_type": "stream",
     "text": [
      "converged SCF energy = -75.9279480911036\n"
     ]
    },
    {
     "name": "stderr",
     "output_type": "stream",
     "text": [
      "Warning: <pyscf.gto.mole.Mole object at 0x71625694fd10> must be initialized before calling SCF.\n",
      "Initialize <pyscf.gto.mole.Mole object at 0x71625694fd10> in <pyscf.scf.hf.RHF object at 0x716255e135c0>\n"
     ]
    },
    {
     "name": "stdout",
     "output_type": "stream",
     "text": [
      "converged SCF energy = -75.9231157716554\n"
     ]
    },
    {
     "name": "stderr",
     "output_type": "stream",
     "text": [
      "Warning: <pyscf.gto.mole.Mole object at 0x716255e125d0> must be initialized before calling SCF.\n",
      "Initialize <pyscf.gto.mole.Mole object at 0x716255e125d0> in <pyscf.scf.hf.RHF object at 0x716255e10530>\n"
     ]
    },
    {
     "name": "stdout",
     "output_type": "stream",
     "text": [
      "converged SCF energy = -75.9240481521445\n"
     ]
    },
    {
     "name": "stderr",
     "output_type": "stream",
     "text": [
      "Warning: <pyscf.gto.mole.Mole object at 0x71625694fd10> must be initialized before calling SCF.\n",
      "Initialize <pyscf.gto.mole.Mole object at 0x71625694fd10> in <pyscf.scf.hf.RHF object at 0x716255e135c0>\n"
     ]
    },
    {
     "name": "stdout",
     "output_type": "stream",
     "text": [
      "converged SCF energy = -75.9252361903862\n"
     ]
    },
    {
     "name": "stderr",
     "output_type": "stream",
     "text": [
      "Warning: <pyscf.gto.mole.Mole object at 0x716255e13a40> must be initialized before calling SCF.\n",
      "Initialize <pyscf.gto.mole.Mole object at 0x716255e13a40> in <pyscf.scf.hf.RHF object at 0x716255e105f0>\n"
     ]
    },
    {
     "name": "stdout",
     "output_type": "stream",
     "text": [
      "converged SCF energy = -75.9253038742864\n"
     ]
    },
    {
     "name": "stderr",
     "output_type": "stream",
     "text": [
      "Warning: <pyscf.gto.mole.Mole object at 0x71625694fd10> must be initialized before calling SCF.\n",
      "Initialize <pyscf.gto.mole.Mole object at 0x71625694fd10> in <pyscf.scf.hf.RHF object at 0x716255f25220>\n"
     ]
    },
    {
     "name": "stdout",
     "output_type": "stream",
     "text": [
      "converged SCF energy = -75.9166889091987\n"
     ]
    },
    {
     "name": "stderr",
     "output_type": "stream",
     "text": [
      "Warning: <pyscf.gto.mole.Mole object at 0x716255e21d90> must be initialized before calling SCF.\n",
      "Initialize <pyscf.gto.mole.Mole object at 0x716255e21d90> in <pyscf.scf.hf.RHF object at 0x716255e11bb0>\n"
     ]
    },
    {
     "name": "stdout",
     "output_type": "stream",
     "text": [
      "converged SCF energy = -75.9270580872381\n"
     ]
    },
    {
     "name": "stderr",
     "output_type": "stream",
     "text": [
      "Warning: <pyscf.gto.mole.Mole object at 0x71625694fd10> must be initialized before calling SCF.\n",
      "Initialize <pyscf.gto.mole.Mole object at 0x71625694fd10> in <pyscf.scf.hf.RHF object at 0x716255e21a90>\n"
     ]
    },
    {
     "name": "stdout",
     "output_type": "stream",
     "text": [
      "converged SCF energy = -75.9284016863957\n"
     ]
    },
    {
     "name": "stderr",
     "output_type": "stream",
     "text": [
      "Warning: <pyscf.gto.mole.Mole object at 0x716255e11bb0> must be initialized before calling SCF.\n",
      "Initialize <pyscf.gto.mole.Mole object at 0x716255e11bb0> in <pyscf.scf.hf.RHF object at 0x716255e135c0>\n"
     ]
    },
    {
     "name": "stdout",
     "output_type": "stream",
     "text": [
      "converged SCF energy = -75.9251764370612\n"
     ]
    },
    {
     "name": "stderr",
     "output_type": "stream",
     "text": [
      "Warning: <pyscf.gto.mole.Mole object at 0x71625694fd10> must be initialized before calling SCF.\n",
      "Initialize <pyscf.gto.mole.Mole object at 0x71625694fd10> in <pyscf.scf.hf.RHF object at 0x716255e20650>\n"
     ]
    },
    {
     "name": "stdout",
     "output_type": "stream",
     "text": [
      "converged SCF energy = -75.923553596947\n"
     ]
    },
    {
     "name": "stderr",
     "output_type": "stream",
     "text": [
      "Warning: <pyscf.gto.mole.Mole object at 0x716255e10d10> must be initialized before calling SCF.\n",
      "Initialize <pyscf.gto.mole.Mole object at 0x716255e10d10> in <pyscf.scf.hf.RHF object at 0x71625c9d8530>\n"
     ]
    },
    {
     "name": "stdout",
     "output_type": "stream",
     "text": [
      "converged SCF energy = -75.922970177569\n"
     ]
    },
    {
     "name": "stderr",
     "output_type": "stream",
     "text": [
      "Warning: <pyscf.gto.mole.Mole object at 0x71625694fd10> must be initialized before calling SCF.\n",
      "Initialize <pyscf.gto.mole.Mole object at 0x71625694fd10> in <pyscf.scf.hf.RHF object at 0x716255f6d8b0>\n"
     ]
    },
    {
     "name": "stdout",
     "output_type": "stream",
     "text": [
      "converged SCF energy = -75.9247297202209\n"
     ]
    },
    {
     "name": "stderr",
     "output_type": "stream",
     "text": [
      "Warning: <pyscf.gto.mole.Mole object at 0x716255e1c8f0> must be initialized before calling SCF.\n",
      "Initialize <pyscf.gto.mole.Mole object at 0x716255e1c8f0> in <pyscf.scf.hf.RHF object at 0x716255e135c0>\n"
     ]
    },
    {
     "name": "stdout",
     "output_type": "stream",
     "text": [
      "converged SCF energy = -75.9206825398648\n"
     ]
    },
    {
     "name": "stderr",
     "output_type": "stream",
     "text": [
      "Warning: <pyscf.gto.mole.Mole object at 0x71625694fd10> must be initialized before calling SCF.\n",
      "Initialize <pyscf.gto.mole.Mole object at 0x71625694fd10> in <pyscf.scf.hf.RHF object at 0x716255e123f0>\n"
     ]
    },
    {
     "name": "stdout",
     "output_type": "stream",
     "text": [
      "converged SCF energy = -75.9228807244637\n"
     ]
    },
    {
     "name": "stderr",
     "output_type": "stream",
     "text": [
      "Warning: <pyscf.gto.mole.Mole object at 0x716255e21b50> must be initialized before calling SCF.\n",
      "Initialize <pyscf.gto.mole.Mole object at 0x716255e21b50> in <pyscf.scf.hf.RHF object at 0x716255e20f20>\n"
     ]
    },
    {
     "name": "stdout",
     "output_type": "stream",
     "text": [
      "converged SCF energy = -75.9254704704955\n"
     ]
    },
    {
     "name": "stderr",
     "output_type": "stream",
     "text": [
      "Warning: <pyscf.gto.mole.Mole object at 0x71625694fd10> must be initialized before calling SCF.\n",
      "Initialize <pyscf.gto.mole.Mole object at 0x71625694fd10> in <pyscf.scf.hf.RHF object at 0x716255e221b0>\n"
     ]
    },
    {
     "name": "stdout",
     "output_type": "stream",
     "text": [
      "converged SCF energy = -75.9249606647028\n"
     ]
    },
    {
     "name": "stderr",
     "output_type": "stream",
     "text": [
      "Warning: <pyscf.gto.mole.Mole object at 0x716255e101d0> must be initialized before calling SCF.\n",
      "Initialize <pyscf.gto.mole.Mole object at 0x716255e101d0> in <pyscf.scf.hf.RHF object at 0x716255e135c0>\n"
     ]
    },
    {
     "name": "stdout",
     "output_type": "stream",
     "text": [
      "converged SCF energy = -75.9148146772104\n"
     ]
    },
    {
     "name": "stderr",
     "output_type": "stream",
     "text": [
      "Warning: <pyscf.gto.mole.Mole object at 0x71625694fd10> must be initialized before calling SCF.\n",
      "Initialize <pyscf.gto.mole.Mole object at 0x71625694fd10> in <pyscf.scf.hf.RHF object at 0x716255e12b40>\n"
     ]
    },
    {
     "name": "stdout",
     "output_type": "stream",
     "text": [
      "converged SCF energy = -75.9246391349164\n"
     ]
    },
    {
     "name": "stderr",
     "output_type": "stream",
     "text": [
      "Warning: <pyscf.gto.mole.Mole object at 0x716255e11580> must be initialized before calling SCF.\n",
      "Initialize <pyscf.gto.mole.Mole object at 0x716255e11580> in <pyscf.scf.hf.RHF object at 0x716255e135c0>\n"
     ]
    },
    {
     "name": "stdout",
     "output_type": "stream",
     "text": [
      "converged SCF energy = -75.9228405212195\n"
     ]
    },
    {
     "name": "stderr",
     "output_type": "stream",
     "text": [
      "Warning: <pyscf.gto.mole.Mole object at 0x716255e21460> must be initialized before calling SCF.\n",
      "Initialize <pyscf.gto.mole.Mole object at 0x716255e21460> in <pyscf.scf.hf.RHF object at 0x716255e21850>\n"
     ]
    },
    {
     "name": "stdout",
     "output_type": "stream",
     "text": [
      "converged SCF energy = -75.9252743027971\n"
     ]
    },
    {
     "name": "stderr",
     "output_type": "stream",
     "text": [
      "Warning: <pyscf.gto.mole.Mole object at 0x71625694fd10> must be initialized before calling SCF.\n",
      "Initialize <pyscf.gto.mole.Mole object at 0x71625694fd10> in <pyscf.scf.hf.RHF object at 0x71625c9d8530>\n"
     ]
    },
    {
     "name": "stdout",
     "output_type": "stream",
     "text": [
      "converged SCF energy = -75.9248751691831\n"
     ]
    },
    {
     "name": "stderr",
     "output_type": "stream",
     "text": [
      "Warning: <pyscf.gto.mole.Mole object at 0x716255e11d30> must be initialized before calling SCF.\n",
      "Initialize <pyscf.gto.mole.Mole object at 0x716255e11d30> in <pyscf.scf.hf.RHF object at 0x716255e11940>\n"
     ]
    },
    {
     "name": "stdout",
     "output_type": "stream",
     "text": [
      "converged SCF energy = -75.9232540607757\n"
     ]
    },
    {
     "name": "stderr",
     "output_type": "stream",
     "text": [
      "Warning: <pyscf.gto.mole.Mole object at 0x71625694fd10> must be initialized before calling SCF.\n",
      "Initialize <pyscf.gto.mole.Mole object at 0x71625694fd10> in <pyscf.scf.hf.RHF object at 0x71625692b860>\n"
     ]
    },
    {
     "name": "stdout",
     "output_type": "stream",
     "text": [
      "converged SCF energy = -75.9215043496593\n"
     ]
    },
    {
     "name": "stderr",
     "output_type": "stream",
     "text": [
      "Warning: <pyscf.gto.mole.Mole object at 0x716255e21850> must be initialized before calling SCF.\n",
      "Initialize <pyscf.gto.mole.Mole object at 0x716255e21850> in <pyscf.scf.hf.RHF object at 0x716255e11d90>\n"
     ]
    },
    {
     "name": "stdout",
     "output_type": "stream",
     "text": [
      "converged SCF energy = -75.9240534412507\n"
     ]
    },
    {
     "name": "stderr",
     "output_type": "stream",
     "text": [
      "Warning: <pyscf.gto.mole.Mole object at 0x71625694fd10> must be initialized before calling SCF.\n",
      "Initialize <pyscf.gto.mole.Mole object at 0x71625694fd10> in <pyscf.scf.hf.RHF object at 0x716255e10410>\n"
     ]
    },
    {
     "name": "stdout",
     "output_type": "stream",
     "text": [
      "converged SCF energy = -75.9206001203959\n"
     ]
    },
    {
     "name": "stderr",
     "output_type": "stream",
     "text": [
      "Warning: <pyscf.gto.mole.Mole object at 0x716255e21850> must be initialized before calling SCF.\n",
      "Initialize <pyscf.gto.mole.Mole object at 0x716255e21850> in <pyscf.scf.hf.RHF object at 0x716255e10260>\n"
     ]
    },
    {
     "name": "stdout",
     "output_type": "stream",
     "text": [
      "converged SCF energy = -75.9275592051776\n"
     ]
    },
    {
     "name": "stderr",
     "output_type": "stream",
     "text": [
      "Warning: <pyscf.gto.mole.Mole object at 0x71625694fd10> must be initialized before calling SCF.\n",
      "Initialize <pyscf.gto.mole.Mole object at 0x71625694fd10> in <pyscf.scf.hf.RHF object at 0x716255e20710>\n"
     ]
    },
    {
     "name": "stdout",
     "output_type": "stream",
     "text": [
      "converged SCF energy = -75.92549925385\n"
     ]
    },
    {
     "name": "stderr",
     "output_type": "stream",
     "text": [
      "Warning: <pyscf.gto.mole.Mole object at 0x716255e12570> must be initialized before calling SCF.\n",
      "Initialize <pyscf.gto.mole.Mole object at 0x716255e12570> in <pyscf.scf.hf.RHF object at 0x716255e12f00>\n"
     ]
    },
    {
     "name": "stdout",
     "output_type": "stream",
     "text": [
      "converged SCF energy = -75.9249089483654\n"
     ]
    },
    {
     "name": "stderr",
     "output_type": "stream",
     "text": [
      "Warning: <pyscf.gto.mole.Mole object at 0x71625694fd10> must be initialized before calling SCF.\n",
      "Initialize <pyscf.gto.mole.Mole object at 0x71625694fd10> in <pyscf.scf.hf.RHF object at 0x716255e223f0>\n"
     ]
    },
    {
     "name": "stdout",
     "output_type": "stream",
     "text": [
      "converged SCF energy = -75.9181960607243\n"
     ]
    },
    {
     "name": "stderr",
     "output_type": "stream",
     "text": [
      "Warning: <pyscf.gto.mole.Mole object at 0x716255e11250> must be initialized before calling SCF.\n",
      "Initialize <pyscf.gto.mole.Mole object at 0x716255e11250> in <pyscf.scf.hf.RHF object at 0x716255e11c70>\n"
     ]
    },
    {
     "name": "stdout",
     "output_type": "stream",
     "text": [
      "converged SCF energy = -75.9206025439282\n"
     ]
    },
    {
     "name": "stderr",
     "output_type": "stream",
     "text": [
      "Warning: <pyscf.gto.mole.Mole object at 0x71625694fd10> must be initialized before calling SCF.\n",
      "Initialize <pyscf.gto.mole.Mole object at 0x71625694fd10> in <pyscf.scf.hf.RHF object at 0x716255e12570>\n"
     ]
    },
    {
     "name": "stdout",
     "output_type": "stream",
     "text": [
      "converged SCF energy = -75.9239975066495\n"
     ]
    },
    {
     "name": "stderr",
     "output_type": "stream",
     "text": [
      "Warning: <pyscf.gto.mole.Mole object at 0x716255f25220> must be initialized before calling SCF.\n",
      "Initialize <pyscf.gto.mole.Mole object at 0x716255f25220> in <pyscf.scf.hf.RHF object at 0x716255e22360>\n"
     ]
    },
    {
     "name": "stdout",
     "output_type": "stream",
     "text": [
      "converged SCF energy = -75.918366345419\n"
     ]
    },
    {
     "name": "stderr",
     "output_type": "stream",
     "text": [
      "Warning: <pyscf.gto.mole.Mole object at 0x71625694fd10> must be initialized before calling SCF.\n",
      "Initialize <pyscf.gto.mole.Mole object at 0x71625694fd10> in <pyscf.scf.hf.RHF object at 0x716255e13b90>\n"
     ]
    },
    {
     "name": "stdout",
     "output_type": "stream",
     "text": [
      "converged SCF energy = -75.9266363771779\n"
     ]
    },
    {
     "name": "stderr",
     "output_type": "stream",
     "text": [
      "Warning: <pyscf.gto.mole.Mole object at 0x716255e12a80> must be initialized before calling SCF.\n",
      "Initialize <pyscf.gto.mole.Mole object at 0x716255e12a80> in <pyscf.scf.hf.RHF object at 0x716255e12cc0>\n"
     ]
    },
    {
     "name": "stdout",
     "output_type": "stream",
     "text": [
      "converged SCF energy = -75.9292204549438\n"
     ]
    },
    {
     "name": "stderr",
     "output_type": "stream",
     "text": [
      "Warning: <pyscf.gto.mole.Mole object at 0x71625694fd10> must be initialized before calling SCF.\n",
      "Initialize <pyscf.gto.mole.Mole object at 0x71625694fd10> in <pyscf.scf.hf.RHF object at 0x716255e10170>\n"
     ]
    },
    {
     "name": "stdout",
     "output_type": "stream",
     "text": [
      "converged SCF energy = -75.9147581545046\n"
     ]
    },
    {
     "name": "stderr",
     "output_type": "stream",
     "text": [
      "Warning: <pyscf.gto.mole.Mole object at 0x716255e12630> must be initialized before calling SCF.\n",
      "Initialize <pyscf.gto.mole.Mole object at 0x716255e12630> in <pyscf.scf.hf.RHF object at 0x71625c9d8530>\n"
     ]
    },
    {
     "name": "stdout",
     "output_type": "stream",
     "text": [
      "converged SCF energy = -75.9264821136641\n"
     ]
    },
    {
     "name": "stderr",
     "output_type": "stream",
     "text": [
      "Warning: <pyscf.gto.mole.Mole object at 0x71625694fd10> must be initialized before calling SCF.\n",
      "Initialize <pyscf.gto.mole.Mole object at 0x71625694fd10> in <pyscf.scf.hf.RHF object at 0x716255e20650>\n"
     ]
    },
    {
     "name": "stdout",
     "output_type": "stream",
     "text": [
      "converged SCF energy = -75.9270007712471\n"
     ]
    },
    {
     "name": "stderr",
     "output_type": "stream",
     "text": [
      "Warning: <pyscf.gto.mole.Mole object at 0x716255e11c40> must be initialized before calling SCF.\n",
      "Initialize <pyscf.gto.mole.Mole object at 0x716255e11c40> in <pyscf.scf.hf.RHF object at 0x716255e13920>\n"
     ]
    },
    {
     "name": "stdout",
     "output_type": "stream",
     "text": [
      "converged SCF energy = -75.9166634832619\n"
     ]
    },
    {
     "name": "stderr",
     "output_type": "stream",
     "text": [
      "Warning: <pyscf.gto.mole.Mole object at 0x71625694fd10> must be initialized before calling SCF.\n",
      "Initialize <pyscf.gto.mole.Mole object at 0x71625694fd10> in <pyscf.scf.hf.RHF object at 0x716255e10a70>\n"
     ]
    },
    {
     "name": "stdout",
     "output_type": "stream",
     "text": [
      "converged SCF energy = -75.9241981634827\n"
     ]
    },
    {
     "name": "stderr",
     "output_type": "stream",
     "text": [
      "Warning: <pyscf.gto.mole.Mole object at 0x716255e13b90> must be initialized before calling SCF.\n",
      "Initialize <pyscf.gto.mole.Mole object at 0x716255e13b90> in <pyscf.scf.hf.RHF object at 0x716255e13590>\n"
     ]
    },
    {
     "name": "stdout",
     "output_type": "stream",
     "text": [
      "converged SCF energy = -75.924453602264\n"
     ]
    },
    {
     "name": "stderr",
     "output_type": "stream",
     "text": [
      "Warning: <pyscf.gto.mole.Mole object at 0x71625694fd10> must be initialized before calling SCF.\n",
      "Initialize <pyscf.gto.mole.Mole object at 0x71625694fd10> in <pyscf.scf.hf.RHF object at 0x716255e20440>\n"
     ]
    },
    {
     "name": "stdout",
     "output_type": "stream",
     "text": [
      "converged SCF energy = -75.9234778839877\n"
     ]
    },
    {
     "name": "stderr",
     "output_type": "stream",
     "text": [
      "Warning: <pyscf.gto.mole.Mole object at 0x716255e20710> must be initialized before calling SCF.\n",
      "Initialize <pyscf.gto.mole.Mole object at 0x716255e20710> in <pyscf.scf.hf.RHF object at 0x716255e13590>\n"
     ]
    },
    {
     "name": "stdout",
     "output_type": "stream",
     "text": [
      "converged SCF energy = -75.9212849261884\n"
     ]
    },
    {
     "name": "stderr",
     "output_type": "stream",
     "text": [
      "Warning: <pyscf.gto.mole.Mole object at 0x71625694fd10> must be initialized before calling SCF.\n",
      "Initialize <pyscf.gto.mole.Mole object at 0x71625694fd10> in <pyscf.scf.hf.RHF object at 0x716255e13b90>\n"
     ]
    },
    {
     "name": "stdout",
     "output_type": "stream",
     "text": [
      "converged SCF energy = -75.9205957272772\n"
     ]
    },
    {
     "name": "stderr",
     "output_type": "stream",
     "text": [
      "Warning: <pyscf.gto.mole.Mole object at 0x716255f748f0> must be initialized before calling SCF.\n",
      "Initialize <pyscf.gto.mole.Mole object at 0x716255f748f0> in <pyscf.scf.hf.RHF object at 0x716255e11c40>\n"
     ]
    },
    {
     "name": "stdout",
     "output_type": "stream",
     "text": [
      "converged SCF energy = -75.9269123801506\n"
     ]
    },
    {
     "name": "stderr",
     "output_type": "stream",
     "text": [
      "Warning: <pyscf.gto.mole.Mole object at 0x71625694fd10> must be initialized before calling SCF.\n",
      "Initialize <pyscf.gto.mole.Mole object at 0x71625694fd10> in <pyscf.scf.hf.RHF object at 0x71625c6f9160>\n"
     ]
    },
    {
     "name": "stdout",
     "output_type": "stream",
     "text": [
      "converged SCF energy = -75.9184134807893\n"
     ]
    },
    {
     "name": "stderr",
     "output_type": "stream",
     "text": [
      "Warning: <pyscf.gto.mole.Mole object at 0x716255e21610> must be initialized before calling SCF.\n",
      "Initialize <pyscf.gto.mole.Mole object at 0x716255e21610> in <pyscf.scf.hf.RHF object at 0x71625c9d8530>\n"
     ]
    },
    {
     "name": "stdout",
     "output_type": "stream",
     "text": [
      "converged SCF energy = -75.9241785797087\n"
     ]
    },
    {
     "name": "stderr",
     "output_type": "stream",
     "text": [
      "Warning: <pyscf.gto.mole.Mole object at 0x716255e13b90> must be initialized before calling SCF.\n",
      "Initialize <pyscf.gto.mole.Mole object at 0x716255e13b90> in <pyscf.scf.hf.RHF object at 0x716255e10890>\n"
     ]
    },
    {
     "name": "stdout",
     "output_type": "stream",
     "text": [
      "converged SCF energy = -75.9225418525652\n"
     ]
    },
    {
     "name": "stderr",
     "output_type": "stream",
     "text": [
      "Warning: <pyscf.gto.mole.Mole object at 0x716255e11c70> must be initialized before calling SCF.\n",
      "Initialize <pyscf.gto.mole.Mole object at 0x716255e11c70> in <pyscf.scf.hf.RHF object at 0x716255e12bd0>\n"
     ]
    },
    {
     "name": "stdout",
     "output_type": "stream",
     "text": [
      "converged SCF energy = -75.9251517006156\n"
     ]
    },
    {
     "name": "stderr",
     "output_type": "stream",
     "text": [
      "Warning: <pyscf.gto.mole.Mole object at 0x716255e12cc0> must be initialized before calling SCF.\n",
      "Initialize <pyscf.gto.mole.Mole object at 0x716255e12cc0> in <pyscf.scf.hf.RHF object at 0x716255e10440>\n"
     ]
    },
    {
     "name": "stdout",
     "output_type": "stream",
     "text": [
      "converged SCF energy = -75.9226346812771\n"
     ]
    },
    {
     "name": "stderr",
     "output_type": "stream",
     "text": [
      "Warning: <pyscf.gto.mole.Mole object at 0x716255e22ba0> must be initialized before calling SCF.\n",
      "Initialize <pyscf.gto.mole.Mole object at 0x716255e22ba0> in <pyscf.scf.hf.RHF object at 0x716255e13230>\n"
     ]
    },
    {
     "name": "stdout",
     "output_type": "stream",
     "text": [
      "converged SCF energy = -75.9216875267238\n"
     ]
    },
    {
     "name": "stderr",
     "output_type": "stream",
     "text": [
      "Warning: <pyscf.gto.mole.Mole object at 0x716255e13b90> must be initialized before calling SCF.\n",
      "Initialize <pyscf.gto.mole.Mole object at 0x716255e13b90> in <pyscf.scf.hf.RHF object at 0x716255e116a0>\n"
     ]
    },
    {
     "name": "stdout",
     "output_type": "stream",
     "text": [
      "converged SCF energy = -75.9228053238011\n"
     ]
    },
    {
     "name": "stderr",
     "output_type": "stream",
     "text": [
      "Warning: <pyscf.gto.mole.Mole object at 0x716255e10440> must be initialized before calling SCF.\n",
      "Initialize <pyscf.gto.mole.Mole object at 0x716255e10440> in <pyscf.scf.hf.RHF object at 0x716255e22ba0>\n"
     ]
    },
    {
     "name": "stdout",
     "output_type": "stream",
     "text": [
      "converged SCF energy = -75.9221386437428\n"
     ]
    },
    {
     "name": "stderr",
     "output_type": "stream",
     "text": [
      "Warning: <pyscf.gto.mole.Mole object at 0x7162560ceed0> must be initialized before calling SCF.\n",
      "Initialize <pyscf.gto.mole.Mole object at 0x7162560ceed0> in <pyscf.scf.hf.RHF object at 0x716255e11610>\n"
     ]
    },
    {
     "name": "stdout",
     "output_type": "stream",
     "text": [
      "converged SCF energy = -75.9207896282077\n"
     ]
    },
    {
     "name": "stderr",
     "output_type": "stream",
     "text": [
      "Warning: <pyscf.gto.mole.Mole object at 0x716255e216a0> must be initialized before calling SCF.\n",
      "Initialize <pyscf.gto.mole.Mole object at 0x716255e216a0> in <pyscf.scf.hf.RHF object at 0x716255e13290>\n"
     ]
    },
    {
     "name": "stdout",
     "output_type": "stream",
     "text": [
      "converged SCF energy = -75.9240520535601\n"
     ]
    },
    {
     "name": "stderr",
     "output_type": "stream",
     "text": [
      "Warning: <pyscf.gto.mole.Mole object at 0x716255e1eed0> must be initialized before calling SCF.\n",
      "Initialize <pyscf.gto.mole.Mole object at 0x716255e1eed0> in <pyscf.scf.hf.RHF object at 0x716255e13b90>\n"
     ]
    },
    {
     "name": "stdout",
     "output_type": "stream",
     "text": [
      "converged SCF energy = -75.9236767697833\n"
     ]
    },
    {
     "name": "stderr",
     "output_type": "stream",
     "text": [
      "Warning: <pyscf.gto.mole.Mole object at 0x716255e22ab0> must be initialized before calling SCF.\n",
      "Initialize <pyscf.gto.mole.Mole object at 0x716255e22ab0> in <pyscf.scf.hf.RHF object at 0x716255e116a0>\n"
     ]
    },
    {
     "name": "stdout",
     "output_type": "stream",
     "text": [
      "converged SCF energy = -75.9251488822307\n"
     ]
    },
    {
     "name": "stderr",
     "output_type": "stream",
     "text": [
      "Warning: <pyscf.gto.mole.Mole object at 0x716255e13b90> must be initialized before calling SCF.\n",
      "Initialize <pyscf.gto.mole.Mole object at 0x716255e13b90> in <pyscf.scf.hf.RHF object at 0x716255e1f830>\n"
     ]
    },
    {
     "name": "stdout",
     "output_type": "stream",
     "text": [
      "converged SCF energy = -75.9228374356292\n"
     ]
    },
    {
     "name": "stderr",
     "output_type": "stream",
     "text": [
      "Warning: <pyscf.gto.mole.Mole object at 0x716255f71a60> must be initialized before calling SCF.\n",
      "Initialize <pyscf.gto.mole.Mole object at 0x716255f71a60> in <pyscf.scf.hf.RHF object at 0x716256984080>\n"
     ]
    },
    {
     "name": "stdout",
     "output_type": "stream",
     "text": [
      "converged SCF energy = -75.9251738247508\n"
     ]
    },
    {
     "name": "stderr",
     "output_type": "stream",
     "text": [
      "Warning: <pyscf.gto.mole.Mole object at 0x716255e13b90> must be initialized before calling SCF.\n",
      "Initialize <pyscf.gto.mole.Mole object at 0x716255e13b90> in <pyscf.scf.hf.RHF object at 0x71625c9d8530>\n"
     ]
    },
    {
     "name": "stdout",
     "output_type": "stream",
     "text": [
      "converged SCF energy = -75.9255472279038\n"
     ]
    },
    {
     "name": "stderr",
     "output_type": "stream",
     "text": [
      "Warning: <pyscf.gto.mole.Mole object at 0x716255e13230> must be initialized before calling SCF.\n",
      "Initialize <pyscf.gto.mole.Mole object at 0x716255e13230> in <pyscf.scf.hf.RHF object at 0x716255e10a70>\n"
     ]
    },
    {
     "name": "stdout",
     "output_type": "stream",
     "text": [
      "converged SCF energy = -75.9217860534962\n"
     ]
    },
    {
     "name": "stderr",
     "output_type": "stream",
     "text": [
      "Warning: <pyscf.gto.mole.Mole object at 0x716255e216a0> must be initialized before calling SCF.\n",
      "Initialize <pyscf.gto.mole.Mole object at 0x716255e216a0> in <pyscf.scf.hf.RHF object at 0x7162540f7350>\n"
     ]
    },
    {
     "name": "stdout",
     "output_type": "stream",
     "text": [
      "converged SCF energy = -75.9189738426821\n"
     ]
    },
    {
     "name": "stderr",
     "output_type": "stream",
     "text": [
      "Warning: <pyscf.gto.mole.Mole object at 0x716255e22240> must be initialized before calling SCF.\n",
      "Initialize <pyscf.gto.mole.Mole object at 0x716255e22240> in <pyscf.scf.hf.RHF object at 0x716255e119d0>\n"
     ]
    },
    {
     "name": "stdout",
     "output_type": "stream",
     "text": [
      "converged SCF energy = -75.9193988632434\n"
     ]
    },
    {
     "name": "stderr",
     "output_type": "stream",
     "text": [
      "Warning: <pyscf.gto.mole.Mole object at 0x716255e216a0> must be initialized before calling SCF.\n",
      "Initialize <pyscf.gto.mole.Mole object at 0x716255e216a0> in <pyscf.scf.hf.RHF object at 0x7162560ce570>\n"
     ]
    },
    {
     "name": "stdout",
     "output_type": "stream",
     "text": [
      "converged SCF energy = -75.9224749823457\n"
     ]
    },
    {
     "name": "stderr",
     "output_type": "stream",
     "text": [
      "Warning: <pyscf.gto.mole.Mole object at 0x716255e11b50> must be initialized before calling SCF.\n",
      "Initialize <pyscf.gto.mole.Mole object at 0x716255e11b50> in <pyscf.scf.hf.RHF object at 0x716255e11c40>\n"
     ]
    },
    {
     "name": "stdout",
     "output_type": "stream",
     "text": [
      "converged SCF energy = -75.9241482387355\n"
     ]
    },
    {
     "name": "stderr",
     "output_type": "stream",
     "text": [
      "Warning: <pyscf.gto.mole.Mole object at 0x716255e22240> must be initialized before calling SCF.\n",
      "Initialize <pyscf.gto.mole.Mole object at 0x716255e22240> in <pyscf.scf.hf.RHF object at 0x71625c9d8530>\n"
     ]
    },
    {
     "name": "stdout",
     "output_type": "stream",
     "text": [
      "converged SCF energy = -75.9245203806548\n"
     ]
    },
    {
     "name": "stderr",
     "output_type": "stream",
     "text": [
      "Warning: <pyscf.gto.mole.Mole object at 0x716255e123f0> must be initialized before calling SCF.\n",
      "Initialize <pyscf.gto.mole.Mole object at 0x716255e123f0> in <pyscf.scf.hf.RHF object at 0x7162540f7e90>\n"
     ]
    },
    {
     "name": "stdout",
     "output_type": "stream",
     "text": [
      "converged SCF energy = -75.9253535428607\n"
     ]
    },
    {
     "name": "stderr",
     "output_type": "stream",
     "text": [
      "Warning: <pyscf.gto.mole.Mole object at 0x7162540f6810> must be initialized before calling SCF.\n",
      "Initialize <pyscf.gto.mole.Mole object at 0x7162540f6810> in <pyscf.scf.hf.RHF object at 0x7162540f4710>\n"
     ]
    },
    {
     "name": "stdout",
     "output_type": "stream",
     "text": [
      "converged SCF energy = -75.9234941831737\n"
     ]
    },
    {
     "name": "stderr",
     "output_type": "stream",
     "text": [
      "Warning: <pyscf.gto.mole.Mole object at 0x716255e223f0> must be initialized before calling SCF.\n",
      "Initialize <pyscf.gto.mole.Mole object at 0x716255e223f0> in <pyscf.scf.hf.RHF object at 0x71625c9d8530>\n"
     ]
    },
    {
     "name": "stdout",
     "output_type": "stream",
     "text": [
      "converged SCF energy = -75.9176018394801\n"
     ]
    },
    {
     "name": "stderr",
     "output_type": "stream",
     "text": [
      "Warning: <pyscf.gto.mole.Mole object at 0x716255e13b90> must be initialized before calling SCF.\n",
      "Initialize <pyscf.gto.mole.Mole object at 0x716255e13b90> in <pyscf.scf.hf.RHF object at 0x716255e102f0>\n"
     ]
    },
    {
     "name": "stdout",
     "output_type": "stream",
     "text": [
      "converged SCF energy = -75.9210448823904\n"
     ]
    },
    {
     "name": "stderr",
     "output_type": "stream",
     "text": [
      "Warning: <pyscf.gto.mole.Mole object at 0x716255e123f0> must be initialized before calling SCF.\n",
      "Initialize <pyscf.gto.mole.Mole object at 0x716255e123f0> in <pyscf.scf.hf.RHF object at 0x716255e13bc0>\n"
     ]
    },
    {
     "name": "stdout",
     "output_type": "stream",
     "text": [
      "converged SCF energy = -75.9225497101078\n"
     ]
    },
    {
     "name": "stderr",
     "output_type": "stream",
     "text": [
      "Warning: <pyscf.gto.mole.Mole object at 0x716255e11f40> must be initialized before calling SCF.\n",
      "Initialize <pyscf.gto.mole.Mole object at 0x716255e11f40> in <pyscf.scf.hf.RHF object at 0x716255e12300>\n"
     ]
    },
    {
     "name": "stdout",
     "output_type": "stream",
     "text": [
      "converged SCF energy = -75.9193149681467\n"
     ]
    },
    {
     "name": "stderr",
     "output_type": "stream",
     "text": [
      "Warning: <pyscf.gto.mole.Mole object at 0x716255e13b90> must be initialized before calling SCF.\n",
      "Initialize <pyscf.gto.mole.Mole object at 0x716255e13b90> in <pyscf.scf.hf.RHF object at 0x71625c9d8530>\n"
     ]
    },
    {
     "name": "stdout",
     "output_type": "stream",
     "text": [
      "converged SCF energy = -75.9254368779505\n"
     ]
    },
    {
     "name": "stderr",
     "output_type": "stream",
     "text": [
      "Warning: <pyscf.gto.mole.Mole object at 0x716255e12300> must be initialized before calling SCF.\n",
      "Initialize <pyscf.gto.mole.Mole object at 0x716255e12300> in <pyscf.scf.hf.RHF object at 0x716255e21610>\n"
     ]
    },
    {
     "name": "stdout",
     "output_type": "stream",
     "text": [
      "converged SCF energy = -75.9212760621292\n"
     ]
    },
    {
     "name": "stderr",
     "output_type": "stream",
     "text": [
      "Warning: <pyscf.gto.mole.Mole object at 0x716255e11f40> must be initialized before calling SCF.\n",
      "Initialize <pyscf.gto.mole.Mole object at 0x716255e11f40> in <pyscf.scf.hf.RHF object at 0x716255e12240>\n"
     ]
    },
    {
     "name": "stdout",
     "output_type": "stream",
     "text": [
      "converged SCF energy = -75.9248739113608\n"
     ]
    },
    {
     "name": "stderr",
     "output_type": "stream",
     "text": [
      "Warning: <pyscf.gto.mole.Mole object at 0x716255e13b90> must be initialized before calling SCF.\n",
      "Initialize <pyscf.gto.mole.Mole object at 0x716255e13b90> in <pyscf.scf.hf.RHF object at 0x716255e23950>\n"
     ]
    },
    {
     "name": "stdout",
     "output_type": "stream",
     "text": [
      "converged SCF energy = -75.9203937647798\n"
     ]
    },
    {
     "name": "stderr",
     "output_type": "stream",
     "text": [
      "Warning: <pyscf.gto.mole.Mole object at 0x7162540f5580> must be initialized before calling SCF.\n",
      "Initialize <pyscf.gto.mole.Mole object at 0x7162540f5580> in <pyscf.scf.hf.RHF object at 0x7162540f4380>\n"
     ]
    },
    {
     "name": "stdout",
     "output_type": "stream",
     "text": [
      "converged SCF energy = -75.9226363398028\n"
     ]
    },
    {
     "name": "stderr",
     "output_type": "stream",
     "text": [
      "Warning: <pyscf.gto.mole.Mole object at 0x716255e10350> must be initialized before calling SCF.\n",
      "Initialize <pyscf.gto.mole.Mole object at 0x716255e10350> in <pyscf.scf.hf.RHF object at 0x71625c9d8530>\n"
     ]
    },
    {
     "name": "stdout",
     "output_type": "stream",
     "text": [
      "converged SCF energy = -75.9269552785616\n"
     ]
    },
    {
     "name": "stderr",
     "output_type": "stream",
     "text": [
      "Warning: <pyscf.gto.mole.Mole object at 0x716255e11c40> must be initialized before calling SCF.\n",
      "Initialize <pyscf.gto.mole.Mole object at 0x716255e11c40> in <pyscf.scf.hf.RHF object at 0x716255edc920>\n"
     ]
    },
    {
     "name": "stdout",
     "output_type": "stream",
     "text": [
      "converged SCF energy = -75.9240766764861\n"
     ]
    },
    {
     "name": "stderr",
     "output_type": "stream",
     "text": [
      "Warning: <pyscf.gto.mole.Mole object at 0x716255f6f290> must be initialized before calling SCF.\n",
      "Initialize <pyscf.gto.mole.Mole object at 0x716255f6f290> in <pyscf.scf.hf.RHF object at 0x716255e20f80>\n"
     ]
    },
    {
     "name": "stdout",
     "output_type": "stream",
     "text": [
      "converged SCF energy = -75.9224823038726\n"
     ]
    },
    {
     "name": "stderr",
     "output_type": "stream",
     "text": [
      "Warning: <pyscf.gto.mole.Mole object at 0x716255e12300> must be initialized before calling SCF.\n",
      "Initialize <pyscf.gto.mole.Mole object at 0x716255e12300> in <pyscf.scf.hf.RHF object at 0x716255e13950>\n"
     ]
    },
    {
     "name": "stdout",
     "output_type": "stream",
     "text": [
      "converged SCF energy = -75.9201201001518\n"
     ]
    },
    {
     "name": "stderr",
     "output_type": "stream",
     "text": [
      "Warning: <pyscf.gto.mole.Mole object at 0x716255e1f290> must be initialized before calling SCF.\n",
      "Initialize <pyscf.gto.mole.Mole object at 0x716255e1f290> in <pyscf.scf.hf.RHF object at 0x716255e1c560>\n"
     ]
    },
    {
     "name": "stdout",
     "output_type": "stream",
     "text": [
      "converged SCF energy = -75.9236586353192\n"
     ]
    },
    {
     "name": "stderr",
     "output_type": "stream",
     "text": [
      "Warning: <pyscf.gto.mole.Mole object at 0x716255e22300> must be initialized before calling SCF.\n",
      "Initialize <pyscf.gto.mole.Mole object at 0x716255e22300> in <pyscf.scf.hf.RHF object at 0x716255edc920>\n"
     ]
    },
    {
     "name": "stdout",
     "output_type": "stream",
     "text": [
      "converged SCF energy = -75.9248598488182\n"
     ]
    },
    {
     "name": "stderr",
     "output_type": "stream",
     "text": [
      "Warning: <pyscf.gto.mole.Mole object at 0x716255e11610> must be initialized before calling SCF.\n",
      "Initialize <pyscf.gto.mole.Mole object at 0x716255e11610> in <pyscf.scf.hf.RHF object at 0x7162540f5370>\n"
     ]
    },
    {
     "name": "stdout",
     "output_type": "stream",
     "text": [
      "converged SCF energy = -75.930157669292\n"
     ]
    },
    {
     "name": "stderr",
     "output_type": "stream",
     "text": [
      "Warning: <pyscf.gto.mole.Mole object at 0x716255e10e60> must be initialized before calling SCF.\n",
      "Initialize <pyscf.gto.mole.Mole object at 0x716255e10e60> in <pyscf.scf.hf.RHF object at 0x7162540f5910>\n"
     ]
    },
    {
     "name": "stdout",
     "output_type": "stream",
     "text": [
      "converged SCF energy = -75.9235091586922\n"
     ]
    },
    {
     "name": "stderr",
     "output_type": "stream",
     "text": [
      "Warning: <pyscf.gto.mole.Mole object at 0x7162540f4b90> must be initialized before calling SCF.\n",
      "Initialize <pyscf.gto.mole.Mole object at 0x7162540f4b90> in <pyscf.scf.hf.RHF object at 0x7162540f4ec0>\n"
     ]
    },
    {
     "name": "stdout",
     "output_type": "stream",
     "text": [
      "converged SCF energy = -75.9241768653422\n"
     ]
    },
    {
     "name": "stderr",
     "output_type": "stream",
     "text": [
      "Warning: <pyscf.gto.mole.Mole object at 0x716255e10e60> must be initialized before calling SCF.\n",
      "Initialize <pyscf.gto.mole.Mole object at 0x716255e10e60> in <pyscf.scf.hf.RHF object at 0x716255e11610>\n"
     ]
    },
    {
     "name": "stdout",
     "output_type": "stream",
     "text": [
      "converged SCF energy = -75.925375593366\n"
     ]
    },
    {
     "name": "stderr",
     "output_type": "stream",
     "text": [
      "Warning: <pyscf.gto.mole.Mole object at 0x716255e1d7f0> must be initialized before calling SCF.\n",
      "Initialize <pyscf.gto.mole.Mole object at 0x716255e1d7f0> in <pyscf.scf.hf.RHF object at 0x7162540f4a10>\n"
     ]
    },
    {
     "name": "stdout",
     "output_type": "stream",
     "text": [
      "converged SCF energy = -75.9280944460085\n"
     ]
    },
    {
     "name": "stderr",
     "output_type": "stream",
     "text": [
      "Warning: <pyscf.gto.mole.Mole object at 0x716255e11610> must be initialized before calling SCF.\n",
      "Initialize <pyscf.gto.mole.Mole object at 0x716255e11610> in <pyscf.scf.hf.RHF object at 0x7162540f4440>\n"
     ]
    },
    {
     "name": "stdout",
     "output_type": "stream",
     "text": [
      "converged SCF energy = -75.9173867629912\n"
     ]
    },
    {
     "name": "stderr",
     "output_type": "stream",
     "text": [
      "Warning: <pyscf.gto.mole.Mole object at 0x716255e11c40> must be initialized before calling SCF.\n",
      "Initialize <pyscf.gto.mole.Mole object at 0x716255e11c40> in <pyscf.scf.hf.RHF object at 0x7162540f4a10>\n"
     ]
    },
    {
     "name": "stdout",
     "output_type": "stream",
     "text": [
      "converged SCF energy = -75.9232798150646\n"
     ]
    },
    {
     "name": "stderr",
     "output_type": "stream",
     "text": [
      "Warning: <pyscf.gto.mole.Mole object at 0x716255e1c2f0> must be initialized before calling SCF.\n",
      "Initialize <pyscf.gto.mole.Mole object at 0x716255e1c2f0> in <pyscf.scf.hf.RHF object at 0x7162540f4440>\n"
     ]
    },
    {
     "name": "stdout",
     "output_type": "stream",
     "text": [
      "converged SCF energy = -75.925877293314\n"
     ]
    },
    {
     "name": "stderr",
     "output_type": "stream",
     "text": [
      "Warning: <pyscf.gto.mole.Mole object at 0x7162560cc4d0> must be initialized before calling SCF.\n",
      "Initialize <pyscf.gto.mole.Mole object at 0x7162560cc4d0> in <pyscf.scf.hf.RHF object at 0x7162540f4e90>\n"
     ]
    },
    {
     "name": "stdout",
     "output_type": "stream",
     "text": [
      "converged SCF energy = -75.9272886268904\n"
     ]
    },
    {
     "name": "stderr",
     "output_type": "stream",
     "text": [
      "Warning: <pyscf.gto.mole.Mole object at 0x7162540f5790> must be initialized before calling SCF.\n",
      "Initialize <pyscf.gto.mole.Mole object at 0x7162540f5790> in <pyscf.scf.hf.RHF object at 0x7162540f4a10>\n"
     ]
    },
    {
     "name": "stdout",
     "output_type": "stream",
     "text": [
      "converged SCF energy = -75.9236329143816\n"
     ]
    },
    {
     "name": "stderr",
     "output_type": "stream",
     "text": [
      "Warning: <pyscf.gto.mole.Mole object at 0x7162569852e0> must be initialized before calling SCF.\n",
      "Initialize <pyscf.gto.mole.Mole object at 0x7162569852e0> in <pyscf.scf.hf.RHF object at 0x7162560ce1b0>\n"
     ]
    },
    {
     "name": "stdout",
     "output_type": "stream",
     "text": [
      "converged SCF energy = -75.9241968104565\n"
     ]
    },
    {
     "name": "stderr",
     "output_type": "stream",
     "text": [
      "Warning: <pyscf.gto.mole.Mole object at 0x7162540f4050> must be initialized before calling SCF.\n",
      "Initialize <pyscf.gto.mole.Mole object at 0x7162540f4050> in <pyscf.scf.hf.RHF object at 0x7162540f4740>\n"
     ]
    },
    {
     "name": "stdout",
     "output_type": "stream",
     "text": [
      "converged SCF energy = -75.9253459663758\n"
     ]
    },
    {
     "name": "stderr",
     "output_type": "stream",
     "text": [
      "Warning: <pyscf.gto.mole.Mole object at 0x716255ef4860> must be initialized before calling SCF.\n",
      "Initialize <pyscf.gto.mole.Mole object at 0x716255ef4860> in <pyscf.scf.hf.RHF object at 0x71625c9d8530>\n"
     ]
    },
    {
     "name": "stdout",
     "output_type": "stream",
     "text": [
      "converged SCF energy = -75.9242813010084\n"
     ]
    },
    {
     "name": "stderr",
     "output_type": "stream",
     "text": [
      "Warning: <pyscf.gto.mole.Mole object at 0x716256984320> must be initialized before calling SCF.\n",
      "Initialize <pyscf.gto.mole.Mole object at 0x716256984320> in <pyscf.scf.hf.RHF object at 0x7162540f4dd0>\n"
     ]
    },
    {
     "name": "stdout",
     "output_type": "stream",
     "text": [
      "converged SCF energy = -75.9238383978473\n"
     ]
    },
    {
     "name": "stderr",
     "output_type": "stream",
     "text": [
      "Warning: <pyscf.gto.mole.Mole object at 0x7162540f5790> must be initialized before calling SCF.\n",
      "Initialize <pyscf.gto.mole.Mole object at 0x7162540f5790> in <pyscf.scf.hf.RHF object at 0x7162540f4ec0>\n"
     ]
    },
    {
     "name": "stdout",
     "output_type": "stream",
     "text": [
      "converged SCF energy = -75.9223133699222\n"
     ]
    },
    {
     "name": "stderr",
     "output_type": "stream",
     "text": [
      "Warning: <pyscf.gto.mole.Mole object at 0x7162540f4200> must be initialized before calling SCF.\n",
      "Initialize <pyscf.gto.mole.Mole object at 0x7162540f4200> in <pyscf.scf.hf.RHF object at 0x7162540f48f0>\n"
     ]
    },
    {
     "name": "stdout",
     "output_type": "stream",
     "text": [
      "converged SCF energy = -75.924875111033\n"
     ]
    },
    {
     "name": "stderr",
     "output_type": "stream",
     "text": [
      "Warning: <pyscf.gto.mole.Mole object at 0x716255e1c1d0> must be initialized before calling SCF.\n",
      "Initialize <pyscf.gto.mole.Mole object at 0x716255e1c1d0> in <pyscf.scf.hf.RHF object at 0x7162540f5280>\n"
     ]
    },
    {
     "name": "stdout",
     "output_type": "stream",
     "text": [
      "converged SCF energy = -75.9246517962817\n"
     ]
    },
    {
     "name": "stderr",
     "output_type": "stream",
     "text": [
      "Warning: <pyscf.gto.mole.Mole object at 0x7162540f57c0> must be initialized before calling SCF.\n",
      "Initialize <pyscf.gto.mole.Mole object at 0x7162540f57c0> in <pyscf.scf.hf.RHF object at 0x7162540f4a10>\n"
     ]
    },
    {
     "name": "stdout",
     "output_type": "stream",
     "text": [
      "converged SCF energy = -75.9240220080208\n"
     ]
    },
    {
     "name": "stderr",
     "output_type": "stream",
     "text": [
      "Warning: <pyscf.gto.mole.Mole object at 0x716255dfc200> must be initialized before calling SCF.\n",
      "Initialize <pyscf.gto.mole.Mole object at 0x716255dfc200> in <pyscf.scf.hf.RHF object at 0x716255e10350>\n"
     ]
    },
    {
     "name": "stdout",
     "output_type": "stream",
     "text": [
      "converged SCF energy = -75.9229031250517\n"
     ]
    },
    {
     "name": "stderr",
     "output_type": "stream",
     "text": [
      "Warning: <pyscf.gto.mole.Mole object at 0x716256984590> must be initialized before calling SCF.\n",
      "Initialize <pyscf.gto.mole.Mole object at 0x716256984590> in <pyscf.scf.hf.RHF object at 0x7162540f5100>\n"
     ]
    },
    {
     "name": "stdout",
     "output_type": "stream",
     "text": [
      "converged SCF energy = -75.9174272885784\n"
     ]
    },
    {
     "name": "stderr",
     "output_type": "stream",
     "text": [
      "Warning: <pyscf.gto.mole.Mole object at 0x716255f748f0> must be initialized before calling SCF.\n",
      "Initialize <pyscf.gto.mole.Mole object at 0x716255f748f0> in <pyscf.scf.hf.RHF object at 0x7162540f6780>\n"
     ]
    },
    {
     "name": "stdout",
     "output_type": "stream",
     "text": [
      "converged SCF energy = -75.9236914500361\n"
     ]
    },
    {
     "name": "stderr",
     "output_type": "stream",
     "text": [
      "Warning: <pyscf.gto.mole.Mole object at 0x7162540f5220> must be initialized before calling SCF.\n",
      "Initialize <pyscf.gto.mole.Mole object at 0x7162540f5220> in <pyscf.scf.hf.RHF object at 0x7162540f74d0>\n"
     ]
    },
    {
     "name": "stdout",
     "output_type": "stream",
     "text": [
      "converged SCF energy = -75.9241950483576\n"
     ]
    },
    {
     "name": "stderr",
     "output_type": "stream",
     "text": [
      "Warning: <pyscf.gto.mole.Mole object at 0x716256985550> must be initialized before calling SCF.\n",
      "Initialize <pyscf.gto.mole.Mole object at 0x716256985550> in <pyscf.scf.hf.RHF object at 0x7162540f4a10>\n"
     ]
    },
    {
     "name": "stdout",
     "output_type": "stream",
     "text": [
      "converged SCF energy = -75.9216732261644\n"
     ]
    },
    {
     "name": "stderr",
     "output_type": "stream",
     "text": [
      "Warning: <pyscf.gto.mole.Mole object at 0x7162560ce1b0> must be initialized before calling SCF.\n",
      "Initialize <pyscf.gto.mole.Mole object at 0x7162560ce1b0> in <pyscf.scf.hf.RHF object at 0x7162540f42f0>\n"
     ]
    },
    {
     "name": "stdout",
     "output_type": "stream",
     "text": [
      "converged SCF energy = -75.9221413682394\n"
     ]
    },
    {
     "name": "stderr",
     "output_type": "stream",
     "text": [
      "Warning: <pyscf.gto.mole.Mole object at 0x7162560cda90> must be initialized before calling SCF.\n",
      "Initialize <pyscf.gto.mole.Mole object at 0x7162560cda90> in <pyscf.scf.hf.RHF object at 0x716255e21610>\n"
     ]
    },
    {
     "name": "stdout",
     "output_type": "stream",
     "text": [
      "converged SCF energy = -75.9265151762959\n"
     ]
    },
    {
     "name": "stderr",
     "output_type": "stream",
     "text": [
      "Warning: <pyscf.gto.mole.Mole object at 0x7162560ce1b0> must be initialized before calling SCF.\n",
      "Initialize <pyscf.gto.mole.Mole object at 0x7162560ce1b0> in <pyscf.scf.hf.RHF object at 0x7162540f6780>\n"
     ]
    },
    {
     "name": "stdout",
     "output_type": "stream",
     "text": [
      "converged SCF energy = -75.9257512602386\n"
     ]
    },
    {
     "name": "stderr",
     "output_type": "stream",
     "text": [
      "Warning: <pyscf.gto.mole.Mole object at 0x716255e11610> must be initialized before calling SCF.\n",
      "Initialize <pyscf.gto.mole.Mole object at 0x716255e11610> in <pyscf.scf.hf.RHF object at 0x7162540f4620>\n"
     ]
    },
    {
     "name": "stdout",
     "output_type": "stream",
     "text": [
      "converged SCF energy = -75.9175187036074\n"
     ]
    },
    {
     "name": "stderr",
     "output_type": "stream",
     "text": [
      "Warning: <pyscf.gto.mole.Mole object at 0x716255e13950> must be initialized before calling SCF.\n",
      "Initialize <pyscf.gto.mole.Mole object at 0x716255e13950> in <pyscf.scf.hf.RHF object at 0x7162560ce1b0>\n"
     ]
    },
    {
     "name": "stdout",
     "output_type": "stream",
     "text": [
      "converged SCF energy = -75.9235683232504\n"
     ]
    },
    {
     "name": "stderr",
     "output_type": "stream",
     "text": [
      "Warning: <pyscf.gto.mole.Mole object at 0x7162540f5700> must be initialized before calling SCF.\n",
      "Initialize <pyscf.gto.mole.Mole object at 0x7162540f5700> in <pyscf.scf.hf.RHF object at 0x7162540f4590>\n"
     ]
    },
    {
     "name": "stdout",
     "output_type": "stream",
     "text": [
      "converged SCF energy = -75.925139998269\n"
     ]
    },
    {
     "name": "stderr",
     "output_type": "stream",
     "text": [
      "Warning: <pyscf.gto.mole.Mole object at 0x7162540f40b0> must be initialized before calling SCF.\n",
      "Initialize <pyscf.gto.mole.Mole object at 0x7162540f40b0> in <pyscf.scf.hf.RHF object at 0x7162540f4b90>\n"
     ]
    },
    {
     "name": "stdout",
     "output_type": "stream",
     "text": [
      "converged SCF energy = -75.9229232355302\n"
     ]
    },
    {
     "name": "stderr",
     "output_type": "stream",
     "text": [
      "Warning: <pyscf.gto.mole.Mole object at 0x7162560ccbc0> must be initialized before calling SCF.\n",
      "Initialize <pyscf.gto.mole.Mole object at 0x7162560ccbc0> in <pyscf.scf.hf.RHF object at 0x7162540f5a60>\n"
     ]
    },
    {
     "name": "stdout",
     "output_type": "stream",
     "text": [
      "converged SCF energy = -75.9204065876844\n"
     ]
    },
    {
     "name": "stderr",
     "output_type": "stream",
     "text": [
      "Warning: <pyscf.gto.mole.Mole object at 0x716255e1eed0> must be initialized before calling SCF.\n",
      "Initialize <pyscf.gto.mole.Mole object at 0x716255e1eed0> in <pyscf.scf.hf.RHF object at 0x7162540f4b90>\n"
     ]
    },
    {
     "name": "stdout",
     "output_type": "stream",
     "text": [
      "converged SCF energy = -75.9273430118154\n"
     ]
    },
    {
     "name": "stderr",
     "output_type": "stream",
     "text": [
      "Warning: <pyscf.gto.mole.Mole object at 0x7162540f4e30> must be initialized before calling SCF.\n",
      "Initialize <pyscf.gto.mole.Mole object at 0x7162540f4e30> in <pyscf.scf.hf.RHF object at 0x7162540f5190>\n"
     ]
    },
    {
     "name": "stdout",
     "output_type": "stream",
     "text": [
      "converged SCF energy = -75.9248102279871\n"
     ]
    },
    {
     "name": "stderr",
     "output_type": "stream",
     "text": [
      "Warning: <pyscf.gto.mole.Mole object at 0x7162569844a0> must be initialized before calling SCF.\n",
      "Initialize <pyscf.gto.mole.Mole object at 0x7162569844a0> in <pyscf.scf.hf.RHF object at 0x71625c9d8530>\n"
     ]
    },
    {
     "name": "stdout",
     "output_type": "stream",
     "text": [
      "converged SCF energy = -75.9209475093423\n"
     ]
    },
    {
     "name": "stderr",
     "output_type": "stream",
     "text": [
      "Warning: <pyscf.gto.mole.Mole object at 0x716255f6e990> must be initialized before calling SCF.\n",
      "Initialize <pyscf.gto.mole.Mole object at 0x716255f6e990> in <pyscf.scf.hf.RHF object at 0x7162540f5610>\n"
     ]
    },
    {
     "name": "stdout",
     "output_type": "stream",
     "text": [
      "converged SCF energy = -75.9251289975698\n"
     ]
    },
    {
     "name": "stderr",
     "output_type": "stream",
     "text": [
      "Warning: <pyscf.gto.mole.Mole object at 0x7162540f5c40> must be initialized before calling SCF.\n",
      "Initialize <pyscf.gto.mole.Mole object at 0x7162540f5c40> in <pyscf.scf.hf.RHF object at 0x71625c9d8530>\n"
     ]
    },
    {
     "name": "stdout",
     "output_type": "stream",
     "text": [
      "converged SCF energy = -75.9275530264101\n"
     ]
    },
    {
     "name": "stderr",
     "output_type": "stream",
     "text": [
      "Warning: <pyscf.gto.mole.Mole object at 0x7162540f52b0> must be initialized before calling SCF.\n",
      "Initialize <pyscf.gto.mole.Mole object at 0x7162540f52b0> in <pyscf.scf.hf.RHF object at 0x7162540f5730>\n"
     ]
    },
    {
     "name": "stdout",
     "output_type": "stream",
     "text": [
      "converged SCF energy = -75.925006634795\n"
     ]
    },
    {
     "name": "stderr",
     "output_type": "stream",
     "text": [
      "Warning: <pyscf.gto.mole.Mole object at 0x716255e1caa0> must be initialized before calling SCF.\n",
      "Initialize <pyscf.gto.mole.Mole object at 0x716255e1caa0> in <pyscf.scf.hf.RHF object at 0x7162540f7830>\n"
     ]
    },
    {
     "name": "stdout",
     "output_type": "stream",
     "text": [
      "converged SCF energy = -75.9234781511685\n"
     ]
    },
    {
     "name": "stderr",
     "output_type": "stream",
     "text": [
      "Warning: <pyscf.gto.mole.Mole object at 0x716255e109b0> must be initialized before calling SCF.\n",
      "Initialize <pyscf.gto.mole.Mole object at 0x716255e109b0> in <pyscf.scf.hf.RHF object at 0x7162540f5b50>\n"
     ]
    },
    {
     "name": "stdout",
     "output_type": "stream",
     "text": [
      "converged SCF energy = -75.9218148056292\n"
     ]
    },
    {
     "name": "stderr",
     "output_type": "stream",
     "text": [
      "Warning: <pyscf.gto.mole.Mole object at 0x716255e1ee10> must be initialized before calling SCF.\n",
      "Initialize <pyscf.gto.mole.Mole object at 0x716255e1ee10> in <pyscf.scf.hf.RHF object at 0x71625c9d8530>\n"
     ]
    },
    {
     "name": "stdout",
     "output_type": "stream",
     "text": [
      "converged SCF energy = -75.9249109018437\n"
     ]
    },
    {
     "name": "stderr",
     "output_type": "stream",
     "text": [
      "Warning: <pyscf.gto.mole.Mole object at 0x7162540f5a00> must be initialized before calling SCF.\n",
      "Initialize <pyscf.gto.mole.Mole object at 0x7162540f5a00> in <pyscf.scf.hf.RHF object at 0x7162540f42f0>\n"
     ]
    },
    {
     "name": "stdout",
     "output_type": "stream",
     "text": [
      "converged SCF energy = -75.9275908183856\n"
     ]
    },
    {
     "name": "stderr",
     "output_type": "stream",
     "text": [
      "Warning: <pyscf.gto.mole.Mole object at 0x716256985c40> must be initialized before calling SCF.\n",
      "Initialize <pyscf.gto.mole.Mole object at 0x716256985c40> in <pyscf.scf.hf.RHF object at 0x7162540f57f0>\n"
     ]
    },
    {
     "name": "stdout",
     "output_type": "stream",
     "text": [
      "converged SCF energy = -75.9252284113674\n"
     ]
    },
    {
     "name": "stderr",
     "output_type": "stream",
     "text": [
      "Warning: <pyscf.gto.mole.Mole object at 0x7162540f63f0> must be initialized before calling SCF.\n",
      "Initialize <pyscf.gto.mole.Mole object at 0x7162540f63f0> in <pyscf.scf.hf.RHF object at 0x7162540f4bc0>\n"
     ]
    },
    {
     "name": "stdout",
     "output_type": "stream",
     "text": [
      "converged SCF energy = -75.925215995451\n"
     ]
    },
    {
     "name": "stderr",
     "output_type": "stream",
     "text": [
      "Warning: <pyscf.gto.mole.Mole object at 0x7162540f5610> must be initialized before calling SCF.\n",
      "Initialize <pyscf.gto.mole.Mole object at 0x7162540f5610> in <pyscf.scf.hf.RHF object at 0x7162540f5670>\n"
     ]
    },
    {
     "name": "stdout",
     "output_type": "stream",
     "text": [
      "converged SCF energy = -75.9260270997711\n"
     ]
    },
    {
     "name": "stderr",
     "output_type": "stream",
     "text": [
      "Warning: <pyscf.gto.mole.Mole object at 0x716255e1c2f0> must be initialized before calling SCF.\n",
      "Initialize <pyscf.gto.mole.Mole object at 0x716255e1c2f0> in <pyscf.scf.hf.RHF object at 0x71625c9d8530>\n"
     ]
    },
    {
     "name": "stdout",
     "output_type": "stream",
     "text": [
      "converged SCF energy = -75.9292861312965\n"
     ]
    },
    {
     "name": "stderr",
     "output_type": "stream",
     "text": [
      "Warning: <pyscf.gto.mole.Mole object at 0x7162540f63f0> must be initialized before calling SCF.\n",
      "Initialize <pyscf.gto.mole.Mole object at 0x7162540f63f0> in <pyscf.scf.hf.RHF object at 0x7162540f5400>\n"
     ]
    },
    {
     "name": "stdout",
     "output_type": "stream",
     "text": [
      "converged SCF energy = -75.9199632217089\n"
     ]
    },
    {
     "name": "stderr",
     "output_type": "stream",
     "text": [
      "Warning: <pyscf.gto.mole.Mole object at 0x7162540f5880> must be initialized before calling SCF.\n",
      "Initialize <pyscf.gto.mole.Mole object at 0x7162540f5880> in <pyscf.scf.hf.RHF object at 0x7162540f7260>\n"
     ]
    },
    {
     "name": "stdout",
     "output_type": "stream",
     "text": [
      "converged SCF energy = -75.9263727949238\n"
     ]
    },
    {
     "name": "stderr",
     "output_type": "stream",
     "text": [
      "Warning: <pyscf.gto.mole.Mole object at 0x716256985400> must be initialized before calling SCF.\n",
      "Initialize <pyscf.gto.mole.Mole object at 0x716256985400> in <pyscf.scf.hf.RHF object at 0x71625c9d8530>\n"
     ]
    },
    {
     "name": "stdout",
     "output_type": "stream",
     "text": [
      "converged SCF energy = -75.9218531271583\n"
     ]
    },
    {
     "name": "stderr",
     "output_type": "stream",
     "text": [
      "Warning: <pyscf.gto.mole.Mole object at 0x716255e11610> must be initialized before calling SCF.\n",
      "Initialize <pyscf.gto.mole.Mole object at 0x716255e11610> in <pyscf.scf.hf.RHF object at 0x7162540f7260>\n"
     ]
    },
    {
     "name": "stdout",
     "output_type": "stream",
     "text": [
      "converged SCF energy = -75.9186466941719\n"
     ]
    },
    {
     "name": "stderr",
     "output_type": "stream",
     "text": [
      "Warning: <pyscf.gto.mole.Mole object at 0x7162540f5c70> must be initialized before calling SCF.\n",
      "Initialize <pyscf.gto.mole.Mole object at 0x7162540f5c70> in <pyscf.scf.hf.RHF object at 0x7162540f5400>\n"
     ]
    },
    {
     "name": "stdout",
     "output_type": "stream",
     "text": [
      "converged SCF energy = -75.9250551159534\n"
     ]
    },
    {
     "name": "stderr",
     "output_type": "stream",
     "text": [
      "Warning: <pyscf.gto.mole.Mole object at 0x716255e102f0> must be initialized before calling SCF.\n",
      "Initialize <pyscf.gto.mole.Mole object at 0x716255e102f0> in <pyscf.scf.hf.RHF object at 0x7162540f7260>\n"
     ]
    },
    {
     "name": "stdout",
     "output_type": "stream",
     "text": [
      "converged SCF energy = -75.9227204713926\n"
     ]
    },
    {
     "name": "stderr",
     "output_type": "stream",
     "text": [
      "Warning: <pyscf.gto.mole.Mole object at 0x7162560ceed0> must be initialized before calling SCF.\n",
      "Initialize <pyscf.gto.mole.Mole object at 0x7162560ceed0> in <pyscf.scf.hf.RHF object at 0x7162540f6ea0>\n"
     ]
    },
    {
     "name": "stdout",
     "output_type": "stream",
     "text": [
      "converged SCF energy = -75.9247616777783\n"
     ]
    },
    {
     "name": "stderr",
     "output_type": "stream",
     "text": [
      "Warning: <pyscf.gto.mole.Mole object at 0x7162540f6b40> must be initialized before calling SCF.\n",
      "Initialize <pyscf.gto.mole.Mole object at 0x7162540f6b40> in <pyscf.scf.hf.RHF object at 0x71625c9d8530>\n"
     ]
    },
    {
     "name": "stdout",
     "output_type": "stream",
     "text": [
      "converged SCF energy = -75.9222610095464\n"
     ]
    },
    {
     "name": "stderr",
     "output_type": "stream",
     "text": [
      "Warning: <pyscf.gto.mole.Mole object at 0x716255e11610> must be initialized before calling SCF.\n",
      "Initialize <pyscf.gto.mole.Mole object at 0x716255e11610> in <pyscf.scf.hf.RHF object at 0x7162540f6420>\n"
     ]
    },
    {
     "name": "stdout",
     "output_type": "stream",
     "text": [
      "converged SCF energy = -75.9253179257974\n"
     ]
    },
    {
     "name": "stderr",
     "output_type": "stream",
     "text": [
      "Warning: <pyscf.gto.mole.Mole object at 0x7162540f5280> must be initialized before calling SCF.\n",
      "Initialize <pyscf.gto.mole.Mole object at 0x7162540f5280> in <pyscf.scf.hf.RHF object at 0x7162540f6450>\n"
     ]
    },
    {
     "name": "stdout",
     "output_type": "stream",
     "text": [
      "converged SCF energy = -75.9256140144209\n"
     ]
    },
    {
     "name": "stderr",
     "output_type": "stream",
     "text": [
      "Warning: <pyscf.gto.mole.Mole object at 0x7162540f5cd0> must be initialized before calling SCF.\n",
      "Initialize <pyscf.gto.mole.Mole object at 0x7162540f5cd0> in <pyscf.scf.hf.RHF object at 0x7162540f6d80>\n"
     ]
    },
    {
     "name": "stdout",
     "output_type": "stream",
     "text": [
      "converged SCF energy = -75.9219011491737\n"
     ]
    },
    {
     "name": "stderr",
     "output_type": "stream",
     "text": [
      "Warning: <pyscf.gto.mole.Mole object at 0x7162540f6ab0> must be initialized before calling SCF.\n",
      "Initialize <pyscf.gto.mole.Mole object at 0x7162540f6ab0> in <pyscf.scf.hf.RHF object at 0x7162540f6900>\n"
     ]
    },
    {
     "name": "stdout",
     "output_type": "stream",
     "text": [
      "converged SCF energy = -75.9208478272442\n"
     ]
    },
    {
     "name": "stderr",
     "output_type": "stream",
     "text": [
      "Warning: <pyscf.gto.mole.Mole object at 0x7162540f54f0> must be initialized before calling SCF.\n",
      "Initialize <pyscf.gto.mole.Mole object at 0x7162540f54f0> in <pyscf.scf.hf.RHF object at 0x7162540f6b40>\n"
     ]
    },
    {
     "name": "stdout",
     "output_type": "stream",
     "text": [
      "converged SCF energy = -75.9256612070534\n"
     ]
    },
    {
     "name": "stderr",
     "output_type": "stream",
     "text": [
      "Warning: <pyscf.gto.mole.Mole object at 0x716255f6dc10> must be initialized before calling SCF.\n",
      "Initialize <pyscf.gto.mole.Mole object at 0x716255f6dc10> in <pyscf.scf.hf.RHF object at 0x7162540f4830>\n"
     ]
    },
    {
     "name": "stdout",
     "output_type": "stream",
     "text": [
      "converged SCF energy = -75.9235700730291\n"
     ]
    },
    {
     "name": "stderr",
     "output_type": "stream",
     "text": [
      "Warning: <pyscf.gto.mole.Mole object at 0x7162540f5880> must be initialized before calling SCF.\n",
      "Initialize <pyscf.gto.mole.Mole object at 0x7162540f5880> in <pyscf.scf.hf.RHF object at 0x71625c9d8530>\n"
     ]
    },
    {
     "name": "stdout",
     "output_type": "stream",
     "text": [
      "converged SCF energy = -75.9264388436242\n"
     ]
    },
    {
     "name": "stderr",
     "output_type": "stream",
     "text": [
      "Warning: <pyscf.gto.mole.Mole object at 0x716255e1eab0> must be initialized before calling SCF.\n",
      "Initialize <pyscf.gto.mole.Mole object at 0x716255e1eab0> in <pyscf.scf.hf.RHF object at 0x7162540f4c50>\n"
     ]
    },
    {
     "name": "stdout",
     "output_type": "stream",
     "text": [
      "converged SCF energy = -75.9168748307077\n"
     ]
    },
    {
     "name": "stderr",
     "output_type": "stream",
     "text": [
      "Warning: <pyscf.gto.mole.Mole object at 0x7162540f6b40> must be initialized before calling SCF.\n",
      "Initialize <pyscf.gto.mole.Mole object at 0x7162540f6b40> in <pyscf.scf.hf.RHF object at 0x7162540f6db0>\n"
     ]
    },
    {
     "name": "stdout",
     "output_type": "stream",
     "text": [
      "converged SCF energy = -75.9244773961388\n"
     ]
    },
    {
     "name": "stderr",
     "output_type": "stream",
     "text": [
      "Warning: <pyscf.gto.mole.Mole object at 0x716255e1dac0> must be initialized before calling SCF.\n",
      "Initialize <pyscf.gto.mole.Mole object at 0x716255e1dac0> in <pyscf.scf.hf.RHF object at 0x7162540f4c50>\n"
     ]
    },
    {
     "name": "stdout",
     "output_type": "stream",
     "text": [
      "converged SCF energy = -75.9223626944328\n"
     ]
    },
    {
     "name": "stderr",
     "output_type": "stream",
     "text": [
      "Warning: <pyscf.gto.mole.Mole object at 0x7162540f69c0> must be initialized before calling SCF.\n",
      "Initialize <pyscf.gto.mole.Mole object at 0x7162540f69c0> in <pyscf.scf.hf.RHF object at 0x7162540f7d10>\n"
     ]
    },
    {
     "name": "stdout",
     "output_type": "stream",
     "text": [
      "converged SCF energy = -75.9261965294133\n"
     ]
    },
    {
     "name": "stderr",
     "output_type": "stream",
     "text": [
      "Warning: <pyscf.gto.mole.Mole object at 0x716255f6d940> must be initialized before calling SCF.\n",
      "Initialize <pyscf.gto.mole.Mole object at 0x716255f6d940> in <pyscf.scf.hf.RHF object at 0x7162540f5820>\n"
     ]
    },
    {
     "name": "stdout",
     "output_type": "stream",
     "text": [
      "converged SCF energy = -75.9291568709691\n"
     ]
    },
    {
     "name": "stderr",
     "output_type": "stream",
     "text": [
      "Warning: <pyscf.gto.mole.Mole object at 0x716255f6ebd0> must be initialized before calling SCF.\n",
      "Initialize <pyscf.gto.mole.Mole object at 0x716255f6ebd0> in <pyscf.scf.hf.RHF object at 0x7162540f6c30>\n"
     ]
    },
    {
     "name": "stdout",
     "output_type": "stream",
     "text": [
      "converged SCF energy = -75.9233330761503\n"
     ]
    },
    {
     "name": "stderr",
     "output_type": "stream",
     "text": [
      "Warning: <pyscf.gto.mole.Mole object at 0x7162540f5a30> must be initialized before calling SCF.\n",
      "Initialize <pyscf.gto.mole.Mole object at 0x7162540f5a30> in <pyscf.scf.hf.RHF object at 0x7162540f7d10>\n"
     ]
    },
    {
     "name": "stdout",
     "output_type": "stream",
     "text": [
      "converged SCF energy = -75.9217163511837\n"
     ]
    },
    {
     "name": "stderr",
     "output_type": "stream",
     "text": [
      "Warning: <pyscf.gto.mole.Mole object at 0x716255e1cd40> must be initialized before calling SCF.\n",
      "Initialize <pyscf.gto.mole.Mole object at 0x716255e1cd40> in <pyscf.scf.hf.RHF object at 0x7162540f5700>\n"
     ]
    },
    {
     "name": "stdout",
     "output_type": "stream",
     "text": [
      "converged SCF energy = -75.921864661399\n"
     ]
    },
    {
     "name": "stderr",
     "output_type": "stream",
     "text": [
      "Warning: <pyscf.gto.mole.Mole object at 0x7162560cd520> must be initialized before calling SCF.\n",
      "Initialize <pyscf.gto.mole.Mole object at 0x7162560cd520> in <pyscf.scf.hf.RHF object at 0x71625c9d8530>\n"
     ]
    },
    {
     "name": "stdout",
     "output_type": "stream",
     "text": [
      "converged SCF energy = -75.9224396561535\n"
     ]
    },
    {
     "name": "stderr",
     "output_type": "stream",
     "text": [
      "Warning: <pyscf.gto.mole.Mole object at 0x716255e1eed0> must be initialized before calling SCF.\n",
      "Initialize <pyscf.gto.mole.Mole object at 0x716255e1eed0> in <pyscf.scf.hf.RHF object at 0x7162560ce1b0>\n"
     ]
    },
    {
     "name": "stdout",
     "output_type": "stream",
     "text": [
      "converged SCF energy = -75.9189113180923\n"
     ]
    },
    {
     "name": "stderr",
     "output_type": "stream",
     "text": [
      "Warning: <pyscf.gto.mole.Mole object at 0x7162560cd520> must be initialized before calling SCF.\n",
      "Initialize <pyscf.gto.mole.Mole object at 0x7162560cd520> in <pyscf.scf.hf.RHF object at 0x7162540f71d0>\n"
     ]
    },
    {
     "name": "stdout",
     "output_type": "stream",
     "text": [
      "converged SCF energy = -75.9248908018524\n"
     ]
    },
    {
     "name": "stderr",
     "output_type": "stream",
     "text": [
      "Warning: <pyscf.gto.mole.Mole object at 0x7162540f5ac0> must be initialized before calling SCF.\n",
      "Initialize <pyscf.gto.mole.Mole object at 0x7162540f5ac0> in <pyscf.scf.hf.RHF object at 0x71625c9d8530>\n"
     ]
    },
    {
     "name": "stdout",
     "output_type": "stream",
     "text": [
      "converged SCF energy = -75.9247236736769\n"
     ]
    },
    {
     "name": "stderr",
     "output_type": "stream",
     "text": [
      "Warning: <pyscf.gto.mole.Mole object at 0x716255e1ecc0> must be initialized before calling SCF.\n",
      "Initialize <pyscf.gto.mole.Mole object at 0x716255e1ecc0> in <pyscf.scf.hf.RHF object at 0x7162540f7dd0>\n"
     ]
    },
    {
     "name": "stdout",
     "output_type": "stream",
     "text": [
      "converged SCF energy = -75.9234153717532\n"
     ]
    },
    {
     "name": "stderr",
     "output_type": "stream",
     "text": [
      "Warning: <pyscf.gto.mole.Mole object at 0x716255e21610> must be initialized before calling SCF.\n",
      "Initialize <pyscf.gto.mole.Mole object at 0x716255e21610> in <pyscf.scf.hf.RHF object at 0x71625c9d8530>\n"
     ]
    },
    {
     "name": "stdout",
     "output_type": "stream",
     "text": [
      "converged SCF energy = -75.9177242708404\n"
     ]
    },
    {
     "name": "stderr",
     "output_type": "stream",
     "text": [
      "Warning: <pyscf.gto.mole.Mole object at 0x716255e1f5f0> must be initialized before calling SCF.\n",
      "Initialize <pyscf.gto.mole.Mole object at 0x716255e1f5f0> in <pyscf.scf.hf.RHF object at 0x716255e1f3e0>\n"
     ]
    },
    {
     "name": "stdout",
     "output_type": "stream",
     "text": [
      "converged SCF energy = -75.9187748876563\n"
     ]
    },
    {
     "name": "stderr",
     "output_type": "stream",
     "text": [
      "Warning: <pyscf.gto.mole.Mole object at 0x716255e1f920> must be initialized before calling SCF.\n",
      "Initialize <pyscf.gto.mole.Mole object at 0x716255e1f920> in <pyscf.scf.hf.RHF object at 0x7162540f5b50>\n"
     ]
    },
    {
     "name": "stdout",
     "output_type": "stream",
     "text": [
      "converged SCF energy = -75.9206713280752\n"
     ]
    },
    {
     "name": "stderr",
     "output_type": "stream",
     "text": [
      "Warning: <pyscf.gto.mole.Mole object at 0x716255e1d3d0> must be initialized before calling SCF.\n",
      "Initialize <pyscf.gto.mole.Mole object at 0x716255e1d3d0> in <pyscf.scf.hf.RHF object at 0x7162540f6f90>\n"
     ]
    },
    {
     "name": "stdout",
     "output_type": "stream",
     "text": [
      "converged SCF energy = -75.9263258997137\n"
     ]
    },
    {
     "name": "stderr",
     "output_type": "stream",
     "text": [
      "Warning: <pyscf.gto.mole.Mole object at 0x716255e0fe60> must be initialized before calling SCF.\n",
      "Initialize <pyscf.gto.mole.Mole object at 0x716255e0fe60> in <pyscf.scf.hf.RHF object at 0x7162540f4980>\n"
     ]
    },
    {
     "name": "stdout",
     "output_type": "stream",
     "text": [
      "converged SCF energy = -75.9255972704951\n"
     ]
    },
    {
     "name": "stderr",
     "output_type": "stream",
     "text": [
      "Warning: <pyscf.gto.mole.Mole object at 0x7162540f7710> must be initialized before calling SCF.\n",
      "Initialize <pyscf.gto.mole.Mole object at 0x7162540f7710> in <pyscf.scf.hf.RHF object at 0x7162540f7500>\n"
     ]
    },
    {
     "name": "stdout",
     "output_type": "stream",
     "text": [
      "converged SCF energy = -75.9259240184324\n"
     ]
    },
    {
     "name": "stderr",
     "output_type": "stream",
     "text": [
      "Warning: <pyscf.gto.mole.Mole object at 0x7162540f7110> must be initialized before calling SCF.\n",
      "Initialize <pyscf.gto.mole.Mole object at 0x7162540f7110> in <pyscf.scf.hf.RHF object at 0x7162540f7440>\n"
     ]
    },
    {
     "name": "stdout",
     "output_type": "stream",
     "text": [
      "converged SCF energy = -75.9271586750924\n"
     ]
    },
    {
     "name": "stderr",
     "output_type": "stream",
     "text": [
      "Warning: <pyscf.gto.mole.Mole object at 0x716255e1eed0> must be initialized before calling SCF.\n",
      "Initialize <pyscf.gto.mole.Mole object at 0x716255e1eed0> in <pyscf.scf.hf.RHF object at 0x7162540f7500>\n"
     ]
    },
    {
     "name": "stdout",
     "output_type": "stream",
     "text": [
      "converged SCF energy = -75.9190574207982\n"
     ]
    },
    {
     "name": "stderr",
     "output_type": "stream",
     "text": [
      "Warning: <pyscf.gto.mole.Mole object at 0x7162540f4f80> must be initialized before calling SCF.\n",
      "Initialize <pyscf.gto.mole.Mole object at 0x7162540f4f80> in <pyscf.scf.hf.RHF object at 0x7162540f4830>\n"
     ]
    },
    {
     "name": "stdout",
     "output_type": "stream",
     "text": [
      "converged SCF energy = -75.9233432525864\n"
     ]
    },
    {
     "name": "stderr",
     "output_type": "stream",
     "text": [
      "Warning: <pyscf.gto.mole.Mole object at 0x7162540f7a10> must be initialized before calling SCF.\n",
      "Initialize <pyscf.gto.mole.Mole object at 0x7162540f7a10> in <pyscf.scf.hf.RHF object at 0x7162540f6a80>\n"
     ]
    },
    {
     "name": "stdout",
     "output_type": "stream",
     "text": [
      "converged SCF energy = -75.9234400585394\n"
     ]
    },
    {
     "name": "stderr",
     "output_type": "stream",
     "text": [
      "Warning: <pyscf.gto.mole.Mole object at 0x716255e10350> must be initialized before calling SCF.\n",
      "Initialize <pyscf.gto.mole.Mole object at 0x716255e10350> in <pyscf.scf.hf.RHF object at 0x716256aef500>\n"
     ]
    },
    {
     "name": "stdout",
     "output_type": "stream",
     "text": [
      "converged SCF energy = -75.9246599000151\n"
     ]
    },
    {
     "name": "stderr",
     "output_type": "stream",
     "text": [
      "Warning: <pyscf.gto.mole.Mole object at 0x7162540f7e00> must be initialized before calling SCF.\n",
      "Initialize <pyscf.gto.mole.Mole object at 0x7162540f7e00> in <pyscf.scf.hf.RHF object at 0x7162540f6f30>\n"
     ]
    },
    {
     "name": "stdout",
     "output_type": "stream",
     "text": [
      "converged SCF energy = -75.9188741078862\n"
     ]
    },
    {
     "name": "stderr",
     "output_type": "stream",
     "text": [
      "Warning: <pyscf.gto.mole.Mole object at 0x7162540f76b0> must be initialized before calling SCF.\n",
      "Initialize <pyscf.gto.mole.Mole object at 0x7162540f76b0> in <pyscf.scf.hf.RHF object at 0x7162540f7620>\n"
     ]
    },
    {
     "name": "stdout",
     "output_type": "stream",
     "text": [
      "converged SCF energy = -75.9216579940213\n"
     ]
    },
    {
     "name": "stderr",
     "output_type": "stream",
     "text": [
      "Warning: <pyscf.gto.mole.Mole object at 0x716255e0f0e0> must be initialized before calling SCF.\n",
      "Initialize <pyscf.gto.mole.Mole object at 0x716255e0f0e0> in <pyscf.scf.hf.RHF object at 0x7162540f44d0>\n"
     ]
    },
    {
     "name": "stdout",
     "output_type": "stream",
     "text": [
      "converged SCF energy = -75.9283740235018\n"
     ]
    },
    {
     "name": "stderr",
     "output_type": "stream",
     "text": [
      "Warning: <pyscf.gto.mole.Mole object at 0x7162540f7a70> must be initialized before calling SCF.\n",
      "Initialize <pyscf.gto.mole.Mole object at 0x7162540f7a70> in <pyscf.scf.hf.RHF object at 0x7162540f6600>\n"
     ]
    },
    {
     "name": "stdout",
     "output_type": "stream",
     "text": [
      "converged SCF energy = -75.9281138667729\n"
     ]
    },
    {
     "name": "stderr",
     "output_type": "stream",
     "text": [
      "Warning: <pyscf.gto.mole.Mole object at 0x7162540f4f80> must be initialized before calling SCF.\n",
      "Initialize <pyscf.gto.mole.Mole object at 0x7162540f4f80> in <pyscf.scf.hf.RHF object at 0x7162540f5520>\n"
     ]
    },
    {
     "name": "stdout",
     "output_type": "stream",
     "text": [
      "converged SCF energy = -75.9198227016343\n"
     ]
    },
    {
     "name": "stderr",
     "output_type": "stream",
     "text": [
      "Warning: <pyscf.gto.mole.Mole object at 0x7162560cc4d0> must be initialized before calling SCF.\n",
      "Initialize <pyscf.gto.mole.Mole object at 0x7162560cc4d0> in <pyscf.scf.hf.RHF object at 0x7162540f7170>\n"
     ]
    },
    {
     "name": "stdout",
     "output_type": "stream",
     "text": [
      "converged SCF energy = -75.9223004297002\n"
     ]
    },
    {
     "name": "stderr",
     "output_type": "stream",
     "text": [
      "Warning: <pyscf.gto.mole.Mole object at 0x7162540f7e60> must be initialized before calling SCF.\n",
      "Initialize <pyscf.gto.mole.Mole object at 0x7162540f7e60> in <pyscf.scf.hf.RHF object at 0x7162540f5520>\n"
     ]
    },
    {
     "name": "stdout",
     "output_type": "stream",
     "text": [
      "converged SCF energy = -75.9294510901483\n"
     ]
    },
    {
     "name": "stderr",
     "output_type": "stream",
     "text": [
      "Warning: <pyscf.gto.mole.Mole object at 0x7162540f78c0> must be initialized before calling SCF.\n",
      "Initialize <pyscf.gto.mole.Mole object at 0x7162540f78c0> in <pyscf.scf.hf.RHF object at 0x7162540f79e0>\n"
     ]
    },
    {
     "name": "stdout",
     "output_type": "stream",
     "text": [
      "converged SCF energy = -75.9259940623226\n"
     ]
    },
    {
     "name": "stderr",
     "output_type": "stream",
     "text": [
      "Warning: <pyscf.gto.mole.Mole object at 0x7162540f6c30> must be initialized before calling SCF.\n",
      "Initialize <pyscf.gto.mole.Mole object at 0x7162540f6c30> in <pyscf.scf.hf.RHF object at 0x7162540f7f80>\n"
     ]
    },
    {
     "name": "stdout",
     "output_type": "stream",
     "text": [
      "converged SCF energy = -75.9260995457495\n"
     ]
    },
    {
     "name": "stderr",
     "output_type": "stream",
     "text": [
      "Warning: <pyscf.gto.mole.Mole object at 0x716255e1f5f0> must be initialized before calling SCF.\n",
      "Initialize <pyscf.gto.mole.Mole object at 0x716255e1f5f0> in <pyscf.scf.hf.RHF object at 0x7162540f5820>\n"
     ]
    },
    {
     "name": "stdout",
     "output_type": "stream",
     "text": [
      "converged SCF energy = -75.9216472941238\n"
     ]
    },
    {
     "name": "stderr",
     "output_type": "stream",
     "text": [
      "Warning: <pyscf.gto.mole.Mole object at 0x7162540f70e0> must be initialized before calling SCF.\n",
      "Initialize <pyscf.gto.mole.Mole object at 0x7162540f70e0> in <pyscf.scf.hf.RHF object at 0x7162540f7980>\n"
     ]
    },
    {
     "name": "stdout",
     "output_type": "stream",
     "text": [
      "converged SCF energy = -75.9188047621356\n"
     ]
    },
    {
     "name": "stderr",
     "output_type": "stream",
     "text": [
      "Warning: <pyscf.gto.mole.Mole object at 0x716255e0fbf0> must be initialized before calling SCF.\n",
      "Initialize <pyscf.gto.mole.Mole object at 0x716255e0fbf0> in <pyscf.scf.hf.RHF object at 0x7162540f7e60>\n"
     ]
    },
    {
     "name": "stdout",
     "output_type": "stream",
     "text": [
      "converged SCF energy = -75.9207754428845\n"
     ]
    },
    {
     "name": "stderr",
     "output_type": "stream",
     "text": [
      "Warning: <pyscf.gto.mole.Mole object at 0x7162560cfd40> must be initialized before calling SCF.\n",
      "Initialize <pyscf.gto.mole.Mole object at 0x7162560cfd40> in <pyscf.scf.hf.RHF object at 0x71625c9d8530>\n"
     ]
    },
    {
     "name": "stdout",
     "output_type": "stream",
     "text": [
      "converged SCF energy = -75.9267379275052\n"
     ]
    },
    {
     "name": "stderr",
     "output_type": "stream",
     "text": [
      "Warning: <pyscf.gto.mole.Mole object at 0x7162540f77d0> must be initialized before calling SCF.\n",
      "Initialize <pyscf.gto.mole.Mole object at 0x7162540f77d0> in <pyscf.scf.hf.RHF object at 0x7162540f6c30>\n"
     ]
    },
    {
     "name": "stdout",
     "output_type": "stream",
     "text": [
      "converged SCF energy = -75.9271116470055\n"
     ]
    },
    {
     "name": "stderr",
     "output_type": "stream",
     "text": [
      "Warning: <pyscf.gto.mole.Mole object at 0x7162540f79e0> must be initialized before calling SCF.\n",
      "Initialize <pyscf.gto.mole.Mole object at 0x7162540f79e0> in <pyscf.scf.hf.RHF object at 0x7162540f7920>\n"
     ]
    },
    {
     "name": "stdout",
     "output_type": "stream",
     "text": [
      "converged SCF energy = -75.9277715480218\n"
     ]
    },
    {
     "name": "stderr",
     "output_type": "stream",
     "text": [
      "Warning: <pyscf.gto.mole.Mole object at 0x7162540f72c0> must be initialized before calling SCF.\n",
      "Initialize <pyscf.gto.mole.Mole object at 0x7162540f72c0> in <pyscf.scf.hf.RHF object at 0x7162540f6d50>\n"
     ]
    },
    {
     "name": "stdout",
     "output_type": "stream",
     "text": [
      "converged SCF energy = -75.9241843942314\n"
     ]
    },
    {
     "name": "stderr",
     "output_type": "stream",
     "text": [
      "Warning: <pyscf.gto.mole.Mole object at 0x716255f6f680> must be initialized before calling SCF.\n",
      "Initialize <pyscf.gto.mole.Mole object at 0x716255f6f680> in <pyscf.scf.hf.RHF object at 0x7162540f79e0>\n"
     ]
    },
    {
     "name": "stdout",
     "output_type": "stream",
     "text": [
      "converged SCF energy = -75.9240776210655\n"
     ]
    },
    {
     "name": "stderr",
     "output_type": "stream",
     "text": [
      "Warning: <pyscf.gto.mole.Mole object at 0x716255e1fe60> must be initialized before calling SCF.\n",
      "Initialize <pyscf.gto.mole.Mole object at 0x716255e1fe60> in <pyscf.scf.hf.RHF object at 0x71625c9d8530>\n"
     ]
    },
    {
     "name": "stdout",
     "output_type": "stream",
     "text": [
      "converged SCF energy = -75.9256459677288\n"
     ]
    },
    {
     "name": "stderr",
     "output_type": "stream",
     "text": [
      "Warning: <pyscf.gto.mole.Mole object at 0x716255e1f2c0> must be initialized before calling SCF.\n",
      "Initialize <pyscf.gto.mole.Mole object at 0x716255e1f2c0> in <pyscf.scf.hf.RHF object at 0x7162540f5a30>\n"
     ]
    },
    {
     "name": "stdout",
     "output_type": "stream",
     "text": [
      "converged SCF energy = -75.9206087995827\n"
     ]
    },
    {
     "name": "stderr",
     "output_type": "stream",
     "text": [
      "Warning: <pyscf.gto.mole.Mole object at 0x7162540f5c70> must be initialized before calling SCF.\n",
      "Initialize <pyscf.gto.mole.Mole object at 0x7162540f5c70> in <pyscf.scf.hf.RHF object at 0x7162540f7d40>\n"
     ]
    },
    {
     "name": "stdout",
     "output_type": "stream",
     "text": [
      "converged SCF energy = -75.9228023293235\n"
     ]
    },
    {
     "name": "stderr",
     "output_type": "stream",
     "text": [
      "Warning: <pyscf.gto.mole.Mole object at 0x716255f6f680> must be initialized before calling SCF.\n",
      "Initialize <pyscf.gto.mole.Mole object at 0x716255f6f680> in <pyscf.scf.hf.RHF object at 0x7162540f4f80>\n"
     ]
    },
    {
     "name": "stdout",
     "output_type": "stream",
     "text": [
      "converged SCF energy = -75.9253074121729\n"
     ]
    },
    {
     "name": "stderr",
     "output_type": "stream",
     "text": [
      "Warning: <pyscf.gto.mole.Mole object at 0x716255e1fe60> must be initialized before calling SCF.\n",
      "Initialize <pyscf.gto.mole.Mole object at 0x716255e1fe60> in <pyscf.scf.hf.RHF object at 0x7162540f77d0>\n"
     ]
    },
    {
     "name": "stdout",
     "output_type": "stream",
     "text": [
      "converged SCF energy = -75.9257766564333\n"
     ]
    },
    {
     "name": "stderr",
     "output_type": "stream",
     "text": [
      "Warning: <pyscf.gto.mole.Mole object at 0x716255f6f680> must be initialized before calling SCF.\n",
      "Initialize <pyscf.gto.mole.Mole object at 0x716255f6f680> in <pyscf.scf.hf.RHF object at 0x7162540f79e0>\n"
     ]
    },
    {
     "name": "stdout",
     "output_type": "stream",
     "text": [
      "converged SCF energy = -75.9253850010184\n"
     ]
    },
    {
     "name": "stderr",
     "output_type": "stream",
     "text": [
      "Warning: <pyscf.gto.mole.Mole object at 0x716255e1fe60> must be initialized before calling SCF.\n",
      "Initialize <pyscf.gto.mole.Mole object at 0x716255e1fe60> in <pyscf.scf.hf.RHF object at 0x7162540f7920>\n"
     ]
    },
    {
     "name": "stdout",
     "output_type": "stream",
     "text": [
      "converged SCF energy = -75.9248118681546\n"
     ]
    },
    {
     "name": "stderr",
     "output_type": "stream",
     "text": [
      "Warning: <pyscf.gto.mole.Mole object at 0x716255e1ecf0> must be initialized before calling SCF.\n",
      "Initialize <pyscf.gto.mole.Mole object at 0x716255e1ecf0> in <pyscf.scf.hf.RHF object at 0x7162540f7ec0>\n"
     ]
    },
    {
     "name": "stdout",
     "output_type": "stream",
     "text": [
      "converged SCF energy = -75.9262438582812\n"
     ]
    },
    {
     "name": "stderr",
     "output_type": "stream",
     "text": [
      "Warning: <pyscf.gto.mole.Mole object at 0x716255e1fe60> must be initialized before calling SCF.\n",
      "Initialize <pyscf.gto.mole.Mole object at 0x716255e1fe60> in <pyscf.scf.hf.RHF object at 0x7162540f5a30>\n"
     ]
    },
    {
     "name": "stdout",
     "output_type": "stream",
     "text": [
      "converged SCF energy = -75.9233938003586\n"
     ]
    },
    {
     "name": "stderr",
     "output_type": "stream",
     "text": [
      "Warning: <pyscf.gto.mole.Mole object at 0x716256987e00> must be initialized before calling SCF.\n",
      "Initialize <pyscf.gto.mole.Mole object at 0x716256987e00> in <pyscf.scf.hf.RHF object at 0x7162560ce1b0>\n"
     ]
    },
    {
     "name": "stdout",
     "output_type": "stream",
     "text": [
      "converged SCF energy = -75.9243658673224\n"
     ]
    },
    {
     "name": "stderr",
     "output_type": "stream",
     "text": [
      "Warning: <pyscf.gto.mole.Mole object at 0x716255e0fbf0> must be initialized before calling SCF.\n",
      "Initialize <pyscf.gto.mole.Mole object at 0x716255e0fbf0> in <pyscf.scf.hf.RHF object at 0x71625c9d8530>\n"
     ]
    },
    {
     "name": "stdout",
     "output_type": "stream",
     "text": [
      "converged SCF energy = -75.9244759383075\n"
     ]
    },
    {
     "name": "stderr",
     "output_type": "stream",
     "text": [
      "Warning: <pyscf.gto.mole.Mole object at 0x7162540f6f30> must be initialized before calling SCF.\n",
      "Initialize <pyscf.gto.mole.Mole object at 0x7162540f6f30> in <pyscf.scf.hf.RHF object at 0x7162540f6cf0>\n"
     ]
    },
    {
     "name": "stdout",
     "output_type": "stream",
     "text": [
      "converged SCF energy = -75.9225428094772\n"
     ]
    },
    {
     "name": "stderr",
     "output_type": "stream",
     "text": [
      "Warning: <pyscf.gto.mole.Mole object at 0x7162540f72f0> must be initialized before calling SCF.\n",
      "Initialize <pyscf.gto.mole.Mole object at 0x7162540f72f0> in <pyscf.scf.hf.RHF object at 0x7162540f73e0>\n"
     ]
    },
    {
     "name": "stdout",
     "output_type": "stream",
     "text": [
      "converged SCF energy = -75.9193040810067\n"
     ]
    },
    {
     "name": "stderr",
     "output_type": "stream",
     "text": [
      "Warning: <pyscf.gto.mole.Mole object at 0x716255e0fbf0> must be initialized before calling SCF.\n",
      "Initialize <pyscf.gto.mole.Mole object at 0x716255e0fbf0> in <pyscf.scf.hf.RHF object at 0x71625c9d8530>\n"
     ]
    },
    {
     "name": "stdout",
     "output_type": "stream",
     "text": [
      "converged SCF energy = -75.9228423025532\n"
     ]
    },
    {
     "name": "stderr",
     "output_type": "stream",
     "text": [
      "Warning: <pyscf.gto.mole.Mole object at 0x7162540f6a80> must be initialized before calling SCF.\n",
      "Initialize <pyscf.gto.mole.Mole object at 0x7162540f6a80> in <pyscf.scf.hf.RHF object at 0x716255e1ef30>\n"
     ]
    },
    {
     "name": "stdout",
     "output_type": "stream",
     "text": [
      "converged SCF energy = -75.9230830746157\n"
     ]
    },
    {
     "name": "stderr",
     "output_type": "stream",
     "text": [
      "Warning: <pyscf.gto.mole.Mole object at 0x7162540f7bf0> must be initialized before calling SCF.\n",
      "Initialize <pyscf.gto.mole.Mole object at 0x7162540f7bf0> in <pyscf.scf.hf.RHF object at 0x716256987e00>\n"
     ]
    },
    {
     "name": "stdout",
     "output_type": "stream",
     "text": [
      "converged SCF energy = -75.9240612003065\n"
     ]
    },
    {
     "name": "stderr",
     "output_type": "stream",
     "text": [
      "Warning: <pyscf.gto.mole.Mole object at 0x7162540f6cf0> must be initialized before calling SCF.\n",
      "Initialize <pyscf.gto.mole.Mole object at 0x7162540f6cf0> in <pyscf.scf.hf.RHF object at 0x71625c9d8530>\n"
     ]
    },
    {
     "name": "stdout",
     "output_type": "stream",
     "text": [
      "converged SCF energy = -75.9230599034905\n"
     ]
    },
    {
     "name": "stderr",
     "output_type": "stream",
     "text": [
      "Warning: <pyscf.gto.mole.Mole object at 0x7162540f78f0> must be initialized before calling SCF.\n",
      "Initialize <pyscf.gto.mole.Mole object at 0x7162540f78f0> in <pyscf.scf.hf.RHF object at 0x7162540f7680>\n"
     ]
    },
    {
     "name": "stdout",
     "output_type": "stream",
     "text": [
      "converged SCF energy = -75.930024746157\n"
     ]
    },
    {
     "name": "stderr",
     "output_type": "stream",
     "text": [
      "Warning: <pyscf.gto.mole.Mole object at 0x7162540f7770> must be initialized before calling SCF.\n",
      "Initialize <pyscf.gto.mole.Mole object at 0x7162540f7770> in <pyscf.scf.hf.RHF object at 0x7162540f7e00>\n"
     ]
    },
    {
     "name": "stdout",
     "output_type": "stream",
     "text": [
      "converged SCF energy = -75.9249309542828\n"
     ]
    },
    {
     "name": "stderr",
     "output_type": "stream",
     "text": [
      "Warning: <pyscf.gto.mole.Mole object at 0x716255e1fb90> must be initialized before calling SCF.\n",
      "Initialize <pyscf.gto.mole.Mole object at 0x716255e1fb90> in <pyscf.scf.hf.RHF object at 0x716255e1da00>\n"
     ]
    },
    {
     "name": "stdout",
     "output_type": "stream",
     "text": [
      "converged SCF energy = -75.921815666458\n"
     ]
    },
    {
     "name": "stderr",
     "output_type": "stream",
     "text": [
      "Warning: <pyscf.gto.mole.Mole object at 0x716255e1f530> must be initialized before calling SCF.\n",
      "Initialize <pyscf.gto.mole.Mole object at 0x716255e1f530> in <pyscf.scf.hf.RHF object at 0x716255e20c20>\n"
     ]
    },
    {
     "name": "stdout",
     "output_type": "stream",
     "text": [
      "converged SCF energy = -75.9238059067085\n"
     ]
    },
    {
     "name": "stderr",
     "output_type": "stream",
     "text": [
      "Warning: <pyscf.gto.mole.Mole object at 0x7162540f7a10> must be initialized before calling SCF.\n",
      "Initialize <pyscf.gto.mole.Mole object at 0x7162540f7a10> in <pyscf.scf.hf.RHF object at 0x716255f6f680>\n"
     ]
    },
    {
     "name": "stdout",
     "output_type": "stream",
     "text": [
      "converged SCF energy = -75.9248911660413\n"
     ]
    },
    {
     "name": "stderr",
     "output_type": "stream",
     "text": [
      "Warning: <pyscf.gto.mole.Mole object at 0x7162540f7170> must be initialized before calling SCF.\n",
      "Initialize <pyscf.gto.mole.Mole object at 0x7162540f7170> in <pyscf.scf.hf.RHF object at 0x7162540f7b90>\n"
     ]
    },
    {
     "name": "stdout",
     "output_type": "stream",
     "text": [
      "converged SCF energy = -75.9262264554319\n"
     ]
    },
    {
     "name": "stderr",
     "output_type": "stream",
     "text": [
      "Warning: <pyscf.gto.mole.Mole object at 0x7162560cd130> must be initialized before calling SCF.\n",
      "Initialize <pyscf.gto.mole.Mole object at 0x7162560cd130> in <pyscf.scf.hf.RHF object at 0x716255e1f3e0>\n"
     ]
    },
    {
     "name": "stdout",
     "output_type": "stream",
     "text": [
      "converged SCF energy = -75.9182684341774\n"
     ]
    },
    {
     "name": "stderr",
     "output_type": "stream",
     "text": [
      "Warning: <pyscf.gto.mole.Mole object at 0x716255f6f680> must be initialized before calling SCF.\n",
      "Initialize <pyscf.gto.mole.Mole object at 0x716255f6f680> in <pyscf.scf.hf.RHF object at 0x7162540f5a00>\n"
     ]
    },
    {
     "name": "stdout",
     "output_type": "stream",
     "text": [
      "converged SCF energy = -75.9233938337128\n"
     ]
    },
    {
     "name": "stderr",
     "output_type": "stream",
     "text": [
      "Warning: <pyscf.gto.mole.Mole object at 0x7162540f4f80> must be initialized before calling SCF.\n",
      "Initialize <pyscf.gto.mole.Mole object at 0x7162540f4f80> in <pyscf.scf.hf.RHF object at 0x7162540f5130>\n"
     ]
    },
    {
     "name": "stdout",
     "output_type": "stream",
     "text": [
      "converged SCF energy = -75.9234850223645\n"
     ]
    },
    {
     "name": "stderr",
     "output_type": "stream",
     "text": [
      "Warning: <pyscf.gto.mole.Mole object at 0x7162540f7170> must be initialized before calling SCF.\n",
      "Initialize <pyscf.gto.mole.Mole object at 0x7162540f7170> in <pyscf.scf.hf.RHF object at 0x7162540f4050>\n"
     ]
    },
    {
     "name": "stdout",
     "output_type": "stream",
     "text": [
      "converged SCF energy = -75.9215048156334\n"
     ]
    },
    {
     "name": "stderr",
     "output_type": "stream",
     "text": [
      "Warning: <pyscf.gto.mole.Mole object at 0x716255e116a0> must be initialized before calling SCF.\n",
      "Initialize <pyscf.gto.mole.Mole object at 0x716255e116a0> in <pyscf.scf.hf.RHF object at 0x716255e1b350>\n"
     ]
    },
    {
     "name": "stdout",
     "output_type": "stream",
     "text": [
      "converged SCF energy = -75.9256186389436\n"
     ]
    },
    {
     "name": "stderr",
     "output_type": "stream",
     "text": [
      "Warning: <pyscf.gto.mole.Mole object at 0x7162540f78f0> must be initialized before calling SCF.\n",
      "Initialize <pyscf.gto.mole.Mole object at 0x7162540f78f0> in <pyscf.scf.hf.RHF object at 0x7162540f72f0>\n"
     ]
    },
    {
     "name": "stdout",
     "output_type": "stream",
     "text": [
      "converged SCF energy = -75.9262991321457\n"
     ]
    },
    {
     "name": "stderr",
     "output_type": "stream",
     "text": [
      "Warning: <pyscf.gto.mole.Mole object at 0x7162540f7170> must be initialized before calling SCF.\n",
      "Initialize <pyscf.gto.mole.Mole object at 0x7162540f7170> in <pyscf.scf.hf.RHF object at 0x7162540f6c30>\n"
     ]
    },
    {
     "name": "stdout",
     "output_type": "stream",
     "text": [
      "converged SCF energy = -75.9219709604328\n"
     ]
    },
    {
     "name": "stderr",
     "output_type": "stream",
     "text": [
      "Warning: <pyscf.gto.mole.Mole object at 0x716255e1f530> must be initialized before calling SCF.\n",
      "Initialize <pyscf.gto.mole.Mole object at 0x716255e1f530> in <pyscf.scf.hf.RHF object at 0x716255e1fb30>\n"
     ]
    },
    {
     "name": "stdout",
     "output_type": "stream",
     "text": [
      "converged SCF energy = -75.9230638984134\n"
     ]
    },
    {
     "name": "stderr",
     "output_type": "stream",
     "text": [
      "Warning: <pyscf.gto.mole.Mole object at 0x716255e12a80> must be initialized before calling SCF.\n",
      "Initialize <pyscf.gto.mole.Mole object at 0x716255e12a80> in <pyscf.scf.hf.RHF object at 0x716255e11730>\n"
     ]
    },
    {
     "name": "stdout",
     "output_type": "stream",
     "text": [
      "converged SCF energy = -75.9285231099863\n"
     ]
    },
    {
     "name": "stderr",
     "output_type": "stream",
     "text": [
      "Warning: <pyscf.gto.mole.Mole object at 0x716255e1f530> must be initialized before calling SCF.\n",
      "Initialize <pyscf.gto.mole.Mole object at 0x716255e1f530> in <pyscf.scf.hf.RHF object at 0x7162540f78f0>\n"
     ]
    },
    {
     "name": "stdout",
     "output_type": "stream",
     "text": [
      "converged SCF energy = -75.9258046768563\n"
     ]
    },
    {
     "name": "stderr",
     "output_type": "stream",
     "text": [
      "Warning: <pyscf.gto.mole.Mole object at 0x7162540f7d70> must be initialized before calling SCF.\n",
      "Initialize <pyscf.gto.mole.Mole object at 0x7162540f7d70> in <pyscf.scf.hf.RHF object at 0x716255e0ec30>\n"
     ]
    },
    {
     "name": "stdout",
     "output_type": "stream",
     "text": [
      "converged SCF energy = -75.9240795962414\n"
     ]
    },
    {
     "name": "stderr",
     "output_type": "stream",
     "text": [
      "Warning: <pyscf.gto.mole.Mole object at 0x716255e1f530> must be initialized before calling SCF.\n",
      "Initialize <pyscf.gto.mole.Mole object at 0x716255e1f530> in <pyscf.scf.hf.RHF object at 0x716255e1b2c0>\n"
     ]
    },
    {
     "name": "stdout",
     "output_type": "stream",
     "text": [
      "converged SCF energy = -75.9267501823658\n"
     ]
    },
    {
     "name": "stderr",
     "output_type": "stream",
     "text": [
      "Warning: <pyscf.gto.mole.Mole object at 0x716256987e00> must be initialized before calling SCF.\n",
      "Initialize <pyscf.gto.mole.Mole object at 0x716256987e00> in <pyscf.scf.hf.RHF object at 0x71625c9d8530>\n"
     ]
    },
    {
     "name": "stdout",
     "output_type": "stream",
     "text": [
      "converged SCF energy = -75.9218206247952\n"
     ]
    },
    {
     "name": "stderr",
     "output_type": "stream",
     "text": [
      "Warning: <pyscf.gto.mole.Mole object at 0x7162540f7b90> must be initialized before calling SCF.\n",
      "Initialize <pyscf.gto.mole.Mole object at 0x7162540f7b90> in <pyscf.scf.hf.RHF object at 0x716255e1bce0>\n"
     ]
    },
    {
     "name": "stdout",
     "output_type": "stream",
     "text": [
      "converged SCF energy = -75.9269256785626\n"
     ]
    },
    {
     "name": "stderr",
     "output_type": "stream",
     "text": [
      "Warning: <pyscf.gto.mole.Mole object at 0x7162540f5a30> must be initialized before calling SCF.\n",
      "Initialize <pyscf.gto.mole.Mole object at 0x7162540f5a30> in <pyscf.scf.hf.RHF object at 0x716256987e00>\n"
     ]
    },
    {
     "name": "stdout",
     "output_type": "stream",
     "text": [
      "converged SCF energy = -75.9222883191619\n"
     ]
    },
    {
     "name": "stderr",
     "output_type": "stream",
     "text": [
      "Warning: <pyscf.gto.mole.Mole object at 0x716255e1fb90> must be initialized before calling SCF.\n",
      "Initialize <pyscf.gto.mole.Mole object at 0x716255e1fb90> in <pyscf.scf.hf.RHF object at 0x716255e1bc80>\n"
     ]
    },
    {
     "name": "stdout",
     "output_type": "stream",
     "text": [
      "converged SCF energy = -75.9218094811617\n"
     ]
    },
    {
     "name": "stderr",
     "output_type": "stream",
     "text": [
      "Warning: <pyscf.gto.mole.Mole object at 0x7162540f5a30> must be initialized before calling SCF.\n",
      "Initialize <pyscf.gto.mole.Mole object at 0x7162540f5a30> in <pyscf.scf.hf.RHF object at 0x7162540f5130>\n"
     ]
    },
    {
     "name": "stdout",
     "output_type": "stream",
     "text": [
      "converged SCF energy = -75.9243442945307\n"
     ]
    },
    {
     "name": "stderr",
     "output_type": "stream",
     "text": [
      "Warning: <pyscf.gto.mole.Mole object at 0x716255e1f530> must be initialized before calling SCF.\n",
      "Initialize <pyscf.gto.mole.Mole object at 0x716255e1f530> in <pyscf.scf.hf.RHF object at 0x716255e1ef30>\n"
     ]
    },
    {
     "name": "stdout",
     "output_type": "stream",
     "text": [
      "converged SCF energy = -75.9190366755571\n"
     ]
    },
    {
     "name": "stderr",
     "output_type": "stream",
     "text": [
      "Warning: <pyscf.gto.mole.Mole object at 0x716255e208c0> must be initialized before calling SCF.\n",
      "Initialize <pyscf.gto.mole.Mole object at 0x716255e208c0> in <pyscf.scf.hf.RHF object at 0x716255e19400>\n"
     ]
    },
    {
     "name": "stdout",
     "output_type": "stream",
     "text": [
      "converged SCF energy = -75.925784755667\n"
     ]
    },
    {
     "name": "stderr",
     "output_type": "stream",
     "text": [
      "Warning: <pyscf.gto.mole.Mole object at 0x7162540f7530> must be initialized before calling SCF.\n",
      "Initialize <pyscf.gto.mole.Mole object at 0x7162540f7530> in <pyscf.scf.hf.RHF object at 0x716255e1fb90>\n"
     ]
    },
    {
     "name": "stdout",
     "output_type": "stream",
     "text": [
      "converged SCF energy = -75.9231748397493\n"
     ]
    },
    {
     "name": "stderr",
     "output_type": "stream",
     "text": [
      "Warning: <pyscf.gto.mole.Mole object at 0x7162540f7b30> must be initialized before calling SCF.\n",
      "Initialize <pyscf.gto.mole.Mole object at 0x7162540f7b30> in <pyscf.scf.hf.RHF object at 0x7162560cdbe0>\n"
     ]
    },
    {
     "name": "stdout",
     "output_type": "stream",
     "text": [
      "converged SCF energy = -75.9234710797256\n"
     ]
    },
    {
     "name": "stderr",
     "output_type": "stream",
     "text": [
      "Warning: <pyscf.gto.mole.Mole object at 0x716255e19ac0> must be initialized before calling SCF.\n",
      "Initialize <pyscf.gto.mole.Mole object at 0x716255e19ac0> in <pyscf.scf.hf.RHF object at 0x716255e1b0b0>\n"
     ]
    },
    {
     "name": "stdout",
     "output_type": "stream",
     "text": [
      "converged SCF energy = -75.9232312610514\n"
     ]
    },
    {
     "name": "stderr",
     "output_type": "stream",
     "text": [
      "Warning: <pyscf.gto.mole.Mole object at 0x716255e19f10> must be initialized before calling SCF.\n",
      "Initialize <pyscf.gto.mole.Mole object at 0x716255e19f10> in <pyscf.scf.hf.RHF object at 0x71625c9d8530>\n"
     ]
    },
    {
     "name": "stdout",
     "output_type": "stream",
     "text": [
      "converged SCF energy = -75.9214454090558\n"
     ]
    },
    {
     "name": "stderr",
     "output_type": "stream",
     "text": [
      "Warning: <pyscf.gto.mole.Mole object at 0x716255f6dee0> must be initialized before calling SCF.\n",
      "Initialize <pyscf.gto.mole.Mole object at 0x716255f6dee0> in <pyscf.scf.hf.RHF object at 0x716255e18f20>\n"
     ]
    },
    {
     "name": "stdout",
     "output_type": "stream",
     "text": [
      "converged SCF energy = -75.9217131548602\n"
     ]
    },
    {
     "name": "stderr",
     "output_type": "stream",
     "text": [
      "Warning: <pyscf.gto.mole.Mole object at 0x716255e1b350> must be initialized before calling SCF.\n",
      "Initialize <pyscf.gto.mole.Mole object at 0x716255e1b350> in <pyscf.scf.hf.RHF object at 0x716255e18bc0>\n"
     ]
    },
    {
     "name": "stdout",
     "output_type": "stream",
     "text": [
      "converged SCF energy = -75.924442680555\n"
     ]
    },
    {
     "name": "stderr",
     "output_type": "stream",
     "text": [
      "Warning: <pyscf.gto.mole.Mole object at 0x716255e11fa0> must be initialized before calling SCF.\n",
      "Initialize <pyscf.gto.mole.Mole object at 0x716255e11fa0> in <pyscf.scf.hf.RHF object at 0x716255e1fb30>\n"
     ]
    },
    {
     "name": "stdout",
     "output_type": "stream",
     "text": [
      "converged SCF energy = -75.918983283218\n"
     ]
    },
    {
     "name": "stderr",
     "output_type": "stream",
     "text": [
      "Warning: <pyscf.gto.mole.Mole object at 0x716255e1ef30> must be initialized before calling SCF.\n",
      "Initialize <pyscf.gto.mole.Mole object at 0x716255e1ef30> in <pyscf.scf.hf.RHF object at 0x716255e19ee0>\n"
     ]
    },
    {
     "name": "stdout",
     "output_type": "stream",
     "text": [
      "converged SCF energy = -75.9254612597208\n"
     ]
    },
    {
     "name": "stderr",
     "output_type": "stream",
     "text": [
      "Warning: <pyscf.gto.mole.Mole object at 0x716255e19f10> must be initialized before calling SCF.\n",
      "Initialize <pyscf.gto.mole.Mole object at 0x716255e19f10> in <pyscf.scf.hf.RHF object at 0x716255e198e0>\n"
     ]
    },
    {
     "name": "stdout",
     "output_type": "stream",
     "text": [
      "converged SCF energy = -75.9245690578243\n"
     ]
    },
    {
     "name": "stderr",
     "output_type": "stream",
     "text": [
      "Warning: <pyscf.gto.mole.Mole object at 0x7162540f6f30> must be initialized before calling SCF.\n",
      "Initialize <pyscf.gto.mole.Mole object at 0x7162540f6f30> in <pyscf.scf.hf.RHF object at 0x716255e19ac0>\n"
     ]
    },
    {
     "name": "stdout",
     "output_type": "stream",
     "text": [
      "converged SCF energy = -75.9200189313533\n"
     ]
    },
    {
     "name": "stderr",
     "output_type": "stream",
     "text": [
      "Warning: <pyscf.gto.mole.Mole object at 0x716255e1c1d0> must be initialized before calling SCF.\n",
      "Initialize <pyscf.gto.mole.Mole object at 0x716255e1c1d0> in <pyscf.scf.hf.RHF object at 0x716255e1b9e0>\n"
     ]
    },
    {
     "name": "stdout",
     "output_type": "stream",
     "text": [
      "converged SCF energy = -75.9205769976087\n"
     ]
    },
    {
     "name": "stderr",
     "output_type": "stream",
     "text": [
      "Warning: <pyscf.gto.mole.Mole object at 0x7162540f6f30> must be initialized before calling SCF.\n",
      "Initialize <pyscf.gto.mole.Mole object at 0x7162540f6f30> in <pyscf.scf.hf.RHF object at 0x716255e18530>\n"
     ]
    },
    {
     "name": "stdout",
     "output_type": "stream",
     "text": [
      "converged SCF energy = -75.9246897400152\n"
     ]
    },
    {
     "name": "stderr",
     "output_type": "stream",
     "text": [
      "Warning: <pyscf.gto.mole.Mole object at 0x716255f6fd70> must be initialized before calling SCF.\n",
      "Initialize <pyscf.gto.mole.Mole object at 0x716255f6fd70> in <pyscf.scf.hf.RHF object at 0x716255e1de20>\n"
     ]
    },
    {
     "name": "stdout",
     "output_type": "stream",
     "text": [
      "converged SCF energy = -75.9247356021312\n"
     ]
    },
    {
     "name": "stderr",
     "output_type": "stream",
     "text": [
      "Warning: <pyscf.gto.mole.Mole object at 0x716255e239e0> must be initialized before calling SCF.\n",
      "Initialize <pyscf.gto.mole.Mole object at 0x716255e239e0> in <pyscf.scf.hf.RHF object at 0x716255e18530>\n"
     ]
    },
    {
     "name": "stdout",
     "output_type": "stream",
     "text": [
      "converged SCF energy = -75.9159403341933\n"
     ]
    },
    {
     "name": "stderr",
     "output_type": "stream",
     "text": [
      "Warning: <pyscf.gto.mole.Mole object at 0x716255f6fd70> must be initialized before calling SCF.\n",
      "Initialize <pyscf.gto.mole.Mole object at 0x716255f6fd70> in <pyscf.scf.hf.RHF object at 0x716255e19400>\n"
     ]
    },
    {
     "name": "stdout",
     "output_type": "stream",
     "text": [
      "converged SCF energy = -75.9243834943552\n"
     ]
    },
    {
     "name": "stderr",
     "output_type": "stream",
     "text": [
      "Warning: <pyscf.gto.mole.Mole object at 0x716255e1fb30> must be initialized before calling SCF.\n",
      "Initialize <pyscf.gto.mole.Mole object at 0x716255e1fb30> in <pyscf.scf.hf.RHF object at 0x71625c9d8530>\n"
     ]
    },
    {
     "name": "stdout",
     "output_type": "stream",
     "text": [
      "converged SCF energy = -75.924622586193\n"
     ]
    },
    {
     "name": "stderr",
     "output_type": "stream",
     "text": [
      "Warning: <pyscf.gto.mole.Mole object at 0x7162540f7d70> must be initialized before calling SCF.\n",
      "Initialize <pyscf.gto.mole.Mole object at 0x7162540f7d70> in <pyscf.scf.hf.RHF object at 0x716255e1bf80>\n"
     ]
    },
    {
     "name": "stdout",
     "output_type": "stream",
     "text": [
      "converged SCF energy = -75.9247625508658\n"
     ]
    },
    {
     "name": "stderr",
     "output_type": "stream",
     "text": [
      "Warning: <pyscf.gto.mole.Mole object at 0x716256985b80> must be initialized before calling SCF.\n",
      "Initialize <pyscf.gto.mole.Mole object at 0x716256985b80> in <pyscf.scf.hf.RHF object at 0x716255e19160>\n"
     ]
    },
    {
     "name": "stdout",
     "output_type": "stream",
     "text": [
      "converged SCF energy = -75.9224060358752\n"
     ]
    },
    {
     "name": "stderr",
     "output_type": "stream",
     "text": [
      "Warning: <pyscf.gto.mole.Mole object at 0x7162540f7d70> must be initialized before calling SCF.\n",
      "Initialize <pyscf.gto.mole.Mole object at 0x7162540f7d70> in <pyscf.scf.hf.RHF object at 0x716255e1b050>\n"
     ]
    },
    {
     "name": "stdout",
     "output_type": "stream",
     "text": [
      "converged SCF energy = -75.9215162201189\n"
     ]
    },
    {
     "name": "stderr",
     "output_type": "stream",
     "text": [
      "Warning: <pyscf.gto.mole.Mole object at 0x716255e13fe0> must be initialized before calling SCF.\n",
      "Initialize <pyscf.gto.mole.Mole object at 0x716255e13fe0> in <pyscf.scf.hf.RHF object at 0x716255e1bf20>\n"
     ]
    },
    {
     "name": "stdout",
     "output_type": "stream",
     "text": [
      "converged SCF energy = -75.9276440246633\n"
     ]
    },
    {
     "name": "stderr",
     "output_type": "stream",
     "text": [
      "Warning: <pyscf.gto.mole.Mole object at 0x716255e21160> must be initialized before calling SCF.\n",
      "Initialize <pyscf.gto.mole.Mole object at 0x716255e21160> in <pyscf.scf.hf.RHF object at 0x7162560ce1b0>\n"
     ]
    },
    {
     "name": "stdout",
     "output_type": "stream",
     "text": [
      "converged SCF energy = -75.925833485901\n"
     ]
    },
    {
     "name": "stderr",
     "output_type": "stream",
     "text": [
      "Warning: <pyscf.gto.mole.Mole object at 0x716255e11400> must be initialized before calling SCF.\n",
      "Initialize <pyscf.gto.mole.Mole object at 0x716255e11400> in <pyscf.scf.hf.RHF object at 0x716255e1b7d0>\n"
     ]
    },
    {
     "name": "stdout",
     "output_type": "stream",
     "text": [
      "converged SCF energy = -75.9192112919044\n"
     ]
    },
    {
     "name": "stderr",
     "output_type": "stream",
     "text": [
      "Warning: <pyscf.gto.mole.Mole object at 0x716255e21160> must be initialized before calling SCF.\n",
      "Initialize <pyscf.gto.mole.Mole object at 0x716255e21160> in <pyscf.scf.hf.RHF object at 0x71625c9d8530>\n"
     ]
    },
    {
     "name": "stdout",
     "output_type": "stream",
     "text": [
      "converged SCF energy = -75.9243286813079\n"
     ]
    },
    {
     "name": "stderr",
     "output_type": "stream",
     "text": [
      "Warning: <pyscf.gto.mole.Mole object at 0x7162540f41a0> must be initialized before calling SCF.\n",
      "Initialize <pyscf.gto.mole.Mole object at 0x7162540f41a0> in <pyscf.scf.hf.RHF object at 0x716255e198e0>\n"
     ]
    },
    {
     "name": "stdout",
     "output_type": "stream",
     "text": [
      "converged SCF energy = -75.9254410024513\n"
     ]
    },
    {
     "name": "stderr",
     "output_type": "stream",
     "text": [
      "Warning: <pyscf.gto.mole.Mole object at 0x716255e23920> must be initialized before calling SCF.\n",
      "Initialize <pyscf.gto.mole.Mole object at 0x716255e23920> in <pyscf.scf.hf.RHF object at 0x716255e19e50>\n"
     ]
    },
    {
     "name": "stdout",
     "output_type": "stream",
     "text": [
      "converged SCF energy = -75.9230900195528\n"
     ]
    },
    {
     "name": "stderr",
     "output_type": "stream",
     "text": [
      "Warning: <pyscf.gto.mole.Mole object at 0x716255e1afc0> must be initialized before calling SCF.\n",
      "Initialize <pyscf.gto.mole.Mole object at 0x716255e1afc0> in <pyscf.scf.hf.RHF object at 0x716255e1a4b0>\n"
     ]
    },
    {
     "name": "stdout",
     "output_type": "stream",
     "text": [
      "converged SCF energy = -75.9173498740151\n"
     ]
    },
    {
     "name": "stderr",
     "output_type": "stream",
     "text": [
      "Warning: <pyscf.gto.mole.Mole object at 0x716255e22000> must be initialized before calling SCF.\n",
      "Initialize <pyscf.gto.mole.Mole object at 0x716255e22000> in <pyscf.scf.hf.RHF object at 0x7162560ce1b0>\n"
     ]
    },
    {
     "name": "stdout",
     "output_type": "stream",
     "text": [
      "converged SCF energy = -75.9212122593349\n"
     ]
    },
    {
     "name": "stderr",
     "output_type": "stream",
     "text": [
      "Warning: <pyscf.gto.mole.Mole object at 0x716255e1b950> must be initialized before calling SCF.\n",
      "Initialize <pyscf.gto.mole.Mole object at 0x716255e1b950> in <pyscf.scf.hf.RHF object at 0x716255e18530>\n"
     ]
    },
    {
     "name": "stdout",
     "output_type": "stream",
     "text": [
      "converged SCF energy = -75.9238389727481\n"
     ]
    },
    {
     "name": "stderr",
     "output_type": "stream",
     "text": [
      "Warning: <pyscf.gto.mole.Mole object at 0x716255e23ce0> must be initialized before calling SCF.\n",
      "Initialize <pyscf.gto.mole.Mole object at 0x716255e23ce0> in <pyscf.scf.hf.RHF object at 0x716255e1adb0>\n"
     ]
    },
    {
     "name": "stdout",
     "output_type": "stream",
     "text": [
      "converged SCF energy = -75.9225325054935\n"
     ]
    },
    {
     "name": "stderr",
     "output_type": "stream",
     "text": [
      "Warning: <pyscf.gto.mole.Mole object at 0x7162540f4050> must be initialized before calling SCF.\n",
      "Initialize <pyscf.gto.mole.Mole object at 0x7162540f4050> in <pyscf.scf.hf.RHF object at 0x7162540f4890>\n"
     ]
    },
    {
     "name": "stdout",
     "output_type": "stream",
     "text": [
      "converged SCF energy = -75.9206242572675\n"
     ]
    },
    {
     "name": "stderr",
     "output_type": "stream",
     "text": [
      "Warning: <pyscf.gto.mole.Mole object at 0x716255e13500> must be initialized before calling SCF.\n",
      "Initialize <pyscf.gto.mole.Mole object at 0x716255e13500> in <pyscf.scf.hf.RHF object at 0x7162560ce1b0>\n"
     ]
    },
    {
     "name": "stdout",
     "output_type": "stream",
     "text": [
      "converged SCF energy = -75.9216167420689\n"
     ]
    },
    {
     "name": "stderr",
     "output_type": "stream",
     "text": [
      "Warning: <pyscf.gto.mole.Mole object at 0x716255e23e00> must be initialized before calling SCF.\n",
      "Initialize <pyscf.gto.mole.Mole object at 0x716255e23e00> in <pyscf.scf.hf.RHF object at 0x716255e1b950>\n"
     ]
    },
    {
     "name": "stdout",
     "output_type": "stream",
     "text": [
      "converged SCF energy = -75.9214048113926\n"
     ]
    },
    {
     "name": "stderr",
     "output_type": "stream",
     "text": [
      "Warning: <pyscf.gto.mole.Mole object at 0x716255e0e450> must be initialized before calling SCF.\n",
      "Initialize <pyscf.gto.mole.Mole object at 0x716255e0e450> in <pyscf.scf.hf.RHF object at 0x716255f6fd70>\n"
     ]
    },
    {
     "name": "stdout",
     "output_type": "stream",
     "text": [
      "converged SCF energy = -75.9235333487753\n"
     ]
    },
    {
     "name": "stderr",
     "output_type": "stream",
     "text": [
      "Warning: <pyscf.gto.mole.Mole object at 0x7162560cd130> must be initialized before calling SCF.\n",
      "Initialize <pyscf.gto.mole.Mole object at 0x7162560cd130> in <pyscf.scf.hf.RHF object at 0x716255ef5910>\n"
     ]
    },
    {
     "name": "stdout",
     "output_type": "stream",
     "text": [
      "converged SCF energy = -75.924737113591\n"
     ]
    },
    {
     "name": "stderr",
     "output_type": "stream",
     "text": [
      "Warning: <pyscf.gto.mole.Mole object at 0x716255e0e450> must be initialized before calling SCF.\n",
      "Initialize <pyscf.gto.mole.Mole object at 0x716255e0e450> in <pyscf.scf.hf.RHF object at 0x7162540f6ab0>\n"
     ]
    },
    {
     "name": "stdout",
     "output_type": "stream",
     "text": [
      "converged SCF energy = -75.9264750497417\n"
     ]
    },
    {
     "name": "stderr",
     "output_type": "stream",
     "text": [
      "Warning: <pyscf.gto.mole.Mole object at 0x7162540f7d70> must be initialized before calling SCF.\n",
      "Initialize <pyscf.gto.mole.Mole object at 0x7162540f7d70> in <pyscf.scf.hf.RHF object at 0x716255e1ebd0>\n"
     ]
    },
    {
     "name": "stdout",
     "output_type": "stream",
     "text": [
      "converged SCF energy = -75.9249552237022\n"
     ]
    },
    {
     "name": "stderr",
     "output_type": "stream",
     "text": [
      "Warning: <pyscf.gto.mole.Mole object at 0x716255e11400> must be initialized before calling SCF.\n",
      "Initialize <pyscf.gto.mole.Mole object at 0x716255e11400> in <pyscf.scf.hf.RHF object at 0x716255e190a0>\n"
     ]
    },
    {
     "name": "stdout",
     "output_type": "stream",
     "text": [
      "converged SCF energy = -75.9256482245766\n"
     ]
    },
    {
     "name": "stderr",
     "output_type": "stream",
     "text": [
      "Warning: <pyscf.gto.mole.Mole object at 0x716255e110d0> must be initialized before calling SCF.\n",
      "Initialize <pyscf.gto.mole.Mole object at 0x716255e110d0> in <pyscf.scf.hf.RHF object at 0x716255e1b500>\n"
     ]
    },
    {
     "name": "stdout",
     "output_type": "stream",
     "text": [
      "converged SCF energy = -75.9277566627289\n"
     ]
    },
    {
     "name": "stderr",
     "output_type": "stream",
     "text": [
      "Warning: <pyscf.gto.mole.Mole object at 0x7162540f7170> must be initialized before calling SCF.\n",
      "Initialize <pyscf.gto.mole.Mole object at 0x7162540f7170> in <pyscf.scf.hf.RHF object at 0x716255e11400>\n"
     ]
    },
    {
     "name": "stdout",
     "output_type": "stream",
     "text": [
      "converged SCF energy = -75.9221441550673\n"
     ]
    },
    {
     "name": "stderr",
     "output_type": "stream",
     "text": [
      "Warning: <pyscf.gto.mole.Mole object at 0x716255e11010> must be initialized before calling SCF.\n",
      "Initialize <pyscf.gto.mole.Mole object at 0x716255e11010> in <pyscf.scf.hf.RHF object at 0x716255e1b2f0>\n"
     ]
    },
    {
     "name": "stdout",
     "output_type": "stream",
     "text": [
      "converged SCF energy = -75.9256223051574\n"
     ]
    },
    {
     "name": "stderr",
     "output_type": "stream",
     "text": [
      "Warning: <pyscf.gto.mole.Mole object at 0x716255e1be60> must be initialized before calling SCF.\n",
      "Initialize <pyscf.gto.mole.Mole object at 0x716255e1be60> in <pyscf.scf.hf.RHF object at 0x716255e19c40>\n"
     ]
    },
    {
     "name": "stdout",
     "output_type": "stream",
     "text": [
      "converged SCF energy = -75.9277150375557\n"
     ]
    },
    {
     "name": "stderr",
     "output_type": "stream",
     "text": [
      "Warning: <pyscf.gto.mole.Mole object at 0x7162569840e0> must be initialized before calling SCF.\n",
      "Initialize <pyscf.gto.mole.Mole object at 0x7162569840e0> in <pyscf.scf.hf.RHF object at 0x716255e18bf0>\n"
     ]
    },
    {
     "name": "stdout",
     "output_type": "stream",
     "text": [
      "converged SCF energy = -75.9247509571528\n"
     ]
    },
    {
     "name": "stderr",
     "output_type": "stream",
     "text": [
      "Warning: <pyscf.gto.mole.Mole object at 0x7162571a5fa0> must be initialized before calling SCF.\n",
      "Initialize <pyscf.gto.mole.Mole object at 0x7162571a5fa0> in <pyscf.scf.hf.RHF object at 0x716255e1a870>\n"
     ]
    },
    {
     "name": "stdout",
     "output_type": "stream",
     "text": [
      "converged SCF energy = -75.9229615996993\n"
     ]
    },
    {
     "name": "stderr",
     "output_type": "stream",
     "text": [
      "Warning: <pyscf.gto.mole.Mole object at 0x716255e18860> must be initialized before calling SCF.\n",
      "Initialize <pyscf.gto.mole.Mole object at 0x716255e18860> in <pyscf.scf.hf.RHF object at 0x716255e1ab70>\n"
     ]
    },
    {
     "name": "stdout",
     "output_type": "stream",
     "text": [
      "converged SCF energy = -75.9259308929103\n"
     ]
    },
    {
     "name": "stderr",
     "output_type": "stream",
     "text": [
      "Warning: <pyscf.gto.mole.Mole object at 0x716255e1f890> must be initialized before calling SCF.\n",
      "Initialize <pyscf.gto.mole.Mole object at 0x716255e1f890> in <pyscf.scf.hf.RHF object at 0x7162569840e0>\n"
     ]
    },
    {
     "name": "stdout",
     "output_type": "stream",
     "text": [
      "converged SCF energy = -75.9222552421314\n"
     ]
    },
    {
     "name": "stderr",
     "output_type": "stream",
     "text": [
      "Warning: <pyscf.gto.mole.Mole object at 0x716255e130e0> must be initialized before calling SCF.\n",
      "Initialize <pyscf.gto.mole.Mole object at 0x716255e130e0> in <pyscf.scf.hf.RHF object at 0x716255e1be60>\n"
     ]
    },
    {
     "name": "stdout",
     "output_type": "stream",
     "text": [
      "converged SCF energy = -75.9255038653775\n"
     ]
    },
    {
     "name": "stderr",
     "output_type": "stream",
     "text": [
      "Warning: <pyscf.gto.mole.Mole object at 0x716255e1a300> must be initialized before calling SCF.\n",
      "Initialize <pyscf.gto.mole.Mole object at 0x716255e1a300> in <pyscf.scf.hf.RHF object at 0x716255e1a7e0>\n"
     ]
    },
    {
     "name": "stdout",
     "output_type": "stream",
     "text": [
      "converged SCF energy = -75.9206550067476\n"
     ]
    },
    {
     "name": "stderr",
     "output_type": "stream",
     "text": [
      "Warning: <pyscf.gto.mole.Mole object at 0x716255e195e0> must be initialized before calling SCF.\n",
      "Initialize <pyscf.gto.mole.Mole object at 0x716255e195e0> in <pyscf.scf.hf.RHF object at 0x716255e1ab40>\n"
     ]
    },
    {
     "name": "stdout",
     "output_type": "stream",
     "text": [
      "converged SCF energy = -75.923277529642\n"
     ]
    },
    {
     "name": "stderr",
     "output_type": "stream",
     "text": [
      "Warning: <pyscf.gto.mole.Mole object at 0x716255e11010> must be initialized before calling SCF.\n",
      "Initialize <pyscf.gto.mole.Mole object at 0x716255e11010> in <pyscf.scf.hf.RHF object at 0x716255e19ac0>\n"
     ]
    },
    {
     "name": "stdout",
     "output_type": "stream",
     "text": [
      "converged SCF energy = -75.9257502265781\n"
     ]
    },
    {
     "name": "stderr",
     "output_type": "stream",
     "text": [
      "Warning: <pyscf.gto.mole.Mole object at 0x716255f6d9a0> must be initialized before calling SCF.\n",
      "Initialize <pyscf.gto.mole.Mole object at 0x716255f6d9a0> in <pyscf.scf.hf.RHF object at 0x7162560ce1b0>\n"
     ]
    },
    {
     "name": "stdout",
     "output_type": "stream",
     "text": [
      "converged SCF energy = -75.9210724559223\n"
     ]
    },
    {
     "name": "stderr",
     "output_type": "stream",
     "text": [
      "Warning: <pyscf.gto.mole.Mole object at 0x716255e13890> must be initialized before calling SCF.\n",
      "Initialize <pyscf.gto.mole.Mole object at 0x716255e13890> in <pyscf.scf.hf.RHF object at 0x716255e1ade0>\n"
     ]
    },
    {
     "name": "stdout",
     "output_type": "stream",
     "text": [
      "converged SCF energy = -75.9215500681389\n"
     ]
    },
    {
     "name": "stderr",
     "output_type": "stream",
     "text": [
      "Warning: <pyscf.gto.mole.Mole object at 0x7162560cda90> must be initialized before calling SCF.\n",
      "Initialize <pyscf.gto.mole.Mole object at 0x7162560cda90> in <pyscf.scf.hf.RHF object at 0x716255e1a960>\n"
     ]
    },
    {
     "name": "stdout",
     "output_type": "stream",
     "text": [
      "converged SCF energy = -75.9235757108725\n"
     ]
    },
    {
     "name": "stderr",
     "output_type": "stream",
     "text": [
      "Warning: <pyscf.gto.mole.Mole object at 0x716255e1b8f0> must be initialized before calling SCF.\n",
      "Initialize <pyscf.gto.mole.Mole object at 0x716255e1b8f0> in <pyscf.scf.hf.RHF object at 0x716255e19610>\n"
     ]
    },
    {
     "name": "stdout",
     "output_type": "stream",
     "text": [
      "converged SCF energy = -75.922595146461\n"
     ]
    },
    {
     "name": "stderr",
     "output_type": "stream",
     "text": [
      "Warning: <pyscf.gto.mole.Mole object at 0x716255e215e0> must be initialized before calling SCF.\n",
      "Initialize <pyscf.gto.mole.Mole object at 0x716255e215e0> in <pyscf.scf.hf.RHF object at 0x716255e1ade0>\n"
     ]
    },
    {
     "name": "stdout",
     "output_type": "stream",
     "text": [
      "converged SCF energy = -75.9248419529413\n"
     ]
    },
    {
     "name": "stderr",
     "output_type": "stream",
     "text": [
      "Warning: <pyscf.gto.mole.Mole object at 0x716255e19610> must be initialized before calling SCF.\n",
      "Initialize <pyscf.gto.mole.Mole object at 0x716255e19610> in <pyscf.scf.hf.RHF object at 0x716255e1a2a0>\n"
     ]
    },
    {
     "name": "stdout",
     "output_type": "stream",
     "text": [
      "converged SCF energy = -75.9221370148676\n"
     ]
    },
    {
     "name": "stderr",
     "output_type": "stream",
     "text": [
      "Warning: <pyscf.gto.mole.Mole object at 0x7162560ce690> must be initialized before calling SCF.\n",
      "Initialize <pyscf.gto.mole.Mole object at 0x7162560ce690> in <pyscf.scf.hf.RHF object at 0x7162540f5ca0>\n"
     ]
    },
    {
     "name": "stdout",
     "output_type": "stream",
     "text": [
      "converged SCF energy = -75.9278330566185\n"
     ]
    },
    {
     "name": "stderr",
     "output_type": "stream",
     "text": [
      "Warning: <pyscf.gto.mole.Mole object at 0x716255e190d0> must be initialized before calling SCF.\n",
      "Initialize <pyscf.gto.mole.Mole object at 0x716255e190d0> in <pyscf.scf.hf.RHF object at 0x716255e1abd0>\n"
     ]
    },
    {
     "name": "stdout",
     "output_type": "stream",
     "text": [
      "converged SCF energy = -75.9205780984754\n"
     ]
    },
    {
     "name": "stderr",
     "output_type": "stream",
     "text": [
      "Warning: <pyscf.gto.mole.Mole object at 0x7162560ce690> must be initialized before calling SCF.\n",
      "Initialize <pyscf.gto.mole.Mole object at 0x7162560ce690> in <pyscf.scf.hf.RHF object at 0x716255e22900>\n"
     ]
    },
    {
     "name": "stdout",
     "output_type": "stream",
     "text": [
      "converged SCF energy = -75.9237857170415\n"
     ]
    },
    {
     "name": "stderr",
     "output_type": "stream",
     "text": [
      "Warning: <pyscf.gto.mole.Mole object at 0x716255e194f0> must be initialized before calling SCF.\n",
      "Initialize <pyscf.gto.mole.Mole object at 0x716255e194f0> in <pyscf.scf.hf.RHF object at 0x716255e190d0>\n"
     ]
    },
    {
     "name": "stdout",
     "output_type": "stream",
     "text": [
      "converged SCF energy = -75.921443004283\n"
     ]
    },
    {
     "name": "stderr",
     "output_type": "stream",
     "text": [
      "Warning: <pyscf.gto.mole.Mole object at 0x716255e211f0> must be initialized before calling SCF.\n",
      "Initialize <pyscf.gto.mole.Mole object at 0x716255e211f0> in <pyscf.scf.hf.RHF object at 0x716255e1aa50>\n"
     ]
    },
    {
     "name": "stdout",
     "output_type": "stream",
     "text": [
      "converged SCF energy = -75.9250445624916\n"
     ]
    },
    {
     "name": "stderr",
     "output_type": "stream",
     "text": [
      "Warning: <pyscf.gto.mole.Mole object at 0x716255e1e690> must be initialized before calling SCF.\n",
      "Initialize <pyscf.gto.mole.Mole object at 0x716255e1e690> in <pyscf.scf.hf.RHF object at 0x716255e1ac30>\n"
     ]
    },
    {
     "name": "stdout",
     "output_type": "stream",
     "text": [
      "converged SCF energy = -75.9258919602402\n"
     ]
    },
    {
     "name": "stderr",
     "output_type": "stream",
     "text": [
      "Warning: <pyscf.gto.mole.Mole object at 0x716255e19310> must be initialized before calling SCF.\n",
      "Initialize <pyscf.gto.mole.Mole object at 0x716255e19310> in <pyscf.scf.hf.RHF object at 0x716255e1a630>\n"
     ]
    },
    {
     "name": "stdout",
     "output_type": "stream",
     "text": [
      "converged SCF energy = -75.9222806472372\n"
     ]
    },
    {
     "name": "stderr",
     "output_type": "stream",
     "text": [
      "Warning: <pyscf.gto.mole.Mole object at 0x7162560ce690> must be initialized before calling SCF.\n",
      "Initialize <pyscf.gto.mole.Mole object at 0x7162560ce690> in <pyscf.scf.hf.RHF object at 0x716255e1a900>\n"
     ]
    },
    {
     "name": "stdout",
     "output_type": "stream",
     "text": [
      "converged SCF energy = -75.9208207833487\n"
     ]
    },
    {
     "name": "stderr",
     "output_type": "stream",
     "text": [
      "Warning: <pyscf.gto.mole.Mole object at 0x7162540f4320> must be initialized before calling SCF.\n",
      "Initialize <pyscf.gto.mole.Mole object at 0x7162540f4320> in <pyscf.scf.hf.RHF object at 0x716255e1a630>\n"
     ]
    },
    {
     "name": "stdout",
     "output_type": "stream",
     "text": [
      "converged SCF energy = -75.9270489456581\n"
     ]
    },
    {
     "name": "stderr",
     "output_type": "stream",
     "text": [
      "Warning: <pyscf.gto.mole.Mole object at 0x716255e22c30> must be initialized before calling SCF.\n",
      "Initialize <pyscf.gto.mole.Mole object at 0x716255e22c30> in <pyscf.scf.hf.RHF object at 0x716255e19310>\n"
     ]
    },
    {
     "name": "stdout",
     "output_type": "stream",
     "text": [
      "converged SCF energy = -75.9256938332701\n"
     ]
    },
    {
     "name": "stderr",
     "output_type": "stream",
     "text": [
      "Warning: <pyscf.gto.mole.Mole object at 0x716255e19040> must be initialized before calling SCF.\n",
      "Initialize <pyscf.gto.mole.Mole object at 0x716255e19040> in <pyscf.scf.hf.RHF object at 0x716255e19760>\n"
     ]
    },
    {
     "name": "stdout",
     "output_type": "stream",
     "text": [
      "converged SCF energy = -75.9227457428201\n"
     ]
    },
    {
     "name": "stderr",
     "output_type": "stream",
     "text": [
      "Warning: <pyscf.gto.mole.Mole object at 0x716255e22120> must be initialized before calling SCF.\n",
      "Initialize <pyscf.gto.mole.Mole object at 0x716255e22120> in <pyscf.scf.hf.RHF object at 0x7162540f4fe0>\n"
     ]
    },
    {
     "name": "stdout",
     "output_type": "stream",
     "text": [
      "converged SCF energy = -75.9254566448398\n"
     ]
    },
    {
     "name": "stderr",
     "output_type": "stream",
     "text": [
      "Warning: <pyscf.gto.mole.Mole object at 0x716255e19ac0> must be initialized before calling SCF.\n",
      "Initialize <pyscf.gto.mole.Mole object at 0x716255e19ac0> in <pyscf.scf.hf.RHF object at 0x716255e195b0>\n"
     ]
    },
    {
     "name": "stdout",
     "output_type": "stream",
     "text": [
      "converged SCF energy = -75.920236954725\n"
     ]
    },
    {
     "name": "stderr",
     "output_type": "stream",
     "text": [
      "Warning: <pyscf.gto.mole.Mole object at 0x716255e18110> must be initialized before calling SCF.\n",
      "Initialize <pyscf.gto.mole.Mole object at 0x716255e18110> in <pyscf.scf.hf.RHF object at 0x716255e18e60>\n"
     ]
    },
    {
     "name": "stdout",
     "output_type": "stream",
     "text": [
      "converged SCF energy = -75.9225506476955\n"
     ]
    },
    {
     "name": "stderr",
     "output_type": "stream",
     "text": [
      "Warning: <pyscf.gto.mole.Mole object at 0x716255e23d70> must be initialized before calling SCF.\n",
      "Initialize <pyscf.gto.mole.Mole object at 0x716255e23d70> in <pyscf.scf.hf.RHF object at 0x7162540f5250>\n"
     ]
    },
    {
     "name": "stdout",
     "output_type": "stream",
     "text": [
      "converged SCF energy = -75.9239968804745\n"
     ]
    },
    {
     "name": "stderr",
     "output_type": "stream",
     "text": [
      "Warning: <pyscf.gto.mole.Mole object at 0x716255e137d0> must be initialized before calling SCF.\n",
      "Initialize <pyscf.gto.mole.Mole object at 0x716255e137d0> in <pyscf.scf.hf.RHF object at 0x716255e102f0>\n"
     ]
    },
    {
     "name": "stdout",
     "output_type": "stream",
     "text": [
      "converged SCF energy = -75.9254235439932\n"
     ]
    },
    {
     "name": "stderr",
     "output_type": "stream",
     "text": [
      "Warning: <pyscf.gto.mole.Mole object at 0x716255e12cc0> must be initialized before calling SCF.\n",
      "Initialize <pyscf.gto.mole.Mole object at 0x716255e12cc0> in <pyscf.scf.hf.RHF object at 0x716255e18ef0>\n"
     ]
    },
    {
     "name": "stdout",
     "output_type": "stream",
     "text": [
      "converged SCF energy = -75.9246017393125\n"
     ]
    },
    {
     "name": "stderr",
     "output_type": "stream",
     "text": [
      "Warning: <pyscf.gto.mole.Mole object at 0x716255e1bdd0> must be initialized before calling SCF.\n",
      "Initialize <pyscf.gto.mole.Mole object at 0x716255e1bdd0> in <pyscf.scf.hf.RHF object at 0x716255e18170>\n"
     ]
    },
    {
     "name": "stdout",
     "output_type": "stream",
     "text": [
      "converged SCF energy = -75.9258019588552\n"
     ]
    },
    {
     "name": "stderr",
     "output_type": "stream",
     "text": [
      "Warning: <pyscf.gto.mole.Mole object at 0x716255e19cd0> must be initialized before calling SCF.\n",
      "Initialize <pyscf.gto.mole.Mole object at 0x716255e19cd0> in <pyscf.scf.hf.RHF object at 0x716255e19700>\n"
     ]
    },
    {
     "name": "stdout",
     "output_type": "stream",
     "text": [
      "converged SCF energy = -75.9301590274683\n"
     ]
    },
    {
     "name": "stderr",
     "output_type": "stream",
     "text": [
      "Warning: <pyscf.gto.mole.Mole object at 0x716255e1b230> must be initialized before calling SCF.\n",
      "Initialize <pyscf.gto.mole.Mole object at 0x716255e1b230> in <pyscf.scf.hf.RHF object at 0x716255e1a030>\n"
     ]
    },
    {
     "name": "stdout",
     "output_type": "stream",
     "text": [
      "converged SCF energy = -75.9241267050806\n"
     ]
    },
    {
     "name": "stderr",
     "output_type": "stream",
     "text": [
      "Warning: <pyscf.gto.mole.Mole object at 0x716255e21250> must be initialized before calling SCF.\n",
      "Initialize <pyscf.gto.mole.Mole object at 0x716255e21250> in <pyscf.scf.hf.RHF object at 0x716255e19430>\n"
     ]
    },
    {
     "name": "stdout",
     "output_type": "stream",
     "text": [
      "converged SCF energy = -75.9273081860958\n"
     ]
    },
    {
     "name": "stderr",
     "output_type": "stream",
     "text": [
      "Warning: <pyscf.gto.mole.Mole object at 0x716256a60aa0> must be initialized before calling SCF.\n",
      "Initialize <pyscf.gto.mole.Mole object at 0x716256a60aa0> in <pyscf.scf.hf.RHF object at 0x716255e18170>\n"
     ]
    },
    {
     "name": "stdout",
     "output_type": "stream",
     "text": [
      "converged SCF energy = -75.924130927246\n"
     ]
    },
    {
     "name": "stderr",
     "output_type": "stream",
     "text": [
      "Warning: <pyscf.gto.mole.Mole object at 0x716255e19ac0> must be initialized before calling SCF.\n",
      "Initialize <pyscf.gto.mole.Mole object at 0x716255e19ac0> in <pyscf.scf.hf.RHF object at 0x716255e18b00>\n"
     ]
    },
    {
     "name": "stdout",
     "output_type": "stream",
     "text": [
      "converged SCF energy = -75.9202851824176\n"
     ]
    },
    {
     "name": "stderr",
     "output_type": "stream",
     "text": [
      "Warning: <pyscf.gto.mole.Mole object at 0x716255ef5910> must be initialized before calling SCF.\n",
      "Initialize <pyscf.gto.mole.Mole object at 0x716255ef5910> in <pyscf.scf.hf.RHF object at 0x716255e187a0>\n"
     ]
    },
    {
     "name": "stdout",
     "output_type": "stream",
     "text": [
      "converged SCF energy = -75.9227358638031\n"
     ]
    },
    {
     "name": "stderr",
     "output_type": "stream",
     "text": [
      "Warning: <pyscf.gto.mole.Mole object at 0x716255e21ac0> must be initialized before calling SCF.\n",
      "Initialize <pyscf.gto.mole.Mole object at 0x716255e21ac0> in <pyscf.scf.hf.RHF object at 0x716255e18170>\n"
     ]
    },
    {
     "name": "stdout",
     "output_type": "stream",
     "text": [
      "converged SCF energy = -75.9207105569245\n"
     ]
    },
    {
     "name": "stderr",
     "output_type": "stream",
     "text": [
      "Warning: <pyscf.gto.mole.Mole object at 0x716255e207a0> must be initialized before calling SCF.\n",
      "Initialize <pyscf.gto.mole.Mole object at 0x716255e207a0> in <pyscf.scf.hf.RHF object at 0x716255ef5910>\n"
     ]
    },
    {
     "name": "stdout",
     "output_type": "stream",
     "text": [
      "converged SCF energy = -75.9247529255453\n"
     ]
    },
    {
     "name": "stderr",
     "output_type": "stream",
     "text": [
      "Warning: <pyscf.gto.mole.Mole object at 0x716255e22d80> must be initialized before calling SCF.\n",
      "Initialize <pyscf.gto.mole.Mole object at 0x716255e22d80> in <pyscf.scf.hf.RHF object at 0x716255e18170>\n"
     ]
    },
    {
     "name": "stdout",
     "output_type": "stream",
     "text": [
      "converged SCF energy = -75.9268580360023\n"
     ]
    },
    {
     "name": "stderr",
     "output_type": "stream",
     "text": [
      "Warning: <pyscf.gto.mole.Mole object at 0x716255e195b0> must be initialized before calling SCF.\n",
      "Initialize <pyscf.gto.mole.Mole object at 0x716255e195b0> in <pyscf.scf.hf.RHF object at 0x716255e18560>\n"
     ]
    },
    {
     "name": "stdout",
     "output_type": "stream",
     "text": [
      "converged SCF energy = -75.9239232369854\n"
     ]
    },
    {
     "name": "stderr",
     "output_type": "stream",
     "text": [
      "Warning: <pyscf.gto.mole.Mole object at 0x716255e185f0> must be initialized before calling SCF.\n",
      "Initialize <pyscf.gto.mole.Mole object at 0x716255e185f0> in <pyscf.scf.hf.RHF object at 0x716255e18a40>\n"
     ]
    },
    {
     "name": "stdout",
     "output_type": "stream",
     "text": [
      "converged SCF energy = -75.9218778894569\n"
     ]
    },
    {
     "name": "stderr",
     "output_type": "stream",
     "text": [
      "Warning: <pyscf.gto.mole.Mole object at 0x7162560cc830> must be initialized before calling SCF.\n",
      "Initialize <pyscf.gto.mole.Mole object at 0x7162560cc830> in <pyscf.scf.hf.RHF object at 0x716255e19310>\n"
     ]
    },
    {
     "name": "stdout",
     "output_type": "stream",
     "text": [
      "converged SCF energy = -75.9181721775237\n"
     ]
    },
    {
     "name": "stderr",
     "output_type": "stream",
     "text": [
      "Warning: <pyscf.gto.mole.Mole object at 0x7162540f4260> must be initialized before calling SCF.\n",
      "Initialize <pyscf.gto.mole.Mole object at 0x7162540f4260> in <pyscf.scf.hf.RHF object at 0x716255e186b0>\n"
     ]
    },
    {
     "name": "stdout",
     "output_type": "stream",
     "text": [
      "converged SCF energy = -75.9209315841127\n"
     ]
    },
    {
     "name": "stderr",
     "output_type": "stream",
     "text": [
      "Warning: <pyscf.gto.mole.Mole object at 0x716255e12cc0> must be initialized before calling SCF.\n",
      "Initialize <pyscf.gto.mole.Mole object at 0x716255e12cc0> in <pyscf.scf.hf.RHF object at 0x716255e18560>\n"
     ]
    },
    {
     "name": "stdout",
     "output_type": "stream",
     "text": [
      "converged SCF energy = -75.9221268677633\n"
     ]
    },
    {
     "name": "stderr",
     "output_type": "stream",
     "text": [
      "Warning: <pyscf.gto.mole.Mole object at 0x716255e10590> must be initialized before calling SCF.\n",
      "Initialize <pyscf.gto.mole.Mole object at 0x716255e10590> in <pyscf.scf.hf.RHF object at 0x716255e191f0>\n"
     ]
    },
    {
     "name": "stdout",
     "output_type": "stream",
     "text": [
      "converged SCF energy = -75.9201361650067\n"
     ]
    },
    {
     "name": "stderr",
     "output_type": "stream",
     "text": [
      "Warning: <pyscf.gto.mole.Mole object at 0x716255e1acc0> must be initialized before calling SCF.\n",
      "Initialize <pyscf.gto.mole.Mole object at 0x716255e1acc0> in <pyscf.scf.hf.RHF object at 0x716255e19400>\n"
     ]
    },
    {
     "name": "stdout",
     "output_type": "stream",
     "text": [
      "converged SCF energy = -75.9227801343264\n"
     ]
    },
    {
     "name": "stderr",
     "output_type": "stream",
     "text": [
      "Warning: <pyscf.gto.mole.Mole object at 0x7162540f4830> must be initialized before calling SCF.\n",
      "Initialize <pyscf.gto.mole.Mole object at 0x7162540f4830> in <pyscf.scf.hf.RHF object at 0x716255e107a0>\n"
     ]
    },
    {
     "name": "stdout",
     "output_type": "stream",
     "text": [
      "converged SCF energy = -75.9258709933734\n"
     ]
    },
    {
     "name": "stderr",
     "output_type": "stream",
     "text": [
      "Warning: <pyscf.gto.mole.Mole object at 0x716255e1f890> must be initialized before calling SCF.\n",
      "Initialize <pyscf.gto.mole.Mole object at 0x716255e1f890> in <pyscf.scf.hf.RHF object at 0x716255e1a2d0>\n"
     ]
    },
    {
     "name": "stdout",
     "output_type": "stream",
     "text": [
      "converged SCF energy = -75.9224250362855\n"
     ]
    },
    {
     "name": "stderr",
     "output_type": "stream",
     "text": [
      "Warning: <pyscf.gto.mole.Mole object at 0x716255e207a0> must be initialized before calling SCF.\n",
      "Initialize <pyscf.gto.mole.Mole object at 0x716255e207a0> in <pyscf.scf.hf.RHF object at 0x716255e18c80>\n"
     ]
    },
    {
     "name": "stdout",
     "output_type": "stream",
     "text": [
      "converged SCF energy = -75.9230578127274\n"
     ]
    },
    {
     "name": "stderr",
     "output_type": "stream",
     "text": [
      "Warning: <pyscf.gto.mole.Mole object at 0x716255ef5910> must be initialized before calling SCF.\n",
      "Initialize <pyscf.gto.mole.Mole object at 0x716255ef5910> in <pyscf.scf.hf.RHF object at 0x716255e1a570>\n"
     ]
    },
    {
     "name": "stdout",
     "output_type": "stream",
     "text": [
      "converged SCF energy = -75.9228037281443\n"
     ]
    },
    {
     "name": "stderr",
     "output_type": "stream",
     "text": [
      "Warning: <pyscf.gto.mole.Mole object at 0x716255e20920> must be initialized before calling SCF.\n",
      "Initialize <pyscf.gto.mole.Mole object at 0x716255e20920> in <pyscf.scf.hf.RHF object at 0x7162560ce1b0>\n"
     ]
    },
    {
     "name": "stdout",
     "output_type": "stream",
     "text": [
      "converged SCF energy = -75.9188888780185\n"
     ]
    },
    {
     "name": "stderr",
     "output_type": "stream",
     "text": [
      "Warning: <pyscf.gto.mole.Mole object at 0x716255ef5910> must be initialized before calling SCF.\n",
      "Initialize <pyscf.gto.mole.Mole object at 0x716255ef5910> in <pyscf.scf.hf.RHF object at 0x716255e1a540>\n"
     ]
    },
    {
     "name": "stdout",
     "output_type": "stream",
     "text": [
      "converged SCF energy = -75.9228102025646\n"
     ]
    },
    {
     "name": "stderr",
     "output_type": "stream",
     "text": [
      "Warning: <pyscf.gto.mole.Mole object at 0x716255e1a360> must be initialized before calling SCF.\n",
      "Initialize <pyscf.gto.mole.Mole object at 0x716255e1a360> in <pyscf.scf.hf.RHF object at 0x716255e18290>\n"
     ]
    },
    {
     "name": "stdout",
     "output_type": "stream",
     "text": [
      "converged SCF energy = -75.9206458747279\n"
     ]
    },
    {
     "name": "stderr",
     "output_type": "stream",
     "text": [
      "Warning: <pyscf.gto.mole.Mole object at 0x716255ef5910> must be initialized before calling SCF.\n",
      "Initialize <pyscf.gto.mole.Mole object at 0x716255ef5910> in <pyscf.scf.hf.RHF object at 0x716255e18650>\n"
     ]
    },
    {
     "name": "stdout",
     "output_type": "stream",
     "text": [
      "converged SCF energy = -75.9246332705683\n"
     ]
    },
    {
     "name": "stderr",
     "output_type": "stream",
     "text": [
      "Warning: <pyscf.gto.mole.Mole object at 0x716255e1a630> must be initialized before calling SCF.\n",
      "Initialize <pyscf.gto.mole.Mole object at 0x716255e1a630> in <pyscf.scf.hf.RHF object at 0x716255e19ac0>\n"
     ]
    },
    {
     "name": "stdout",
     "output_type": "stream",
     "text": [
      "converged SCF energy = -75.9239710581759\n"
     ]
    },
    {
     "name": "stderr",
     "output_type": "stream",
     "text": [
      "Warning: <pyscf.gto.mole.Mole object at 0x716255e20080> must be initialized before calling SCF.\n",
      "Initialize <pyscf.gto.mole.Mole object at 0x716255e20080> in <pyscf.scf.hf.RHF object at 0x716255ef5910>\n"
     ]
    },
    {
     "name": "stdout",
     "output_type": "stream",
     "text": [
      "converged SCF energy = -75.9232532053578\n"
     ]
    },
    {
     "name": "stderr",
     "output_type": "stream",
     "text": [
      "Warning: <pyscf.gto.mole.Mole object at 0x716255e1ac30> must be initialized before calling SCF.\n",
      "Initialize <pyscf.gto.mole.Mole object at 0x716255e1ac30> in <pyscf.scf.hf.RHF object at 0x716255e19fd0>\n"
     ]
    },
    {
     "name": "stdout",
     "output_type": "stream",
     "text": [
      "converged SCF energy = -75.9218252625785\n"
     ]
    },
    {
     "name": "stderr",
     "output_type": "stream",
     "text": [
      "Warning: <pyscf.gto.mole.Mole object at 0x716255e12090> must be initialized before calling SCF.\n",
      "Initialize <pyscf.gto.mole.Mole object at 0x716255e12090> in <pyscf.scf.hf.RHF object at 0x716255e1a540>\n"
     ]
    },
    {
     "name": "stdout",
     "output_type": "stream",
     "text": [
      "converged SCF energy = -75.9178770516405\n"
     ]
    },
    {
     "name": "stderr",
     "output_type": "stream",
     "text": [
      "Warning: <pyscf.gto.mole.Mole object at 0x716255e10650> must be initialized before calling SCF.\n",
      "Initialize <pyscf.gto.mole.Mole object at 0x716255e10650> in <pyscf.scf.hf.RHF object at 0x716255e1ac60>\n"
     ]
    },
    {
     "name": "stdout",
     "output_type": "stream",
     "text": [
      "converged SCF energy = -75.9193739252464\n"
     ]
    },
    {
     "name": "stderr",
     "output_type": "stream",
     "text": [
      "Warning: <pyscf.gto.mole.Mole object at 0x716255e20080> must be initialized before calling SCF.\n",
      "Initialize <pyscf.gto.mole.Mole object at 0x716255e20080> in <pyscf.scf.hf.RHF object at 0x716255e18890>\n"
     ]
    },
    {
     "name": "stdout",
     "output_type": "stream",
     "text": [
      "converged SCF energy = -75.9194860591729\n"
     ]
    },
    {
     "name": "stderr",
     "output_type": "stream",
     "text": [
      "Warning: <pyscf.gto.mole.Mole object at 0x716255e1bf20> must be initialized before calling SCF.\n",
      "Initialize <pyscf.gto.mole.Mole object at 0x716255e1bf20> in <pyscf.scf.hf.RHF object at 0x716255e1a570>\n"
     ]
    },
    {
     "name": "stdout",
     "output_type": "stream",
     "text": [
      "converged SCF energy = -75.9234252178111\n"
     ]
    },
    {
     "name": "stderr",
     "output_type": "stream",
     "text": [
      "Warning: <pyscf.gto.mole.Mole object at 0x716255e18290> must be initialized before calling SCF.\n",
      "Initialize <pyscf.gto.mole.Mole object at 0x716255e18290> in <pyscf.scf.hf.RHF object at 0x716255e187a0>\n"
     ]
    },
    {
     "name": "stdout",
     "output_type": "stream",
     "text": [
      "converged SCF energy = -75.9208698482834\n"
     ]
    },
    {
     "name": "stderr",
     "output_type": "stream",
     "text": [
      "Warning: <pyscf.gto.mole.Mole object at 0x716255e1bf20> must be initialized before calling SCF.\n",
      "Initialize <pyscf.gto.mole.Mole object at 0x716255e1bf20> in <pyscf.scf.hf.RHF object at 0x716255e18350>\n"
     ]
    },
    {
     "name": "stdout",
     "output_type": "stream",
     "text": [
      "converged SCF energy = -75.9216590588925\n"
     ]
    },
    {
     "name": "stderr",
     "output_type": "stream",
     "text": [
      "Warning: <pyscf.gto.mole.Mole object at 0x716255e1ac30> must be initialized before calling SCF.\n",
      "Initialize <pyscf.gto.mole.Mole object at 0x716255e1ac30> in <pyscf.scf.hf.RHF object at 0x716255e197c0>\n"
     ]
    },
    {
     "name": "stdout",
     "output_type": "stream",
     "text": [
      "converged SCF energy = -75.9255769897162\n"
     ]
    },
    {
     "name": "stderr",
     "output_type": "stream",
     "text": [
      "Warning: <pyscf.gto.mole.Mole object at 0x716255e12630> must be initialized before calling SCF.\n",
      "Initialize <pyscf.gto.mole.Mole object at 0x716255e12630> in <pyscf.scf.hf.RHF object at 0x716256985dc0>\n"
     ]
    },
    {
     "name": "stdout",
     "output_type": "stream",
     "text": [
      "converged SCF energy = -75.9240104029396\n"
     ]
    },
    {
     "name": "stderr",
     "output_type": "stream",
     "text": [
      "Warning: <pyscf.gto.mole.Mole object at 0x716255e11e80> must be initialized before calling SCF.\n",
      "Initialize <pyscf.gto.mole.Mole object at 0x716255e11e80> in <pyscf.scf.hf.RHF object at 0x716255e18080>\n"
     ]
    },
    {
     "name": "stdout",
     "output_type": "stream",
     "text": [
      "converged SCF energy = -75.923035349188\n"
     ]
    },
    {
     "name": "stderr",
     "output_type": "stream",
     "text": [
      "Warning: <pyscf.gto.mole.Mole object at 0x716255e10650> must be initialized before calling SCF.\n",
      "Initialize <pyscf.gto.mole.Mole object at 0x716255e10650> in <pyscf.scf.hf.RHF object at 0x716255e1b170>\n"
     ]
    },
    {
     "name": "stdout",
     "output_type": "stream",
     "text": [
      "converged SCF energy = -75.9136550074159\n"
     ]
    },
    {
     "name": "stderr",
     "output_type": "stream",
     "text": [
      "Warning: <pyscf.gto.mole.Mole object at 0x716255e1acc0> must be initialized before calling SCF.\n",
      "Initialize <pyscf.gto.mole.Mole object at 0x716255e1acc0> in <pyscf.scf.hf.RHF object at 0x716255e18080>\n"
     ]
    },
    {
     "name": "stdout",
     "output_type": "stream",
     "text": [
      "converged SCF energy = -75.9258690306902\n"
     ]
    },
    {
     "name": "stderr",
     "output_type": "stream",
     "text": [
      "Warning: <pyscf.gto.mole.Mole object at 0x716256985e50> must be initialized before calling SCF.\n",
      "Initialize <pyscf.gto.mole.Mole object at 0x716256985e50> in <pyscf.scf.hf.RHF object at 0x7162540f4890>\n"
     ]
    },
    {
     "name": "stdout",
     "output_type": "stream",
     "text": [
      "converged SCF energy = -75.9264601989142\n"
     ]
    },
    {
     "name": "stderr",
     "output_type": "stream",
     "text": [
      "Warning: <pyscf.gto.mole.Mole object at 0x716255e18290> must be initialized before calling SCF.\n",
      "Initialize <pyscf.gto.mole.Mole object at 0x716255e18290> in <pyscf.scf.hf.RHF object at 0x716255e1acc0>\n"
     ]
    },
    {
     "name": "stdout",
     "output_type": "stream",
     "text": [
      "converged SCF energy = -75.9227344365441\n"
     ]
    },
    {
     "name": "stderr",
     "output_type": "stream",
     "text": [
      "Warning: <pyscf.gto.mole.Mole object at 0x716255e1c560> must be initialized before calling SCF.\n",
      "Initialize <pyscf.gto.mole.Mole object at 0x716255e1c560> in <pyscf.scf.hf.RHF object at 0x716255e18650>\n"
     ]
    },
    {
     "name": "stdout",
     "output_type": "stream",
     "text": [
      "converged SCF energy = -75.922793994827\n"
     ]
    },
    {
     "name": "stderr",
     "output_type": "stream",
     "text": [
      "Warning: <pyscf.gto.mole.Mole object at 0x716255e18290> must be initialized before calling SCF.\n",
      "Initialize <pyscf.gto.mole.Mole object at 0x716255e18290> in <pyscf.scf.hf.RHF object at 0x716255e12cc0>\n"
     ]
    },
    {
     "name": "stdout",
     "output_type": "stream",
     "text": [
      "converged SCF energy = -75.9216406998507\n"
     ]
    },
    {
     "name": "stderr",
     "output_type": "stream",
     "text": [
      "Warning: <pyscf.gto.mole.Mole object at 0x716255e23cb0> must be initialized before calling SCF.\n",
      "Initialize <pyscf.gto.mole.Mole object at 0x716255e23cb0> in <pyscf.scf.hf.RHF object at 0x716255e117c0>\n"
     ]
    },
    {
     "name": "stdout",
     "output_type": "stream",
     "text": [
      "converged SCF energy = -75.9219839121966\n"
     ]
    },
    {
     "name": "stderr",
     "output_type": "stream",
     "text": [
      "Warning: <pyscf.gto.mole.Mole object at 0x716255e1a000> must be initialized before calling SCF.\n",
      "Initialize <pyscf.gto.mole.Mole object at 0x716255e1a000> in <pyscf.scf.hf.RHF object at 0x716255e18290>\n"
     ]
    },
    {
     "name": "stdout",
     "output_type": "stream",
     "text": [
      "converged SCF energy = -75.9239439997536\n"
     ]
    },
    {
     "name": "stderr",
     "output_type": "stream",
     "text": [
      "Warning: <pyscf.gto.mole.Mole object at 0x716255e0f890> must be initialized before calling SCF.\n",
      "Initialize <pyscf.gto.mole.Mole object at 0x716255e0f890> in <pyscf.scf.hf.RHF object at 0x716255e12540>\n"
     ]
    },
    {
     "name": "stdout",
     "output_type": "stream",
     "text": [
      "converged SCF energy = -75.9174023828373\n"
     ]
    },
    {
     "name": "stderr",
     "output_type": "stream",
     "text": [
      "Warning: <pyscf.gto.mole.Mole object at 0x716255e12cc0> must be initialized before calling SCF.\n",
      "Initialize <pyscf.gto.mole.Mole object at 0x716255e12cc0> in <pyscf.scf.hf.RHF object at 0x716255e16a20>\n"
     ]
    },
    {
     "name": "stdout",
     "output_type": "stream",
     "text": [
      "converged SCF energy = -75.9210259064805\n"
     ]
    },
    {
     "name": "stderr",
     "output_type": "stream",
     "text": [
      "Warning: <pyscf.gto.mole.Mole object at 0x716255e18290> must be initialized before calling SCF.\n",
      "Initialize <pyscf.gto.mole.Mole object at 0x716255e18290> in <pyscf.scf.hf.RHF object at 0x716255e1f890>\n"
     ]
    },
    {
     "name": "stdout",
     "output_type": "stream",
     "text": [
      "converged SCF energy = -75.9262228788206\n"
     ]
    },
    {
     "name": "stderr",
     "output_type": "stream",
     "text": [
      "Warning: <pyscf.gto.mole.Mole object at 0x7162540f5a60> must be initialized before calling SCF.\n",
      "Initialize <pyscf.gto.mole.Mole object at 0x7162540f5a60> in <pyscf.scf.hf.RHF object at 0x716255e1d3a0>\n"
     ]
    },
    {
     "name": "stdout",
     "output_type": "stream",
     "text": [
      "converged SCF energy = -75.9181431552008\n"
     ]
    },
    {
     "name": "stderr",
     "output_type": "stream",
     "text": [
      "Warning: <pyscf.gto.mole.Mole object at 0x716255e12540> must be initialized before calling SCF.\n",
      "Initialize <pyscf.gto.mole.Mole object at 0x716255e12540> in <pyscf.scf.hf.RHF object at 0x7162540f5250>\n"
     ]
    },
    {
     "name": "stdout",
     "output_type": "stream",
     "text": [
      "converged SCF energy = -75.9211946590504\n"
     ]
    },
    {
     "name": "stderr",
     "output_type": "stream",
     "text": [
      "Warning: <pyscf.gto.mole.Mole object at 0x716255e18350> must be initialized before calling SCF.\n",
      "Initialize <pyscf.gto.mole.Mole object at 0x716255e18350> in <pyscf.scf.hf.RHF object at 0x716255e18650>\n"
     ]
    },
    {
     "name": "stdout",
     "output_type": "stream",
     "text": [
      "converged SCF energy = -75.9245600822862\n"
     ]
    },
    {
     "name": "stderr",
     "output_type": "stream",
     "text": [
      "Warning: <pyscf.gto.mole.Mole object at 0x716255e1a540> must be initialized before calling SCF.\n",
      "Initialize <pyscf.gto.mole.Mole object at 0x716255e1a540> in <pyscf.scf.hf.RHF object at 0x716255e23cb0>\n"
     ]
    },
    {
     "name": "stdout",
     "output_type": "stream",
     "text": [
      "converged SCF energy = -75.9238173186116\n"
     ]
    },
    {
     "name": "stderr",
     "output_type": "stream",
     "text": [
      "Warning: <pyscf.gto.mole.Mole object at 0x716255e10590> must be initialized before calling SCF.\n",
      "Initialize <pyscf.gto.mole.Mole object at 0x716255e10590> in <pyscf.scf.hf.RHF object at 0x716255e18650>\n"
     ]
    },
    {
     "name": "stdout",
     "output_type": "stream",
     "text": [
      "converged SCF energy = -75.925856852204\n"
     ]
    },
    {
     "name": "stderr",
     "output_type": "stream",
     "text": [
      "Warning: <pyscf.gto.mole.Mole object at 0x716255e1a630> must be initialized before calling SCF.\n",
      "Initialize <pyscf.gto.mole.Mole object at 0x716255e1a630> in <pyscf.scf.hf.RHF object at 0x716255e21430>\n"
     ]
    },
    {
     "name": "stdout",
     "output_type": "stream",
     "text": [
      "converged SCF energy = -75.9239810253269\n"
     ]
    },
    {
     "name": "stderr",
     "output_type": "stream",
     "text": [
      "Warning: <pyscf.gto.mole.Mole object at 0x7162540f6960> must be initialized before calling SCF.\n",
      "Initialize <pyscf.gto.mole.Mole object at 0x7162540f6960> in <pyscf.scf.hf.RHF object at 0x716255e18110>\n"
     ]
    },
    {
     "name": "stdout",
     "output_type": "stream",
     "text": [
      "converged SCF energy = -75.9232625114581\n"
     ]
    },
    {
     "name": "stderr",
     "output_type": "stream",
     "text": [
      "Warning: <pyscf.gto.mole.Mole object at 0x716255e1d0a0> must be initialized before calling SCF.\n",
      "Initialize <pyscf.gto.mole.Mole object at 0x716255e1d0a0> in <pyscf.scf.hf.RHF object at 0x716255e182c0>\n"
     ]
    },
    {
     "name": "stdout",
     "output_type": "stream",
     "text": [
      "converged SCF energy = -75.9249644535003\n"
     ]
    },
    {
     "name": "stderr",
     "output_type": "stream",
     "text": [
      "Warning: <pyscf.gto.mole.Mole object at 0x716255e10650> must be initialized before calling SCF.\n",
      "Initialize <pyscf.gto.mole.Mole object at 0x716255e10650> in <pyscf.scf.hf.RHF object at 0x716255e12630>\n"
     ]
    },
    {
     "name": "stdout",
     "output_type": "stream",
     "text": [
      "converged SCF energy = -75.9206246550009\n"
     ]
    },
    {
     "name": "stderr",
     "output_type": "stream",
     "text": [
      "Warning: <pyscf.gto.mole.Mole object at 0x716255e14320> must be initialized before calling SCF.\n",
      "Initialize <pyscf.gto.mole.Mole object at 0x716255e14320> in <pyscf.scf.hf.RHF object at 0x716255e163c0>\n"
     ]
    },
    {
     "name": "stdout",
     "output_type": "stream",
     "text": [
      "converged SCF energy = -75.9265169790907\n"
     ]
    },
    {
     "name": "stderr",
     "output_type": "stream",
     "text": [
      "Warning: <pyscf.gto.mole.Mole object at 0x716255e12630> must be initialized before calling SCF.\n",
      "Initialize <pyscf.gto.mole.Mole object at 0x716255e12630> in <pyscf.scf.hf.RHF object at 0x716255e15010>\n"
     ]
    },
    {
     "name": "stdout",
     "output_type": "stream",
     "text": [
      "converged SCF energy = -75.9195071961326\n"
     ]
    },
    {
     "name": "stderr",
     "output_type": "stream",
     "text": [
      "Warning: <pyscf.gto.mole.Mole object at 0x716255e10110> must be initialized before calling SCF.\n",
      "Initialize <pyscf.gto.mole.Mole object at 0x716255e10110> in <pyscf.scf.hf.RHF object at 0x716255e164b0>\n"
     ]
    },
    {
     "name": "stdout",
     "output_type": "stream",
     "text": [
      "converged SCF energy = -75.9242784673903\n"
     ]
    },
    {
     "name": "stderr",
     "output_type": "stream",
     "text": [
      "Warning: <pyscf.gto.mole.Mole object at 0x716255e10650> must be initialized before calling SCF.\n",
      "Initialize <pyscf.gto.mole.Mole object at 0x716255e10650> in <pyscf.scf.hf.RHF object at 0x716255e15910>\n"
     ]
    },
    {
     "name": "stdout",
     "output_type": "stream",
     "text": [
      "converged SCF energy = -75.9247561588786\n"
     ]
    },
    {
     "name": "stderr",
     "output_type": "stream",
     "text": [
      "Warning: <pyscf.gto.mole.Mole object at 0x716255e14d40> must be initialized before calling SCF.\n",
      "Initialize <pyscf.gto.mole.Mole object at 0x716255e14d40> in <pyscf.scf.hf.RHF object at 0x716255e15dc0>\n"
     ]
    },
    {
     "name": "stdout",
     "output_type": "stream",
     "text": [
      "converged SCF energy = -75.9221498070501\n"
     ]
    },
    {
     "name": "stderr",
     "output_type": "stream",
     "text": [
      "Warning: <pyscf.gto.mole.Mole object at 0x7162540f66c0> must be initialized before calling SCF.\n",
      "Initialize <pyscf.gto.mole.Mole object at 0x7162540f66c0> in <pyscf.scf.hf.RHF object at 0x716255e15910>\n"
     ]
    },
    {
     "name": "stdout",
     "output_type": "stream",
     "text": [
      "converged SCF energy = -75.9206753683919\n"
     ]
    },
    {
     "name": "stderr",
     "output_type": "stream",
     "text": [
      "Warning: <pyscf.gto.mole.Mole object at 0x716255f6e4e0> must be initialized before calling SCF.\n",
      "Initialize <pyscf.gto.mole.Mole object at 0x716255f6e4e0> in <pyscf.scf.hf.RHF object at 0x716255e10590>\n"
     ]
    },
    {
     "name": "stdout",
     "output_type": "stream",
     "text": [
      "converged SCF energy = -75.9241901444913\n"
     ]
    },
    {
     "name": "stderr",
     "output_type": "stream",
     "text": [
      "Warning: <pyscf.gto.mole.Mole object at 0x716255e21430> must be initialized before calling SCF.\n",
      "Initialize <pyscf.gto.mole.Mole object at 0x716255e21430> in <pyscf.scf.hf.RHF object at 0x71625c9d8530>\n"
     ]
    },
    {
     "name": "stdout",
     "output_type": "stream",
     "text": [
      "converged SCF energy = -75.9243459512628\n"
     ]
    },
    {
     "name": "stderr",
     "output_type": "stream",
     "text": [
      "Warning: <pyscf.gto.mole.Mole object at 0x7162540f7980> must be initialized before calling SCF.\n",
      "Initialize <pyscf.gto.mole.Mole object at 0x7162540f7980> in <pyscf.scf.hf.RHF object at 0x716255e14fe0>\n"
     ]
    },
    {
     "name": "stdout",
     "output_type": "stream",
     "text": [
      "converged SCF energy = -75.9256623056775\n"
     ]
    },
    {
     "name": "stderr",
     "output_type": "stream",
     "text": [
      "Warning: <pyscf.gto.mole.Mole object at 0x7162560ce720> must be initialized before calling SCF.\n",
      "Initialize <pyscf.gto.mole.Mole object at 0x7162560ce720> in <pyscf.scf.hf.RHF object at 0x716255e164e0>\n"
     ]
    },
    {
     "name": "stdout",
     "output_type": "stream",
     "text": [
      "converged SCF energy = -75.9277962715543\n"
     ]
    },
    {
     "name": "stderr",
     "output_type": "stream",
     "text": [
      "Warning: <pyscf.gto.mole.Mole object at 0x716255e19430> must be initialized before calling SCF.\n",
      "Initialize <pyscf.gto.mole.Mole object at 0x716255e19430> in <pyscf.scf.hf.RHF object at 0x716255e1a540>\n"
     ]
    },
    {
     "name": "stdout",
     "output_type": "stream",
     "text": [
      "converged SCF energy = -75.9255121384575\n"
     ]
    },
    {
     "name": "stderr",
     "output_type": "stream",
     "text": [
      "Warning: <pyscf.gto.mole.Mole object at 0x716255e10590> must be initialized before calling SCF.\n",
      "Initialize <pyscf.gto.mole.Mole object at 0x716255e10590> in <pyscf.scf.hf.RHF object at 0x716255e14e90>\n"
     ]
    },
    {
     "name": "stdout",
     "output_type": "stream",
     "text": [
      "converged SCF energy = -75.922743792945\n"
     ]
    },
    {
     "name": "stderr",
     "output_type": "stream",
     "text": [
      "Warning: <pyscf.gto.mole.Mole object at 0x716255e0e2a0> must be initialized before calling SCF.\n",
      "Initialize <pyscf.gto.mole.Mole object at 0x716255e0e2a0> in <pyscf.scf.hf.RHF object at 0x716255e1a540>\n"
     ]
    },
    {
     "name": "stdout",
     "output_type": "stream",
     "text": [
      "converged SCF energy = -75.9254342735132\n"
     ]
    },
    {
     "name": "stderr",
     "output_type": "stream",
     "text": [
      "Warning: <pyscf.gto.mole.Mole object at 0x716255e18590> must be initialized before calling SCF.\n",
      "Initialize <pyscf.gto.mole.Mole object at 0x716255e18590> in <pyscf.scf.hf.RHF object at 0x716255e16960>\n"
     ]
    },
    {
     "name": "stdout",
     "output_type": "stream",
     "text": [
      "converged SCF energy = -75.9255263867552\n"
     ]
    },
    {
     "name": "stderr",
     "output_type": "stream",
     "text": [
      "Warning: <pyscf.gto.mole.Mole object at 0x716255e1e2a0> must be initialized before calling SCF.\n",
      "Initialize <pyscf.gto.mole.Mole object at 0x716255e1e2a0> in <pyscf.scf.hf.RHF object at 0x716255ef5910>\n"
     ]
    },
    {
     "name": "stdout",
     "output_type": "stream",
     "text": [
      "converged SCF energy = -75.9236527014304\n"
     ]
    },
    {
     "name": "stderr",
     "output_type": "stream",
     "text": [
      "Warning: <pyscf.gto.mole.Mole object at 0x716255e1d880> must be initialized before calling SCF.\n",
      "Initialize <pyscf.gto.mole.Mole object at 0x716255e1d880> in <pyscf.scf.hf.RHF object at 0x716255e177a0>\n"
     ]
    },
    {
     "name": "stdout",
     "output_type": "stream",
     "text": [
      "converged SCF energy = -75.9249279194217\n"
     ]
    },
    {
     "name": "stderr",
     "output_type": "stream",
     "text": [
      "Warning: <pyscf.gto.mole.Mole object at 0x716255e1d730> must be initialized before calling SCF.\n",
      "Initialize <pyscf.gto.mole.Mole object at 0x716255e1d730> in <pyscf.scf.hf.RHF object at 0x716255e16d20>\n"
     ]
    },
    {
     "name": "stdout",
     "output_type": "stream",
     "text": [
      "converged SCF energy = -75.9192156946728\n"
     ]
    },
    {
     "name": "stderr",
     "output_type": "stream",
     "text": [
      "Warning: <pyscf.gto.mole.Mole object at 0x716255f6d3a0> must be initialized before calling SCF.\n",
      "Initialize <pyscf.gto.mole.Mole object at 0x716255f6d3a0> in <pyscf.scf.hf.RHF object at 0x716255e19430>\n"
     ]
    },
    {
     "name": "stdout",
     "output_type": "stream",
     "text": [
      "converged SCF energy = -75.9258191522017\n"
     ]
    },
    {
     "name": "stderr",
     "output_type": "stream",
     "text": [
      "Warning: <pyscf.gto.mole.Mole object at 0x716256984b90> must be initialized before calling SCF.\n",
      "Initialize <pyscf.gto.mole.Mole object at 0x716256984b90> in <pyscf.scf.hf.RHF object at 0x716255e15370>\n"
     ]
    },
    {
     "name": "stdout",
     "output_type": "stream",
     "text": [
      "converged SCF energy = -75.9256300473104\n"
     ]
    },
    {
     "name": "stderr",
     "output_type": "stream",
     "text": [
      "Warning: <pyscf.gto.mole.Mole object at 0x716255e15bb0> must be initialized before calling SCF.\n",
      "Initialize <pyscf.gto.mole.Mole object at 0x716255e15bb0> in <pyscf.scf.hf.RHF object at 0x716255e167e0>\n"
     ]
    },
    {
     "name": "stdout",
     "output_type": "stream",
     "text": [
      "converged SCF energy = -75.9258095758962\n"
     ]
    },
    {
     "name": "stderr",
     "output_type": "stream",
     "text": [
      "Warning: <pyscf.gto.mole.Mole object at 0x7162560cdbe0> must be initialized before calling SCF.\n",
      "Initialize <pyscf.gto.mole.Mole object at 0x7162560cdbe0> in <pyscf.scf.hf.RHF object at 0x716255e14b90>\n"
     ]
    },
    {
     "name": "stdout",
     "output_type": "stream",
     "text": [
      "converged SCF energy = -75.9231799984933\n"
     ]
    },
    {
     "name": "stderr",
     "output_type": "stream",
     "text": [
      "Warning: <pyscf.gto.mole.Mole object at 0x7162560ce360> must be initialized before calling SCF.\n",
      "Initialize <pyscf.gto.mole.Mole object at 0x7162560ce360> in <pyscf.scf.hf.RHF object at 0x716255e164b0>\n"
     ]
    },
    {
     "name": "stdout",
     "output_type": "stream",
     "text": [
      "converged SCF energy = -75.9268324414027\n"
     ]
    },
    {
     "name": "stderr",
     "output_type": "stream",
     "text": [
      "Warning: <pyscf.gto.mole.Mole object at 0x7162540f67e0> must be initialized before calling SCF.\n",
      "Initialize <pyscf.gto.mole.Mole object at 0x7162540f67e0> in <pyscf.scf.hf.RHF object at 0x716255e14b90>\n"
     ]
    },
    {
     "name": "stdout",
     "output_type": "stream",
     "text": [
      "converged SCF energy = -75.9265480159322\n"
     ]
    },
    {
     "name": "stderr",
     "output_type": "stream",
     "text": [
      "Warning: <pyscf.gto.mole.Mole object at 0x7162560ce360> must be initialized before calling SCF.\n",
      "Initialize <pyscf.gto.mole.Mole object at 0x7162560ce360> in <pyscf.scf.hf.RHF object at 0x71625c9d8530>\n"
     ]
    },
    {
     "name": "stdout",
     "output_type": "stream",
     "text": [
      "converged SCF energy = -75.9250161814173\n"
     ]
    },
    {
     "name": "stderr",
     "output_type": "stream",
     "text": [
      "Warning: <pyscf.gto.mole.Mole object at 0x7162560ce1b0> must be initialized before calling SCF.\n",
      "Initialize <pyscf.gto.mole.Mole object at 0x7162560ce1b0> in <pyscf.scf.hf.RHF object at 0x716255e15490>\n"
     ]
    },
    {
     "name": "stdout",
     "output_type": "stream",
     "text": [
      "converged SCF energy = -75.9215064357869\n"
     ]
    },
    {
     "name": "stderr",
     "output_type": "stream",
     "text": [
      "Warning: <pyscf.gto.mole.Mole object at 0x7162560ce360> must be initialized before calling SCF.\n",
      "Initialize <pyscf.gto.mole.Mole object at 0x7162560ce360> in <pyscf.scf.hf.RHF object at 0x716255e14a70>\n"
     ]
    },
    {
     "name": "stdout",
     "output_type": "stream",
     "text": [
      "converged SCF energy = -75.9234608286062\n"
     ]
    },
    {
     "name": "stderr",
     "output_type": "stream",
     "text": [
      "Warning: <pyscf.gto.mole.Mole object at 0x7162560ce1b0> must be initialized before calling SCF.\n",
      "Initialize <pyscf.gto.mole.Mole object at 0x7162560ce1b0> in <pyscf.scf.hf.RHF object at 0x7162540f4fe0>\n"
     ]
    },
    {
     "name": "stdout",
     "output_type": "stream",
     "text": [
      "converged SCF energy = -75.9268147830225\n"
     ]
    },
    {
     "name": "stderr",
     "output_type": "stream",
     "text": [
      "Warning: <pyscf.gto.mole.Mole object at 0x7162560ce360> must be initialized before calling SCF.\n",
      "Initialize <pyscf.gto.mole.Mole object at 0x7162560ce360> in <pyscf.scf.hf.RHF object at 0x716255e14500>\n"
     ]
    },
    {
     "name": "stdout",
     "output_type": "stream",
     "text": [
      "converged SCF energy = -75.9219623258371\n"
     ]
    },
    {
     "name": "stderr",
     "output_type": "stream",
     "text": [
      "Warning: <pyscf.gto.mole.Mole object at 0x7162560ce3c0> must be initialized before calling SCF.\n",
      "Initialize <pyscf.gto.mole.Mole object at 0x7162560ce3c0> in <pyscf.scf.hf.RHF object at 0x7162560ce1b0>\n"
     ]
    },
    {
     "name": "stdout",
     "output_type": "stream",
     "text": [
      "converged SCF energy = -75.9236048125984\n"
     ]
    },
    {
     "name": "stderr",
     "output_type": "stream",
     "text": [
      "Warning: <pyscf.gto.mole.Mole object at 0x7162560ce360> must be initialized before calling SCF.\n",
      "Initialize <pyscf.gto.mole.Mole object at 0x7162560ce360> in <pyscf.scf.hf.RHF object at 0x716255e15100>\n"
     ]
    },
    {
     "name": "stdout",
     "output_type": "stream",
     "text": [
      "converged SCF energy = -75.9244778016642\n"
     ]
    },
    {
     "name": "stderr",
     "output_type": "stream",
     "text": [
      "Warning: <pyscf.gto.mole.Mole object at 0x716255e159d0> must be initialized before calling SCF.\n",
      "Initialize <pyscf.gto.mole.Mole object at 0x716255e159d0> in <pyscf.scf.hf.RHF object at 0x716255e161b0>\n"
     ]
    },
    {
     "name": "stdout",
     "output_type": "stream",
     "text": [
      "converged SCF energy = -75.9242963466721\n"
     ]
    },
    {
     "name": "stderr",
     "output_type": "stream",
     "text": [
      "Warning: <pyscf.gto.mole.Mole object at 0x7162560ce360> must be initialized before calling SCF.\n",
      "Initialize <pyscf.gto.mole.Mole object at 0x7162560ce360> in <pyscf.scf.hf.RHF object at 0x716255e16030>\n"
     ]
    },
    {
     "name": "stdout",
     "output_type": "stream",
     "text": [
      "converged SCF energy = -75.9241390775424\n"
     ]
    },
    {
     "name": "stderr",
     "output_type": "stream",
     "text": [
      "Warning: <pyscf.gto.mole.Mole object at 0x716255e15280> must be initialized before calling SCF.\n",
      "Initialize <pyscf.gto.mole.Mole object at 0x716255e15280> in <pyscf.scf.hf.RHF object at 0x716255e161b0>\n"
     ]
    },
    {
     "name": "stdout",
     "output_type": "stream",
     "text": [
      "converged SCF energy = -75.9220792531644\n"
     ]
    },
    {
     "name": "stderr",
     "output_type": "stream",
     "text": [
      "Warning: <pyscf.gto.mole.Mole object at 0x7162560ce360> must be initialized before calling SCF.\n",
      "Initialize <pyscf.gto.mole.Mole object at 0x7162560ce360> in <pyscf.scf.hf.RHF object at 0x716255e140b0>\n"
     ]
    },
    {
     "name": "stdout",
     "output_type": "stream",
     "text": [
      "converged SCF energy = -75.9138891818826\n"
     ]
    },
    {
     "name": "stderr",
     "output_type": "stream",
     "text": [
      "Warning: <pyscf.gto.mole.Mole object at 0x716255e16b70> must be initialized before calling SCF.\n",
      "Initialize <pyscf.gto.mole.Mole object at 0x716255e16b70> in <pyscf.scf.hf.RHF object at 0x716255e161b0>\n"
     ]
    },
    {
     "name": "stdout",
     "output_type": "stream",
     "text": [
      "converged SCF energy = -75.9227285647177\n"
     ]
    },
    {
     "name": "stderr",
     "output_type": "stream",
     "text": [
      "Warning: <pyscf.gto.mole.Mole object at 0x7162540f44a0> must be initialized before calling SCF.\n",
      "Initialize <pyscf.gto.mole.Mole object at 0x7162540f44a0> in <pyscf.scf.hf.RHF object at 0x7162560ce360>\n"
     ]
    },
    {
     "name": "stdout",
     "output_type": "stream",
     "text": [
      "converged SCF energy = -75.9229850943813\n"
     ]
    },
    {
     "name": "stderr",
     "output_type": "stream",
     "text": [
      "Warning: <pyscf.gto.mole.Mole object at 0x716255e10590> must be initialized before calling SCF.\n",
      "Initialize <pyscf.gto.mole.Mole object at 0x716255e10590> in <pyscf.scf.hf.RHF object at 0x716255e18380>\n"
     ]
    },
    {
     "name": "stdout",
     "output_type": "stream",
     "text": [
      "converged SCF energy = -75.9229868437187\n"
     ]
    },
    {
     "name": "stderr",
     "output_type": "stream",
     "text": [
      "Warning: <pyscf.gto.mole.Mole object at 0x716255e177a0> must be initialized before calling SCF.\n",
      "Initialize <pyscf.gto.mole.Mole object at 0x716255e177a0> in <pyscf.scf.hf.RHF object at 0x71625c9d8530>\n"
     ]
    },
    {
     "name": "stdout",
     "output_type": "stream",
     "text": [
      "converged SCF energy = -75.9217988280083\n"
     ]
    },
    {
     "name": "stderr",
     "output_type": "stream",
     "text": [
      "Warning: <pyscf.gto.mole.Mole object at 0x7162569844a0> must be initialized before calling SCF.\n",
      "Initialize <pyscf.gto.mole.Mole object at 0x7162569844a0> in <pyscf.scf.hf.RHF object at 0x716255e16960>\n"
     ]
    },
    {
     "name": "stdout",
     "output_type": "stream",
     "text": [
      "converged SCF energy = -75.9211787586247\n"
     ]
    },
    {
     "name": "stderr",
     "output_type": "stream",
     "text": [
      "Warning: <pyscf.gto.mole.Mole object at 0x716255e15fa0> must be initialized before calling SCF.\n",
      "Initialize <pyscf.gto.mole.Mole object at 0x716255e15fa0> in <pyscf.scf.hf.RHF object at 0x716255e16b70>\n"
     ]
    },
    {
     "name": "stdout",
     "output_type": "stream",
     "text": [
      "converged SCF energy = -75.9237306077047\n"
     ]
    },
    {
     "name": "stderr",
     "output_type": "stream",
     "text": [
      "Warning: <pyscf.gto.mole.Mole object at 0x7162540f44a0> must be initialized before calling SCF.\n",
      "Initialize <pyscf.gto.mole.Mole object at 0x7162540f44a0> in <pyscf.scf.hf.RHF object at 0x7162540f46e0>\n"
     ]
    },
    {
     "name": "stdout",
     "output_type": "stream",
     "text": [
      "converged SCF energy = -75.9249020503451\n"
     ]
    },
    {
     "name": "stderr",
     "output_type": "stream",
     "text": [
      "Warning: <pyscf.gto.mole.Mole object at 0x716255e14770> must be initialized before calling SCF.\n",
      "Initialize <pyscf.gto.mole.Mole object at 0x716255e14770> in <pyscf.scf.hf.RHF object at 0x716255e161b0>\n"
     ]
    },
    {
     "name": "stdout",
     "output_type": "stream",
     "text": [
      "converged SCF energy = -75.9242093604326\n"
     ]
    },
    {
     "name": "stderr",
     "output_type": "stream",
     "text": [
      "Warning: <pyscf.gto.mole.Mole object at 0x7162540f44a0> must be initialized before calling SCF.\n",
      "Initialize <pyscf.gto.mole.Mole object at 0x7162540f44a0> in <pyscf.scf.hf.RHF object at 0x716255edc6e0>\n"
     ]
    },
    {
     "name": "stdout",
     "output_type": "stream",
     "text": [
      "converged SCF energy = -75.9270572409712\n"
     ]
    },
    {
     "name": "stderr",
     "output_type": "stream",
     "text": [
      "Warning: <pyscf.gto.mole.Mole object at 0x7162540f67e0> must be initialized before calling SCF.\n",
      "Initialize <pyscf.gto.mole.Mole object at 0x7162540f67e0> in <pyscf.scf.hf.RHF object at 0x716255e161b0>\n"
     ]
    },
    {
     "name": "stdout",
     "output_type": "stream",
     "text": [
      "converged SCF energy = -75.9252405960907\n"
     ]
    },
    {
     "name": "stderr",
     "output_type": "stream",
     "text": [
      "Warning: <pyscf.gto.mole.Mole object at 0x716255e14440> must be initialized before calling SCF.\n",
      "Initialize <pyscf.gto.mole.Mole object at 0x716255e14440> in <pyscf.scf.hf.RHF object at 0x716255e16b70>\n"
     ]
    },
    {
     "name": "stdout",
     "output_type": "stream",
     "text": [
      "converged SCF energy = -75.9214531298611\n"
     ]
    },
    {
     "name": "stderr",
     "output_type": "stream",
     "text": [
      "Warning: <pyscf.gto.mole.Mole object at 0x716255e0e7e0> must be initialized before calling SCF.\n",
      "Initialize <pyscf.gto.mole.Mole object at 0x716255e0e7e0> in <pyscf.scf.hf.RHF object at 0x716255f6d1c0>\n"
     ]
    },
    {
     "name": "stdout",
     "output_type": "stream",
     "text": [
      "converged SCF energy = -75.9220683444464\n"
     ]
    },
    {
     "name": "stderr",
     "output_type": "stream",
     "text": [
      "Warning: <pyscf.gto.mole.Mole object at 0x716255ef5910> must be initialized before calling SCF.\n",
      "Initialize <pyscf.gto.mole.Mole object at 0x716255ef5910> in <pyscf.scf.hf.RHF object at 0x716255e141d0>\n"
     ]
    },
    {
     "name": "stdout",
     "output_type": "stream",
     "text": [
      "converged SCF energy = -75.9251524732324\n"
     ]
    },
    {
     "name": "stderr",
     "output_type": "stream",
     "text": [
      "Warning: <pyscf.gto.mole.Mole object at 0x7162540f6b70> must be initialized before calling SCF.\n",
      "Initialize <pyscf.gto.mole.Mole object at 0x7162540f6b70> in <pyscf.scf.hf.RHF object at 0x716255e161b0>\n"
     ]
    },
    {
     "name": "stdout",
     "output_type": "stream",
     "text": [
      "converged SCF energy = -75.9224821506327\n"
     ]
    },
    {
     "name": "stderr",
     "output_type": "stream",
     "text": [
      "Warning: <pyscf.gto.mole.Mole object at 0x716255e1bcb0> must be initialized before calling SCF.\n",
      "Initialize <pyscf.gto.mole.Mole object at 0x716255e1bcb0> in <pyscf.scf.hf.RHF object at 0x71625c9d8530>\n"
     ]
    },
    {
     "name": "stdout",
     "output_type": "stream",
     "text": [
      "converged SCF energy = -75.921781260457\n"
     ]
    },
    {
     "name": "stderr",
     "output_type": "stream",
     "text": [
      "Warning: <pyscf.gto.mole.Mole object at 0x716255e0fbf0> must be initialized before calling SCF.\n",
      "Initialize <pyscf.gto.mole.Mole object at 0x716255e0fbf0> in <pyscf.scf.hf.RHF object at 0x716255ef5910>\n"
     ]
    },
    {
     "name": "stdout",
     "output_type": "stream",
     "text": [
      "converged SCF energy = -75.9278536772181\n"
     ]
    },
    {
     "name": "stderr",
     "output_type": "stream",
     "text": [
      "Warning: <pyscf.gto.mole.Mole object at 0x716255e177a0> must be initialized before calling SCF.\n",
      "Initialize <pyscf.gto.mole.Mole object at 0x716255e177a0> in <pyscf.scf.hf.RHF object at 0x716255e14e30>\n"
     ]
    },
    {
     "name": "stdout",
     "output_type": "stream",
     "text": [
      "converged SCF energy = -75.9250957311779\n"
     ]
    },
    {
     "name": "stderr",
     "output_type": "stream",
     "text": [
      "Warning: <pyscf.gto.mole.Mole object at 0x7162560cec60> must be initialized before calling SCF.\n",
      "Initialize <pyscf.gto.mole.Mole object at 0x7162560cec60> in <pyscf.scf.hf.RHF object at 0x716255e14080>\n"
     ]
    },
    {
     "name": "stdout",
     "output_type": "stream",
     "text": [
      "converged SCF energy = -75.925156164142\n"
     ]
    },
    {
     "name": "stderr",
     "output_type": "stream",
     "text": [
      "Warning: <pyscf.gto.mole.Mole object at 0x716255e17bf0> must be initialized before calling SCF.\n",
      "Initialize <pyscf.gto.mole.Mole object at 0x716255e17bf0> in <pyscf.scf.hf.RHF object at 0x716255e16c00>\n"
     ]
    },
    {
     "name": "stdout",
     "output_type": "stream",
     "text": [
      "converged SCF energy = -75.9234638002544\n"
     ]
    },
    {
     "name": "stderr",
     "output_type": "stream",
     "text": [
      "Warning: <pyscf.gto.mole.Mole object at 0x716255e148c0> must be initialized before calling SCF.\n",
      "Initialize <pyscf.gto.mole.Mole object at 0x716255e148c0> in <pyscf.scf.hf.RHF object at 0x716255e15c40>\n"
     ]
    },
    {
     "name": "stdout",
     "output_type": "stream",
     "text": [
      "converged SCF energy = -75.919842556178\n"
     ]
    },
    {
     "name": "stderr",
     "output_type": "stream",
     "text": [
      "Warning: <pyscf.gto.mole.Mole object at 0x716255e1f890> must be initialized before calling SCF.\n",
      "Initialize <pyscf.gto.mole.Mole object at 0x716255e1f890> in <pyscf.scf.hf.RHF object at 0x716255e15e80>\n"
     ]
    },
    {
     "name": "stdout",
     "output_type": "stream",
     "text": [
      "converged SCF energy = -75.9262381787751\n"
     ]
    },
    {
     "name": "stderr",
     "output_type": "stream",
     "text": [
      "Warning: <pyscf.gto.mole.Mole object at 0x716255e15070> must be initialized before calling SCF.\n",
      "Initialize <pyscf.gto.mole.Mole object at 0x716255e15070> in <pyscf.scf.hf.RHF object at 0x716255e14b30>\n"
     ]
    },
    {
     "name": "stdout",
     "output_type": "stream",
     "text": [
      "converged SCF energy = -75.9254791411209\n"
     ]
    },
    {
     "name": "stderr",
     "output_type": "stream",
     "text": [
      "Warning: <pyscf.gto.mole.Mole object at 0x716255e14500> must be initialized before calling SCF.\n",
      "Initialize <pyscf.gto.mole.Mole object at 0x716255e14500> in <pyscf.scf.hf.RHF object at 0x716255e141d0>\n"
     ]
    },
    {
     "name": "stdout",
     "output_type": "stream",
     "text": [
      "converged SCF energy = -75.9237299420366\n"
     ]
    },
    {
     "name": "stderr",
     "output_type": "stream",
     "text": [
      "Warning: <pyscf.gto.mole.Mole object at 0x716255e14bc0> must be initialized before calling SCF.\n",
      "Initialize <pyscf.gto.mole.Mole object at 0x716255e14bc0> in <pyscf.scf.hf.RHF object at 0x716255e154f0>\n"
     ]
    },
    {
     "name": "stdout",
     "output_type": "stream",
     "text": [
      "converged SCF energy = -75.9270182480313\n"
     ]
    },
    {
     "name": "stderr",
     "output_type": "stream",
     "text": [
      "Warning: <pyscf.gto.mole.Mole object at 0x7162c41dd070> must be initialized before calling SCF.\n",
      "Initialize <pyscf.gto.mole.Mole object at 0x7162c41dd070> in <pyscf.scf.hf.RHF object at 0x716255e15bb0>\n"
     ]
    },
    {
     "name": "stdout",
     "output_type": "stream",
     "text": [
      "converged SCF energy = -75.9234664006332\n"
     ]
    },
    {
     "name": "stderr",
     "output_type": "stream",
     "text": [
      "Warning: <pyscf.gto.mole.Mole object at 0x716255e14bc0> must be initialized before calling SCF.\n",
      "Initialize <pyscf.gto.mole.Mole object at 0x716255e14bc0> in <pyscf.scf.hf.RHF object at 0x716255e14080>\n"
     ]
    },
    {
     "name": "stdout",
     "output_type": "stream",
     "text": [
      "converged SCF energy = -75.9233463493557\n"
     ]
    },
    {
     "name": "stderr",
     "output_type": "stream",
     "text": [
      "Warning: <pyscf.gto.mole.Mole object at 0x716255e1f890> must be initialized before calling SCF.\n",
      "Initialize <pyscf.gto.mole.Mole object at 0x716255e1f890> in <pyscf.scf.hf.RHF object at 0x71625c9d8530>\n"
     ]
    },
    {
     "name": "stdout",
     "output_type": "stream",
     "text": [
      "converged SCF energy = -75.9237359087566\n"
     ]
    },
    {
     "name": "stderr",
     "output_type": "stream",
     "text": [
      "Warning: <pyscf.gto.mole.Mole object at 0x716255e15100> must be initialized before calling SCF.\n",
      "Initialize <pyscf.gto.mole.Mole object at 0x716255e15100> in <pyscf.scf.hf.RHF object at 0x716255e15e80>\n"
     ]
    },
    {
     "name": "stdout",
     "output_type": "stream",
     "text": [
      "converged SCF energy = -75.9210502083618\n"
     ]
    },
    {
     "name": "stderr",
     "output_type": "stream",
     "text": [
      "Warning: <pyscf.gto.mole.Mole object at 0x7162540f6bd0> must be initialized before calling SCF.\n",
      "Initialize <pyscf.gto.mole.Mole object at 0x7162540f6bd0> in <pyscf.scf.hf.RHF object at 0x716255e15f40>\n"
     ]
    },
    {
     "name": "stdout",
     "output_type": "stream",
     "text": [
      "converged SCF energy = -75.9294735047194\n"
     ]
    },
    {
     "name": "stderr",
     "output_type": "stream",
     "text": [
      "Warning: <pyscf.gto.mole.Mole object at 0x7162540f5bb0> must be initialized before calling SCF.\n",
      "Initialize <pyscf.gto.mole.Mole object at 0x7162540f5bb0> in <pyscf.scf.hf.RHF object at 0x716255e14530>\n"
     ]
    },
    {
     "name": "stdout",
     "output_type": "stream",
     "text": [
      "converged SCF energy = -75.9248486299557\n"
     ]
    },
    {
     "name": "stderr",
     "output_type": "stream",
     "text": [
      "Warning: <pyscf.gto.mole.Mole object at 0x716255e16810> must be initialized before calling SCF.\n",
      "Initialize <pyscf.gto.mole.Mole object at 0x716255e16810> in <pyscf.scf.hf.RHF object at 0x716255e15070>\n"
     ]
    },
    {
     "name": "stdout",
     "output_type": "stream",
     "text": [
      "converged SCF energy = -75.9260103846896\n"
     ]
    },
    {
     "name": "stderr",
     "output_type": "stream",
     "text": [
      "Warning: <pyscf.gto.mole.Mole object at 0x7162540f4590> must be initialized before calling SCF.\n",
      "Initialize <pyscf.gto.mole.Mole object at 0x7162540f4590> in <pyscf.scf.hf.RHF object at 0x716255e161e0>\n"
     ]
    },
    {
     "name": "stdout",
     "output_type": "stream",
     "text": [
      "converged SCF energy = -75.9252779278522\n"
     ]
    },
    {
     "name": "stderr",
     "output_type": "stream",
     "text": [
      "Warning: <pyscf.gto.mole.Mole object at 0x7162540f6510> must be initialized before calling SCF.\n",
      "Initialize <pyscf.gto.mole.Mole object at 0x7162540f6510> in <pyscf.scf.hf.RHF object at 0x716255e16c00>\n"
     ]
    },
    {
     "name": "stdout",
     "output_type": "stream",
     "text": [
      "converged SCF energy = -75.9260242618643\n"
     ]
    },
    {
     "name": "stderr",
     "output_type": "stream",
     "text": [
      "Warning: <pyscf.gto.mole.Mole object at 0x716255e15a30> must be initialized before calling SCF.\n",
      "Initialize <pyscf.gto.mole.Mole object at 0x716255e15a30> in <pyscf.scf.hf.RHF object at 0x716255e161e0>\n"
     ]
    },
    {
     "name": "stdout",
     "output_type": "stream",
     "text": [
      "converged SCF energy = -75.9207819800385\n"
     ]
    },
    {
     "name": "stderr",
     "output_type": "stream",
     "text": [
      "Warning: <pyscf.gto.mole.Mole object at 0x716255e14500> must be initialized before calling SCF.\n",
      "Initialize <pyscf.gto.mole.Mole object at 0x716255e14500> in <pyscf.scf.hf.RHF object at 0x716255e17bc0>\n"
     ]
    },
    {
     "name": "stdout",
     "output_type": "stream",
     "text": [
      "converged SCF energy = -75.9233851446506\n"
     ]
    },
    {
     "name": "stderr",
     "output_type": "stream",
     "text": [
      "Warning: <pyscf.gto.mole.Mole object at 0x716255e10650> must be initialized before calling SCF.\n",
      "Initialize <pyscf.gto.mole.Mole object at 0x716255e10650> in <pyscf.scf.hf.RHF object at 0x716255e161e0>\n"
     ]
    },
    {
     "name": "stdout",
     "output_type": "stream",
     "text": [
      "converged SCF energy = -75.9188875008617\n"
     ]
    },
    {
     "name": "stderr",
     "output_type": "stream",
     "text": [
      "Warning: <pyscf.gto.mole.Mole object at 0x7162560cdf10> must be initialized before calling SCF.\n",
      "Initialize <pyscf.gto.mole.Mole object at 0x7162560cdf10> in <pyscf.scf.hf.RHF object at 0x716255e14290>\n"
     ]
    },
    {
     "name": "stdout",
     "output_type": "stream",
     "text": [
      "converged SCF energy = -75.9255756986019\n"
     ]
    },
    {
     "name": "stderr",
     "output_type": "stream",
     "text": [
      "Warning: <pyscf.gto.mole.Mole object at 0x716255e17a40> must be initialized before calling SCF.\n",
      "Initialize <pyscf.gto.mole.Mole object at 0x716255e17a40> in <pyscf.scf.hf.RHF object at 0x716255e161e0>\n"
     ]
    },
    {
     "name": "stdout",
     "output_type": "stream",
     "text": [
      "converged SCF energy = -75.9267140111675\n"
     ]
    },
    {
     "name": "stderr",
     "output_type": "stream",
     "text": [
      "Warning: <pyscf.gto.mole.Mole object at 0x716255e159d0> must be initialized before calling SCF.\n",
      "Initialize <pyscf.gto.mole.Mole object at 0x716255e159d0> in <pyscf.scf.hf.RHF object at 0x716255e157c0>\n"
     ]
    },
    {
     "name": "stdout",
     "output_type": "stream",
     "text": [
      "converged SCF energy = -75.9216333600275\n"
     ]
    },
    {
     "name": "stderr",
     "output_type": "stream",
     "text": [
      "Warning: <pyscf.gto.mole.Mole object at 0x716255e17800> must be initialized before calling SCF.\n",
      "Initialize <pyscf.gto.mole.Mole object at 0x716255e17800> in <pyscf.scf.hf.RHF object at 0x716255e161e0>\n"
     ]
    },
    {
     "name": "stdout",
     "output_type": "stream",
     "text": [
      "converged SCF energy = -75.9248673026799\n"
     ]
    },
    {
     "name": "stderr",
     "output_type": "stream",
     "text": [
      "Warning: <pyscf.gto.mole.Mole object at 0x716255e17ad0> must be initialized before calling SCF.\n",
      "Initialize <pyscf.gto.mole.Mole object at 0x716255e17ad0> in <pyscf.scf.hf.RHF object at 0x716255e15a30>\n"
     ]
    },
    {
     "name": "stdout",
     "output_type": "stream",
     "text": [
      "converged SCF energy = -75.9196988593211\n"
     ]
    },
    {
     "name": "stderr",
     "output_type": "stream",
     "text": [
      "Warning: <pyscf.gto.mole.Mole object at 0x716255f6e1e0> must be initialized before calling SCF.\n",
      "Initialize <pyscf.gto.mole.Mole object at 0x716255f6e1e0> in <pyscf.scf.hf.RHF object at 0x71625694fef0>\n"
     ]
    },
    {
     "name": "stdout",
     "output_type": "stream",
     "text": [
      "converged SCF energy = -75.9250010739287\n"
     ]
    },
    {
     "name": "stderr",
     "output_type": "stream",
     "text": [
      "Warning: <pyscf.gto.mole.Mole object at 0x716255e1a630> must be initialized before calling SCF.\n",
      "Initialize <pyscf.gto.mole.Mole object at 0x716255e1a630> in <pyscf.scf.hf.RHF object at 0x716255e16990>\n"
     ]
    },
    {
     "name": "stdout",
     "output_type": "stream",
     "text": [
      "converged SCF energy = -75.9194146587749\n"
     ]
    },
    {
     "name": "stderr",
     "output_type": "stream",
     "text": [
      "Warning: <pyscf.gto.mole.Mole object at 0x716255f6e1e0> must be initialized before calling SCF.\n",
      "Initialize <pyscf.gto.mole.Mole object at 0x716255f6e1e0> in <pyscf.scf.hf.RHF object at 0x71625694fef0>\n"
     ]
    },
    {
     "name": "stdout",
     "output_type": "stream",
     "text": [
      "converged SCF energy = -75.9243058731488\n"
     ]
    },
    {
     "name": "stderr",
     "output_type": "stream",
     "text": [
      "Warning: <pyscf.gto.mole.Mole object at 0x716255e14230> must be initialized before calling SCF.\n",
      "Initialize <pyscf.gto.mole.Mole object at 0x716255e14230> in <pyscf.scf.hf.RHF object at 0x716255e15940>\n"
     ]
    },
    {
     "name": "stdout",
     "output_type": "stream",
     "text": [
      "converged SCF energy = -75.9231772854296\n"
     ]
    },
    {
     "name": "stderr",
     "output_type": "stream",
     "text": [
      "Warning: <pyscf.gto.mole.Mole object at 0x716255f6e1e0> must be initialized before calling SCF.\n",
      "Initialize <pyscf.gto.mole.Mole object at 0x716255f6e1e0> in <pyscf.scf.hf.RHF object at 0x71625694fef0>\n"
     ]
    },
    {
     "name": "stdout",
     "output_type": "stream",
     "text": [
      "converged SCF energy = -75.9212799844932\n"
     ]
    },
    {
     "name": "stderr",
     "output_type": "stream",
     "text": [
      "Warning: <pyscf.gto.mole.Mole object at 0x716255e147d0> must be initialized before calling SCF.\n",
      "Initialize <pyscf.gto.mole.Mole object at 0x716255e147d0> in <pyscf.scf.hf.RHF object at 0x716255e14440>\n"
     ]
    },
    {
     "name": "stdout",
     "output_type": "stream",
     "text": [
      "converged SCF energy = -75.9252862931224\n"
     ]
    },
    {
     "name": "stderr",
     "output_type": "stream",
     "text": [
      "Warning: <pyscf.gto.mole.Mole object at 0x716255f6e1e0> must be initialized before calling SCF.\n",
      "Initialize <pyscf.gto.mole.Mole object at 0x716255f6e1e0> in <pyscf.scf.hf.RHF object at 0x71625694fef0>\n"
     ]
    },
    {
     "name": "stdout",
     "output_type": "stream",
     "text": [
      "converged SCF energy = -75.9261254383056\n"
     ]
    },
    {
     "name": "stderr",
     "output_type": "stream",
     "text": [
      "Warning: <pyscf.gto.mole.Mole object at 0x716255e159d0> must be initialized before calling SCF.\n",
      "Initialize <pyscf.gto.mole.Mole object at 0x716255e159d0> in <pyscf.scf.hf.RHF object at 0x716255e162d0>\n"
     ]
    },
    {
     "name": "stdout",
     "output_type": "stream",
     "text": [
      "converged SCF energy = -75.9262870060949\n"
     ]
    },
    {
     "name": "stderr",
     "output_type": "stream",
     "text": [
      "Warning: <pyscf.gto.mole.Mole object at 0x716255ef5910> must be initialized before calling SCF.\n",
      "Initialize <pyscf.gto.mole.Mole object at 0x716255ef5910> in <pyscf.scf.hf.RHF object at 0x716255f6e1e0>\n"
     ]
    },
    {
     "name": "stdout",
     "output_type": "stream",
     "text": [
      "converged SCF energy = -75.9240013496878\n"
     ]
    }
   ],
   "source": [
    "# change this:\n",
    "#####################\n",
    "data_dir = Path('./h2o_energies_noise_scf_features') # change this\n",
    "file_name = 'h2o_noise_scf_dft_b3lyp_def2-SVP'\n",
    "# mf_scanner = gto.M().apply(dft.RKS).set(xc='b3lyp', basis='def2-SVP').as_scanner() # an easy way to ask for energy only\n",
    "####################\n",
    "\n",
    "data_dir.mkdir(exist_ok=True)\n",
    "\n",
    "sigma = 0.02\n",
    "\n",
    "for i in range(1000):\n",
    "    coords_w_noise = add_gaussian_noise(coords, sigma=sigma, seed=i)\n",
    "    inp = np_to_scfinput(atoms, coords_w_noise)\n",
    "    mol = gto.Mole(atom=inp, basis='def2-SVP', charge=0, spin=0)\n",
    "    rhf = scf.RHF(mol)\n",
    "    e = rhf.kernel()\n",
    "    features = scf_features(rhf, mol)\n",
    "\n",
    "\n",
    "    np.savez_compressed(\n",
    "        data_dir / f'{file_name}_{i}.npz', # change y\n",
    "        coords=coords_w_noise,\n",
    "        energy = e,\n",
    "        noise_sigma = sigma,\n",
    "        features = features\n",
    "    )"
   ]
  },
  {
   "cell_type": "code",
   "execution_count": null,
   "id": "0000fc94",
   "metadata": {},
   "outputs": [],
   "source": []
  },
  {
   "cell_type": "code",
   "execution_count": 21,
   "id": "02176bcf",
   "metadata": {},
   "outputs": [
    {
     "name": "stdout",
     "output_type": "stream",
     "text": [
      "[[ 0.          0.          0.        ]\n",
      " [ 0.92395162 -0.21938935  0.02704284]\n",
      " [-0.91363515 -0.20972138  0.00579915]] -75.92283626317517 0.02\n"
     ]
    }
   ],
   "source": [
    "# inspection of one single file\n",
    "index = 6\n",
    "file_path = data_dir / f'{file_name}_{index}.npz'\n",
    "data = np.load(file_path)\n",
    "print(\n",
    "    data['coords'], data['energy'], data['noise_sigma'], \n",
    "      # data['features'].shape\n",
    ")"
   ]
  }
 ],
 "metadata": {
  "kernelspec": {
   "display_name": "pyscf-env",
   "language": "python",
   "name": "python3"
  },
  "language_info": {
   "codemirror_mode": {
    "name": "ipython",
    "version": 3
   },
   "file_extension": ".py",
   "mimetype": "text/x-python",
   "name": "python",
   "nbconvert_exporter": "python",
   "pygments_lexer": "ipython3",
   "version": "3.12.11"
  }
 },
 "nbformat": 4,
 "nbformat_minor": 5
}
