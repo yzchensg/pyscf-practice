{
 "cells": [
  {
   "cell_type": "markdown",
   "id": "5644861c",
   "metadata": {},
   "source": [
    "## PySCF Practice"
   ]
  },
  {
   "cell_type": "code",
   "execution_count": 2,
   "id": "710528ff",
   "metadata": {},
   "outputs": [],
   "source": [
    "from pyscf import gto"
   ]
  }
 ],
 "metadata": {
  "kernelspec": {
   "display_name": "pyscf-env",
   "language": "python",
   "name": "python3"
  },
  "language_info": {
   "codemirror_mode": {
    "name": "ipython",
    "version": 3
   },
   "file_extension": ".py",
   "mimetype": "text/x-python",
   "name": "python",
   "nbconvert_exporter": "python",
   "pygments_lexer": "ipython3",
   "version": "3.12.11"
  }
 },
 "nbformat": 4,
 "nbformat_minor": 5
}
