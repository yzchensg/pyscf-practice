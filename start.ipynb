{
 "cells": [
  {
   "cell_type": "markdown",
   "id": "5644861c",
   "metadata": {},
   "source": [
    "# PySCF Practice"
   ]
  },
  {
   "cell_type": "code",
   "execution_count": 3,
   "id": "710528ff",
   "metadata": {},
   "outputs": [],
   "source": [
    "from pyscf import gto, scf, dft\n",
    "import numpy as np\n",
    "from IPython.display import clear_output\n",
    "import pandas as pd\n",
    "from pathlib import Path"
   ]
  },
  {
   "cell_type": "markdown",
   "id": "e781cc96",
   "metadata": {},
   "source": [
    "## Creaing a molecule\n",
    "`gto.M` is a short cut function to initialize a molecule; you can set the basis or the symmetry"
   ]
  },
  {
   "cell_type": "code",
   "execution_count": 2,
   "id": "0e978319",
   "metadata": {},
   "outputs": [],
   "source": [
    "mol_h2o = gto.M(atom = 'O 0 0 0; H 0 1 0; H 0 0 1', basis = 'sto-3g')\n",
    "mol_n3 = gto.M(atom = 'N 0 0 0; N 0 0 1; N 0 0 2', basis='sto-3g', charge=-1)\n",
    "mol_n3_bent = gto.M(atom='N 0 0 0; N 0 1 1; N 0 1 0.5', basis='sto-3g', charge=-1)"
   ]
  },
  {
   "cell_type": "markdown",
   "id": "67dec5f0",
   "metadata": {},
   "source": [
    "`Mole` offers more customized intialisation. "
   ]
  },
  {
   "cell_type": "markdown",
   "id": "6bf025f2",
   "metadata": {},
   "source": [
    "## Mean-Field theory\n",
    "e.g. Hartree-fock (also called self-consistent field method (SCF))\n",
    "### Package Options\n",
    "- RHF (Restricted HF) - for closed-shell molecules with no unpaired e-. (idea: use the same equation to describe both electrons)\n",
    "- UHF (Unrestricted HF) - for open-shell molecules, e.g. metals, radicals, ...\n",
    "- ROHF (Restricted Open-Shell HF) - hybrid, keep the spin symmetry correct.\n",
    "### Basis options"
   ]
  },
  {
   "cell_type": "code",
   "execution_count": 3,
   "id": "fe8923a9",
   "metadata": {},
   "outputs": [
    {
     "name": "stdout",
     "output_type": "stream",
     "text": [
      "converged SCF energy = -74.9611711378677\n",
      "converged SCF energy = -160.662076594209\n",
      "converged SCF energy = -153.313769835815\n"
     ]
    }
   ],
   "source": [
    "rhf_h2o = scf.RHF(mol_h2o)\n",
    "e_h2o = rhf_h2o.kernel()\n",
    "\n",
    "rhf_n3 = scf.RHF(mol_n3)\n",
    "rhf_n3_bent = scf.RHF(mol_n3_bent)\n",
    "e_n3 = rhf_n3.kernel()\n",
    "e_n3_bent = rhf_n3_bent.kernel()"
   ]
  },
  {
   "cell_type": "markdown",
   "id": "7621a241",
   "metadata": {},
   "source": [
    "Default spin is 0. For molecules with unpaired electrons, spin number must be updated; otherwise there will be error."
   ]
  },
  {
   "cell_type": "code",
   "execution_count": 31,
   "id": "2b3a952e",
   "metadata": {},
   "outputs": [
    {
     "name": "stdout",
     "output_type": "stream",
     "text": [
      "converged SCF energy = -200.630088281403  <S^2> = 0.75238228  2S+1 = 2.0023809\n",
      "converged SCF energy = -200.628674251033\n"
     ]
    }
   ],
   "source": [
    "mol_no2 = gto.M(atom = 'N 0 0 0; O 0 1 0; O 0 0 1', basis='sto-3g', spin=1)\n",
    "uhf_no2 = scf.UHF(mol_no2)\n",
    "e_no2 = uhf_no2.kernel()\n",
    "\n",
    "\n",
    "rohf_no2 = scf.ROHF(mol_no2)\n",
    "e_no2_ro = rohf_no2.kernel()"
   ]
  },
  {
   "cell_type": "markdown",
   "id": "aff22d84",
   "metadata": {},
   "source": [
    "For fun, here is a cubane molecule:"
   ]
  },
  {
   "cell_type": "code",
   "execution_count": 32,
   "id": "305bde0f",
   "metadata": {},
   "outputs": [
    {
     "name": "stdout",
     "output_type": "stream",
     "text": [
      "converged SCF energy = -303.77968305976\n"
     ]
    }
   ],
   "source": [
    "mol = gto.M(\n",
    "    atom = '''\n",
    "C   0.785   0.785   0.785\n",
    "C  -0.785   0.785   0.785\n",
    "C   0.785  -0.785   0.785\n",
    "C   0.785   0.785  -0.785\n",
    "C  -0.785  -0.785   0.785\n",
    "C  -0.785   0.785  -0.785\n",
    "C   0.785  -0.785  -0.785\n",
    "C  -0.785  -0.785  -0.785\n",
    "H   1.420   1.420   1.420\n",
    "H  -1.420   1.420   1.420\n",
    "H   1.420  -1.420   1.420\n",
    "H   1.420   1.420  -1.420\n",
    "H  -1.420  -1.420   1.420\n",
    "H  -1.420   1.420  -1.420\n",
    "H   1.420  -1.420  -1.420\n",
    "H  -1.420  -1.420  -1.420\n",
    "''',\n",
    "    unit   = 'Angstrom',\n",
    "    charge = 0,\n",
    "    spin   = 0,\n",
    "    basis  = 'sto-3g',   \n",
    ")\n",
    "rhf = scf.RHF(mol)\n",
    "e = rhf.kernel()"
   ]
  },
  {
   "cell_type": "markdown",
   "id": "117a73a2",
   "metadata": {},
   "source": [
    "### What exactly is it calculating here?\n"
   ]
  },
  {
   "cell_type": "markdown",
   "id": "81a46363",
   "metadata": {},
   "source": [
    "## Density Functional \n",
    "The same kinds of methods available:\n",
    "- RKS\n",
    "- UKS\n",
    "- ROKS\n",
    "\n",
    "The customisation here is **exchange-correlation** (what is that? and what is a 'basis'??)"
   ]
  },
  {
   "cell_type": "markdown",
   "id": "ec5ad109",
   "metadata": {},
   "source": []
  },
  {
   "cell_type": "code",
   "execution_count": 36,
   "id": "533b4f0b",
   "metadata": {},
   "outputs": [
    {
     "name": "stderr",
     "output_type": "stream",
     "text": [
      "/home/yizhou_chen/miniconda3/envs/pyscf-env/lib/python3.12/site-packages/pyscf/dft/libxc.py:512: UserWarning: Since PySCF-2.3, B3LYP (and B3P86) are changed to the VWN-RPA variant, corresponding to the original definition by Stephens et al. (issue 1480) and the same as the B3LYP functional in Gaussian. To restore the VWN5 definition, you can put the setting \"B3LYP_WITH_VWN5 = True\" in pyscf_conf.py\n",
      "  warnings.warn('Since PySCF-2.3, B3LYP (and B3P86) are changed to the VWN-RPA variant, '\n"
     ]
    },
    {
     "name": "stdout",
     "output_type": "stream",
     "text": [
      "converged SCF energy = -75.3186721647241\n"
     ]
    }
   ],
   "source": [
    "from pyscf import dft\n",
    "rks_h2o = dft.RKS(mol_h2o)\n",
    "rks_h2o.xc = 'b3lyp'\n",
    "\n",
    "e_rks = rks_h2o.kernel()"
   ]
  },
  {
   "cell_type": "markdown",
   "id": "44d1952c",
   "metadata": {},
   "source": [
    "## A little on quantum mechanics\n",
    "The average total energy for a state: $E[\\Psi] = \\int \\Psi^* \\hat{H} \\Psi dr \\equiv \\left<\\Psi | \\hat{H} | \\Psi \\right> $\n",
    "\n",
    "Note this notation is consistent with inner product notation: three items just means $\\Psi*H*\\Psi$"
   ]
  },
  {
   "cell_type": "markdown",
   "id": "6d3ef5e2",
   "metadata": {},
   "source": [
    "## Full Configuration Interaction"
   ]
  },
  {
   "cell_type": "markdown",
   "id": "1afe5ab7",
   "metadata": {},
   "source": [
    "2. Add random noise to the "
   ]
  },
  {
   "cell_type": "code",
   "execution_count": 32,
   "id": "58ee250a",
   "metadata": {},
   "outputs": [
    {
     "name": "stdout",
     "output_type": "stream",
     "text": [
      "converged SCF energy = -1.06610864931794\n",
      "E(CCSD) = -1.101150330244479  E_corr = -0.03504168092654206\n",
      "-1.1011503302444787\n",
      "converged SCF energy = -1.03653887502918\n",
      "E(CCSD) = -1.079192945018469  E_corr = -0.0426540699892894\n",
      "-1.0791929450184694\n",
      "converged SCF energy = -1.00510670656849\n",
      "E(CCSD) = -1.056740746497147  E_corr = -0.05163403992865674\n",
      "-1.0567407464971468\n"
     ]
    }
   ],
   "source": [
    "from pyscf import gto, scf, cc\n",
    "\n",
    "for r in (1.0, 1.1, 1.2):\n",
    "    mol = gto.M(atom=f\"H 0 0 0; H 0 0 {r}\")\n",
    "    mf = scf.RHF(mol).run()\n",
    "    mycc = cc.CCSD(mf).run()\n",
    "    print(mycc.e_tot)"
   ]
  }
 ],
 "metadata": {
  "kernelspec": {
   "display_name": "pyscf-env",
   "language": "python",
   "name": "python3"
  },
  "language_info": {
   "codemirror_mode": {
    "name": "ipython",
    "version": 3
   },
   "file_extension": ".py",
   "mimetype": "text/x-python",
   "name": "python",
   "nbconvert_exporter": "python",
   "pygments_lexer": "ipython3",
   "version": "3.12.11"
  }
 },
 "nbformat": 4,
 "nbformat_minor": 5
}
